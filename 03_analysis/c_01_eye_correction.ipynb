{
 "cells": [
  {
   "cell_type": "code",
   "execution_count": null,
   "metadata": {
    "collapsed": true
   },
   "outputs": [],
   "source": [
    "import mne\n",
    "import time\n",
    "import os\n",
    "import numpy as np"
   ]
  },
  {
   "cell_type": "code",
   "execution_count": null,
   "outputs": [],
   "source": [
    "data_path = 'D:/Diplomarbeit_data/eeg/'\n",
    "subjects = ['A01', 'A02', 'A03', 'A04', 'A05', 'A06', 'A07' , 'A08', 'A09', 'A10']\n",
    "\n",
    "mne.set_log_level('WARNING')"
   ],
   "metadata": {
    "collapsed": false,
    "pycharm": {
     "name": "#%%\n"
    }
   }
  },
  {
   "cell_type": "code",
   "execution_count": null,
   "outputs": [],
   "source": [
    "# Load eye data:\n",
    "src_path = data_path + 'bad_ch_interpolated'\n",
    "# There can be only one file  with matching conditions since we are splitting in folders:\n",
    "f_name = [f for f in os.listdir(src_path) if ('A01' in f) and ('eye' in f)][0]\n",
    "\n",
    "file = src_path + '/' + f_name\n",
    "raw = mne.io.read_raw(file, preload=True)\n",
    "\n",
    "raw.info"
   ],
   "metadata": {
    "collapsed": false,
    "pycharm": {
     "name": "#%%\n"
    }
   }
  },
  {
   "cell_type": "code",
   "execution_count": null,
   "outputs": [],
   "source": [
    "# Extract the EOG data:\n",
    "eog_r = raw.get_data(picks='EOGL')\n",
    "eog_l = raw.get_data(picks='EOGR')\n",
    "eog_c = raw.get_data(picks='EOGC')\n",
    "\n",
    "# Calculate EOG derivatives:\n",
    "heog = eog_r - eog_l\n",
    "veog = eog_c - (eog_r + eog_l) / 2\n",
    "reog = (eog_c + eog_r + eog_l) / 3\n",
    "\n",
    "# Create nchannels x ntimes matrix:\n",
    "eog_derivatives = np.vstack((heog, veog, reog))\n",
    "\n",
    "# Create an info file to later add the channels:\n",
    "info = mne.create_info(['EOGH', 'EOGV', 'EOGRad'], 200.0, ch_types='eog')\n",
    "\n",
    "# Create a raw array for the eog derivatives:\n",
    "raw_derivatives = mne.io.RawArray(eog_derivatives, info, first_samp=raw.first_samp)\n",
    "\n",
    "raw = raw.add_channels([raw_derivatives], force_update_info=True)"
   ],
   "metadata": {
    "collapsed": false,
    "pycharm": {
     "name": "#%%\n"
    }
   }
  },
  {
   "cell_type": "code",
   "execution_count": null,
   "outputs": [],
   "source": [
    "raw.plot(duration=60, proj=False, n_channels=len(raw.ch_names), remove_dc=False, title=f'EOG derivatives added.')"
   ],
   "metadata": {
    "collapsed": false,
    "pycharm": {
     "name": "#%%\n"
    }
   }
  },
  {
   "cell_type": "code",
   "execution_count": null,
   "outputs": [],
   "source": [
    "# Lowpass filter the eog derivatives:\n",
    "raw = raw.copy().filter(l_freq=None, h_freq=5.0, picks=['eog'], method='iir')"
   ],
   "metadata": {
    "collapsed": false,
    "pycharm": {
     "name": "#%%\n"
    }
   }
  },
  {
   "cell_type": "code",
   "execution_count": null,
   "outputs": [],
   "source": [
    "raw.plot(duration=60, proj=False, n_channels=len(raw.ch_names), remove_dc=False, title=f'EOG lowpass filtered.')"
   ],
   "metadata": {
    "collapsed": false,
    "pycharm": {
     "name": "#%%\n"
    }
   }
  },
  {
   "cell_type": "code",
   "execution_count": null,
   "outputs": [],
   "source": [
    "def get_subset_of_dict(full_dict, keys_of_interest):\n",
    "    return dict((k, full_dict[k]) for k in keys_of_interest if k in full_dict)"
   ],
   "metadata": {
    "collapsed": false,
    "pycharm": {
     "name": "#%%\n"
    }
   }
  },
  {
   "cell_type": "code",
   "execution_count": null,
   "outputs": [],
   "source": [
    "# Extract epochs:\n",
    "events_from_annot, event_dict = mne.events_from_annotations(raw)\n",
    "\n",
    "#\n",
    "markers_of_interest = ['Blink', 'Rest' ,'Horz', 'Vert']\n",
    "\n",
    "event_dict_of_interest = get_subset_of_dict(event_dict, markers_of_interest)\n",
    "\n",
    "# TODO select event ID's of interest, hand over dict for event_id to make it easier to extract them:\n",
    "epochs = mne.Epochs(raw, events_from_annot, event_id=event_dict_of_interest, tmin=2.0, tmax=10.0, baseline=None, reject_by_annotation=True, preload=True, picks=['eeg', 'eog'])\n"
   ],
   "metadata": {
    "collapsed": false,
    "pycharm": {
     "name": "#%%\n"
    }
   }
  },
  {
   "cell_type": "code",
   "execution_count": null,
   "outputs": [],
   "source": [
    "epochs['Rest'].plot()"
   ],
   "metadata": {
    "collapsed": false,
    "pycharm": {
     "name": "#%%\n"
    }
   }
  },
  {
   "cell_type": "code",
   "execution_count": null,
   "outputs": [],
   "source": [],
   "metadata": {
    "collapsed": false,
    "pycharm": {
     "name": "#%%\n"
    }
   }
  },
  {
   "cell_type": "code",
   "execution_count": null,
   "outputs": [],
   "source": [],
   "metadata": {
    "collapsed": false,
    "pycharm": {
     "name": "#%%\n"
    }
   }
  },
  {
   "cell_type": "markdown",
   "source": [],
   "metadata": {
    "collapsed": false
   }
  },
  {
   "cell_type": "markdown",
   "source": [],
   "metadata": {
    "collapsed": false
   }
  },
  {
   "cell_type": "code",
   "execution_count": null,
   "outputs": [],
   "source": [],
   "metadata": {
    "collapsed": false,
    "pycharm": {
     "name": "#%%\n"
    }
   }
  }
 ],
 "metadata": {
  "kernelspec": {
   "display_name": "Python 3",
   "language": "python",
   "name": "python3"
  },
  "language_info": {
   "codemirror_mode": {
    "name": "ipython",
    "version": 2
   },
   "file_extension": ".py",
   "mimetype": "text/x-python",
   "name": "python",
   "nbconvert_exporter": "python",
   "pygments_lexer": "ipython2",
   "version": "2.7.6"
  }
 },
 "nbformat": 4,
 "nbformat_minor": 0
}