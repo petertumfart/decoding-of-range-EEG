{
 "cells": [
  {
   "cell_type": "code",
   "execution_count": null,
   "outputs": [],
   "source": [
    "%reset"
   ],
   "metadata": {
    "collapsed": false,
    "pycharm": {
     "name": "#%%\n"
    }
   }
  },
  {
   "cell_type": "markdown",
   "source": [
    "# 1. Imports"
   ],
   "metadata": {
    "collapsed": false,
    "pycharm": {
     "name": "#%% md\n"
    }
   }
  },
  {
   "cell_type": "code",
   "execution_count": 148,
   "outputs": [
    {
     "data": {
      "text/plain": "<module 'custom_modules.sgeyesub_ptu' from 'C:\\\\Users\\\\peter\\\\Documents\\\\Code\\\\master-thesis\\\\03_analysis\\\\custom_modules\\\\sgeyesub_ptu.py'>"
     },
     "execution_count": 148,
     "metadata": {},
     "output_type": "execute_result"
    }
   ],
   "source": [
    "import mne\n",
    "import time\n",
    "import os\n",
    "import numpy as np\n",
    "\n",
    "import custom_modules.file_handling as  fh\n",
    "import custom_modules.sgeyesub_ptu as eye\n",
    "\n",
    "import importlib\n",
    "importlib.reload(fh)\n",
    "importlib.reload(eye)"
   ],
   "metadata": {
    "collapsed": false,
    "pycharm": {
     "name": "#%%\n"
    }
   }
  },
  {
   "cell_type": "markdown",
   "source": [
    "# 2. Constants"
   ],
   "metadata": {
    "collapsed": false,
    "pycharm": {
     "name": "#%% md\n"
    }
   }
  },
  {
   "cell_type": "code",
   "execution_count": 149,
   "outputs": [],
   "source": [
    "data_path = 'D:/Diplomarbeit_data/eeg/'\n",
    "subjects = ['A01', 'A02', 'A03', 'A04', 'A05', 'A06', 'A07' , 'A08', 'A09', 'A10']\n",
    "\n",
    "mne.set_log_level('WARNING')"
   ],
   "metadata": {
    "collapsed": false,
    "pycharm": {
     "name": "#%%\n"
    }
   }
  },
  {
   "cell_type": "code",
   "execution_count": 149,
   "outputs": [],
   "source": [],
   "metadata": {
    "collapsed": false,
    "pycharm": {
     "name": "#%%\n"
    }
   }
  },
  {
   "cell_type": "markdown",
   "source": [
    "# 3. EOG derivative calculations"
   ],
   "metadata": {
    "collapsed": false,
    "pycharm": {
     "name": "#%% md\n"
    }
   }
  },
  {
   "cell_type": "code",
   "execution_count": 150,
   "outputs": [
    {
     "name": "stdout",
     "output_type": "stream",
     "text": [
      "Calculating derivations for subject A01 \n",
      "Calculating derivations for subject A02 \n",
      "Calculating derivations for subject A03 \n",
      "Calculating derivations for subject A04 \n",
      "Calculating derivations for subject A05 \n",
      "Calculating derivations for subject A06 \n",
      "Calculating derivations for subject A07 \n",
      "Calculating derivations for subject A08 \n",
      "Calculating derivations for subject A09 \n",
      "Calculating derivations for subject A10 \n",
      "Finished eye derivations, took me 5 seconds...\n"
     ]
    }
   ],
   "source": [
    "# Get source and destination path + create destintation folder if it does not exist.\n",
    "src_path, dst_path = fh.gen_paths(pth=data_path, src_fldr='bad_ch_interpolated', dst_fldr='eye_derivations_added')\n",
    "\n",
    "# Iterate over each subject and extract the streams\n",
    "start = time.time()\n",
    "for i, subject in enumerate(subjects):\n",
    "    print(f'Calculating derivations for subject {subject}', end=' ')\n",
    "\n",
    "    # Calculate the eye derivations and store them in the dst folder\n",
    "    eye.calc_eye_derivations(src_path, dst_path, subject)\n",
    "\n",
    "    print()\n",
    "\n",
    "print(f'Finished eye derivations, took me {round(time.time()-start)} seconds...')"
   ],
   "metadata": {
    "collapsed": false,
    "pycharm": {
     "name": "#%%\n"
    }
   }
  },
  {
   "cell_type": "markdown",
   "source": [
    "# 4. LP filter of EOG channels"
   ],
   "metadata": {
    "collapsed": false,
    "pycharm": {
     "name": "#%% md\n"
    }
   }
  },
  {
   "cell_type": "code",
   "execution_count": 151,
   "outputs": [
    {
     "name": "stdout",
     "output_type": "stream",
     "text": [
      "Highpass filtering for subject A01 \n",
      "Highpass filtering for subject A02 \n",
      "Highpass filtering for subject A03 \n",
      "Highpass filtering for subject A04 \n",
      "Highpass filtering for subject A05 \n",
      "Highpass filtering for subject A06 \n",
      "Highpass filtering for subject A07 \n",
      "Highpass filtering for subject A08 \n",
      "Highpass filtering for subject A09 \n",
      "Highpass filtering for subject A10 \n",
      "Finished eye derivations, took me 10 seconds...\n"
     ]
    }
   ],
   "source": [
    "# Get source and destination path + create destintation folder if it does not exist.\n",
    "src_path, dst_path = fh.gen_paths(pth=data_path, src_fldr='eye_derivations_added', dst_fldr='eyesub_prepared')\n",
    "\n",
    "# Iterate over each subject and extract the streams\n",
    "start = time.time()\n",
    "for i, subject in enumerate(subjects):\n",
    "    print(f'Highpass filtering for subject {subject}', end=' ')\n",
    "\n",
    "    # Lowpass filters the eog channels with a cutoff of 5.0 Hz:\n",
    "    eye.lp_filter_derivatives(src_path, dst_path, subject, export=True)\n",
    "\n",
    "    print()\n",
    "\n",
    "print(f'Finished eye derivations, took me {round(time.time()-start)} seconds...')"
   ],
   "metadata": {
    "collapsed": false,
    "pycharm": {
     "name": "#%%\n"
    }
   }
  },
  {
   "cell_type": "markdown",
   "source": [
    "# 5. Epoching"
   ],
   "metadata": {
    "collapsed": false,
    "pycharm": {
     "name": "#%% md\n"
    }
   }
  },
  {
   "cell_type": "code",
   "execution_count": 152,
   "outputs": [
    {
     "name": "stdout",
     "output_type": "stream",
     "text": [
      "Epoching for subject A01 Opening raw data file D:/Diplomarbeit_data/eeg/eyesub_prepared/A01_eye_lp_filtered_raw.fif...\n",
      "    Range : 1130644 ... 1302243 =   5653.220 ...  6511.215 secs\n",
      "Ready.\n",
      "Reading 0 ... 171599  =      0.000 ...   857.995 secs...\n",
      "Used Annotations descriptions: ['Blink', 'Break', 'Cue', 'Horz', 'Rest', 'Start', 'Vert']\n",
      "Not setting metadata\n",
      "54 matching events found\n",
      "No baseline correction applied\n",
      "0 projection items activated\n",
      "Using data from preloaded Raw for 54 events and 1601 original time points ...\n",
      "0 bad epochs dropped\n",
      "Overwriting existing file.\n",
      "\n",
      "Epoching for subject A02 Opening raw data file D:/Diplomarbeit_data/eeg/eyesub_prepared/A02_eye_lp_filtered_raw.fif...\n",
      "    Range : 7106 ... 159409 =     35.530 ...   797.045 secs\n",
      "Ready.\n",
      "Reading 0 ... 152303  =      0.000 ...   761.515 secs...\n",
      "Used Annotations descriptions: ['Blink', 'Break', 'Cue', 'Horz', 'Rest', 'Start', 'Vert']\n",
      "Not setting metadata\n",
      "54 matching events found\n",
      "No baseline correction applied\n",
      "0 projection items activated\n",
      "Using data from preloaded Raw for 54 events and 1601 original time points ...\n",
      "0 bad epochs dropped\n",
      "Overwriting existing file.\n",
      "\n",
      "Epoching for subject A03 Opening raw data file D:/Diplomarbeit_data/eeg/eyesub_prepared/A03_eye_lp_filtered_raw.fif...\n",
      "    Range : 611947 ... 763550 =   3059.735 ...  3817.750 secs\n",
      "Ready.\n",
      "Reading 0 ... 151603  =      0.000 ...   758.015 secs...\n",
      "Used Annotations descriptions: ['Blink', 'Break', 'Cue', 'Horz', 'Rest', 'Start', 'Vert']\n",
      "Not setting metadata\n",
      "54 matching events found\n",
      "No baseline correction applied\n",
      "0 projection items activated\n",
      "Using data from preloaded Raw for 54 events and 1601 original time points ...\n",
      "0 bad epochs dropped\n",
      "Overwriting existing file.\n",
      "\n",
      "Epoching for subject A04 Opening raw data file D:/Diplomarbeit_data/eeg/eyesub_prepared/A04_eye_lp_filtered_raw.fif...\n",
      "    Range : 1202892 ... 1354595 =   6014.460 ...  6772.975 secs\n",
      "Ready.\n",
      "Reading 0 ... 151703  =      0.000 ...   758.515 secs...\n",
      "Used Annotations descriptions: ['Blink', 'Break', 'Cue', 'Horz', 'Rest', 'Start', 'Vert']\n",
      "Not setting metadata\n",
      "54 matching events found\n",
      "No baseline correction applied\n",
      "0 projection items activated\n",
      "Using data from preloaded Raw for 54 events and 1601 original time points ...\n",
      "0 bad epochs dropped\n",
      "Overwriting existing file.\n",
      "\n",
      "Epoching for subject A05 Opening raw data file D:/Diplomarbeit_data/eeg/eyesub_prepared/A05_eye_lp_filtered_raw.fif...\n",
      "    Range : 1734816 ... 1888327 =   8674.080 ...  9441.635 secs\n",
      "Ready.\n",
      "Reading 0 ... 153511  =      0.000 ...   767.555 secs...\n",
      "Used Annotations descriptions: ['Blink', 'Break', 'Cue', 'Horz', 'Rest', 'Start', 'Vert']\n",
      "Not setting metadata\n",
      "54 matching events found\n",
      "No baseline correction applied\n",
      "0 projection items activated\n",
      "Using data from preloaded Raw for 54 events and 1601 original time points ...\n",
      "0 bad epochs dropped\n",
      "Overwriting existing file.\n",
      "\n",
      "Epoching for subject A06 Opening raw data file D:/Diplomarbeit_data/eeg/eyesub_prepared/A06_eye_lp_filtered_raw.fif...\n",
      "    Range : 4972 ... 156083 =     24.860 ...   780.415 secs\n",
      "Ready.\n",
      "Reading 0 ... 151111  =      0.000 ...   755.555 secs...\n",
      "Used Annotations descriptions: ['Blink', 'Break', 'Cue', 'Horz', 'Rest', 'Start', 'Vert']\n",
      "Not setting metadata\n",
      "54 matching events found\n",
      "No baseline correction applied\n",
      "0 projection items activated\n",
      "Using data from preloaded Raw for 54 events and 1601 original time points ...\n",
      "0 bad epochs dropped\n",
      "Overwriting existing file.\n",
      "\n",
      "Epoching for subject A07 Opening raw data file D:/Diplomarbeit_data/eeg/eyesub_prepared/A07_eye_lp_filtered_raw.fif...\n",
      "    Range : 17345 ... 169752 =     86.725 ...   848.760 secs\n",
      "Ready.\n",
      "Reading 0 ... 152407  =      0.000 ...   762.035 secs...\n",
      "Used Annotations descriptions: ['Blink', 'Break', 'Cue', 'Horz', 'Rest', 'Start', 'Vert']\n",
      "Not setting metadata\n",
      "54 matching events found\n",
      "No baseline correction applied\n",
      "0 projection items activated\n",
      "Using data from preloaded Raw for 54 events and 1601 original time points ...\n",
      "0 bad epochs dropped\n",
      "Overwriting existing file.\n",
      "\n",
      "Epoching for subject A08 Opening raw data file D:/Diplomarbeit_data/eeg/eyesub_prepared/A08_eye_lp_filtered_raw.fif...\n",
      "    Range : 707068 ... 859475 =   3535.340 ...  4297.375 secs\n",
      "Ready.\n",
      "Reading 0 ... 152407  =      0.000 ...   762.035 secs...\n",
      "Used Annotations descriptions: ['Blink', 'Break', 'Cue', 'Horz', 'Rest', 'Start', 'Vert']\n",
      "Not setting metadata\n",
      "54 matching events found\n",
      "No baseline correction applied\n",
      "0 projection items activated\n",
      "Using data from preloaded Raw for 54 events and 1601 original time points ...\n",
      "0 bad epochs dropped\n",
      "Overwriting existing file.\n",
      "\n",
      "Epoching for subject A09 Opening raw data file D:/Diplomarbeit_data/eeg/eyesub_prepared/A09_eye_lp_filtered_raw.fif...\n",
      "    Range : 1215703 ... 1368118 =   6078.515 ...  6840.590 secs\n",
      "Ready.\n",
      "Reading 0 ... 152415  =      0.000 ...   762.075 secs...\n",
      "Used Annotations descriptions: ['Blink', 'Break', 'Cue', 'Horz', 'Rest', 'Start', 'Vert']\n",
      "Not setting metadata\n",
      "54 matching events found\n",
      "No baseline correction applied\n",
      "0 projection items activated\n",
      "Using data from preloaded Raw for 54 events and 1601 original time points ...\n",
      "0 bad epochs dropped\n",
      "Overwriting existing file.\n",
      "\n",
      "Epoching for subject A10 Opening raw data file D:/Diplomarbeit_data/eeg/eyesub_prepared/A10_eye_lp_filtered_raw.fif...\n",
      "    Range : 1229449 ... 1382360 =   6147.245 ...  6911.800 secs\n",
      "Ready.\n",
      "Reading 0 ... 152911  =      0.000 ...   764.555 secs...\n",
      "Used Annotations descriptions: ['Blink', 'Break', 'Cue', 'Horz', 'Rest', 'Start', 'Vert']\n",
      "Not setting metadata\n",
      "54 matching events found\n",
      "No baseline correction applied\n",
      "0 projection items activated\n",
      "Using data from preloaded Raw for 54 events and 1601 original time points ...\n",
      "0 bad epochs dropped\n",
      "Overwriting existing file.\n",
      "\n",
      "Finished eye derivations, took me 6 seconds...\n"
     ]
    }
   ],
   "source": [
    "# Define markers of interest:\n",
    "markers_of_interest = ['Blink', 'Rest' ,'Horz', 'Vert']\n",
    "\n",
    "# Get source and destination path + create destintation folder if it does not exist.\n",
    "src_path, dst_path = fh.gen_paths(pth=data_path, src_fldr='eyesub_prepared', dst_fldr='eyesub_epoched')\n",
    "\n",
    "# Iterate over each subject and extract the streams\n",
    "start = time.time()\n",
    "for i, subject in enumerate(subjects):\n",
    "    print(f'Epoching for subject {subject}', end=' ')\n",
    "\n",
    "    # Lowpass filters the eog channels with a cutoff of 5.0 Hz:\n",
    "    eye.epoch_eye_paradigm(src_path, dst_path, subject, mrks=markers_of_interest, export=True)\n",
    "\n",
    "    print()\n",
    "\n",
    "print(f'Finished eye derivations, took me {round(time.time()-start)} seconds...')"
   ],
   "metadata": {
    "collapsed": false,
    "pycharm": {
     "name": "#%%\n"
    }
   }
  },
  {
   "cell_type": "markdown",
   "source": [
    "# 6. Reject by visual inspection"
   ],
   "metadata": {
    "collapsed": false,
    "pycharm": {
     "name": "#%% md\n"
    }
   }
  },
  {
   "cell_type": "code",
   "execution_count": 50,
   "outputs": [],
   "source": [
    "# TODO"
   ],
   "metadata": {
    "collapsed": false,
    "pycharm": {
     "name": "#%%\n"
    }
   }
  },
  {
   "cell_type": "markdown",
   "source": [
    "# 7. Detect saccades and blinks"
   ],
   "metadata": {
    "collapsed": false,
    "pycharm": {
     "name": "#%% md\n"
    }
   }
  },
  {
   "cell_type": "code",
   "execution_count": 142,
   "outputs": [],
   "source": [
    "# Load example epoch:\n",
    "src_path = data_path + 'eyesub_prepared'\n",
    "# There can be only one file  with matching conditions since we are splitting in folders:\n",
    "f_name = [f for f in os.listdir(src_path) if ('A02' in f) and ('eye' in f)][0]\n",
    "\n",
    "file = src_path + '/' + f_name\n",
    "epochs = mne.io.read_raw(file, preload=True)\n"
   ],
   "metadata": {
    "collapsed": false,
    "pycharm": {
     "name": "#%%\n"
    }
   }
  },
  {
   "cell_type": "code",
   "execution_count": 96,
   "outputs": [],
   "source": [
    "blink_fp_th = 100\n",
    "blink_vert_fp_th = 150\n",
    "blink_tp_th = 75e-6\n",
    "blink_time_min = 0.025\n",
    "\n",
    "saccade_fp_th = 100\n",
    "saccade_tp_th = 10"
   ],
   "metadata": {
    "collapsed": false,
    "pycharm": {
     "name": "#%%\n"
    }
   }
  },
  {
   "cell_type": "code",
   "execution_count": 107,
   "outputs": [],
   "source": [
    "# Find the median sign of the 10% highest peaks\n",
    "ch_idx = [i for i, name in enumerate(epochs.ch_names) if name == 'EOGV'][0]\n",
    "veog_blink_data = epochs['Blink'].get_data()[:,ch_idx,:]\n",
    "\n",
    "# Get all occurences where the data exceeds the threshold:\n",
    "veog_blink_mask = veog_blink_data > blink_tp_th\n",
    "b = np.ones(int(blink_time_min*epochs.info['sfreq']))\n",
    "\n"
   ],
   "metadata": {
    "collapsed": false,
    "pycharm": {
     "name": "#%%\n"
    }
   }
  },
  {
   "cell_type": "code",
   "execution_count": 108,
   "outputs": [],
   "source": [
    "from scipy.signal import filtfilt\n",
    "\n",
    "res = filtfilt(b, 1, veog_blink_mask)\n",
    "# res = np.convolve(veog_blink_mask,min_blink_samples, 'same')"
   ],
   "metadata": {
    "collapsed": false,
    "pycharm": {
     "name": "#%%\n"
    }
   }
  },
  {
   "cell_type": "code",
   "execution_count": 105,
   "outputs": [],
   "source": [
    "res = np.apply_along_axis(lambda m: np.convolve(m, min_blink_samples, mode='same'), axis=1, arr=veog_blink_mask)"
   ],
   "metadata": {
    "collapsed": false,
    "pycharm": {
     "name": "#%%\n"
    }
   }
  },
  {
   "cell_type": "code",
   "execution_count": null,
   "outputs": [],
   "source": [
    "# Detect blink if VEOG exceeds a threshold of 75µV for at least 25ms in a BLINK epoch:\n",
    "\n",
    "ref_sig = EEG[channel_idx, :, label_mask]\n",
    "peak_idxs = np.argsort(np.abs(ref_sig.ravel()))[::-1][:int(EEG.n_times*sum(label_mask)*0.01)]\n",
    "peak_sign = np.median(np.sign(EEG[channel_idx, peak_idxs]))\n",
    "\n",
    "    # Detect blinks as periods during which the EOG signal is outside the interval spanned by +/- threshold\n",
    "blink_signal = (EEG[channel_idx, :] * peak_sign) > threshold\n",
    "blink_signal[:, EEG.annotations.description != label] = 0\n",
    "\n",
    "if t_extend > 0:\n",
    "    # Apply a FIR filter to extend the blink signal\n",
    "    b = np.ones(int(np.round(t_extend*EEG.info['sfreq'])))\n",
    "    blink_signal = filtfilt(b, 1, blink_signal.astype(float))\n",
    "    blink_signal = blink_signal > 0\n",
    "\n",
    "blink_signal = np.reshape(blink_signal, (1, EEG.n_times, EEG.annotations.shape[0]))\n",
    "\n",
    "return blink_signal, peak_sign"
   ],
   "metadata": {
    "collapsed": false,
    "pycharm": {
     "name": "#%%\n"
    }
   }
  },
  {
   "cell_type": "code",
   "execution_count": null,
   "outputs": [],
   "source": [],
   "metadata": {
    "collapsed": false,
    "pycharm": {
     "name": "#%%\n"
    }
   }
  },
  {
   "cell_type": "code",
   "execution_count": null,
   "outputs": [],
   "source": [],
   "metadata": {
    "collapsed": false,
    "pycharm": {
     "name": "#%%\n"
    }
   }
  },
  {
   "cell_type": "code",
   "execution_count": null,
   "outputs": [],
   "source": [
    "# Load eye data:\n",
    "src_path = data_path + 'bad_ch_interpolated'\n",
    "# There can be only one file  with matching conditions since we are splitting in folders:\n",
    "f_name = [f for f in os.listdir(src_path) if ('A02' in f) and ('eye' in f)][0]\n",
    "\n",
    "file = src_path + '/' + f_name\n",
    "raw = mne.io.read_raw(file, preload=True)\n",
    "\n",
    "raw.info"
   ],
   "metadata": {
    "collapsed": false,
    "pycharm": {
     "name": "#%%\n"
    }
   }
  },
  {
   "cell_type": "code",
   "execution_count": null,
   "outputs": [],
   "source": [
    "# Extract the EOG data:\n",
    "eog_r = raw.get_data(picks='EOGL')\n",
    "eog_l = raw.get_data(picks='EOGR')\n",
    "eog_c = raw.get_data(picks='EOGC')\n",
    "\n",
    "# Calculate EOG derivatives:\n",
    "heog = eog_r - eog_l\n",
    "veog = eog_c - (eog_r + eog_l) / 2\n",
    "reog = (eog_c + eog_r + eog_l) / 3\n",
    "\n",
    "# Create nchannels x ntimes matrix:\n",
    "eog_derivatives = np.vstack((heog, veog, reog))\n",
    "\n",
    "# Create an info file to later add the channels:\n",
    "info = mne.create_info(['EOGH', 'EOGV', 'EOGRad'], 200.0, ch_types='eog')\n",
    "\n",
    "# Create a raw array for the eog derivatives:\n",
    "raw_derivatives = mne.io.RawArray(eog_derivatives, info, first_samp=raw.first_samp)\n",
    "\n",
    "raw = raw.add_channels([raw_derivatives], force_update_info=True)"
   ],
   "metadata": {
    "collapsed": false,
    "pycharm": {
     "name": "#%%\n"
    }
   }
  },
  {
   "cell_type": "code",
   "execution_count": null,
   "outputs": [],
   "source": [
    "raw.plot(duration=60, proj=False, n_channels=len(raw.ch_names), remove_dc=False, title=f'EOG derivatives added.')"
   ],
   "metadata": {
    "collapsed": false,
    "pycharm": {
     "name": "#%%\n"
    }
   }
  },
  {
   "cell_type": "code",
   "execution_count": null,
   "outputs": [],
   "source": [
    "# Lowpass filter the eog derivatives:\n",
    "raw = raw.copy().filter(l_freq=None, h_freq=5.0, picks=['eog'], method='iir')"
   ],
   "metadata": {
    "collapsed": false,
    "pycharm": {
     "name": "#%%\n"
    }
   }
  },
  {
   "cell_type": "code",
   "execution_count": null,
   "outputs": [],
   "source": [
    "raw.plot(duration=60, proj=False, n_channels=len(raw.ch_names), remove_dc=False, title=f'EOG lowpass filtered.')"
   ],
   "metadata": {
    "collapsed": false,
    "pycharm": {
     "name": "#%%\n"
    }
   }
  },
  {
   "cell_type": "code",
   "execution_count": null,
   "outputs": [],
   "source": [
    "def get_subset_of_dict(full_dict, keys_of_interest):\n",
    "    return dict((k, full_dict[k]) for k in keys_of_interest if k in full_dict)"
   ],
   "metadata": {
    "collapsed": false,
    "pycharm": {
     "name": "#%%\n"
    }
   }
  },
  {
   "cell_type": "code",
   "execution_count": null,
   "outputs": [],
   "source": [
    "# Extract epochs:\n",
    "events_from_annot, event_dict = mne.events_from_annotations(raw)\n",
    "\n",
    "#\n",
    "markers_of_interest = ['Blink', 'Rest' ,'Horz', 'Vert']\n",
    "\n",
    "event_dict_of_interest = get_subset_of_dict(event_dict, markers_of_interest)\n",
    "\n",
    "# TODO select event ID's of interest, hand over dict for event_id to make it easier to extract them:\n",
    "epochs = mne.Epochs(raw, events_from_annot, event_id=event_dict_of_interest, tmin=1.0, tmax=9.0, baseline=None, reject_by_annotation=True, preload=True, picks=['eeg', 'eog'])\n"
   ],
   "metadata": {
    "collapsed": false,
    "pycharm": {
     "name": "#%%\n"
    }
   }
  },
  {
   "cell_type": "code",
   "execution_count": null,
   "outputs": [],
   "source": [
    "epochs['Rest'].plot(picks=['eeg', 'eog'])"
   ],
   "metadata": {
    "collapsed": false,
    "pycharm": {
     "name": "#%%\n"
    }
   }
  },
  {
   "cell_type": "code",
   "execution_count": null,
   "outputs": [],
   "source": [
    "epochs.info"
   ],
   "metadata": {
    "collapsed": false,
    "pycharm": {
     "name": "#%%\n"
    }
   }
  },
  {
   "cell_type": "code",
   "execution_count": null,
   "outputs": [],
   "source": [],
   "metadata": {
    "collapsed": false,
    "pycharm": {
     "name": "#%%\n"
    }
   }
  },
  {
   "cell_type": "markdown",
   "source": [],
   "metadata": {
    "collapsed": false
   }
  },
  {
   "cell_type": "markdown",
   "source": [],
   "metadata": {
    "collapsed": false
   }
  },
  {
   "cell_type": "code",
   "execution_count": null,
   "outputs": [],
   "source": [],
   "metadata": {
    "collapsed": false,
    "pycharm": {
     "name": "#%%\n"
    }
   }
  }
 ],
 "metadata": {
  "kernelspec": {
   "display_name": "Python 3",
   "language": "python",
   "name": "python3"
  },
  "language_info": {
   "codemirror_mode": {
    "name": "ipython",
    "version": 2
   },
   "file_extension": ".py",
   "mimetype": "text/x-python",
   "name": "python",
   "nbconvert_exporter": "python",
   "pygments_lexer": "ipython2",
   "version": "2.7.6"
  }
 },
 "nbformat": 4,
 "nbformat_minor": 0
}