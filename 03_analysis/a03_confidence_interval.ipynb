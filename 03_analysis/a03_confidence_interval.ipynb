{
 "cells": [
  {
   "cell_type": "code",
   "execution_count": null,
   "metadata": {
    "collapsed": true
   },
   "outputs": [],
   "source": [
    "%reset"
   ]
  },
  {
   "cell_type": "code",
   "execution_count": null,
   "outputs": [],
   "source": [
    "from os import listdir\n",
    "from os.path import exists\n",
    "from importlib import reload\n",
    "import numpy as np\n",
    "import pandas as pd\n",
    "import pyxdf\n",
    "import mne\n",
    "from utils import *\n",
    "from sklearn.discriminant_analysis import LinearDiscriminantAnalysis\n",
    "from sklearn.model_selection import train_test_split, cross_val_score, LeaveOneOut\n",
    "import time\n",
    "import datetime\n",
    "from datetime import datetime, timezone\n",
    "import pickle\n",
    "import plotly.express as px\n",
    "\n",
    "print('Imports done...')"
   ],
   "metadata": {
    "collapsed": false,
    "pycharm": {
     "name": "#%%\n"
    }
   }
  },
  {
   "cell_type": "code",
   "execution_count": null,
   "outputs": [],
   "source": [
    "# Load classification results:\n",
    "df = pd.read_csv('classification_df.csv', index_col=0)"
   ],
   "metadata": {
    "collapsed": false,
    "pycharm": {
     "name": "#%%\n"
    }
   }
  },
  {
   "cell_type": "code",
   "execution_count": null,
   "outputs": [],
   "source": [
    "# Calculate CI for all subjects with the same '5-point' and 'Type' column for each timepoint.\n",
    "cols = ['Timepoint', 'Mean_accuracy', 'Type', '5-point', 'Upper', 'Lower']\n",
    "confidence = .95\n",
    "df_mean = pd.DataFrame(columns=cols)\n",
    "for type in df['Type'].unique():\n",
    "    for windowed in df['5-point'].unique():\n",
    "        for tp in df[(df['Type'] == type) & (df['5-point'] == windowed)]['Timepoint'].unique():\n",
    "            # Get average overall subjects for each timepoint:\n",
    "            accs = np.array(df[(df['Type'] == type) & (df['5-point'] == windowed) & (df['Timepoint'] == tp)]['Accuracy'])\n",
    "            mean = accs.mean()\n",
    "\n",
    "            # Bootstrapping for confidence interval:\n",
    "            values = [np.random.choice(accs,size=len(accs),replace=True).mean() for i in range(1000)]\n",
    "            lower, upper = np.percentile(values,[100*(1-confidence)/2,100*(1-(1-confidence)/2)])\n",
    "\n",
    "            df_mean.loc[len(df_mean)] = [tp, mean, type, windowed, upper, lower]"
   ],
   "metadata": {
    "collapsed": false,
    "pycharm": {
     "name": "#%%\n"
    }
   }
  },
  {
   "cell_type": "code",
   "execution_count": null,
   "outputs": [],
   "source": [
    "for type in df_mean['Type'].unique():\n",
    "    leg = []\n",
    "    plt.figure(figsize=(10,6))\n",
    "    for windowed in df_mean['5-point'].unique():\n",
    "        # Extract tps, means and confidences to plot:\n",
    "        timepoints = list(df_mean[(df_mean['Type'] == type) & (df_mean['5-point'] == windowed)]['Timepoint'])\n",
    "        means = list(df_mean[(df_mean['Type'] == type) & (df_mean['5-point'] == windowed)]['Mean_accuracy'])\n",
    "        uppers = list(df_mean[(df_mean['Type'] == type) & (df_mean['5-point'] == windowed)]['Upper'])\n",
    "        lowers = list(df_mean[(df_mean['Type'] == type) & (df_mean['5-point'] == windowed)]['Lower'])\n",
    "\n",
    "        if windowed:\n",
    "            txt = '5-point windowed'\n",
    "        else:\n",
    "            txt = 'single timepoint'\n",
    "\n",
    "        leg.append(txt + ' mean')\n",
    "        leg.append(txt + ' 95% confidence interval')\n",
    "\n",
    "        plt.plot(timepoints, means)\n",
    "        plt.fill_between(timepoints, lowers, uppers, alpha=0.1)\n",
    "\n",
    "    plt.title(f'Classification accuracy for {type}')\n",
    "    plt.legend(leg, loc='best')\n",
    "    plt.ylim([0,1])\n",
    "    plt.show()"
   ],
   "metadata": {
    "collapsed": false,
    "pycharm": {
     "name": "#%%\n"
    }
   }
  },
  {
   "cell_type": "code",
   "execution_count": null,
   "outputs": [],
   "source": [],
   "metadata": {
    "collapsed": false,
    "pycharm": {
     "name": "#%%\n"
    }
   }
  },
  {
   "cell_type": "code",
   "execution_count": null,
   "outputs": [],
   "source": [],
   "metadata": {
    "collapsed": false,
    "pycharm": {
     "name": "#%%\n"
    }
   }
  }
 ],
 "metadata": {
  "kernelspec": {
   "display_name": "Python 3",
   "language": "python",
   "name": "python3"
  },
  "language_info": {
   "codemirror_mode": {
    "name": "ipython",
    "version": 2
   },
   "file_extension": ".py",
   "mimetype": "text/x-python",
   "name": "python",
   "nbconvert_exporter": "python",
   "pygments_lexer": "ipython2",
   "version": "2.7.6"
  }
 },
 "nbformat": 4,
 "nbformat_minor": 0
}