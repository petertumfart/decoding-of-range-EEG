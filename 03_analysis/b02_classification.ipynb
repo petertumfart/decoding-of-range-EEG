{
 "cells": [
  {
   "cell_type": "code",
   "execution_count": 1,
   "metadata": {
    "collapsed": true
   },
   "outputs": [],
   "source": [
    "%reset"
   ]
  },
  {
   "cell_type": "markdown",
   "source": [
    "# 1. Imports"
   ],
   "metadata": {
    "collapsed": false,
    "pycharm": {
     "name": "#%% md\n"
    }
   }
  },
  {
   "cell_type": "code",
   "execution_count": 69,
   "outputs": [],
   "source": [
    "import mne\n",
    "import time\n",
    "\n",
    "import custom_modules.file_handling as  fh\n",
    "import custom_modules.classification_ptu as clas\n",
    "\n",
    "import importlib\n",
    "importlib.reload(clas)\n",
    "importlib.reload(fh)\n",
    "\n",
    "import pandas as pd\n",
    "import numpy as np\n",
    "import matplotlib.pyplot as plt"
   ],
   "metadata": {
    "collapsed": false,
    "pycharm": {
     "name": "#%%\n"
    }
   }
  },
  {
   "cell_type": "markdown",
   "source": [
    "# 2. Constants"
   ],
   "metadata": {
    "collapsed": false,
    "pycharm": {
     "name": "#%% md\n"
    }
   }
  },
  {
   "cell_type": "code",
   "execution_count": 70,
   "outputs": [],
   "source": [
    "data_path = 'D:/Diplomarbeit_data/eeg/'\n",
    "# subjects = ['A01', 'A02', 'A03', 'A04', 'A05', 'A06', 'A07' , 'A08', 'A10']\n",
    "subjects = ['A01', 'A02', 'A03', 'A04', 'A05', 'A06', 'A07' , 'A08', 'A09', 'A10']\n",
    "trial_type_markers = ['LTR-s', 'LTR-l','RTL-s', 'RTL-l', 'TTB-s', 'TTB-l', 'BTT-s', 'BTT-l']\n",
    "\n",
    "mne.set_log_level('WARNING') #'INFO' 'WARNING'"
   ],
   "metadata": {
    "collapsed": false,
    "pycharm": {
     "name": "#%%\n"
    }
   }
  },
  {
   "cell_type": "markdown",
   "source": [
    "# 3. Classification"
   ],
   "metadata": {
    "collapsed": false,
    "pycharm": {
     "name": "#%% md\n"
    }
   }
  },
  {
   "cell_type": "markdown",
   "source": [
    "## 3.1. Cue-aligned"
   ],
   "metadata": {
    "collapsed": false,
    "pycharm": {
     "name": "#%% md\n"
    }
   }
  },
  {
   "cell_type": "code",
   "execution_count": null,
   "outputs": [
    {
     "name": "stdout",
     "output_type": "stream",
     "text": [
      "Classifying cue-aligned for subject A01\n",
      "Measuring timestamp 37/70, shape: (250, 61)\r"
     ]
    }
   ],
   "source": [
    "# Get source and destination path + create destintation folder if it does not exist.\n",
    "src_path, dst_path = fh.gen_paths(pth=data_path, src_fldr='2023_03_22_epoched_cue_aligned', dst_fldr='2023_03_22_epoched_cue_aligned')\n",
    "\n",
    "# Iterate over each subject and extract the streams\n",
    "start = time.time()\n",
    "for i, subject in enumerate(subjects):\n",
    "    print(f'Classifying cue-aligned for subject {subject}')\n",
    "\n",
    "    ### Distance\n",
    "    # Classify the epochs for 1 timepoint:\n",
    "    clas.classify(src=src_path, dst=dst_path, sbj=subject, condition='distance', n_timepoints=1, loo=True)\n",
    "    # Classify the epochs for 6 timepoints:\n",
    "    clas.classify(src=src_path, dst=dst_path, sbj=subject, condition='distance', n_timepoints=6, loo=True)\n",
    "\n",
    "    ### Direction\n",
    "    # Classify the epochs for 1 timepoint:\n",
    "    clas.classify(src=src_path, dst=dst_path, sbj=subject, condition='direction', n_timepoints=1, loo=True)\n",
    "    # Classify the epochs for 6 timepoints:\n",
    "    clas.classify(src=src_path, dst=dst_path, sbj=subject, condition='direction', n_timepoints=6, loo=True)\n",
    "\n",
    "    ### Direction short\n",
    "    # Classify the epochs for 1 timepoint:\n",
    "    clas.classify(src=src_path, dst=dst_path, sbj=subject, condition='direction_short', n_timepoints=1, loo=True)\n",
    "    # Classify the epochs for 6 timepoints:\n",
    "    clas.classify(src=src_path, dst=dst_path, sbj=subject, condition='direction_short', n_timepoints=6, loo=True)\n",
    "\n",
    "    ### Direction long\n",
    "    # Classify the epochs for 1 timepoint:\n",
    "    clas.classify(src=src_path, dst=dst_path, sbj=subject, condition='direction_long', n_timepoints=1, loo=True)\n",
    "    # Classify the epochs for 6 timepoints:\n",
    "    clas.classify(src=src_path, dst=dst_path, sbj=subject, condition='direction_long', n_timepoints=6, loo=True)\n",
    "\n",
    "    ### Position\n",
    "    # Classify the epochs for 1 timepoint:\n",
    "    clas.classify(src=src_path, dst=dst_path, sbj=subject, condition='position', n_timepoints=1, loo=True)\n",
    "    # Classify the epochs for 6 timepoints:\n",
    "    clas.classify(src=src_path, dst=dst_path, sbj=subject, condition='position', n_timepoints=6, loo=True)\n",
    "\n",
    "\n",
    "print(f'Finished classifying, took me {round(time.time() - start)} seconds...')\n"
   ],
   "metadata": {
    "collapsed": false,
    "pycharm": {
     "name": "#%%\n",
     "is_executing": true
    }
   }
  },
  {
   "cell_type": "markdown",
   "source": [
    "## 3.2. Movement-aligned"
   ],
   "metadata": {
    "collapsed": false,
    "pycharm": {
     "name": "#%% md\n"
    }
   }
  },
  {
   "cell_type": "code",
   "execution_count": null,
   "outputs": [],
   "source": [
    "# Get source and destination path + create destintation folder if it does not exist.\n",
    "src_path, dst_path = fh.gen_paths(pth=data_path, src_fldr='2023_03_22_epoched_movement_aligned', dst_fldr='2023_03_22_epoched_movement_aligned')\n",
    "\n",
    "# Iterate over each subject and extract the streams\n",
    "start = time.time()\n",
    "for i, subject in enumerate(subjects):\n",
    "    print(f'Classifying movement-aligned for subject {subject}')\n",
    "\n",
    "    ### Distance\n",
    "    # Classify the epochs for 1 timepoint:\n",
    "    clas.classify(src=src_path, dst=dst_path, sbj=subject, condition='distance', n_timepoints=1, loo=True)\n",
    "    # Classify the epochs for 6 timepoints:\n",
    "    clas.classify(src=src_path, dst=dst_path, sbj=subject, condition='distance', n_timepoints=6, loo=True)\n",
    "\n",
    "    ### Direction\n",
    "    # Classify the epochs for 1 timepoint:\n",
    "    clas.classify(src=src_path, dst=dst_path, sbj=subject, condition='direction', n_timepoints=1, loo=True)\n",
    "    # Classify the epochs for 6 timepoints:\n",
    "    clas.classify(src=src_path, dst=dst_path, sbj=subject, condition='direction', n_timepoints=6, loo=True)\n",
    "\n",
    "    ### Direction short\n",
    "    # Classify the epochs for 1 timepoint:\n",
    "    clas.classify(src=src_path, dst=dst_path, sbj=subject, condition='direction_short', n_timepoints=1, loo=True)\n",
    "    # Classify the epochs for 6 timepoints:\n",
    "    clas.classify(src=src_path, dst=dst_path, sbj=subject, condition='direction_short', n_timepoints=6, loo=True)\n",
    "\n",
    "    ### Direction long\n",
    "    # Classify the epochs for 1 timepoint:\n",
    "    clas.classify(src=src_path, dst=dst_path, sbj=subject, condition='direction_long', n_timepoints=1, loo=True)\n",
    "    # Classify the epochs for 6 timepoints:\n",
    "    clas.classify(src=src_path, dst=dst_path, sbj=subject, condition='direction_long', n_timepoints=6, loo=True)\n",
    "\n",
    "    # Classify the epochs for 1 timepoint:\n",
    "    clas.classify(src=src_path, dst=dst_path, sbj=subject, condition='position', n_timepoints=1, loo=True)\n",
    "    # Classify the epochs for 6 timepoints:\n",
    "    clas.classify(src=src_path, dst=dst_path, sbj=subject, condition='position', n_timepoints=6, loo=True)\n",
    "\n",
    "\n",
    "print(f'Finished classifiying, took me {round(time.time() - start)} seconds...')"
   ],
   "metadata": {
    "collapsed": false,
    "pycharm": {
     "name": "#%%\n",
     "is_executing": true
    }
   }
  },
  {
   "cell_type": "markdown",
   "source": [
    "# 4. Calculate mean + confidence interval for all subjects"
   ],
   "metadata": {
    "collapsed": false,
    "pycharm": {
     "name": "#%% md\n"
    }
   }
  },
  {
   "cell_type": "code",
   "execution_count": null,
   "outputs": [],
   "source": [
    "df = pd.read_csv('dataframes/classification/classification_df.csv', index_col=0)\n",
    "# classification_df_minus_2_seconds_for_movement_aligned.csv\n",
    "# Calculate CI for all subjects with the same 'N_timepoints', 'Type' and 'Condition' column for each timepoint.\n",
    "cols = ['Timepoint', 'Mean_accuracy', 'Type', 'N_timepoints', 'Condition', 'Upper', 'Lower']\n",
    "confidence = .95\n",
    "df_mean = pd.DataFrame(columns=cols)\n",
    "for type in df['Type'].unique():\n",
    "    for n_timepoints in df['N_timepoints'].unique():\n",
    "        for condition in df['Condition'].unique():\n",
    "            print(f'{type} {condition} {n_timepoints}')\n",
    "            timepoints = df[(df['Condition']==condition) & (df['N_timepoints']==n_timepoints) & (df['Type']==type)]['Timepoint'].unique()\n",
    "            for tp in timepoints:\n",
    "                # Get average overall subjects for each timepoint:\n",
    "                accs = np.array(df[(df['Type'] == type) & (df['N_timepoints'] == n_timepoints) & (df['Condition'] == condition) & (df['Timepoint'] == tp)]['Accuracy'])\n",
    "                mean = accs.mean()\n",
    "\n",
    "                # Bootstrapping for confidence interval:\n",
    "                values = [np.random.choice(accs,size=len(accs),replace=True).mean() for i in range(1000)]\n",
    "                lower, upper = np.percentile(values,[100*(1-confidence)/2,100*(1-(1-confidence)/2)])\n",
    "\n",
    "                df_mean.loc[len(df_mean)] = [tp, mean, type, n_timepoints, condition, upper, lower]\n",
    "\n",
    "df_mean = df_mean.dropna()"
   ],
   "metadata": {
    "collapsed": false,
    "pycharm": {
     "name": "#%%\n",
     "is_executing": true
    }
   }
  },
  {
   "cell_type": "code",
   "execution_count": null,
   "outputs": [],
   "source": [
    "for type in df_mean['Type'].unique():\n",
    "    for condition in df_mean['Condition'].unique():\n",
    "        leg = []\n",
    "        plt.figure()\n",
    "\n",
    "        for windowed in df_mean['N_timepoints'].unique():\n",
    "            # Extract tps, means and confidences to plot:\n",
    "            timepoints = list(df_mean[(df_mean['Type'] == type) & (df_mean['Condition'] == condition) & (df_mean['N_timepoints'] == windowed)]['Timepoint'])\n",
    "\n",
    "            means = list(df_mean[(df_mean['Type'] == type) & (df_mean['Condition'] == condition) & (df_mean['N_timepoints'] == windowed)]['Mean_accuracy'])\n",
    "\n",
    "            uppers = list(df_mean[(df_mean['Type'] == type) & (df_mean['Condition'] == condition) & (df_mean['N_timepoints'] == windowed)]['Upper'])\n",
    "\n",
    "            lowers = list(df_mean[(df_mean['Type'] == type) & (df_mean['Condition'] == condition) & (df_mean['N_timepoints'] == windowed)]['Lower'])\n",
    "\n",
    "            txt = f'{windowed}-point'\n",
    "\n",
    "            leg.append(txt)\n",
    "            leg.append('95% CI')\n",
    "\n",
    "            plt.plot(timepoints, means)\n",
    "            plt.fill_between(timepoints, lowers, uppers, alpha=0.1)\n",
    "\n",
    "        if 'distance' in condition:\n",
    "            plt.plot([timepoints[0]-(windowed+1)/10, timepoints[-1]], [.5, .5], color='black')\n",
    "        elif 'position' in condition:\n",
    "            plt.plot([timepoints[0]-(windowed+1)/10, timepoints[-1]], [.2, .2], color='black')\n",
    "        else:\n",
    "            plt.plot([timepoints[0]-(windowed+1)/10, timepoints[-1]], [.25, .25], color='black')\n",
    "\n",
    "        leg.append('Chance level')\n",
    "        plt.title(f'Classification accuracy for {type} {condition}')\n",
    "        plt.legend(leg, loc='best', prop={'size': 6})#, bbox_to_anchor=(1, 0.5))\n",
    "        plt.ylim([0.1,0.8])\n",
    "        if 'cue' in type:\n",
    "            plt.xlim([0,7])\n",
    "        else:\n",
    "            plt.xlim([-2.5,3.5])\n",
    "        plt.xlabel('Time (s)')\n",
    "        plt.ylabel('Accuracy (a.u.)')\n",
    "        plt.tight_layout()\n",
    "        plt.savefig(f'{data_path}2023_04_12_classification_figs/{type}_{condition}_classification.png', dpi=400)\n",
    "        plt.show()"
   ],
   "metadata": {
    "collapsed": false,
    "pycharm": {
     "name": "#%%\n",
     "is_executing": true
    }
   }
  },
  {
   "cell_type": "code",
   "execution_count": null,
   "outputs": [],
   "source": [],
   "metadata": {
    "collapsed": false,
    "pycharm": {
     "name": "#%%\n"
    }
   }
  },
  {
   "cell_type": "markdown",
   "source": [
    "# 5. Estimate GLM"
   ],
   "metadata": {
    "collapsed": false,
    "pycharm": {
     "name": "#%% md\n"
    }
   }
  },
  {
   "cell_type": "markdown",
   "source": [
    "## 5.1. Cue-aligned"
   ],
   "metadata": {
    "collapsed": false,
    "pycharm": {
     "name": "#%% md\n"
    }
   }
  },
  {
   "cell_type": "code",
   "execution_count": 9,
   "outputs": [
    {
     "name": "stdout",
     "output_type": "stream",
     "text": [
      "Fitting GLM cue-aligned for subject A01\n",
      "Shrinkege param: 0.00651579073900898\n",
      "Fitting GLM cue-aligned for subject A02\n",
      "Shrinkege param: 0.005345673470727013\n",
      "Fitting GLM cue-aligned for subject A03\n",
      "Shrinkege param: 0.005967566762998921\n",
      "Fitting GLM cue-aligned for subject A04\n",
      "Shrinkege param: 0.005361782453905875\n",
      "Fitting GLM cue-aligned for subject A05\n",
      "Shrinkege param: 0.007482779755997901\n",
      "Fitting GLM cue-aligned for subject A06\n",
      "Shrinkege param: 0.0059287792854986286\n",
      "Fitting GLM cue-aligned for subject A07\n",
      "Shrinkege param: 0.006126397484106653\n",
      "Fitting GLM cue-aligned for subject A08\n",
      "Shrinkege param: 0.005987133158264003\n",
      "Fitting GLM cue-aligned for subject A09\n",
      "Shrinkege param: 0.005455423239377814\n",
      "Fitting GLM cue-aligned for subject A10\n",
      "Shrinkege param: 0.006003548272086048\n",
      "Finished with GLM, took me 18 seconds...\n"
     ]
    }
   ],
   "source": [
    "importlib.reload(clas)\n",
    "\n",
    "# Get source and destination path + create destintation folder if it does not exist.\n",
    "src_path, dst_path = fh.gen_paths(pth=data_path, src_fldr='2023_03_22_epoched_cue_aligned', dst_fldr='2023_03_22_glm_results_cue_aligned')\n",
    "\n",
    "# Iterate over each subject and extract the streams\n",
    "start = time.time()\n",
    "for i, subject in enumerate(subjects):\n",
    "    print(f'Fitting GLM cue-aligned for subject {subject}')\n",
    "\n",
    "    clas.glm(src=src_path, dst=dst_path, sbj=subject)\n",
    "\n",
    "print(f'Finished with GLM, took me {round(time.time() - start)} seconds...')\n",
    "\n"
   ],
   "metadata": {
    "collapsed": false,
    "pycharm": {
     "name": "#%%\n"
    }
   }
  },
  {
   "cell_type": "code",
   "execution_count": 18,
   "outputs": [
    {
     "name": "stdout",
     "output_type": "stream",
     "text": [
      "70/70, 61/61\r"
     ]
    }
   ],
   "source": [
    "importlib.reload(clas)\n",
    "\n",
    "# Get source and destination path + create destintation folder if it does not exist.\n",
    "src_path, dst_path = fh.gen_paths(pth=data_path, src_fldr='2023_03_22_glm_results_cue_aligned', dst_fldr='2023_03_22_glm_results_cue_aligned')\n",
    "\n",
    "clas.coefficient_testing(src=src_path, dst=dst_path, sbj_list=subjects,two_sample=False)"
   ],
   "metadata": {
    "collapsed": false,
    "pycharm": {
     "name": "#%%\n"
    }
   }
  },
  {
   "cell_type": "code",
   "execution_count": 11,
   "outputs": [
    {
     "data": {
      "text/plain": "<Figure size 432x288 with 1 Axes>",
      "image/png": "[encoded data removed]"
     },
     "metadata": {
      "needs_background": "light"
     },
     "output_type": "display_data"
    }
   ],
   "source": [
    "importlib.reload(clas)\n",
    "\n",
    "# Get source and destination path + create destintation folder if it does not exist.\n",
    "src_path, dst_path = fh.gen_paths(pth=data_path, src_fldr='2023_03_22_glm_results_cue_aligned', dst_fldr='2023_03_22_glm_results_cue_aligned')\n",
    "\n",
    "clas.plot_heatmap_of_regr_coeff(src=src_path, dst=dst_path, p_crit=0.05)"
   ],
   "metadata": {
    "collapsed": false,
    "pycharm": {
     "name": "#%%\n"
    }
   }
  },
  {
   "cell_type": "markdown",
   "source": [
    "## 5.2. Movement-aligned"
   ],
   "metadata": {
    "collapsed": false,
    "pycharm": {
     "name": "#%% md\n"
    }
   }
  },
  {
   "cell_type": "code",
   "execution_count": 12,
   "outputs": [
    {
     "name": "stdout",
     "output_type": "stream",
     "text": [
      "Fitting GLM movement-aligned for subject A01\n",
      "Shrinkege param: 0.00651579073900898\n",
      "Fitting GLM movement-aligned for subject A02\n",
      "Shrinkege param: 0.005345673470727013\n",
      "Fitting GLM movement-aligned for subject A03\n",
      "Shrinkege param: 0.005967566762998921\n",
      "Fitting GLM movement-aligned for subject A04\n",
      "Shrinkege param: 0.005361782453905875\n",
      "Fitting GLM movement-aligned for subject A05\n",
      "Shrinkege param: 0.007549102903693336\n",
      "Fitting GLM movement-aligned for subject A06\n",
      "Shrinkege param: 0.0059287792854986286\n",
      "Fitting GLM movement-aligned for subject A07\n",
      "Shrinkege param: 0.006096637716504805\n",
      "Fitting GLM movement-aligned for subject A08\n",
      "Shrinkege param: 0.0060972971930012484\n",
      "Fitting GLM movement-aligned for subject A09\n",
      "Shrinkege param: 0.005455423239377814\n",
      "Fitting GLM movement-aligned for subject A10\n",
      "Shrinkege param: 0.0059851322208864\n",
      "Finished with GLM, took me 18 seconds...\n"
     ]
    }
   ],
   "source": [
    "importlib.reload(clas)\n",
    "\n",
    "# Get source and destination path + create destintation folder if it does not exist.\n",
    "src_path, dst_path = fh.gen_paths(pth=data_path, src_fldr='2023_03_22_epoched_movement_aligned', dst_fldr='2023_03_22_glm_results_movement_aligned')\n",
    "\n",
    "# Iterate over each subject and extract the streams\n",
    "start = time.time()\n",
    "for i, subject in enumerate(subjects):\n",
    "    print(f'Fitting GLM movement-aligned for subject {subject}')\n",
    "\n",
    "    clas.glm(src=src_path, dst=dst_path, sbj=subject)\n",
    "\n",
    "\n",
    "print(f'Finished with GLM, took me {round(time.time() - start)} seconds...')"
   ],
   "metadata": {
    "collapsed": false,
    "pycharm": {
     "name": "#%%\n"
    }
   }
  },
  {
   "cell_type": "code",
   "execution_count": 19,
   "outputs": [
    {
     "name": "stdout",
     "output_type": "stream",
     "text": [
      "60/60, 61/61\r"
     ]
    }
   ],
   "source": [
    "importlib.reload(clas)\n",
    "\n",
    "# Get source and destination path + create destintation folder if it does not exist.\n",
    "src_path, dst_path = fh.gen_paths(pth=data_path, src_fldr='2023_03_22_glm_results_movement_aligned', dst_fldr='2023_03_22_glm_results_movement_aligned')\n",
    "\n",
    "clas.coefficient_testing(src=src_path, dst=dst_path, sbj_list=subjects, two_sample=False)"
   ],
   "metadata": {
    "collapsed": false,
    "pycharm": {
     "name": "#%%\n"
    }
   }
  },
  {
   "cell_type": "code",
   "execution_count": 14,
   "outputs": [
    {
     "data": {
      "text/plain": "<Figure size 432x288 with 1 Axes>",
      "image/png": "[encoded data removed]"
     },
     "metadata": {
      "needs_background": "light"
     },
     "output_type": "display_data"
    }
   ],
   "source": [
    "importlib.reload(clas)\n",
    "\n",
    "# Get source and destination path + create destintation folder if it does not exist.\n",
    "src_path, dst_path = fh.gen_paths(pth=data_path, src_fldr='2023_03_22_glm_results_movement_aligned', dst_fldr='2023_03_22_glm_results_movement_aligned')\n",
    "\n",
    "clas.plot_heatmap_of_regr_coeff(src=src_path, dst=dst_path, p_crit=0.1)"
   ],
   "metadata": {
    "collapsed": false,
    "pycharm": {
     "name": "#%%\n"
    }
   }
  },
  {
   "cell_type": "markdown",
   "source": [
    "# 6. Confusion matrices"
   ],
   "metadata": {
    "collapsed": false,
    "pycharm": {
     "name": "#%% md\n"
    }
   }
  },
  {
   "cell_type": "markdown",
   "source": [
    "# 6.1. Cue algined"
   ],
   "metadata": {
    "collapsed": false,
    "pycharm": {
     "name": "#%% md\n"
    }
   }
  },
  {
   "cell_type": "code",
   "execution_count": 20,
   "outputs": [
    {
     "name": "stdout",
     "output_type": "stream",
     "text": [
      "29\n",
      "(175,)\n",
      "(175,)\n",
      "24\n",
      "(177,)\n",
      "(177,)\n",
      "21\n",
      "(162,)\n",
      "(162,)\n",
      "26\n",
      "(169,)\n",
      "(169,)\n",
      "23\n",
      "(146,)\n",
      "(146,)\n",
      "22\n",
      "(173,)\n",
      "(173,)\n",
      "24\n",
      "(180,)\n",
      "(180,)\n",
      "24\n",
      "(150,)\n",
      "(150,)\n",
      "22\n",
      "(157,)\n",
      "(157,)\n",
      "24\n",
      "(162,)\n",
      "(162,)\n"
     ]
    },
    {
     "name": "stderr",
     "output_type": "stream",
     "text": [
      "C:\\Users\\peter\\Documents\\Code\\master-thesis\\03_analysis\\custom_modules\\classification_ptu.py:203: UserWarning: FixedFormatter should only be used together with FixedLocator\n",
      "  ax.set_xticklabels(['']+labels)\n",
      "C:\\Users\\peter\\Documents\\Code\\master-thesis\\03_analysis\\custom_modules\\classification_ptu.py:204: UserWarning: FixedFormatter should only be used together with FixedLocator\n",
      "  ax.set_yticklabels(['']+labels)\n"
     ]
    }
   ],
   "source": [
    "importlib.reload(clas)\n",
    "\n",
    "# Get source and destination path + create destintation folder if it does not exist.\n",
    "src_path, dst_path = fh.gen_paths(pth=data_path, src_fldr='epoched_cue_aligned', dst_fldr='2023_04_12_classification_figs')\n",
    "\n",
    "ts_list_dist = [2.4, 2.3, 2.6, 2.1, 2.3, 2.2, 2.4, 2.3, 2.3, 2.4]\n",
    "# ts_list_dir = [2.9, 2.3, 2.4, 2.3, 2.6, 2.6, 2.7, 2.6, 2.3, 2.4]\n",
    "ts_list_dir = [2.9, 2.4, 2.1, 2.6, 2.3, 2.2, 2.4, 2.4, 2.2, 2.4]\n",
    "\n",
    "# clas.get_confusion_matrix(src=src_path, dst=dst_path, sbj_list=subjects, ts_of_interest=ts_list_dist, n_timepoints=1, condition='distance')\n",
    "\n",
    "clas.get_confusion_matrix(src=src_path, dst=dst_path, sbj_list=subjects, ts_of_interest=ts_list_dir, n_timepoints=1, condition='direction')\n",
    "\n",
    "# clas.get_confusion_matrix(src=src_path, dst=dst_path, sbj_list=subjects, ts_of_interest=ts, n_timepoints=6, condition='distance')\n",
    "\n",
    "# clas.get_confusion_matrix(src=src_path, dst=dst_path, sbj_list=subjects, ts_of_interest=ts_list_dir, n_timepoints=1, condition='direction')\n",
    "\n",
    "\n",
    "# Mapping: 0-up, 1-down, 2-right, 3-left"
   ],
   "metadata": {
    "collapsed": false,
    "pycharm": {
     "name": "#%%\n"
    }
   }
  },
  {
   "cell_type": "markdown",
   "source": [
    "# 6.2. Movement aligned"
   ],
   "metadata": {
    "collapsed": false,
    "pycharm": {
     "name": "#%% md\n"
    }
   }
  },
  {
   "cell_type": "code",
   "execution_count": 23,
   "outputs": [
    {
     "name": "stdout",
     "output_type": "stream",
     "text": [
      "31\n",
      "(350,)\n",
      "(350,)\n",
      "33\n",
      "(357,)\n",
      "(357,)\n",
      "31\n",
      "(324,)\n",
      "(324,)\n",
      "36\n",
      "(342,)\n",
      "(342,)\n",
      "29\n",
      "(258,)\n",
      "(258,)\n",
      "36\n",
      "(351,)\n",
      "(351,)\n",
      "35\n",
      "(356,)\n",
      "(356,)\n",
      "32\n",
      "(309,)\n",
      "(309,)\n",
      "24\n",
      "(218,)\n",
      "(218,)\n",
      "28\n",
      "(318,)\n",
      "(318,)\n"
     ]
    },
    {
     "name": "stderr",
     "output_type": "stream",
     "text": [
      "C:\\Users\\peter\\Documents\\Code\\master-thesis\\03_analysis\\custom_modules\\classification_ptu.py:203: UserWarning: FixedFormatter should only be used together with FixedLocator\n",
      "  plt.clf()\n",
      "C:\\Users\\peter\\Documents\\Code\\master-thesis\\03_analysis\\custom_modules\\classification_ptu.py:204: UserWarning: FixedFormatter should only be used together with FixedLocator\n",
      "  plt.close()\n"
     ]
    },
    {
     "name": "stdout",
     "output_type": "stream",
     "text": [
      "25\n",
      "(174,)\n",
      "(174,)\n",
      "27\n",
      "(180,)\n",
      "(180,)\n",
      "29\n",
      "(159,)\n",
      "(159,)\n",
      "28\n",
      "(171,)\n",
      "(171,)\n",
      "27\n",
      "(131,)\n",
      "(131,)\n",
      "29\n",
      "(175,)\n",
      "(175,)\n",
      "30\n",
      "(176,)\n",
      "(176,)\n",
      "27\n",
      "(163,)\n",
      "(163,)\n",
      "22\n",
      "(114,)\n",
      "(114,)\n",
      "28\n",
      "(161,)\n",
      "(161,)\n"
     ]
    },
    {
     "name": "stderr",
     "output_type": "stream",
     "text": [
      "C:\\Users\\peter\\Documents\\Code\\master-thesis\\03_analysis\\custom_modules\\classification_ptu.py:203: UserWarning: FixedFormatter should only be used together with FixedLocator\n",
      "  plt.clf()\n",
      "C:\\Users\\peter\\Documents\\Code\\master-thesis\\03_analysis\\custom_modules\\classification_ptu.py:204: UserWarning: FixedFormatter should only be used together with FixedLocator\n",
      "  plt.close()\n"
     ]
    }
   ],
   "source": [
    "importlib.reload(clas)\n",
    "\n",
    "# Get source and destination path + create destintation folder if it does not exist.\n",
    "src_path, dst_path = fh.gen_paths(pth=data_path, src_fldr='epoched_movement_aligned', dst_fldr='classification_figs')\n",
    "\n",
    "ts_list_dist = [0.6, 0.8, 0.6, 1.1, 0.4, 1.1, 1.0, 0.7, 0.4, 0.3]\n",
    "ts_list_dir = [0.0, 0.2, 0.4, 0.3, 0.2, 0.4, 0.5, 0.2, 0.2, 0.3]\n",
    "\n",
    "\n",
    "\n",
    "clas.get_confusion_matrix(src=src_path, dst=dst_path, sbj_list=subjects, ts_of_interest=ts_list_dist, n_timepoints=1, condition='distance')\n",
    "\n",
    "clas.get_confusion_matrix(src=src_path, dst=dst_path, sbj_list=subjects, ts_of_interest=ts_list_dir, n_timepoints=1, condition='direction')\n",
    "\n",
    "# clas.get_confusion_matrix(src=src_path, dst=dst_path, sbj_list=subjects, ts_of_interest=ts, n_timepoints=6, condition='distance')\n",
    "\n",
    "# clas.get_confusion_matrix(src=src_path, dst=dst_path, sbj_list=subjects, ts_of_interest=ts, n_timepoints=6, condition='direction')\n",
    "\n"
   ],
   "metadata": {
    "collapsed": false,
    "pycharm": {
     "name": "#%%\n"
    }
   }
  },
  {
   "cell_type": "code",
   "execution_count": null,
   "outputs": [],
   "source": [],
   "metadata": {
    "collapsed": false,
    "pycharm": {
     "name": "#%%\n"
    }
   }
  },
  {
   "cell_type": "markdown",
   "source": [
    "# 7. Experimental single  channel classification"
   ],
   "metadata": {
    "collapsed": false,
    "pycharm": {
     "name": "#%% md\n"
    }
   }
  },
  {
   "cell_type": "code",
   "execution_count": 3,
   "outputs": [
    {
     "name": "stdout",
     "output_type": "stream",
     "text": [
      "Classifying cue-aligned for subject A01\n",
      "Measuring timestamp 70/70259, 1)(259, 1)(259, 1)(259, 1)(259, 1)(259, 1)(259, 1)(259, 1)(259, 1)(259, 1)(259, 1)(259, 1)(259, 1)(259, 1)(259, 1)(259, 1)(259, 1)(259, 1)(259, 1)(259, 1)(259, 1)(259, 1)(259, 1)(259, 1)(259, 1)(259, 1)(259, 1)(259, 1)(259, 1)(259, 1)(259, 1)(259, 1)(259, 1)(259, 1)(259, 1)(259, 1)(259, 1)(259, 1)(259, 1)(259, 1)(259, 1)(259, 1)(259, 1)(259, 1)(259, 1)(259, 1)(259, 1)(259, 1)(259, 1)(259, 1)(259, 1)(259, 1)(259, 1)(259, 1)(259, 1)(259, 1)(259, 1)(259, 1)(259, 1)(259, 1)(259, 1)(259, 1)(259, 1)(259, 1)(259, 1)(259, 1)(259, 1)(259, 1)(259, 1)(259, 1)(259, 1)(259, 1)(259, 1)(259, 1)(259, 1)(259, 1)(259, 1)(259, 1)(259, 1)(259, 1)(259, 1)(259, 1)(259, 1)(259, 1)(259, 1)(259, 1)(259, 1)(259, 1)(259, 1)(259, 1)(259, 1)(259, 1)(259, 1)(259, 1)(259, 1)(259, 1)(259, 1)(259, 1)(259, 1)(259, 1)(259, 1)(259, 1)(259, 1)(259, 1)(259, 1)(259, 1)(259, 1)(259, 1)(259, 1)(259, 1)(259, 1)(259, 1)(259, 1)(259, 1)(259, 1)(259, 1)(259, 1)(259, 1)(259, 1)(259, 1)(259, 1)(259, 1)(259, 1)(259, 1)(259, 1)Measuring timestamp 34/70(259, 1)(259, 1)(259, 1)(259, 1)(259, 1)(259, 1)(259, 1)(259, 1)(259, 1)(259, 1)(259, 1)(259, 1)(259, 1)(259, 1)(259, 1)(259, 1)(259, 1)(259, 1)(259, 1)(259, 1)(259, 1)(259, 1)(259, 1)(259, 1)(259, 1)(259, 1)(259, 1)(259, 1)(259, 1)(259, 1)(259, 1)(259, 1)(259, 1)(259, 1)(259, 1)(259, 1)(259, 1)(259, 1)(259, 1)(259, 1)(259, 1)(259, 1)(259, 1)(259, 1)(259, 1)(259, 1)(259, 1)(259, 1)(259, 1)(259, 1)(259, 1)(259, 1)(259, 1)(259, 1)(259, 1)(259, 1)(259, 1)(259, 1)(259, 1)(259, 1)(259, 1)(259, 1)(259, 1)(259, 1)(259, 1)(259, 1)(259, 1)(259, 1)(259, 1)(259, 1)(259, 1)(259, 1)(259, 1)(259, 1)(259, 1)(259, 1)(259, 1)(259, 1)(259, 1)(259, 1)(259, 1)(259, 1)(259, 1)(259, 1)(259, 1)(259, 1)(259, 1)(259, 1)(259, 1)(259, 1)(259, 1)(259, 1)(259, 1)(259, 1)(259, 1)(259, 1)(259, 1)(259, 1)(259, 1)(259, 1)(259, 1)(259, 1)(259, 1)(259, 1)(259, 1)(259, 1)(259, 1)(259, 1)Measuring timestamp 62/70(259, 1)(259, 1)(259, 1)(259, 1)(259, 1)(259, 1)(259, 1)(259, 1)Measuring timestamp 64/70(259, 1)(259, 1)(259, 1)(259, 1)(259, 1)(259, 1)(259, 1)Measuring timestamp 66/70(259, 1)(259, 1)(259, 1)(259, 1)(259, 1)(259, 1)(259, 1)(259, 1)(259, 1)(259, 1)(259, 1)(259, 1)(259, 1)(259, 1)(259, 1)\n",
      "Classifying cue-aligned for subject A02\n",
      "Measuring timestamp 70/70313, 1)(313, 1)(313, 1)(313, 1)(313, 1)(313, 1)(313, 1)(313, 1)(313, 1)(313, 1)(313, 1)(313, 1)(313, 1)(313, 1)(313, 1)(313, 1)(313, 1)(313, 1)(313, 1)(313, 1)(313, 1)(313, 1)Measuring timestamp 7/70(313, 1)(313, 1)(313, 1)(313, 1)(313, 1)(313, 1)(313, 1)(313, 1)(313, 1)(313, 1)(313, 1)(313, 1)(313, 1)(313, 1)(313, 1)(313, 1)(313, 1)(313, 1)(313, 1)(313, 1)(313, 1)(313, 1)(313, 1)(313, 1)(313, 1)(313, 1)(313, 1)(313, 1)(313, 1)(313, 1)(313, 1)(313, 1)(313, 1)(313, 1)(313, 1)(313, 1)(313, 1)(313, 1)Measuring timestamp 17/70(313, 1)(313, 1)(313, 1)(313, 1)(313, 1)(313, 1)(313, 1)(313, 1)(313, 1)(313, 1)(313, 1)(313, 1)(313, 1)(313, 1)(313, 1)(313, 1)(313, 1)(313, 1)(313, 1)(313, 1)(313, 1)(313, 1)(313, 1)(313, 1)(313, 1)(313, 1)(313, 1)(313, 1)(313, 1)(313, 1)(313, 1)(313, 1)(313, 1)(313, 1)(313, 1)(313, 1)(313, 1)(313, 1)(313, 1)(313, 1)(313, 1)(313, 1)(313, 1)(313, 1)(313, 1)(313, 1)(313, 1)(313, 1)(313, 1)(313, 1)(313, 1)(313, 1)(313, 1)(313, 1)(313, 1)(313, 1)(313, 1)(313, 1)(313, 1)(313, 1)(313, 1)(313, 1)(313, 1)(313, 1)(313, 1)(313, 1)(313, 1)(313, 1)(313, 1)(313, 1)(313, 1)(313, 1)(313, 1)(313, 1)(313, 1)(313, 1)(313, 1)(313, 1)(313, 1)(313, 1)(313, 1)(313, 1)(313, 1)(313, 1)(313, 1)(313, 1)(313, 1)(313, 1)(313, 1)(313, 1)(313, 1)(313, 1)(313, 1)(313, 1)(313, 1)(313, 1)(313, 1)(313, 1)(313, 1)(313, 1)(313, 1)(313, 1)(313, 1)(313, 1)(313, 1)(313, 1)(313, 1)(313, 1)(313, 1)(313, 1)(313, 1)(313, 1)(313, 1)(313, 1)(313, 1)(313, 1)(313, 1)(313, 1)(313, 1)(313, 1)(313, 1)(313, 1)(313, 1)(313, 1)(313, 1)(313, 1)(313, 1)(313, 1)(313, 1)(313, 1)(313, 1)(313, 1)(313, 1)(313, 1)(313, 1)(313, 1)(313, 1)(313, 1)(313, 1)(313, 1)(313, 1)(313, 1)(313, 1)(313, 1)(313, 1)(313, 1)(313, 1)(313, 1)(313, 1)(313, 1)(313, 1)(313, 1)(313, 1)(313, 1)(313, 1)(313, 1)(313, 1)(313, 1)(313, 1)(313, 1)(313, 1)(313, 1)(313, 1)(313, 1)(313, 1)(313, 1)(313, 1)(313, 1)(313, 1)(313, 1)(313, 1)(313, 1)(313, 1)(313, 1)(313, 1)(313, 1)(313, 1)(313, 1)Measuring timestamp 63/70(313, 1)(313, 1)(313, 1)(313, 1)(313, 1)(313, 1)(313, 1)(313, 1)(313, 1)(313, 1)(313, 1)(313, 1)(313, 1)(313, 1)(313, 1)(313, 1)(313, 1)(313, 1)(313, 1)(313, 1)(313, 1)(313, 1)(313, 1)(313, 1)(313, 1)(313, 1)(313, 1)\n",
      "Classifying cue-aligned for subject A03\n",
      "Measuring timestamp 70/70281, 1)(281, 1)(281, 1)(281, 1)(281, 1)(281, 1)(281, 1)(281, 1)(281, 1)(281, 1)(281, 1)(281, 1)(281, 1)(281, 1)(281, 1)(281, 1)(281, 1)(281, 1)(281, 1)(281, 1)(281, 1)(281, 1)(281, 1)(281, 1)(281, 1)(281, 1)(281, 1)(281, 1)(281, 1)(281, 1)(281, 1)(281, 1)(281, 1)Measuring timestamp 10/70(281, 1)(281, 1)(281, 1)(281, 1)(281, 1)(281, 1)(281, 1)(281, 1)(281, 1)(281, 1)(281, 1)(281, 1)(281, 1)(281, 1)(281, 1)(281, 1)(281, 1)(281, 1)(281, 1)(281, 1)(281, 1)(281, 1)(281, 1)(281, 1)(281, 1)(281, 1)(281, 1)(281, 1)(281, 1)(281, 1)(281, 1)(281, 1)(281, 1)(281, 1)(281, 1)(281, 1)(281, 1)(281, 1)(281, 1)(281, 1)(281, 1)(281, 1)(281, 1)(281, 1)(281, 1)(281, 1)(281, 1)(281, 1)(281, 1)(281, 1)(281, 1)(281, 1)(281, 1)(281, 1)(281, 1)(281, 1)(281, 1)(281, 1)(281, 1)(281, 1)(281, 1)(281, 1)(281, 1)(281, 1)(281, 1)(281, 1)(281, 1)(281, 1)(281, 1)(281, 1)(281, 1)(281, 1)(281, 1)(281, 1)(281, 1)(281, 1)(281, 1)(281, 1)(281, 1)(281, 1)(281, 1)(281, 1)(281, 1)(281, 1)(281, 1)(281, 1)(281, 1)(281, 1)(281, 1)(281, 1)(281, 1)(281, 1)(281, 1)(281, 1)(281, 1)(281, 1)(281, 1)(281, 1)(281, 1)(281, 1)(281, 1)(281, 1)(281, 1)(281, 1)(281, 1)(281, 1)(281, 1)(281, 1)(281, 1)(281, 1)(281, 1)(281, 1)(281, 1)(281, 1)(281, 1)(281, 1)(281, 1)(281, 1)(281, 1)(281, 1)(281, 1)(281, 1)(281, 1)(281, 1)(281, 1)(281, 1)(281, 1)(281, 1)(281, 1)(281, 1)(281, 1)(281, 1)(281, 1)(281, 1)(281, 1)(281, 1)(281, 1)(281, 1)(281, 1)(281, 1)(281, 1)(281, 1)(281, 1)(281, 1)(281, 1)(281, 1)(281, 1)(281, 1)(281, 1)(281, 1)(281, 1)(281, 1)(281, 1)(281, 1)(281, 1)(281, 1)(281, 1)(281, 1)(281, 1)(281, 1)(281, 1)Measuring timestamp 54/70(281, 1)(281, 1)(281, 1)(281, 1)(281, 1)(281, 1)(281, 1)(281, 1)(281, 1)(281, 1)(281, 1)(281, 1)(281, 1)(281, 1)(281, 1)(281, 1)(281, 1)(281, 1)(281, 1)(281, 1)(281, 1)(281, 1)(281, 1)(281, 1)(281, 1)(281, 1)(281, 1)(281, 1)(281, 1)(281, 1)(281, 1)(281, 1)(281, 1)(281, 1)(281, 1)(281, 1)(281, 1)(281, 1)(281, 1)(281, 1)(281, 1)(281, 1)(281, 1)(281, 1)(281, 1)(281, 1)(281, 1)(281, 1)(281, 1)(281, 1)(281, 1)(281, 1)(281, 1)(281, 1)(281, 1)(281, 1)(281, 1)(281, 1)(281, 1)\n",
      "Classifying cue-aligned for subject A04\n",
      "Measuring timestamp 70/70311, 1)(311, 1)(311, 1)(311, 1)(311, 1)(311, 1)(311, 1)(311, 1)(311, 1)(311, 1)(311, 1)(311, 1)(311, 1)(311, 1)(311, 1)(311, 1)(311, 1)(311, 1)(311, 1)(311, 1)(311, 1)(311, 1)(311, 1)Measuring timestamp 8/70(311, 1)(311, 1)(311, 1)(311, 1)(311, 1)(311, 1)(311, 1)(311, 1)(311, 1)(311, 1)(311, 1)(311, 1)(311, 1)(311, 1)(311, 1)(311, 1)(311, 1)(311, 1)(311, 1)(311, 1)(311, 1)(311, 1)(311, 1)(311, 1)(311, 1)Measuring timestamp 15/70(311, 1)(311, 1)(311, 1)(311, 1)(311, 1)(311, 1)(311, 1)(311, 1)(311, 1)(311, 1)(311, 1)(311, 1)(311, 1)(311, 1)(311, 1)(311, 1)(311, 1)(311, 1)(311, 1)(311, 1)(311, 1)(311, 1)(311, 1)(311, 1)(311, 1)(311, 1)(311, 1)(311, 1)(311, 1)(311, 1)(311, 1)(311, 1)(311, 1)(311, 1)(311, 1)(311, 1)(311, 1)(311, 1)(311, 1)(311, 1)(311, 1)(311, 1)(311, 1)(311, 1)(311, 1)(311, 1)(311, 1)(311, 1)(311, 1)(311, 1)(311, 1)(311, 1)(311, 1)(311, 1)Measuring timestamp 30/70(311, 1)(311, 1)(311, 1)(311, 1)(311, 1)(311, 1)(311, 1)(311, 1)(311, 1)(311, 1)(311, 1)(311, 1)(311, 1)(311, 1)(311, 1)(311, 1)(311, 1)(311, 1)(311, 1)(311, 1)(311, 1)(311, 1)(311, 1)(311, 1)(311, 1)(311, 1)(311, 1)(311, 1)(311, 1)(311, 1)(311, 1)(311, 1)(311, 1)(311, 1)(311, 1)(311, 1)(311, 1)(311, 1)(311, 1)(311, 1)(311, 1)(311, 1)(311, 1)(311, 1)(311, 1)(311, 1)(311, 1)(311, 1)(311, 1)(311, 1)(311, 1)(311, 1)(311, 1)(311, 1)(311, 1)(311, 1)(311, 1)(311, 1)(311, 1)(311, 1)(311, 1)(311, 1)(311, 1)(311, 1)(311, 1)(311, 1)(311, 1)(311, 1)(311, 1)(311, 1)(311, 1)(311, 1)(311, 1)(311, 1)(311, 1)(311, 1)(311, 1)(311, 1)(311, 1)(311, 1)(311, 1)(311, 1)(311, 1)(311, 1)(311, 1)(311, 1)(311, 1)(311, 1)(311, 1)(311, 1)(311, 1)(311, 1)(311, 1)(311, 1)(311, 1)(311, 1)(311, 1)(311, 1)(311, 1)(311, 1)(311, 1)(311, 1)(311, 1)(311, 1)(311, 1)(311, 1)(311, 1)(311, 1)(311, 1)(311, 1)(311, 1)(311, 1)(311, 1)(311, 1)(311, 1)(311, 1)(311, 1)(311, 1)(311, 1)(311, 1)(311, 1)(311, 1)(311, 1)(311, 1)(311, 1)(311, 1)(311, 1)(311, 1)(311, 1)(311, 1)(311, 1)(311, 1)(311, 1)(311, 1)(311, 1)(311, 1)(311, 1)(311, 1)(311, 1)(311, 1)(311, 1)(311, 1)(311, 1)(311, 1)(311, 1)(311, 1)(311, 1)(311, 1)(311, 1)(311, 1)(311, 1)(311, 1)(311, 1)(311, 1)\n",
      "Classifying cue-aligned for subject A05\n",
      "Measuring timestamp 70/70222, 1)(222, 1)(222, 1)(222, 1)(222, 1)(222, 1)(222, 1)(222, 1)(222, 1)(222, 1)(222, 1)(222, 1)(222, 1)(222, 1)(222, 1)(222, 1)(222, 1)(222, 1)(222, 1)(222, 1)(222, 1)(222, 1)(222, 1)(222, 1)(222, 1)(222, 1)(222, 1)(222, 1)(222, 1)(222, 1)(222, 1)(222, 1)(222, 1)(222, 1)(222, 1)(222, 1)(222, 1)(222, 1)(222, 1)(222, 1)(222, 1)(222, 1)(222, 1)(222, 1)(222, 1)(222, 1)(222, 1)(222, 1)(222, 1)(222, 1)(222, 1)(222, 1)(222, 1)(222, 1)(222, 1)(222, 1)(222, 1)(222, 1)(222, 1)(222, 1)(222, 1)(222, 1)(222, 1)(222, 1)(222, 1)(222, 1)(222, 1)(222, 1)(222, 1)(222, 1)(222, 1)(222, 1)(222, 1)(222, 1)(222, 1)(222, 1)(222, 1)(222, 1)(222, 1)(222, 1)(222, 1)(222, 1)(222, 1)(222, 1)(222, 1)(222, 1)(222, 1)(222, 1)(222, 1)(222, 1)(222, 1)(222, 1)(222, 1)Measuring timestamp 26/70(222, 1)(222, 1)(222, 1)(222, 1)(222, 1)(222, 1)(222, 1)(222, 1)(222, 1)(222, 1)(222, 1)(222, 1)(222, 1)(222, 1)(222, 1)(222, 1)(222, 1)(222, 1)(222, 1)(222, 1)(222, 1)(222, 1)(222, 1)(222, 1)(222, 1)(222, 1)(222, 1)(222, 1)(222, 1)(222, 1)(222, 1)(222, 1)(222, 1)(222, 1)(222, 1)(222, 1)(222, 1)(222, 1)(222, 1)(222, 1)(222, 1)(222, 1)(222, 1)(222, 1)(222, 1)(222, 1)(222, 1)(222, 1)(222, 1)(222, 1)(222, 1)(222, 1)(222, 1)(222, 1)(222, 1)(222, 1)(222, 1)(222, 1)(222, 1)(222, 1)(222, 1)(222, 1)(222, 1)(222, 1)(222, 1)(222, 1)(222, 1)(222, 1)(222, 1)(222, 1)(222, 1)(222, 1)(222, 1)(222, 1)(222, 1)(222, 1)(222, 1)(222, 1)(222, 1)(222, 1)(222, 1)(222, 1)(222, 1)(222, 1)(222, 1)(222, 1)(222, 1)(222, 1)(222, 1)(222, 1)(222, 1)(222, 1)(222, 1)(222, 1)(222, 1)(222, 1)(222, 1)(222, 1)(222, 1)(222, 1)(222, 1)(222, 1)(222, 1)(222, 1)(222, 1)(222, 1)(222, 1)(222, 1)(222, 1)(222, 1)(222, 1)(222, 1)(222, 1)(222, 1)(222, 1)(222, 1)(222, 1)(222, 1)(222, 1)(222, 1)(222, 1)(222, 1)(222, 1)(222, 1)(222, 1)(222, 1)(222, 1)(222, 1)(222, 1)(222, 1)(222, 1)(222, 1)(222, 1)(222, 1)(222, 1)(222, 1)(222, 1)(222, 1)(222, 1)(222, 1)(222, 1)(222, 1)(222, 1)(222, 1)(222, 1)(222, 1)(222, 1)(222, 1)(222, 1)(222, 1)(222, 1)(222, 1)(222, 1)(222, 1)(222, 1)(222, 1)(222, 1)(222, 1)(222, 1)(222, 1)(222, 1)(222, 1)(222, 1)(222, 1)(222, 1)(222, 1)(222, 1)(222, 1)(222, 1)(222, 1)(222, 1)(222, 1)(222, 1)\n",
      "Classifying cue-aligned for subject A06\n",
      "(282, 1)\r timestamp 69/70282, 1)(282, 1)(282, 1)(282, 1)(282, 1)(282, 1)(282, 1)(282, 1)(282, 1)(282, 1)(282, 1)Measuring timestamp 4/70(282, 1)(282, 1)(282, 1)(282, 1)(282, 1)(282, 1)(282, 1)(282, 1)(282, 1)(282, 1)(282, 1)(282, 1)(282, 1)(282, 1)(282, 1)(282, 1)(282, 1)(282, 1)(282, 1)(282, 1)(282, 1)(282, 1)(282, 1)(282, 1)(282, 1)(282, 1)(282, 1)(282, 1)(282, 1)(282, 1)(282, 1)(282, 1)(282, 1)(282, 1)(282, 1)(282, 1)(282, 1)(282, 1)(282, 1)(282, 1)(282, 1)(282, 1)(282, 1)(282, 1)(282, 1)(282, 1)(282, 1)(282, 1)(282, 1)(282, 1)(282, 1)(282, 1)(282, 1)(282, 1)(282, 1)(282, 1)(282, 1)(282, 1)(282, 1)(282, 1)(282, 1)(282, 1)(282, 1)(282, 1)(282, 1)(282, 1)(282, 1)(282, 1)(282, 1)(282, 1)(282, 1)(282, 1)(282, 1)(282, 1)(282, 1)Measuring timestamp 25/70(282, 1)(282, 1)(282, 1)(282, 1)(282, 1)(282, 1)(282, 1)(282, 1)(282, 1)(282, 1)(282, 1)(282, 1)(282, 1)(282, 1)(282, 1)(282, 1)(282, 1)(282, 1)(282, 1)(282, 1)(282, 1)(282, 1)(282, 1)Measuring timestamp 32/70(282, 1)(282, 1)(282, 1)(282, 1)(282, 1)(282, 1)(282, 1)(282, 1)(282, 1)(282, 1)(282, 1)(282, 1)(282, 1)(282, 1)(282, 1)(282, 1)(282, 1)(282, 1)Measuring timestamp 37/70(282, 1)(282, 1)(282, 1)(282, 1)(282, 1)(282, 1)(282, 1)(282, 1)(282, 1)(282, 1)(282, 1)(282, 1)(282, 1)(282, 1)(282, 1)(282, 1)(282, 1)(282, 1)(282, 1)(282, 1)(282, 1)(282, 1)(282, 1)(282, 1)(282, 1)(282, 1)(282, 1)(282, 1)(282, 1)(282, 1)(282, 1)(282, 1)(282, 1)(282, 1)(282, 1)(282, 1)(282, 1)(282, 1)(282, 1)(282, 1)(282, 1)(282, 1)(282, 1)(282, 1)(282, 1)(282, 1)(282, 1)(282, 1)(282, 1)(282, 1)(282, 1)(282, 1)(282, 1)(282, 1)(282, 1)(282, 1)(282, 1)(282, 1)(282, 1)(282, 1)(282, 1)(282, 1)(282, 1)(282, 1)(282, 1)(282, 1)(282, 1)(282, 1)(282, 1)(282, 1)(282, 1)(282, 1)(282, 1)(282, 1)(282, 1)(282, 1)(282, 1)(282, 1)(282, 1)(282, 1)(282, 1)(282, 1)(282, 1)(282, 1)(282, 1)(282, 1)(282, 1)(282, 1)(282, 1)(282, 1)(282, 1)(282, 1)(282, 1)(282, 1)(282, 1)(282, 1)(282, 1)(282, 1)(282, 1)(282, 1)(282, 1)(282, 1)(282, 1)(282, 1)(282, 1)(282, 1)(282, 1)(282, 1)(282, 1)(282, 1)(282, 1)(282, 1)(282, 1)(282, 1)(282, 1)(282, 1)(282, 1)(282, 1)(282, 1)(282, 1)(282, 1)Measuring timestamp 70/70\n",
      "Classifying cue-aligned for subject A07\n",
      "Measuring timestamp 70/70274, 1)(274, 1)(274, 1)(274, 1)(274, 1)(274, 1)(274, 1)(274, 1)(274, 1)(274, 1)(274, 1)(274, 1)(274, 1)(274, 1)Measuring timestamp 5/70(274, 1)(274, 1)(274, 1)(274, 1)(274, 1)(274, 1)(274, 1)(274, 1)(274, 1)(274, 1)(274, 1)(274, 1)(274, 1)(274, 1)(274, 1)(274, 1)(274, 1)(274, 1)Measuring timestamp 10/70(274, 1)(274, 1)(274, 1)(274, 1)(274, 1)(274, 1)(274, 1)(274, 1)(274, 1)(274, 1)(274, 1)(274, 1)(274, 1)(274, 1)(274, 1)(274, 1)(274, 1)(274, 1)(274, 1)(274, 1)(274, 1)(274, 1)(274, 1)(274, 1)(274, 1)(274, 1)(274, 1)(274, 1)(274, 1)(274, 1)(274, 1)(274, 1)(274, 1)(274, 1)Measuring timestamp 20/70(274, 1)(274, 1)(274, 1)(274, 1)(274, 1)(274, 1)(274, 1)(274, 1)(274, 1)(274, 1)(274, 1)(274, 1)(274, 1)(274, 1)(274, 1)(274, 1)(274, 1)(274, 1)(274, 1)(274, 1)(274, 1)(274, 1)(274, 1)(274, 1)(274, 1)(274, 1)(274, 1)(274, 1)(274, 1)(274, 1)(274, 1)(274, 1)(274, 1)Measuring timestamp 29/70(274, 1)(274, 1)(274, 1)(274, 1)(274, 1)(274, 1)(274, 1)(274, 1)(274, 1)(274, 1)(274, 1)(274, 1)(274, 1)(274, 1)(274, 1)(274, 1)(274, 1)(274, 1)(274, 1)(274, 1)(274, 1)(274, 1)(274, 1)(274, 1)(274, 1)(274, 1)(274, 1)(274, 1)(274, 1)(274, 1)(274, 1)(274, 1)(274, 1)(274, 1)(274, 1)(274, 1)(274, 1)(274, 1)(274, 1)(274, 1)(274, 1)(274, 1)(274, 1)(274, 1)(274, 1)(274, 1)(274, 1)(274, 1)(274, 1)(274, 1)(274, 1)(274, 1)(274, 1)(274, 1)(274, 1)(274, 1)(274, 1)(274, 1)(274, 1)(274, 1)(274, 1)(274, 1)(274, 1)(274, 1)(274, 1)(274, 1)(274, 1)(274, 1)(274, 1)(274, 1)(274, 1)(274, 1)(274, 1)(274, 1)(274, 1)(274, 1)(274, 1)Measuring timestamp 50/70(274, 1)(274, 1)(274, 1)(274, 1)(274, 1)(274, 1)(274, 1)(274, 1)(274, 1)(274, 1)(274, 1)(274, 1)(274, 1)(274, 1)(274, 1)(274, 1)(274, 1)(274, 1)(274, 1)(274, 1)(274, 1)(274, 1)(274, 1)(274, 1)(274, 1)(274, 1)(274, 1)(274, 1)(274, 1)(274, 1)(274, 1)(274, 1)(274, 1)(274, 1)(274, 1)(274, 1)(274, 1)Measuring timestamp 60/70(274, 1)(274, 1)(274, 1)(274, 1)(274, 1)(274, 1)(274, 1)(274, 1)(274, 1)(274, 1)(274, 1)(274, 1)(274, 1)(274, 1)(274, 1)(274, 1)(274, 1)(274, 1)(274, 1)(274, 1)(274, 1)(274, 1)(274, 1)(274, 1)Measuring timestamp 67/70(274, 1)(274, 1)(274, 1)(274, 1)(274, 1)(274, 1)(274, 1)(274, 1)(274, 1)(274, 1)(274, 1)\n",
      "Classifying cue-aligned for subject A08\n",
      "Measuring timestamp 70/70278, 1)(278, 1)(278, 1)(278, 1)(278, 1)(278, 1)(278, 1)(278, 1)(278, 1)(278, 1)(278, 1)(278, 1)(278, 1)(278, 1)(278, 1)(278, 1)(278, 1)(278, 1)(278, 1)(278, 1)(278, 1)(278, 1)(278, 1)(278, 1)(278, 1)(278, 1)(278, 1)(278, 1)(278, 1)(278, 1)(278, 1)(278, 1)(278, 1)(278, 1)(278, 1)(278, 1)(278, 1)(278, 1)(278, 1)(278, 1)(278, 1)(278, 1)(278, 1)(278, 1)(278, 1)(278, 1)(278, 1)(278, 1)(278, 1)(278, 1)(278, 1)(278, 1)(278, 1)(278, 1)(278, 1)(278, 1)(278, 1)(278, 1)(278, 1)(278, 1)(278, 1)(278, 1)(278, 1)(278, 1)(278, 1)(278, 1)(278, 1)(278, 1)(278, 1)(278, 1)(278, 1)Measuring timestamp 21/70(278, 1)(278, 1)(278, 1)(278, 1)(278, 1)(278, 1)(278, 1)(278, 1)(278, 1)Measuring timestamp 24/70(278, 1)(278, 1)(278, 1)(278, 1)(278, 1)(278, 1)(278, 1)(278, 1)(278, 1)(278, 1)(278, 1)(278, 1)(278, 1)(278, 1)(278, 1)(278, 1)(278, 1)(278, 1)(278, 1)(278, 1)(278, 1)(278, 1)(278, 1)(278, 1)(278, 1)(278, 1)(278, 1)(278, 1)(278, 1)(278, 1)(278, 1)(278, 1)(278, 1)(278, 1)(278, 1)(278, 1)(278, 1)(278, 1)(278, 1)(278, 1)(278, 1)(278, 1)(278, 1)(278, 1)(278, 1)(278, 1)(278, 1)(278, 1)(278, 1)(278, 1)(278, 1)(278, 1)(278, 1)(278, 1)(278, 1)(278, 1)(278, 1)(278, 1)(278, 1)(278, 1)Measuring timestamp 41/70(278, 1)(278, 1)(278, 1)(278, 1)(278, 1)(278, 1)(278, 1)Measuring timestamp 43/70(278, 1)(278, 1)(278, 1)(278, 1)(278, 1)(278, 1)(278, 1)(278, 1)(278, 1)(278, 1)(278, 1)(278, 1)(278, 1)(278, 1)(278, 1)(278, 1)(278, 1)(278, 1)(278, 1)(278, 1)(278, 1)(278, 1)(278, 1)(278, 1)(278, 1)(278, 1)(278, 1)(278, 1)(278, 1)(278, 1)(278, 1)(278, 1)(278, 1)(278, 1)(278, 1)(278, 1)(278, 1)(278, 1)(278, 1)(278, 1)Measuring timestamp 54/70(278, 1)(278, 1)(278, 1)(278, 1)(278, 1)(278, 1)(278, 1)(278, 1)(278, 1)(278, 1)(278, 1)(278, 1)(278, 1)Measuring timestamp 58/70(278, 1)(278, 1)(278, 1)(278, 1)(278, 1)(278, 1)(278, 1)(278, 1)(278, 1)(278, 1)(278, 1)(278, 1)(278, 1)(278, 1)(278, 1)(278, 1)(278, 1)(278, 1)(278, 1)(278, 1)(278, 1)(278, 1)(278, 1)(278, 1)(278, 1)(278, 1)(278, 1)(278, 1)(278, 1)(278, 1)(278, 1)(278, 1)(278, 1)(278, 1)(278, 1)(278, 1)(278, 1)(278, 1)(278, 1)(278, 1)(278, 1)(278, 1)(278, 1)(278, 1)(278, 1)\n",
      "Classifying cue-aligned for subject A09\n",
      "Measuring timestamp 70/70306, 1)(306, 1)(306, 1)(306, 1)(306, 1)(306, 1)(306, 1)(306, 1)(306, 1)(306, 1)(306, 1)(306, 1)(306, 1)(306, 1)(306, 1)(306, 1)(306, 1)(306, 1)(306, 1)(306, 1)(306, 1)(306, 1)(306, 1)(306, 1)(306, 1)(306, 1)(306, 1)(306, 1)(306, 1)(306, 1)(306, 1)(306, 1)(306, 1)(306, 1)(306, 1)(306, 1)(306, 1)(306, 1)(306, 1)(306, 1)(306, 1)(306, 1)(306, 1)(306, 1)(306, 1)(306, 1)(306, 1)(306, 1)(306, 1)(306, 1)(306, 1)(306, 1)(306, 1)(306, 1)(306, 1)(306, 1)(306, 1)(306, 1)(306, 1)(306, 1)Measuring timestamp 18/70(306, 1)(306, 1)(306, 1)(306, 1)(306, 1)(306, 1)(306, 1)(306, 1)(306, 1)(306, 1)(306, 1)(306, 1)(306, 1)(306, 1)(306, 1)(306, 1)(306, 1)(306, 1)(306, 1)(306, 1)(306, 1)(306, 1)(306, 1)(306, 1)(306, 1)(306, 1)(306, 1)(306, 1)(306, 1)(306, 1)(306, 1)(306, 1)(306, 1)(306, 1)(306, 1)(306, 1)(306, 1)(306, 1)(306, 1)(306, 1)(306, 1)(306, 1)(306, 1)(306, 1)(306, 1)(306, 1)(306, 1)(306, 1)(306, 1)(306, 1)(306, 1)(306, 1)(306, 1)(306, 1)(306, 1)(306, 1)(306, 1)(306, 1)(306, 1)(306, 1)(306, 1)(306, 1)(306, 1)(306, 1)(306, 1)(306, 1)(306, 1)(306, 1)(306, 1)(306, 1)(306, 1)(306, 1)(306, 1)(306, 1)(306, 1)(306, 1)(306, 1)Measuring timestamp 39/70(306, 1)(306, 1)(306, 1)(306, 1)(306, 1)(306, 1)(306, 1)(306, 1)(306, 1)(306, 1)(306, 1)(306, 1)(306, 1)(306, 1)(306, 1)(306, 1)(306, 1)(306, 1)(306, 1)(306, 1)(306, 1)(306, 1)(306, 1)(306, 1)(306, 1)(306, 1)(306, 1)(306, 1)(306, 1)(306, 1)(306, 1)(306, 1)(306, 1)(306, 1)(306, 1)(306, 1)(306, 1)(306, 1)(306, 1)(306, 1)(306, 1)(306, 1)(306, 1)(306, 1)(306, 1)(306, 1)(306, 1)(306, 1)(306, 1)(306, 1)(306, 1)(306, 1)(306, 1)(306, 1)(306, 1)(306, 1)(306, 1)(306, 1)(306, 1)(306, 1)(306, 1)(306, 1)(306, 1)(306, 1)(306, 1)(306, 1)(306, 1)(306, 1)(306, 1)(306, 1)(306, 1)(306, 1)(306, 1)(306, 1)(306, 1)(306, 1)(306, 1)(306, 1)(306, 1)(306, 1)(306, 1)(306, 1)(306, 1)(306, 1)(306, 1)(306, 1)(306, 1)(306, 1)(306, 1)(306, 1)(306, 1)(306, 1)(306, 1)(306, 1)(306, 1)(306, 1)(306, 1)(306, 1)(306, 1)(306, 1)(306, 1)(306, 1)(306, 1)(306, 1)(306, 1)(306, 1)(306, 1)(306, 1)(306, 1)(306, 1)(306, 1)(306, 1)(306, 1)(306, 1)(306, 1)(306, 1)(306, 1)(306, 1)(306, 1)(306, 1)(306, 1)(306, 1)\n",
      "Classifying cue-aligned for subject A10\n",
      "Measuring timestamp 70/70279, 1)(279, 1)(279, 1)(279, 1)(279, 1)(279, 1)(279, 1)(279, 1)(279, 1)(279, 1)(279, 1)(279, 1)(279, 1)(279, 1)(279, 1)(279, 1)(279, 1)(279, 1)(279, 1)(279, 1)(279, 1)(279, 1)(279, 1)(279, 1)(279, 1)(279, 1)(279, 1)(279, 1)(279, 1)(279, 1)(279, 1)(279, 1)(279, 1)(279, 1)(279, 1)(279, 1)(279, 1)(279, 1)(279, 1)(279, 1)(279, 1)(279, 1)(279, 1)(279, 1)(279, 1)(279, 1)(279, 1)(279, 1)(279, 1)(279, 1)(279, 1)(279, 1)(279, 1)(279, 1)(279, 1)(279, 1)(279, 1)(279, 1)(279, 1)(279, 1)(279, 1)(279, 1)(279, 1)(279, 1)(279, 1)(279, 1)(279, 1)(279, 1)(279, 1)(279, 1)(279, 1)(279, 1)(279, 1)(279, 1)(279, 1)(279, 1)(279, 1)(279, 1)(279, 1)(279, 1)(279, 1)(279, 1)(279, 1)(279, 1)(279, 1)(279, 1)(279, 1)(279, 1)(279, 1)(279, 1)(279, 1)(279, 1)(279, 1)(279, 1)(279, 1)(279, 1)(279, 1)(279, 1)(279, 1)(279, 1)(279, 1)(279, 1)(279, 1)(279, 1)(279, 1)(279, 1)(279, 1)(279, 1)(279, 1)(279, 1)(279, 1)(279, 1)(279, 1)(279, 1)(279, 1)(279, 1)(279, 1)(279, 1)(279, 1)(279, 1)(279, 1)(279, 1)(279, 1)(279, 1)(279, 1)(279, 1)(279, 1)(279, 1)(279, 1)Measuring timestamp 33/70(279, 1)(279, 1)(279, 1)(279, 1)(279, 1)(279, 1)(279, 1)(279, 1)(279, 1)(279, 1)(279, 1)(279, 1)(279, 1)(279, 1)(279, 1)(279, 1)(279, 1)(279, 1)(279, 1)(279, 1)(279, 1)(279, 1)(279, 1)(279, 1)(279, 1)(279, 1)(279, 1)(279, 1)(279, 1)(279, 1)(279, 1)(279, 1)(279, 1)(279, 1)(279, 1)(279, 1)(279, 1)(279, 1)(279, 1)(279, 1)(279, 1)(279, 1)(279, 1)(279, 1)(279, 1)(279, 1)(279, 1)(279, 1)(279, 1)(279, 1)(279, 1)(279, 1)(279, 1)(279, 1)(279, 1)(279, 1)(279, 1)(279, 1)(279, 1)(279, 1)(279, 1)(279, 1)(279, 1)(279, 1)(279, 1)(279, 1)(279, 1)(279, 1)(279, 1)(279, 1)(279, 1)(279, 1)(279, 1)(279, 1)(279, 1)(279, 1)(279, 1)(279, 1)(279, 1)(279, 1)(279, 1)(279, 1)(279, 1)(279, 1)(279, 1)(279, 1)(279, 1)(279, 1)(279, 1)Measuring timestamp 55/70(279, 1)(279, 1)(279, 1)(279, 1)(279, 1)(279, 1)(279, 1)(279, 1)(279, 1)(279, 1)Measuring timestamp 58/70(279, 1)(279, 1)(279, 1)(279, 1)(279, 1)(279, 1)(279, 1)(279, 1)(279, 1)(279, 1)(279, 1)(279, 1)(279, 1)(279, 1)(279, 1)(279, 1)(279, 1)(279, 1)(279, 1)(279, 1)(279, 1)(279, 1)(279, 1)(279, 1)(279, 1)(279, 1)(279, 1)(279, 1)(279, 1)(279, 1)(279, 1)(279, 1)(279, 1)(279, 1)(279, 1)(279, 1)(279, 1)(279, 1)(279, 1)(279, 1)(279, 1)(279, 1)(279, 1)(279, 1)(279, 1)\n",
      "Finished classifying, took me 565 seconds...\n"
     ]
    }
   ],
   "source": [
    "# Get source and destination path + create destintation folder if it does not exist.\n",
    "src_path, dst_path = fh.gen_paths(pth=data_path, src_fldr='2023_03_22_epoched_cue_aligned', dst_fldr='2023_03_22_epoched_cue_aligned')\n",
    "\n",
    "# Iterate over each subject and extract the streams\n",
    "start = time.time()\n",
    "for i, subject in enumerate(subjects):\n",
    "    print(f'Classifying cue-aligned for subject {subject}')\n",
    "\n",
    "    ### Distance\n",
    "    # Classify the epochs for 1 timepoint:\n",
    "    clas.classify_single_channel(src=src_path, dst=dst_path, sbj=subject, condition='distance', n_timepoints=1)\n",
    "\n",
    "print(f'Finished classifying, took me {round(time.time() - start)} seconds...')\n"
   ],
   "metadata": {
    "collapsed": false,
    "pycharm": {
     "name": "#%%\n"
    }
   }
  },
  {
   "cell_type": "markdown",
   "source": [
    "# Helper cell to add 'Condition' column to the classification dataframe\n",
    "Outdated, already added to custom_modules/classification_ptu.py."
   ],
   "metadata": {
    "collapsed": false,
    "pycharm": {
     "name": "#%% md\n"
    }
   }
  },
  {
   "cell_type": "code",
   "execution_count": null,
   "outputs": [],
   "source": [
    "# But first add condition to the dataframe as a helper cell:\n",
    "cond_1 = ['distance'] * 70\n",
    "cond_2 = ['distance'] * 65\n",
    "cond_3 = ['direction'] * 70\n",
    "cond_4 = ['direction'] * 65\n",
    "cond_5 = ['direction_short'] * 70\n",
    "cond_6 = ['direction_short'] * 65\n",
    "cond_7 = ['direction_long'] * 70\n",
    "cond_8 = ['direction_long'] * 65\n",
    "\n",
    "cue_cond = cond_1 + cond_2 + cond_3 + cond_4 + cond_5 + cond_6 + cond_7 + cond_8\n",
    "\n",
    "cue_cond = cue_cond * 10\n",
    "\n",
    "cond_9 = ['distance'] * 55\n",
    "cond_10 = ['distance'] * 50\n",
    "cond_11 = ['direction'] * 55\n",
    "cond_12 = ['direction'] * 50\n",
    "cond_13 = ['direction_short'] * 55\n",
    "cond_14 = ['direction_short'] * 50\n",
    "cond_15 = ['direction_long'] * 55\n",
    "cond_16 = ['direction_long'] * 50\n",
    "\n",
    "mov_cond = cond_9 + cond_10 + cond_11 + cond_12 + cond_13 + cond_14 + cond_15 + cond_16\n",
    "mov_cond = mov_cond * 10\n",
    "conds = cue_cond + mov_cond\n",
    "\n",
    "df = pd.read_csv('dataframes/classification/classification_df.csv', index_col=0)\n",
    "df['Condition'] = conds"
   ],
   "metadata": {
    "collapsed": false,
    "pycharm": {
     "name": "#%%\n"
    }
   }
  },
  {
   "cell_type": "code",
   "execution_count": null,
   "outputs": [],
   "source": [
    "df.to_csv('dataframes/classification/classification_df.csv')"
   ],
   "metadata": {
    "collapsed": false,
    "pycharm": {
     "name": "#%%\n"
    }
   }
  }
 ],
 "metadata": {
  "kernelspec": {
   "display_name": "Python 3",
   "language": "python",
   "name": "python3"
  },
  "language_info": {
   "codemirror_mode": {
    "name": "ipython",
    "version": 2
   },
   "file_extension": ".py",
   "mimetype": "text/x-python",
   "name": "python",
   "nbconvert_exporter": "python",
   "pygments_lexer": "ipython2",
   "version": "2.7.6"
  }
 },
 "nbformat": 4,
 "nbformat_minor": 0
}