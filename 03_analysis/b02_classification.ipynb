{
 "cells": [
  {
   "cell_type": "code",
   "execution_count": null,
   "metadata": {
    "collapsed": true
   },
   "outputs": [],
   "source": [
    "%reset"
   ]
  },
  {
   "cell_type": "markdown",
   "source": [
    "# 1. Imports"
   ],
   "metadata": {
    "collapsed": false,
    "pycharm": {
     "name": "#%% md\n"
    }
   }
  },
  {
   "cell_type": "code",
   "execution_count": null,
   "outputs": [],
   "source": [
    "import mne\n",
    "import time\n",
    "\n",
    "import custom_modules.file_handling as  fh\n",
    "import custom_modules.classification_ptu as clas\n",
    "\n",
    "import importlib\n",
    "importlib.reload(clas)\n",
    "importlib.reload(fh)\n",
    "\n",
    "import pandas as pd\n",
    "import numpy as np\n",
    "import matplotlib.pyplot as plt"
   ],
   "metadata": {
    "collapsed": false,
    "pycharm": {
     "name": "#%%\n"
    }
   }
  },
  {
   "cell_type": "markdown",
   "source": [
    "# 2. Constants"
   ],
   "metadata": {
    "collapsed": false,
    "pycharm": {
     "name": "#%% md\n"
    }
   }
  },
  {
   "cell_type": "code",
   "execution_count": null,
   "outputs": [],
   "source": [
    "data_path = 'D:/Diplomarbeit_data/eeg/'\n",
    "subjects = ['A01', 'A02', 'A03', 'A04', 'A05', 'A06', 'A07' , 'A08', 'A09', 'A10']\n",
    "trial_type_markers = ['LTR-s', 'LTR-l','RTL-s', 'RTL-l', 'TTB-s', 'TTB-l', 'BTT-s', 'BTT-l']\n",
    "\n",
    "mne.set_log_level('WARNING') #'INFO' 'WARNING'"
   ],
   "metadata": {
    "collapsed": false,
    "pycharm": {
     "name": "#%%\n"
    }
   }
  },
  {
   "cell_type": "markdown",
   "source": [
    "# 3. Classification"
   ],
   "metadata": {
    "collapsed": false,
    "pycharm": {
     "name": "#%% md\n"
    }
   }
  },
  {
   "cell_type": "markdown",
   "source": [
    "## 3.1. Cue-aligned"
   ],
   "metadata": {
    "collapsed": false,
    "pycharm": {
     "name": "#%% md\n"
    }
   }
  },
  {
   "cell_type": "code",
   "execution_count": null,
   "outputs": [],
   "source": [
    "# Get source and destination path + create destintation folder if it does not exist.\n",
    "src_path, dst_path = fh.gen_paths(pth=data_path, src_fldr='epoched_cue_aligned', dst_fldr='epoched_cue_aligned')\n",
    "\n",
    "# Iterate over each subject and extract the streams\n",
    "start = time.time()\n",
    "for i, subject in enumerate(subjects):\n",
    "    print(f'Classifying cue-aligned for subject {subject}')\n",
    "\n",
    "    ### Distance\n",
    "    # Classify the epochs for 1 timepoint:\n",
    "    clas.classify(src=src_path, dst=dst_path, sbj=subject, condition='distance', n_timepoints=1)\n",
    "    # Classify the epochs for 6 timepoints:\n",
    "    clas.classify(src=src_path, dst=dst_path, sbj=subject, condition='distance', n_timepoints=6)\n",
    "\n",
    "    ### Direction\n",
    "    # Classify the epochs for 1 timepoint:\n",
    "    clas.classify(src=src_path, dst=dst_path, sbj=subject, condition='direction', n_timepoints=1)\n",
    "    # Classify the epochs for 6 timepoints:\n",
    "    clas.classify(src=src_path, dst=dst_path, sbj=subject, condition='direction', n_timepoints=6)\n",
    "\n",
    "    ### Direction short\n",
    "    # Classify the epochs for 1 timepoint:\n",
    "    clas.classify(src=src_path, dst=dst_path, sbj=subject, condition='direction_short', n_timepoints=1)\n",
    "    # Classify the epochs for 6 timepoints:\n",
    "    clas.classify(src=src_path, dst=dst_path, sbj=subject, condition='direction_short', n_timepoints=6)\n",
    "\n",
    "    ### Direction long\n",
    "    # Classify the epochs for 1 timepoint:\n",
    "    clas.classify(src=src_path, dst=dst_path, sbj=subject, condition='direction_long', n_timepoints=1)\n",
    "    # Classify the epochs for 6 timepoints:\n",
    "    clas.classify(src=src_path, dst=dst_path, sbj=subject, condition='direction_long', n_timepoints=6)\n",
    "\n",
    "\n",
    "print(f'Finished classifying, took me {round(time.time() - start)} seconds...')\n"
   ],
   "metadata": {
    "collapsed": false,
    "pycharm": {
     "name": "#%%\n"
    }
   }
  },
  {
   "cell_type": "markdown",
   "source": [
    "## 3.2. Movement-aligned"
   ],
   "metadata": {
    "collapsed": false,
    "pycharm": {
     "name": "#%% md\n"
    }
   }
  },
  {
   "cell_type": "code",
   "execution_count": null,
   "outputs": [],
   "source": [
    "# Get source and destination path + create destintation folder if it does not exist.\n",
    "src_path, dst_path = fh.gen_paths(pth=data_path, src_fldr='epoched_movement_aligned_more_time', dst_fldr='epoched_movement_aligned_more_time')\n",
    "\n",
    "# Iterate over each subject and extract the streams\n",
    "start = time.time()\n",
    "for i, subject in enumerate(subjects):\n",
    "    print(f'Classifying movement-aligned for subject {subject}')\n",
    "\n",
    "    ### Distance\n",
    "    # Classify the epochs for 1 timepoint:\n",
    "    clas.classify(src=src_path, dst=dst_path, sbj=subject, condition='distance', n_timepoints=1)\n",
    "    # Classify the epochs for 6 timepoints:\n",
    "    clas.classify(src=src_path, dst=dst_path, sbj=subject, condition='distance', n_timepoints=6)\n",
    "\n",
    "    ### Direction\n",
    "    # Classify the epochs for 1 timepoint:\n",
    "    clas.classify(src=src_path, dst=dst_path, sbj=subject, condition='direction', n_timepoints=1)\n",
    "    # Classify the epochs for 6 timepoints:\n",
    "    clas.classify(src=src_path, dst=dst_path, sbj=subject, condition='direction', n_timepoints=6)\n",
    "\n",
    "    ### Direction short\n",
    "    # Classify the epochs for 1 timepoint:\n",
    "    clas.classify(src=src_path, dst=dst_path, sbj=subject, condition='direction_short', n_timepoints=1)\n",
    "    # Classify the epochs for 6 timepoints:\n",
    "    clas.classify(src=src_path, dst=dst_path, sbj=subject, condition='direction_short', n_timepoints=6)\n",
    "\n",
    "    ### Direction long\n",
    "    # Classify the epochs for 1 timepoint:\n",
    "    clas.classify(src=src_path, dst=dst_path, sbj=subject, condition='direction_long', n_timepoints=1)\n",
    "    # Classify the epochs for 6 timepoints:\n",
    "    clas.classify(src=src_path, dst=dst_path, sbj=subject, condition='direction_long', n_timepoints=6)\n",
    "\n",
    "\n",
    "print(f'Finished classifiying, took me {round(time.time() - start)} seconds...')"
   ],
   "metadata": {
    "collapsed": false,
    "pycharm": {
     "name": "#%%\n"
    }
   }
  },
  {
   "cell_type": "markdown",
   "source": [
    "# 4. Calculate mean + confidence interval for all subjects"
   ],
   "metadata": {
    "collapsed": false,
    "pycharm": {
     "name": "#%% md\n"
    }
   }
  },
  {
   "cell_type": "code",
   "execution_count": null,
   "outputs": [],
   "source": [
    "df = pd.read_csv('dataframes/classification/classification_df_minus_2_seconds_for_movement_aligned.csv', index_col=0)\n",
    "\n",
    "# Calculate CI for all subjects with the same 'N_timepoints', 'Type' and 'Condition' column for each timepoint.\n",
    "cols = ['Timepoint', 'Mean_accuracy', 'Type', 'N_timepoints', 'Condition', 'Upper', 'Lower']\n",
    "confidence = .95\n",
    "df_mean = pd.DataFrame(columns=cols)\n",
    "for type in df['Type'].unique():\n",
    "    for n_timepoints in df['N_timepoints'].unique():\n",
    "        for condition in df['Condition'].unique():\n",
    "            print(f'{type} {condition} {n_timepoints}')\n",
    "            timepoints = df[(df['Condition']==condition) & (df['N_timepoints']==n_timepoints) & (df['Type']==type)]['Timepoint'].unique()\n",
    "            for tp in timepoints:\n",
    "                # Get average overall subjects for each timepoint:\n",
    "                accs = np.array(df[(df['Type'] == type) & (df['N_timepoints'] == n_timepoints) & (df['Condition'] == condition) & (df['Timepoint'] == tp)]['Accuracy'])\n",
    "                mean = accs.mean()\n",
    "\n",
    "                # Bootstrapping for confidence interval:\n",
    "                values = [np.random.choice(accs,size=len(accs),replace=True).mean() for i in range(1000)]\n",
    "                lower, upper = np.percentile(values,[100*(1-confidence)/2,100*(1-(1-confidence)/2)])\n",
    "\n",
    "                df_mean.loc[len(df_mean)] = [tp, mean, type, n_timepoints, condition, upper, lower]\n",
    "\n",
    "df_mean = df_mean.dropna()"
   ],
   "metadata": {
    "collapsed": false,
    "pycharm": {
     "name": "#%%\n"
    }
   }
  },
  {
   "cell_type": "code",
   "execution_count": null,
   "outputs": [],
   "source": [
    "for type in df_mean['Type'].unique():\n",
    "    for condition in df_mean['Condition'].unique():\n",
    "        leg = []\n",
    "        plt.figure(figsize=(10,6))\n",
    "\n",
    "        for windowed in df_mean['N_timepoints'].unique():\n",
    "            # Extract tps, means and confidences to plot:\n",
    "            timepoints = list(df_mean[(df_mean['Type'] == type) & (df_mean['Condition'] == condition) & (df_mean['N_timepoints'] == windowed)]['Timepoint'])\n",
    "\n",
    "            means = list(df_mean[(df_mean['Type'] == type) & (df_mean['Condition'] == condition) & (df_mean['N_timepoints'] == windowed)]['Mean_accuracy'])\n",
    "\n",
    "            uppers = list(df_mean[(df_mean['Type'] == type) & (df_mean['Condition'] == condition) & (df_mean['N_timepoints'] == windowed)]['Upper'])\n",
    "\n",
    "            lowers = list(df_mean[(df_mean['Type'] == type) & (df_mean['Condition'] == condition) & (df_mean['N_timepoints'] == windowed)]['Lower'])\n",
    "\n",
    "            txt = f'{windowed}-point windowed'\n",
    "\n",
    "            leg.append(txt + ' mean')\n",
    "            leg.append(txt + ' 95% confidence interval')\n",
    "\n",
    "            plt.plot(timepoints, means)\n",
    "            plt.fill_between(timepoints, lowers, uppers, alpha=0.1)\n",
    "\n",
    "        if 'distance' in condition:\n",
    "            plt.plot([timepoints[0]-(windowed+1)/10, timepoints[-1]], [.5, .5], color='black')\n",
    "        else:\n",
    "            plt.plot([timepoints[0]-(windowed+1)/10, timepoints[-1]], [.25, .25], color='black')\n",
    "\n",
    "        leg.append('Chance level')\n",
    "        plt.title(f'Classification accuracy for {type} {condition}')\n",
    "        plt.legend(leg, loc='best')\n",
    "        plt.ylim([0,1])\n",
    "        plt.savefig(f'{data_path}classification_figs/{type}_{condition}_classification.png', dpi=400)\n",
    "        plt.show()"
   ],
   "metadata": {
    "collapsed": false,
    "pycharm": {
     "name": "#%%\n"
    }
   }
  },
  {
   "cell_type": "code",
   "execution_count": null,
   "outputs": [],
   "source": [],
   "metadata": {
    "collapsed": false,
    "pycharm": {
     "name": "#%%\n"
    }
   }
  },
  {
   "cell_type": "markdown",
   "source": [
    "# 5. Estimate GLM"
   ],
   "metadata": {
    "collapsed": false,
    "pycharm": {
     "name": "#%% md\n"
    }
   }
  },
  {
   "cell_type": "markdown",
   "source": [
    "## 5.1. Cue-aligned"
   ],
   "metadata": {
    "collapsed": false,
    "pycharm": {
     "name": "#%% md\n"
    }
   }
  },
  {
   "cell_type": "code",
   "execution_count": 15,
   "outputs": [
    {
     "name": "stdout",
     "output_type": "stream",
     "text": [
      "Fitting GLM cue-aligned for subject A01\n",
      "Fitting GLM cue-aligned for subject A02\n",
      "Fitting GLM cue-aligned for subject A03\n",
      "Fitting GLM cue-aligned for subject A04\n",
      "Fitting GLM cue-aligned for subject A05\n",
      "Fitting GLM cue-aligned for subject A06\n",
      "Fitting GLM cue-aligned for subject A07\n",
      "Fitting GLM cue-aligned for subject A08\n",
      "Fitting GLM cue-aligned for subject A09\n",
      "Fitting GLM cue-aligned for subject A10\n",
      "Finished with GLM, took me 22 seconds...\n"
     ]
    }
   ],
   "source": [
    "importlib.reload(clas)\n",
    "\n",
    "# Get source and destination path + create destintation folder if it does not exist.\n",
    "src_path, dst_path = fh.gen_paths(pth=data_path, src_fldr='epoched_cue_aligned', dst_fldr='glm_results_cue_aligned')\n",
    "\n",
    "# Iterate over each subject and extract the streams\n",
    "start = time.time()\n",
    "for i, subject in enumerate(subjects):\n",
    "    print(f'Fitting GLM cue-aligned for subject {subject}')\n",
    "\n",
    "    clas.glm(src=src_path, dst=dst_path, sbj=subject)\n",
    "\n",
    "print(f'Finished with GLM, took me {round(time.time() - start)} seconds...')\n",
    "\n"
   ],
   "metadata": {
    "collapsed": false,
    "pycharm": {
     "name": "#%%\n"
    }
   }
  },
  {
   "cell_type": "code",
   "execution_count": 16,
   "outputs": [
    {
     "name": "stdout",
     "output_type": "stream",
     "text": [
      "70/70, 64/64\r"
     ]
    }
   ],
   "source": [
    "importlib.reload(clas)\n",
    "\n",
    "# Get source and destination path + create destintation folder if it does not exist.\n",
    "src_path, dst_path = fh.gen_paths(pth=data_path, src_fldr='glm_results_cue_aligned', dst_fldr='glm_results_cue_aligned')\n",
    "\n",
    "clas.coefficient_testing(src=src_path, dst=dst_path, sbj_list=subjects)"
   ],
   "metadata": {
    "collapsed": false,
    "pycharm": {
     "name": "#%%\n"
    }
   }
  },
  {
   "cell_type": "code",
   "execution_count": 38,
   "outputs": [
    {
     "data": {
      "text/plain": "<Figure size 432x288 with 1 Axes>",
      "image/png": "[encoded data removed]"
     },
     "metadata": {
      "needs_background": "light"
     },
     "output_type": "display_data"
    }
   ],
   "source": [
    "importlib.reload(clas)\n",
    "\n",
    "# Get source and destination path + create destintation folder if it does not exist.\n",
    "src_path, dst_path = fh.gen_paths(pth=data_path, src_fldr='glm_results_cue_aligned', dst_fldr='glm_results_cue_aligned')\n",
    "\n",
    "clas.plot_heatmap_of_regr_coeff(src=src_path, dst=dst_path, p_crit=0.05)"
   ],
   "metadata": {
    "collapsed": false,
    "pycharm": {
     "name": "#%%\n"
    }
   }
  },
  {
   "cell_type": "markdown",
   "source": [
    "## 5.2. Movement-aligned"
   ],
   "metadata": {
    "collapsed": false,
    "pycharm": {
     "name": "#%% md\n"
    }
   }
  },
  {
   "cell_type": "code",
   "execution_count": 28,
   "outputs": [
    {
     "name": "stdout",
     "output_type": "stream",
     "text": [
      "Fitting GLM movement-aligned for subject A01\n",
      "Fitting GLM movement-aligned for subject A02\n",
      "Fitting GLM movement-aligned for subject A03\n",
      "Fitting GLM movement-aligned for subject A04\n",
      "Fitting GLM movement-aligned for subject A05\n",
      "Fitting GLM movement-aligned for subject A06\n",
      "Fitting GLM movement-aligned for subject A07\n",
      "Fitting GLM movement-aligned for subject A08\n",
      "Fitting GLM movement-aligned for subject A09\n",
      "Fitting GLM movement-aligned for subject A10\n",
      "Finished with GLM, took me 21 seconds...\n"
     ]
    }
   ],
   "source": [
    "importlib.reload(clas)\n",
    "\n",
    "# Get source and destination path + create destintation folder if it does not exist.\n",
    "src_path, dst_path = fh.gen_paths(pth=data_path, src_fldr='epoched_movement_aligned', dst_fldr='glm_results_movement_aligned')\n",
    "\n",
    "# Iterate over each subject and extract the streams\n",
    "start = time.time()\n",
    "for i, subject in enumerate(subjects):\n",
    "    print(f'Fitting GLM movement-aligned for subject {subject}')\n",
    "\n",
    "    clas.glm(src=src_path, dst=dst_path, sbj=subject)\n",
    "\n",
    "\n",
    "print(f'Finished with GLM, took me {round(time.time() - start)} seconds...')"
   ],
   "metadata": {
    "collapsed": false,
    "pycharm": {
     "name": "#%%\n"
    }
   }
  },
  {
   "cell_type": "code",
   "execution_count": 29,
   "outputs": [
    {
     "name": "stdout",
     "output_type": "stream",
     "text": [
      "55/55, 61/61\r"
     ]
    }
   ],
   "source": [
    "importlib.reload(clas)\n",
    "\n",
    "# Get source and destination path + create destintation folder if it does not exist.\n",
    "src_path, dst_path = fh.gen_paths(pth=data_path, src_fldr='glm_results_movement_aligned', dst_fldr='glm_results_movement_aligned')\n",
    "\n",
    "clas.coefficient_testing(src=src_path, dst=dst_path, sbj_list=subjects)"
   ],
   "metadata": {
    "collapsed": false,
    "pycharm": {
     "name": "#%%\n"
    }
   }
  },
  {
   "cell_type": "code",
   "execution_count": 39,
   "outputs": [
    {
     "data": {
      "text/plain": "<Figure size 432x288 with 1 Axes>",
      "image/png": "[encoded data removed]"
     },
     "metadata": {
      "needs_background": "light"
     },
     "output_type": "display_data"
    }
   ],
   "source": [
    "importlib.reload(clas)\n",
    "\n",
    "# Get source and destination path + create destintation folder if it does not exist.\n",
    "src_path, dst_path = fh.gen_paths(pth=data_path, src_fldr='glm_results_movement_aligned', dst_fldr='glm_results_movement_aligned')\n",
    "\n",
    "clas.plot_heatmap_of_regr_coeff(src=src_path, dst=dst_path, p_crit=0.05)"
   ],
   "metadata": {
    "collapsed": false,
    "pycharm": {
     "name": "#%%\n"
    }
   }
  },
  {
   "cell_type": "markdown",
   "source": [
    "# 6. Confusion matrices"
   ],
   "metadata": {
    "collapsed": false,
    "pycharm": {
     "name": "#%% md\n"
    }
   }
  },
  {
   "cell_type": "markdown",
   "source": [
    "# 6.1. Cue algined"
   ],
   "metadata": {
    "collapsed": false,
    "pycharm": {
     "name": "#%% md\n"
    }
   }
  },
  {
   "cell_type": "code",
   "execution_count": null,
   "outputs": [],
   "source": [
    "importlib.reload(clas)\n",
    "\n",
    "# Get source and destination path + create destintation folder if it does not exist.\n",
    "src_path, dst_path = fh.gen_paths(pth=data_path, src_fldr='epoched_cue_aligned', dst_fldr='classification_figs')\n",
    "\n",
    "ts_list = list(np.arange(0.1,7.0,0.1))\n",
    "\n",
    "for ts in ts_list:\n",
    "    clas.get_confusion_matrix(src=src_path, dst=dst_path, sbj_list=subjects, ts_of_interest=ts, n_timepoints=1, condition='distance')\n",
    "\n",
    "# clas.get_confusion_matrix(src=src_path, dst=dst_path, sbj_list=subjects, ts_of_interest=2.2, n_timepoints=6)\n",
    "\n",
    "\n",
    "# Mapping: 0-up, 1-down, 2-right, 3-left"
   ],
   "metadata": {
    "collapsed": false,
    "pycharm": {
     "name": "#%%\n",
     "is_executing": true
    }
   }
  },
  {
   "cell_type": "markdown",
   "source": [
    "# 6.2. Movement aligned"
   ],
   "metadata": {
    "collapsed": false,
    "pycharm": {
     "name": "#%% md\n"
    }
   }
  },
  {
   "cell_type": "code",
   "execution_count": null,
   "outputs": [],
   "source": [],
   "metadata": {
    "collapsed": false,
    "pycharm": {
     "name": "#%%\n"
    }
   }
  },
  {
   "cell_type": "markdown",
   "source": [
    "# Helper cell to add 'Condition' column to the classification dataframe\n",
    "Outdated, already added to custom_modules/classification_ptu.py."
   ],
   "metadata": {
    "collapsed": false,
    "pycharm": {
     "name": "#%% md\n"
    }
   }
  },
  {
   "cell_type": "code",
   "execution_count": null,
   "outputs": [],
   "source": [
    "# But first add condition to the dataframe as a helper cell:\n",
    "cond_1 = ['distance'] * 70\n",
    "cond_2 = ['distance'] * 65\n",
    "cond_3 = ['direction'] * 70\n",
    "cond_4 = ['direction'] * 65\n",
    "cond_5 = ['direction_short'] * 70\n",
    "cond_6 = ['direction_short'] * 65\n",
    "cond_7 = ['direction_long'] * 70\n",
    "cond_8 = ['direction_long'] * 65\n",
    "\n",
    "cue_cond = cond_1 + cond_2 + cond_3 + cond_4 + cond_5 + cond_6 + cond_7 + cond_8\n",
    "\n",
    "cue_cond = cue_cond * 10\n",
    "\n",
    "cond_9 = ['distance'] * 55\n",
    "cond_10 = ['distance'] * 50\n",
    "cond_11 = ['direction'] * 55\n",
    "cond_12 = ['direction'] * 50\n",
    "cond_13 = ['direction_short'] * 55\n",
    "cond_14 = ['direction_short'] * 50\n",
    "cond_15 = ['direction_long'] * 55\n",
    "cond_16 = ['direction_long'] * 50\n",
    "\n",
    "mov_cond = cond_9 + cond_10 + cond_11 + cond_12 + cond_13 + cond_14 + cond_15 + cond_16\n",
    "mov_cond = mov_cond * 10\n",
    "conds = cue_cond + mov_cond\n",
    "\n",
    "df = pd.read_csv('dataframes/classification/classification_df.csv', index_col=0)\n",
    "df['Condition'] = conds"
   ],
   "metadata": {
    "collapsed": false,
    "pycharm": {
     "name": "#%%\n"
    }
   }
  },
  {
   "cell_type": "code",
   "execution_count": null,
   "outputs": [],
   "source": [
    "df.to_csv('dataframes/classification/classification_df.csv')"
   ],
   "metadata": {
    "collapsed": false,
    "pycharm": {
     "name": "#%%\n"
    }
   }
  }
 ],
 "metadata": {
  "kernelspec": {
   "display_name": "Python 3",
   "language": "python",
   "name": "python3"
  },
  "language_info": {
   "codemirror_mode": {
    "name": "ipython",
    "version": 2
   },
   "file_extension": ".py",
   "mimetype": "text/x-python",
   "name": "python",
   "nbconvert_exporter": "python",
   "pygments_lexer": "ipython2",
   "version": "2.7.6"
  }
 },
 "nbformat": 4,
 "nbformat_minor": 0
}