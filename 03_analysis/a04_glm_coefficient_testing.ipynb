{
 "cells": [
  {
   "cell_type": "code",
   "execution_count": null,
   "metadata": {
    "collapsed": true
   },
   "outputs": [],
   "source": [
    "%reset"
   ]
  },
  {
   "cell_type": "code",
   "execution_count": null,
   "outputs": [],
   "source": [
    "from os import listdir\n",
    "from os.path import exists\n",
    "from importlib import reload\n",
    "import numpy as np\n",
    "import pandas as pd\n",
    "import pyxdf\n",
    "import mne\n",
    "from utils import *\n",
    "from sklearn.discriminant_analysis import LinearDiscriminantAnalysis\n",
    "from sklearn.model_selection import train_test_split, cross_val_score, LeaveOneOut\n",
    "import time\n",
    "import datetime\n",
    "from datetime import datetime, timezone\n",
    "import pickle\n",
    "import plotly.express as px\n",
    "\n",
    "print('Imports done...')"
   ],
   "metadata": {
    "collapsed": false,
    "pycharm": {
     "name": "#%%\n"
    }
   }
  },
  {
   "cell_type": "code",
   "execution_count": null,
   "outputs": [],
   "source": [
    "#data_path = 'C:/Users/tumfart/Code/github/master-thesis/data/'\n",
    "data_path = 'C:/Users/peter/Google Drive/measurements/eeg/'\n",
    "subjects = ['A01', 'A02', 'A03', 'A04', 'A05', 'A06', 'A07' , 'A08', 'A09', 'A10']\n",
    "# = 'A03'\n",
    "paradigm = 'paradigm' # 'eye', 'paradigm'\n",
    "plot = False\n",
    "mne.set_log_level('WARNING')\n",
    "# Create path list for each subject:\n",
    "paths = [str(data_path + subject + '/' + paradigm) for subject in subjects]"
   ],
   "metadata": {
    "collapsed": false,
    "pycharm": {
     "name": "#%%\n"
    }
   }
  },
  {
   "cell_type": "code",
   "execution_count": null,
   "outputs": [],
   "source": [
    "# Read all .npy coefficients:\n",
    "start = time.time()\n",
    "A = []\n",
    "for subject, path in zip(subjects, paths):\n",
    "    file_names = [f for f in listdir(path) if 'regr_coeff.npy' in f]\n",
    "\n",
    "    # Load file\n",
    "    file_name = file_names[0]\n",
    "    file = path + '/' + file_name\n",
    "    A.append(np.load(file))"
   ],
   "metadata": {
    "collapsed": false,
    "pycharm": {
     "name": "#%%\n"
    }
   }
  },
  {
   "cell_type": "code",
   "execution_count": null,
   "outputs": [],
   "source": [
    "# Calculate mean for each channel and for each timestamp:\n",
    "n_chan, n_coeff, n_ts = A[0].shape\n",
    "means = np.empty((n_chan, n_coeff, n_ts))\n",
    "uppers = np.empty((n_chan, n_coeff, n_ts))\n",
    "lowers = np.empty((n_chan, n_coeff, n_ts))\n",
    "means[:], uppers[:], lowers[:] = np.nan, np.nan, np.nan\n",
    "\n",
    "confidence = 0.95\n",
    "start = time.time()\n",
    "for ts in range(n_ts):\n",
    "    print(f'{ts}/{n_ts}', end='\\r')\n",
    "    for coeff in range(n_coeff):\n",
    "        for chan in range(n_chan):\n",
    "            a = [A[i][chan, coeff, ts] for i in range(len(subjects))] # Get list of all subject for a specific channel, coefficient and timestamp\n",
    "\n",
    "            # Calculate mean:\n",
    "            # Bootstrapping for confidence interval:\n",
    "            values = [np.random.choice(a, size=len(a),replace=True).mean() for i in range(500)]\n",
    "            means[chan,coeff,ts] = np.array(values).mean()\n",
    "            lowers[chan,coeff,ts], uppers[chan,coeff,ts] = np.percentile(values,[100*(1-confidence)/2,100*(1-(1-confidence)/2)])\n",
    "\n",
    "print(f'Bootstrapping, took me {round(time.time() - start)} seconds...')"
   ],
   "metadata": {
    "collapsed": false,
    "pycharm": {
     "name": "#%%\n"
    }
   }
  },
  {
   "cell_type": "code",
   "execution_count": null,
   "outputs": [],
   "source": [
    "# Save bootstrapping matrices:\n",
    "np.save('regr_coeff_global_means.npy', means)    # .npy extension is added if not given\n",
    "np.save('regr_coeff_global_lowers.npy', lowers)\n",
    "np.save('regr_coeff_global_uppers.npy', uppers)"
   ],
   "metadata": {
    "collapsed": false,
    "pycharm": {
     "name": "#%%\n"
    }
   }
  }
 ],
 "metadata": {
  "kernelspec": {
   "display_name": "Python 3",
   "language": "python",
   "name": "python3"
  },
  "language_info": {
   "codemirror_mode": {
    "name": "ipython",
    "version": 2
   },
   "file_extension": ".py",
   "mimetype": "text/x-python",
   "name": "python",
   "nbconvert_exporter": "python",
   "pygments_lexer": "ipython2",
   "version": "2.7.6"
  }
 },
 "nbformat": 4,
 "nbformat_minor": 0
}