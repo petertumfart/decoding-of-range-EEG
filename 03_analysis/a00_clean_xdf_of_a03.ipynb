{
 "cells": [
  {
   "cell_type": "code",
   "execution_count": null,
   "metadata": {
    "collapsed": true
   },
   "outputs": [],
   "source": [
    "import pyxdf\n",
    "import numpy as np\n",
    "import pandas as pd"
   ]
  },
  {
   "cell_type": "code",
   "execution_count": null,
   "outputs": [],
   "source": [
    "# Read xdf file of subject A03:\n",
    "file = 'C:/Users/peter/Google Drive/measurements/eeg/A03/process_paradigm/sub-A03_ses-S001_task-paradigm_run-005_eeg.xdf'\n",
    "streams, header = pyxdf.load_xdf(file)\n",
    "\n",
    "markers = streams[0]['time_series']\n",
    "markers = np.array(markers).flatten()\n",
    "time_stamps = streams[0]['time_stamps']\n",
    "\n",
    "df = pd.DataFrame(columns=['time_series', 'time_stamps'])\n",
    "df.time_series = markers\n",
    "df.time_stamps = time_stamps\n",
    "\n",
    "df.to_csv(file[:-3] + 'csv', index=False)"
   ],
   "metadata": {
    "collapsed": false,
    "pycharm": {
     "name": "#%%\n"
    }
   }
  },
  {
   "cell_type": "code",
   "execution_count": null,
   "outputs": [],
   "source": [
    "idcs_to_remove = []"
   ],
   "metadata": {
    "collapsed": false,
    "pycharm": {
     "name": "#%%\n"
    }
   }
  },
  {
   "cell_type": "code",
   "execution_count": null,
   "outputs": [],
   "source": [
    "print(markers)"
   ],
   "metadata": {
    "collapsed": false,
    "pycharm": {
     "name": "#%%\n"
    }
   }
  }
 ],
 "metadata": {
  "kernelspec": {
   "display_name": "Python 3",
   "language": "python",
   "name": "python3"
  },
  "language_info": {
   "codemirror_mode": {
    "name": "ipython",
    "version": 2
   },
   "file_extension": ".py",
   "mimetype": "text/x-python",
   "name": "python",
   "nbconvert_exporter": "python",
   "pygments_lexer": "ipython2",
   "version": "2.7.6"
  }
 },
 "nbformat": 4,
 "nbformat_minor": 0
}