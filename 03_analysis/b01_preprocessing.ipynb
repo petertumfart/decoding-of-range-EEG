{
 "cells": [
  {
   "cell_type": "code",
   "execution_count": null,
   "outputs": [],
   "source": [
    "%reset"
   ],
   "metadata": {
    "collapsed": false,
    "pycharm": {
     "name": "#%%\n"
    }
   }
  },
  {
   "cell_type": "markdown",
   "source": [
    "# 1. Imports"
   ],
   "metadata": {
    "collapsed": false
   }
  },
  {
   "cell_type": "code",
   "execution_count": 74,
   "outputs": [
    {
     "data": {
      "text/plain": "<module 'custom_modules.file_handling' from 'C:\\\\Users\\\\peter\\\\Documents\\\\Code\\\\master-thesis\\\\03_analysis\\\\custom_modules\\\\file_handling.py'>"
     },
     "execution_count": 74,
     "metadata": {},
     "output_type": "execute_result"
    }
   ],
   "source": [
    "import mne\n",
    "import time\n",
    "import os\n",
    "import custom_modules.xdf_to_fif_converter as xtfc\n",
    "import custom_modules.preprocessing_ptu as prep\n",
    "import custom_modules.file_handling as  fh\n",
    "\n",
    "import importlib\n",
    "importlib.reload(xtfc)\n",
    "importlib.reload(prep)\n",
    "importlib.reload(fh)"
   ],
   "metadata": {
    "collapsed": false,
    "pycharm": {
     "name": "#%%\n"
    }
   }
  },
  {
   "cell_type": "markdown",
   "source": [
    "# 2. Constants"
   ],
   "metadata": {
    "collapsed": false,
    "pycharm": {
     "name": "#%% md\n"
    }
   }
  },
  {
   "cell_type": "code",
   "execution_count": 69,
   "outputs": [],
   "source": [
    "data_path = 'D:/Diplomarbeit_data/eeg/'\n",
    "subjects = ['A01', 'A02', 'A03', 'A04', 'A05', 'A06', 'A07' , 'A08', 'A09', 'A10']\n",
    "trial_type_markers = ['LTR-s', 'LTR-l','RTL-s', 'RTL-l', 'TTB-s', 'TTB-l', 'BTT-s', 'BTT-l']\n",
    "\n",
    "plot = False\n",
    "mne.set_log_level('WARNING')"
   ],
   "metadata": {
    "collapsed": false,
    "pycharm": {
     "name": "#%%\n"
    }
   }
  },
  {
   "cell_type": "markdown",
   "source": [
    "# 3. XDF --> FIF\n",
    "The following cell reads all xdf-files containing the raw eeg and loads them into the mne structure and stores them as .fif-files."
   ],
   "metadata": {
    "collapsed": false,
    "pycharm": {
     "name": "#%% md\n"
    }
   }
  },
  {
   "cell_type": "code",
   "execution_count": 70,
   "outputs": [
    {
     "name": "stdout",
     "output_type": "stream",
     "text": [
      "Help on function xdf_to_fif in module custom_modules.xdf_to_fif_converter:\n",
      "\n",
      "xdf_to_fif(src, dst, sbj)\n",
      "    Convert .xdf files to .fif files for a given subject.\n",
      "    \n",
      "    :param src: str, path of the folder containing .xdf files.\n",
      "    :param dst: str, path of the folder where to save the .fif files.\n",
      "    :param sbj: str, subject identifier.\n",
      "\n"
     ]
    }
   ],
   "source": [
    "help(xtfc.xdf_to_fif)"
   ],
   "metadata": {
    "collapsed": false,
    "pycharm": {
     "name": "#%%\n"
    }
   }
  },
  {
   "cell_type": "code",
   "execution_count": 71,
   "outputs": [
    {
     "name": "stdout",
     "output_type": "stream",
     "text": [
      "Extracting subject A01 # # # # # # # # # # # \n",
      "Extracting subject A02 # # # # # # # # # # # \n",
      "Extracting subject A03 # # # # # # # # # # # \n",
      "Extracting subject A04 # # # # # # # # # # # \n",
      "Extracting subject A05 # # # # # # # # # # # \n",
      "Extracting subject A06 # # # # # # # # # # # \n",
      "Extracting subject A07 # # # # # # # # # # # \n",
      "Extracting subject A08 # # # # # # # # # # # \n",
      "Extracting subject A09 # # # # # # # # # # # \n",
      "Extracting subject A10 # # # # # # # # # # # \n",
      "Finished reading, took me 75 seconds...\n"
     ]
    }
   ],
   "source": [
    "# Get source and destination path + create destintation folder if it does not exist.\n",
    "src_path, dst_path = fh.gen_paths(pth=data_path, src_fldr='raw', dst_fldr='raw_fif')\n",
    "\n",
    "# Iterate over each subject and extract the streams\n",
    "start = time.time()\n",
    "for i, subject in enumerate(subjects):\n",
    "    print(f'Extracting subject {subject}', end=' ')\n",
    "\n",
    "    # Call the xdf_to_fif function from the xtfc module which takes care of converting the xdf files to fif files:\n",
    "    xtfc.xdf_to_fif(src_path, dst_path, subject)\n",
    "\n",
    "    print()\n",
    "\n",
    "print(f'Finished reading, took me {round(time.time()-start)} seconds...')"
   ],
   "metadata": {
    "collapsed": false,
    "pycharm": {
     "name": "#%%\n"
    }
   }
  },
  {
   "cell_type": "markdown",
   "source": [
    "# 4. Concatenate all fif files for each subject"
   ],
   "metadata": {
    "collapsed": false,
    "pycharm": {
     "name": "#%% md\n"
    }
   }
  },
  {
   "cell_type": "code",
   "execution_count": 72,
   "outputs": [
    {
     "name": "stdout",
     "output_type": "stream",
     "text": [
      "Help on function concat_fifs in module custom_modules.preprocessing_ptu:\n",
      "\n",
      "concat_fifs(src, dst, sbj, paradigm='paradigm')\n",
      "    Concatenates multiple raw.fif files from a single subject and paradigm.\n",
      "    \n",
      "    :param src: str, path to the directory containing the input raw.fif files.\n",
      "    :param dst: str, path to the directory where the concatenated raw.fif file will be stored.\n",
      "    :param sbj: str, subject name contained in the file names.\n",
      "    :param paradigm: str, paradigm name contained in the file names (default is 'paradigm').\n",
      "    :return: None\n",
      "    \n",
      "    - Searches for all the files in the source directory containing the subject name, 'raw.fif' and the specified paradigm.\n",
      "    - Reads each of the selected raw.fif files using MNE-Python's read_raw function.\n",
      "    - Concatenates the read files into a single raw object using MNE-Python's concatenate_raws function.\n",
      "    - Saves the concatenated raw object as a new raw.fif file in the destination directory.\n",
      "\n"
     ]
    }
   ],
   "source": [
    "help(prep.concat_fifs)"
   ],
   "metadata": {
    "collapsed": false,
    "pycharm": {
     "name": "#%%\n"
    }
   }
  },
  {
   "cell_type": "code",
   "execution_count": 73,
   "outputs": [
    {
     "name": "stdout",
     "output_type": "stream",
     "text": [
      "Reading all fif files for subject A01 # # # # # # # # # # # \n",
      "Reading all fif files for subject A02 # # # # # # # # # # # \n",
      "Reading all fif files for subject A03 # # # # # # # # # # # \n",
      "Reading all fif files for subject A04 # # # # # # # # # # # \n",
      "Reading all fif files for subject A05 # # # # # # # # # # # \n",
      "Reading all fif files for subject A06 # # # # # # # # # # # \n",
      "Reading all fif files for subject A07 # # # # # # # # # # # \n",
      "Reading all fif files for subject A08 # # # # # # # # # # # \n",
      "Reading all fif files for subject A09 # # # # # # # # # # # \n",
      "Reading all fif files for subject A10 # # # # # # # # # # # \n",
      "Finished concatenating, took me 42 seconds...\n"
     ]
    }
   ],
   "source": [
    "# Get source and destination path + create destintation folder if it does not exist.\n",
    "src_path, dst_path = fh.gen_paths(pth=data_path, src_fldr='raw_fif', dst_fldr='concat')\n",
    "\n",
    "# Iterate over each subject and extract the streams\n",
    "start = time.time()\n",
    "for i, subject in enumerate(subjects):\n",
    "    print(f'Reading all fif files for subject {subject}', end=' ')\n",
    "\n",
    "    # Concatenate all raw files for the paradigm and the eye paradigm:\n",
    "    prep.concat_fifs(src=src_path, dst=dst_path, sbj=subject, paradigm='paradigm')\n",
    "    prep.concat_fifs(src=src_path, dst=dst_path, sbj=subject, paradigm='eye')\n",
    "    print()\n",
    "\n",
    "print(f'Finished concatenating, took me {round(time.time() - start)} seconds...')"
   ],
   "metadata": {
    "collapsed": false,
    "pycharm": {
     "name": "#%%\n"
    }
   }
  },
  {
   "cell_type": "markdown",
   "source": [
    "# 5. Filter  the data (HP 0.4 Hz and Notch 50 Hz)"
   ],
   "metadata": {
    "collapsed": false,
    "pycharm": {
     "name": "#%% md\n"
    }
   }
  },
  {
   "cell_type": "code",
   "execution_count": null,
   "outputs": [],
   "source": [],
   "metadata": {
    "collapsed": false,
    "pycharm": {
     "name": "#%%\n"
    }
   }
  },
  {
   "cell_type": "code",
   "execution_count": null,
   "outputs": [],
   "source": [
    "# Iterate over each subject and load the raw files:\n",
    "start = time.time()\n",
    "for subject, path in zip(subjects, paths):\n",
    "    print(f'Reading raw files for subject {subject}', end=' ')\n",
    "    file_names = [f for f in listdir(path) if '_unprocessed_raw.fif' in f]\n",
    "\n",
    "    for i, file_name in enumerate(file_names):\n",
    "        print(f'#', end=' ')\n",
    "\n",
    "        file = path + '/' + file_name\n",
    "        raw = mne.io.read_raw(file, preload=True)\n",
    "        if plot:\n",
    "            raw.plot(duration=60, proj=False, n_channels=len(raw.ch_names),\n",
    "                     remove_dc=False, title='Highpass filtered')\n",
    "            plot_spectrum(raw)\n",
    "\n",
    "\n",
    "        # Highpass filter:\n",
    "        raw_highpass = raw.copy().filter(l_freq=0.4, h_freq=None, picks=['eeg'], method='iir')\n",
    "        if plot:\n",
    "            raw_highpass.plot(duration=60, proj=False, n_channels=len(raw.ch_names),\n",
    "                              remove_dc=False, title='Highpass filtered')\n",
    "            plot_spectrum(raw_highpass)\n",
    "\n",
    "        # Notch filter:\n",
    "        raw_notch = raw_highpass.copy().notch_filter(freqs=[50], picks=['eeg'])\n",
    "        if plot:\n",
    "            raw_notch.plot(duration=60, proj=False, n_channels=len(raw.ch_names), remove_dc=False, title='Notch filtered')\n",
    "            plot_spectrum(raw_notch)\n",
    "\n",
    "        # Store the raw file:\n",
    "        store_name = path + '/' + subject + '_run_' + str(i + 1) + '_highpass_notch_filtered_raw.fif'\n",
    "        raw_notch.save(store_name, overwrite=True)\n",
    "\n",
    "    print()\n",
    "\n",
    "print(f'Finished highpass and notch filtering, took me {round(time.time() - start)} seconds...')"
   ],
   "metadata": {
    "collapsed": false,
    "pycharm": {
     "name": "#%%\n"
    }
   }
  }
 ],
 "metadata": {
  "kernelspec": {
   "display_name": "Python 3",
   "language": "python",
   "name": "python3"
  },
  "language_info": {
   "codemirror_mode": {
    "name": "ipython",
    "version": 2
   },
   "file_extension": ".py",
   "mimetype": "text/x-python",
   "name": "python",
   "nbconvert_exporter": "python",
   "pygments_lexer": "ipython2",
   "version": "2.7.6"
  }
 },
 "nbformat": 4,
 "nbformat_minor": 0
}