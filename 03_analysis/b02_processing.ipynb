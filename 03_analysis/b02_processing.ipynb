{
 "cells": [
  {
   "cell_type": "code",
   "execution_count": 2,
   "metadata": {
    "collapsed": true
   },
   "outputs": [],
   "source": [
    "%reset"
   ]
  },
  {
   "cell_type": "markdown",
   "source": [
    "# 1. Imports"
   ],
   "metadata": {
    "collapsed": false,
    "pycharm": {
     "name": "#%% md\n"
    }
   }
  },
  {
   "cell_type": "code",
   "execution_count": 1,
   "outputs": [
    {
     "data": {
      "text/plain": "<module 'custom_modules.classification_ptu' from 'C:\\\\Users\\\\peter\\\\Documents\\\\Code\\\\master-thesis\\\\03_analysis\\\\custom_modules\\\\classification_ptu.py'>"
     },
     "execution_count": 1,
     "metadata": {},
     "output_type": "execute_result"
    }
   ],
   "source": [
    "import mne\n",
    "import time\n",
    "import os\n",
    "import numpy as np\n",
    "import custom_modules.xdf_to_fif_converter as xtfc\n",
    "import custom_modules.preprocessing_ptu as prep\n",
    "import custom_modules.file_handling as  fh\n",
    "import custom_modules.processing_ptu as proc\n",
    "import custom_modules.classification_ptu as clas\n",
    "\n",
    "import importlib\n",
    "importlib.reload(xtfc)\n",
    "importlib.reload(prep)\n",
    "importlib.reload(fh)\n",
    "importlib.reload(proc)\n",
    "importlib.reload(clas)"
   ],
   "metadata": {
    "collapsed": false,
    "pycharm": {
     "name": "#%%\n"
    }
   }
  },
  {
   "cell_type": "markdown",
   "source": [
    "# 2. Constants"
   ],
   "metadata": {
    "collapsed": false,
    "pycharm": {
     "name": "#%% md\n"
    }
   }
  },
  {
   "cell_type": "code",
   "execution_count": 2,
   "outputs": [],
   "source": [
    "data_path = 'D:/Diplomarbeit_data/eeg/'\n",
    "subjects = ['A01', 'A02', 'A03', 'A04', 'A05', 'A06', 'A07' , 'A08', 'A09', 'A10']\n",
    "trial_type_markers = ['LTR-s', 'LTR-l','RTL-s', 'RTL-l', 'TTB-s', 'TTB-l', 'BTT-s', 'BTT-l']\n",
    "\n",
    "# Paths to interface files:\n",
    "path_cue_aligned_resampled = '2023_03_22_epoched_cue_aligned'\n",
    "path_movement_aligned_resampled = '2023_03_22_epoched_movement_aligned'\n",
    "path_cue_aligned_not_resampled = '2023_03_22_epoched_cue_aligned_not_resampled'\n",
    "path_movement_aligned_not_resampled = '2023_03_22_epoched_movement_aligned_not_resampled'\n",
    "\n",
    "__spec__ = None # For multiprocessing\n",
    "mne.set_log_level('WARNING') #'INFO' 'WARNING'"
   ],
   "metadata": {
    "collapsed": false,
    "pycharm": {
     "name": "#%%\n"
    }
   }
  },
  {
   "cell_type": "markdown",
   "source": [
    "# 3. Temporal analysis"
   ],
   "metadata": {
    "collapsed": false,
    "pycharm": {
     "name": "#%% md\n"
    }
   }
  },
  {
   "cell_type": "markdown",
   "source": [
    "## 3.1. Cue-aligned"
   ],
   "metadata": {
    "collapsed": false,
    "pycharm": {
     "name": "#%% md\n"
    }
   }
  },
  {
   "cell_type": "code",
   "execution_count": 43,
   "outputs": [],
   "source": [
    "importlib.reload(proc)\n",
    "\n",
    "src_path, dst_path = fh.gen_paths(pth=data_path, src_fldr=path_cue_aligned_not_resampled, dst_fldr='results')\n",
    "\n",
    "# Calculate the grand averages per subject:\n",
    "proc.grand_avg_per_subject(src_path, dst_path, subjects, split_id=0)\n",
    "proc.grand_avg_per_subject(src_path, dst_path, subjects, split_id=1)\n",
    "proc.grand_avg_per_subject(src_path, dst_path, subjects, split_id=2)\n",
    "proc.grand_avg_per_subject(src_path, dst_path, subjects, split_id=3)"
   ],
   "metadata": {
    "collapsed": false,
    "pycharm": {
     "name": "#%%\n"
    }
   }
  },
  {
   "cell_type": "code",
   "execution_count": 63,
   "outputs": [],
   "source": [
    "importlib.reload(proc)\n",
    "\n",
    "src_path, dst_path = fh.gen_paths(pth=data_path, src_fldr=path_cue_aligned_not_resampled, dst_fldr='results')\n",
    "\n",
    "# Get timings of the cues:\n",
    "# TODO: Add split if necessary to separate between conditions.\n",
    "proc.get_timings(src_path, dst_path, subjects, split_id=0)\n",
    "# proc.get_timings(src_path, dst_path, split_id=1, alignment='cue-aligned')\n",
    "# proc.get_timings(src_path, dst_path, split_id=2, alignment='cue-aligned')\n",
    "# proc.get_timings(src_path, dst_path, split_id=3, alignment='cue-aligned')"
   ],
   "metadata": {
    "collapsed": false,
    "pycharm": {
     "name": "#%%\n"
    }
   }
  },
  {
   "cell_type": "code",
   "execution_count": 44,
   "outputs": [],
   "source": [
    "importlib.reload(proc)\n",
    "\n",
    "src_path, dst_path = fh.gen_paths(pth=data_path, src_fldr='results', dst_fldr='results')\n",
    "\n",
    "# Calculate the condition specific grand averages over all subjects:\n",
    "proc.grand_avg(src_path, dst_path, split_id=0, alignment='cue-aligned')\n",
    "proc.grand_avg(src_path, dst_path, split_id=1, alignment='cue-aligned')\n",
    "proc.grand_avg(src_path, dst_path, split_id=2, alignment='cue-aligned')\n",
    "proc.grand_avg(src_path, dst_path, split_id=3, alignment='cue-aligned')"
   ],
   "metadata": {
    "collapsed": false,
    "pycharm": {
     "name": "#%%\n"
    }
   }
  },
  {
   "cell_type": "code",
   "execution_count": 40,
   "outputs": [
    {
     "name": "stdout",
     "output_type": "stream",
     "text": [
      "One condition took me: 90.39\n"
     ]
    }
   ],
   "source": [
    "importlib.reload(proc)\n",
    "\n",
    "src_path, dst_path = fh.gen_paths(pth=data_path, src_fldr='results', dst_fldr='results')\n",
    "\n",
    "# Calculate the confidence interval:\n",
    "proc.confidence_interval(src_path, dst_path, split_id=0, alignment='cue-aligned')"
   ],
   "metadata": {
    "collapsed": false,
    "pycharm": {
     "name": "#%%\n"
    }
   }
  },
  {
   "cell_type": "code",
   "execution_count": 42,
   "outputs": [
    {
     "name": "stdout",
     "output_type": "stream",
     "text": [
      "One condition took me: 90.68\n",
      "One condition took me: 90.5\n"
     ]
    }
   ],
   "source": [
    "proc.confidence_interval(src_path, dst_path, split_id=1, alignment='cue-aligned')"
   ],
   "metadata": {
    "collapsed": false,
    "pycharm": {
     "name": "#%%\n"
    }
   }
  },
  {
   "cell_type": "code",
   "execution_count": 43,
   "outputs": [
    {
     "name": "stdout",
     "output_type": "stream",
     "text": [
      "One condition took me: 89.95\n",
      "One condition took me: 89.97\n",
      "One condition took me: 89.07\n",
      "One condition took me: 94.57\n"
     ]
    }
   ],
   "source": [
    "proc.confidence_interval(src_path, dst_path, split_id=2, alignment='cue-aligned')"
   ],
   "metadata": {
    "collapsed": false,
    "pycharm": {
     "name": "#%%\n"
    }
   }
  },
  {
   "cell_type": "code",
   "execution_count": 44,
   "outputs": [
    {
     "name": "stdout",
     "output_type": "stream",
     "text": [
      "One condition took me: 100.12\n",
      "One condition took me: 99.41\n",
      "One condition took me: 92.45\n",
      "One condition took me: 96.55\n",
      "One condition took me: 104.07\n"
     ]
    }
   ],
   "source": [
    "proc.confidence_interval(src_path, dst_path, split_id=3, alignment='cue-aligned')"
   ],
   "metadata": {
    "collapsed": false,
    "pycharm": {
     "name": "#%%\n"
    }
   }
  },
  {
   "cell_type": "markdown",
   "source": [
    "## 3.2. Movement-aligned"
   ],
   "metadata": {
    "collapsed": false,
    "pycharm": {
     "name": "#%% md\n"
    }
   }
  },
  {
   "cell_type": "code",
   "execution_count": 65,
   "outputs": [],
   "source": [
    "importlib.reload(proc)\n",
    "\n",
    "src_path, dst_path = fh.gen_paths(pth=data_path, src_fldr=path_movement_aligned_not_resampled, dst_fldr='results')\n",
    "\n",
    "# Calculate the grand averages per subject:\n",
    "proc.grand_avg_per_subject(src_path, dst_path, subjects, split_id=0)\n",
    "proc.grand_avg_per_subject(src_path, dst_path, subjects, split_id=1)\n",
    "proc.grand_avg_per_subject(src_path, dst_path, subjects, split_id=2)\n",
    "proc.grand_avg_per_subject(src_path, dst_path, subjects, split_id=3)"
   ],
   "metadata": {
    "collapsed": false,
    "pycharm": {
     "name": "#%%\n"
    }
   }
  },
  {
   "cell_type": "code",
   "execution_count": 67,
   "outputs": [],
   "source": [
    "importlib.reload(proc)\n",
    "\n",
    "src_path, dst_path = fh.gen_paths(pth=data_path, src_fldr=path_movement_aligned_not_resampled, dst_fldr='results')\n",
    "\n",
    "# Get timings of the cues:\n",
    "# TODO: Add split if necessary to separate between conditions.\n",
    "proc.get_timings(src_path, dst_path, subjects, split_id=0)\n",
    "# proc.get_timings(src_path, dst_path, split_id=1, alignment='cue-aligned')\n",
    "# proc.get_timings(src_path, dst_path, split_id=2, alignment='cue-aligned')\n",
    "# proc.get_timings(src_path, dst_path, split_id=3, alignment='cue-aligned')"
   ],
   "metadata": {
    "collapsed": false,
    "pycharm": {
     "name": "#%%\n"
    }
   }
  },
  {
   "cell_type": "code",
   "execution_count": 69,
   "outputs": [],
   "source": [
    "importlib.reload(proc)\n",
    "\n",
    "src_path, dst_path = fh.gen_paths(pth=data_path, src_fldr='results', dst_fldr='results')\n",
    "\n",
    "# Calculate the condition specific grand averages over all subjects:\n",
    "proc.grand_avg(src_path, dst_path, split_id=0, alignment='movement-aligned')\n",
    "proc.grand_avg(src_path, dst_path, split_id=1, alignment='movement-aligned')\n",
    "proc.grand_avg(src_path, dst_path, split_id=2, alignment='movement-aligned')\n",
    "proc.grand_avg(src_path, dst_path, split_id=3, alignment='movement-aligned')"
   ],
   "metadata": {
    "collapsed": false,
    "pycharm": {
     "name": "#%%\n"
    }
   }
  },
  {
   "cell_type": "code",
   "execution_count": 45,
   "outputs": [
    {
     "name": "stdout",
     "output_type": "stream",
     "text": [
      "One condition took me: 133.16\n"
     ]
    }
   ],
   "source": [
    "importlib.reload(proc)\n",
    "\n",
    "src_path, dst_path = fh.gen_paths(pth=data_path, src_fldr='results', dst_fldr='results')\n",
    "\n",
    "# Calculate the confidence interval:\n",
    "proc.confidence_interval(src_path, dst_path, split_id=0, alignment='movement-aligned')"
   ],
   "metadata": {
    "collapsed": false,
    "pycharm": {
     "name": "#%%\n"
    }
   }
  },
  {
   "cell_type": "code",
   "execution_count": 46,
   "outputs": [
    {
     "name": "stdout",
     "output_type": "stream",
     "text": [
      "One condition took me: 126.99\n",
      "One condition took me: 149.0\n"
     ]
    }
   ],
   "source": [
    "proc.confidence_interval(src_path, dst_path, split_id=1, alignment='movement-aligned')"
   ],
   "metadata": {
    "collapsed": false,
    "pycharm": {
     "name": "#%%\n"
    }
   }
  },
  {
   "cell_type": "code",
   "execution_count": 47,
   "outputs": [
    {
     "name": "stdout",
     "output_type": "stream",
     "text": [
      "One condition took me: 129.74\n",
      "One condition took me: 126.19\n",
      "One condition took me: 131.33\n",
      "One condition took me: 124.78\n"
     ]
    }
   ],
   "source": [
    "proc.confidence_interval(src_path, dst_path, split_id=2, alignment='movement-aligned')"
   ],
   "metadata": {
    "collapsed": false,
    "pycharm": {
     "name": "#%%\n"
    }
   }
  },
  {
   "cell_type": "code",
   "execution_count": 48,
   "outputs": [
    {
     "name": "stdout",
     "output_type": "stream",
     "text": [
      "One condition took me: 123.58\n",
      "One condition took me: 124.33\n",
      "One condition took me: 124.72\n",
      "One condition took me: 131.15\n",
      "One condition took me: 126.95\n"
     ]
    }
   ],
   "source": [
    "proc.confidence_interval(src_path, dst_path, split_id=3, alignment='movement-aligned')"
   ],
   "metadata": {
    "collapsed": false,
    "pycharm": {
     "name": "#%%\n"
    }
   }
  },
  {
   "cell_type": "markdown",
   "source": [
    "# 4. Classification analysis"
   ],
   "metadata": {
    "collapsed": false,
    "pycharm": {
     "name": "#%% md\n"
    }
   }
  },
  {
   "cell_type": "markdown",
   "source": [
    "## 4.1. Cue-aligned"
   ],
   "metadata": {
    "collapsed": false,
    "pycharm": {
     "name": "#%% md\n"
    }
   }
  },
  {
   "cell_type": "code",
   "execution_count": 4,
   "outputs": [],
   "source": [
    "# Get source and destination path + create destintation folder if it does not exist.\n",
    "src_path, dst_path = fh.gen_paths(pth=data_path, src_fldr=path_cue_aligned_resampled, dst_fldr='results')\n",
    "\n",
    "# Iterate over each subject and extract the streams\n",
    "start = time.time()\n",
    "for i, subject in enumerate(subjects):\n",
    "    print(f'Classifying cue-aligned for subject {subject}')\n",
    "\n",
    "    ### Distance\n",
    "    # Classify the epochs for 1 timepoint:\n",
    "    clas.classify(src=src_path, dst=dst_path, sbj=subject, condition='distance', n_timepoints=1, loo=True)\n",
    "    # Classify the epochs for 6 timepoints:\n",
    "    clas.classify(src=src_path, dst=dst_path, sbj=subject, condition='distance', n_timepoints=6, loo=True)\n",
    "\n",
    "    ### Direction\n",
    "    # Classify the epochs for 1 timepoint:\n",
    "    clas.classify(src=src_path, dst=dst_path, sbj=subject, condition='direction', n_timepoints=1, loo=True)\n",
    "    # Classify the epochs for 6 timepoints:\n",
    "    clas.classify(src=src_path, dst=dst_path, sbj=subject, condition='direction', n_timepoints=6, loo=True)\n",
    "\n",
    "    ### Direction short\n",
    "    # Classify the epochs for 1 timepoint:\n",
    "    clas.classify(src=src_path, dst=dst_path, sbj=subject, condition='direction_short', n_timepoints=1, loo=True)\n",
    "    # Classify the epochs for 6 timepoints:\n",
    "    clas.classify(src=src_path, dst=dst_path, sbj=subject, condition='direction_short', n_timepoints=6, loo=True)\n",
    "\n",
    "    ### Direction long\n",
    "    # Classify the epochs for 1 timepoint:\n",
    "    clas.classify(src=src_path, dst=dst_path, sbj=subject, condition='direction_long', n_timepoints=1, loo=True)\n",
    "    # Classify the epochs for 6 timepoints:\n",
    "    clas.classify(src=src_path, dst=dst_path, sbj=subject, condition='direction_long', n_timepoints=6, loo=True)\n",
    "\n",
    "    ### Position\n",
    "    # Classify the epochs for 1 timepoint:\n",
    "    clas.classify(src=src_path, dst=dst_path, sbj=subject, condition='position', n_timepoints=1, loo=True)\n",
    "    # Classify the epochs for 6 timepoints:\n",
    "    clas.classify(src=src_path, dst=dst_path, sbj=subject, condition='position', n_timepoints=6, loo=True)\n",
    "\n",
    "\n",
    "print(f'Finished classifying, took me {round(time.time() - start)} seconds...')"
   ],
   "metadata": {
    "collapsed": false,
    "pycharm": {
     "name": "#%%\n"
    }
   }
  },
  {
   "cell_type": "markdown",
   "source": [
    "## 4.2. Movement-aligned"
   ],
   "metadata": {
    "collapsed": false,
    "pycharm": {
     "name": "#%% md\n"
    }
   }
  },
  {
   "cell_type": "code",
   "execution_count": null,
   "outputs": [],
   "source": [
    "# Get source and destination path + create destintation folder if it does not exist.\n",
    "src_path, dst_path = fh.gen_paths(pth=data_path, src_fldr='2023_03_22_epoched_movement_aligned', dst_fldr='results')\n",
    "\n",
    "# Iterate over each subject and extract the streams\n",
    "start = time.time()\n",
    "for i, subject in enumerate(subjects):\n",
    "    print(f'Classifying movement-aligned for subject {subject}')\n",
    "\n",
    "    ### Distance\n",
    "    # Classify the epochs for 1 timepoint:\n",
    "    clas.classify(src=src_path, dst=dst_path, sbj=subject, condition='distance', n_timepoints=1, loo=True)\n",
    "    # Classify the epochs for 6 timepoints:\n",
    "    clas.classify(src=src_path, dst=dst_path, sbj=subject, condition='distance', n_timepoints=6, loo=True)\n",
    "\n",
    "    ### Direction\n",
    "    # Classify the epochs for 1 timepoint:\n",
    "    clas.classify(src=src_path, dst=dst_path, sbj=subject, condition='direction', n_timepoints=1, loo=True)\n",
    "    # Classify the epochs for 6 timepoints:\n",
    "    clas.classify(src=src_path, dst=dst_path, sbj=subject, condition='direction', n_timepoints=6, loo=True)\n",
    "\n",
    "    ### Direction short\n",
    "    # Classify the epochs for 1 timepoint:\n",
    "    clas.classify(src=src_path, dst=dst_path, sbj=subject, condition='direction_short', n_timepoints=1, loo=True)\n",
    "    # Classify the epochs for 6 timepoints:\n",
    "    clas.classify(src=src_path, dst=dst_path, sbj=subject, condition='direction_short', n_timepoints=6, loo=True)\n",
    "\n",
    "    ### Direction long\n",
    "    # Classify the epochs for 1 timepoint:\n",
    "    clas.classify(src=src_path, dst=dst_path, sbj=subject, condition='direction_long', n_timepoints=1, loo=True)\n",
    "    # Classify the epochs for 6 timepoints:\n",
    "    clas.classify(src=src_path, dst=dst_path, sbj=subject, condition='direction_long', n_timepoints=6, loo=True)\n",
    "\n",
    "    # Classify the epochs for 1 timepoint:\n",
    "    clas.classify(src=src_path, dst=dst_path, sbj=subject, condition='position', n_timepoints=1, loo=True)\n",
    "    # Classify the epochs for 6 timepoints:\n",
    "    clas.classify(src=src_path, dst=dst_path, sbj=subject, condition='position', n_timepoints=6, loo=True)\n",
    "\n",
    "\n",
    "print(f'Finished classifiying, took me {round(time.time() - start)} seconds...')"
   ],
   "metadata": {
    "collapsed": false,
    "pycharm": {
     "name": "#%%\n"
    }
   }
  },
  {
   "cell_type": "markdown",
   "source": [
    "## 4.3. Mean and CI calculation for cue- & movement-aligned"
   ],
   "metadata": {
    "collapsed": false,
    "pycharm": {
     "name": "#%% md\n"
    }
   }
  },
  {
   "cell_type": "code",
   "execution_count": 50,
   "outputs": [
    {
     "name": "stdout",
     "output_type": "stream",
     "text": [
      "cue-aligned distance 1\n",
      "cue-aligned direction 1\n",
      "cue-aligned direction_short 1\n",
      "cue-aligned direction_long 1\n",
      "cue-aligned position 1\n",
      "cue-aligned distance 6\n",
      "cue-aligned direction 6\n",
      "cue-aligned direction_short 6\n",
      "cue-aligned direction_long 6\n",
      "cue-aligned position 6\n",
      "movement_aligned distance 1\n",
      "movement_aligned direction 1\n",
      "movement_aligned direction_short 1\n",
      "movement_aligned direction_long 1\n",
      "movement_aligned position 1\n",
      "movement_aligned distance 6\n",
      "movement_aligned direction 6\n",
      "movement_aligned direction_short 6\n",
      "movement_aligned direction_long 6\n",
      "movement_aligned position 6\n",
      "Calculation took me: 9.423024654388428seconds.\n"
     ]
    }
   ],
   "source": [
    "importlib.reload(proc)\n",
    "# Get source and destination path + create destintation folder if it does not exist.\n",
    "src_path, dst_path = fh.gen_paths(pth=data_path, src_fldr='results', dst_fldr='results')\n",
    "\n",
    "proc.classification_mean_and_ci(src_path, dst_path)"
   ],
   "metadata": {
    "collapsed": false,
    "pycharm": {
     "name": "#%%\n"
    }
   }
  },
  {
   "cell_type": "markdown",
   "source": [
    "# 5. Encoding of conditions"
   ],
   "metadata": {
    "collapsed": false,
    "pycharm": {
     "name": "#%% md\n"
    }
   }
  },
  {
   "cell_type": "markdown",
   "source": [
    "## 5.1. Calculate the GLM"
   ],
   "metadata": {
    "collapsed": false,
    "pycharm": {
     "name": "#%% md\n"
    }
   }
  },
  {
   "cell_type": "code",
   "execution_count": 51,
   "outputs": [
    {
     "data": {
      "text/plain": "array([ 0.0595348 , -0.00756804])"
     },
     "execution_count": 51,
     "metadata": {},
     "output_type": "execute_result"
    }
   ],
   "source": [
    "import numpy as np\n",
    "from sklearn.covariance import LedoitWolf\n",
    "real_cov = np.array([[.4, .2], [.2, .8]])\n",
    "np.random.seed(0)\n",
    "X = np.random.multivariate_normal(mean=[0, 0], cov=real_cov, size=50)\n",
    "cov = LedoitWolf().fit(X)\n",
    "cov.covariance_\n",
    "cov.location_"
   ],
   "metadata": {
    "collapsed": false,
    "pycharm": {
     "name": "#%%\n"
    }
   }
  },
  {
   "cell_type": "code",
   "execution_count": 52,
   "outputs": [],
   "source": [
    "X = np.array([1,2,3])\n",
    "Y = np.array([4,5,6])"
   ],
   "metadata": {
    "collapsed": false,
    "pycharm": {
     "name": "#%%\n"
    }
   }
  },
  {
   "cell_type": "code",
   "execution_count": 54,
   "outputs": [],
   "source": [
    "x = X - X.mean()\n",
    "y = Y - Y.mean()"
   ],
   "metadata": {
    "collapsed": false,
    "pycharm": {
     "name": "#%%\n"
    }
   }
  },
  {
   "cell_type": "code",
   "execution_count": 64,
   "outputs": [],
   "source": [
    "S = np.ones((5,360))"
   ],
   "metadata": {
    "collapsed": false,
    "pycharm": {
     "name": "#%%\n"
    }
   }
  },
  {
   "cell_type": "code",
   "execution_count": 69,
   "outputs": [
    {
     "data": {
      "text/plain": "array([[360., 360., 360., 360., 360.],\n       [360., 360., 360., 360., 360.],\n       [360., 360., 360., 360., 360.],\n       [360., 360., 360., 360., 360.],\n       [360., 360., 360., 360., 360.]])"
     },
     "execution_count": 69,
     "metadata": {},
     "output_type": "execute_result"
    }
   ],
   "source": [
    "S.dot(S.T)"
   ],
   "metadata": {
    "collapsed": false,
    "pycharm": {
     "name": "#%%\n"
    }
   }
  },
  {
   "cell_type": "code",
   "execution_count": 74,
   "outputs": [],
   "source": [
    "importlib.reload(proc)\n",
    "\n",
    "src_path, dst_path = fh.gen_paths(pth=data_path, src_fldr=path_cue_aligned_not_resampled, dst_fldr='results')\n",
    "\n",
    "markers =  proc.glm(src_path, dst_path, 'A01')"
   ],
   "metadata": {
    "collapsed": false,
    "pycharm": {
     "name": "#%%\n"
    }
   }
  },
  {
   "cell_type": "code",
   "execution_count": 76,
   "outputs": [],
   "source": [
    "longs = [m for m in markers if '-l' in m]\n",
    "shorts = [m for m in markers if '-s' in m]\n",
    "left_dir = [m for m in markers if 'RTL' in m]\n",
    "right_dir = [m for m in markers if 'LTR' in m]\n",
    "up_dir = [m for m in markers if 'BTT' in m]\n",
    "down_dir = [m for m in markers if 'TTB' in m]\n",
    "center_pos = [m for m in markers if '-s' in m]\n",
    "left_pos = [m for m in markers if 'RTL-l' in m]\n",
    "right_pos = [m for m in markers if 'LTR-l' in m]\n",
    "top_pos = [m for m in markers if 'BTT-l' in m]\n",
    "bot_pos = [m for m in markers if 'TTB-l' in m]\n",
    "\n",
    "min_len = min(len(left_pos), len(right_pos), len(top_pos), len(left_pos), len(center_pos))"
   ],
   "metadata": {
    "collapsed": false,
    "pycharm": {
     "name": "#%%\n"
    }
   }
  }
 ],
 "metadata": {
  "kernelspec": {
   "display_name": "Python 3",
   "language": "python",
   "name": "python3"
  },
  "language_info": {
   "codemirror_mode": {
    "name": "ipython",
    "version": 2
   },
   "file_extension": ".py",
   "mimetype": "text/x-python",
   "name": "python",
   "nbconvert_exporter": "python",
   "pygments_lexer": "ipython2",
   "version": "2.7.6"
  }
 },
 "nbformat": 4,
 "nbformat_minor": 0
}