{
 "cells": [
  {
   "cell_type": "code",
   "execution_count": 2,
   "metadata": {
    "collapsed": true
   },
   "outputs": [],
   "source": [
    "%reset"
   ]
  },
  {
   "cell_type": "markdown",
   "source": [
    "# 1. Imports"
   ],
   "metadata": {
    "collapsed": false,
    "pycharm": {
     "name": "#%% md\n"
    }
   }
  },
  {
   "cell_type": "code",
   "execution_count": 8,
   "outputs": [
    {
     "data": {
      "text/plain": "<module 'custom_modules.processing_ptu' from 'C:\\\\Users\\\\peter\\\\Documents\\\\Code\\\\master-thesis\\\\03_analysis\\\\custom_modules\\\\processing_ptu.py'>"
     },
     "execution_count": 8,
     "metadata": {},
     "output_type": "execute_result"
    }
   ],
   "source": [
    "import mne\n",
    "import time\n",
    "import os\n",
    "import numpy as np\n",
    "import custom_modules.xdf_to_fif_converter as xtfc\n",
    "import custom_modules.preprocessing_ptu as prep\n",
    "import custom_modules.file_handling as  fh\n",
    "import custom_modules.processing_ptu as proc\n",
    "\n",
    "import importlib\n",
    "importlib.reload(xtfc)\n",
    "importlib.reload(prep)\n",
    "importlib.reload(fh)\n",
    "importlib.reload(proc)"
   ],
   "metadata": {
    "collapsed": false,
    "pycharm": {
     "name": "#%%\n"
    }
   }
  },
  {
   "cell_type": "markdown",
   "source": [
    "# 2. Constants"
   ],
   "metadata": {
    "collapsed": false,
    "pycharm": {
     "name": "#%% md\n"
    }
   }
  },
  {
   "cell_type": "code",
   "execution_count": 5,
   "outputs": [],
   "source": [
    "data_path = 'D:/Diplomarbeit_data/eeg/'\n",
    "subjects = ['A01', 'A02', 'A03', 'A04', 'A05', 'A06', 'A07' , 'A08', 'A09', 'A10']\n",
    "trial_type_markers = ['LTR-s', 'LTR-l','RTL-s', 'RTL-l', 'TTB-s', 'TTB-l', 'BTT-s', 'BTT-l']\n",
    "\n",
    "# Paths to interface files:\n",
    "path_cue_aligned_resampled = '2023_03_22_epoched_cue_aligned'\n",
    "path_movement_aligned_resampled = '2023_03_22_epoched_movement_aligned'\n",
    "path_cue_aligned_not_resampled = '2023_03_22_epoched_cue_aligned_not_resampled'\n",
    "path_movement_aligned_not_resampled = '2023_03_22_epoched_movement_aligned_not_resampled'\n",
    "\n",
    "mne.set_log_level('WARNING') #'INFO' 'WARNING'"
   ],
   "metadata": {
    "collapsed": false,
    "pycharm": {
     "name": "#%%\n"
    }
   }
  },
  {
   "cell_type": "markdown",
   "source": [
    "# 3. Temporal analysis"
   ],
   "metadata": {
    "collapsed": false,
    "pycharm": {
     "name": "#%% md\n"
    }
   }
  },
  {
   "cell_type": "markdown",
   "source": [
    "## 3.1. Cue-aligned"
   ],
   "metadata": {
    "collapsed": false,
    "pycharm": {
     "name": "#%% md\n"
    }
   }
  },
  {
   "cell_type": "code",
   "execution_count": 43,
   "outputs": [],
   "source": [
    "importlib.reload(proc)\n",
    "\n",
    "src_path, dst_path = fh.gen_paths(pth=data_path, src_fldr=path_cue_aligned_not_resampled, dst_fldr='results')\n",
    "\n",
    "# Calculate the grand averages per subject:\n",
    "proc.grand_avg_per_subject(src_path, dst_path, subjects, split_id=0)\n",
    "proc.grand_avg_per_subject(src_path, dst_path, subjects, split_id=1)\n",
    "proc.grand_avg_per_subject(src_path, dst_path, subjects, split_id=2)\n",
    "proc.grand_avg_per_subject(src_path, dst_path, subjects, split_id=3)"
   ],
   "metadata": {
    "collapsed": false,
    "pycharm": {
     "name": "#%%\n"
    }
   }
  },
  {
   "cell_type": "code",
   "execution_count": 63,
   "outputs": [],
   "source": [
    "importlib.reload(proc)\n",
    "\n",
    "src_path, dst_path = fh.gen_paths(pth=data_path, src_fldr=path_cue_aligned_not_resampled, dst_fldr='results')\n",
    "\n",
    "# Get timings of the cues:\n",
    "# TODO: Add split if necessary to separate between conditions.\n",
    "proc.get_timings(src_path, dst_path, subjects, split_id=0)\n",
    "# proc.get_timings(src_path, dst_path, split_id=1, alignment='cue-aligned')\n",
    "# proc.get_timings(src_path, dst_path, split_id=2, alignment='cue-aligned')\n",
    "# proc.get_timings(src_path, dst_path, split_id=3, alignment='cue-aligned')"
   ],
   "metadata": {
    "collapsed": false,
    "pycharm": {
     "name": "#%%\n"
    }
   }
  },
  {
   "cell_type": "code",
   "execution_count": 44,
   "outputs": [],
   "source": [
    "importlib.reload(proc)\n",
    "\n",
    "src_path, dst_path = fh.gen_paths(pth=data_path, src_fldr='results', dst_fldr='results')\n",
    "\n",
    "# Calculate the condition specific grand averages over all subjects:\n",
    "proc.grand_avg(src_path, dst_path, split_id=0, alignment='cue-aligned')\n",
    "proc.grand_avg(src_path, dst_path, split_id=1, alignment='cue-aligned')\n",
    "proc.grand_avg(src_path, dst_path, split_id=2, alignment='cue-aligned')\n",
    "proc.grand_avg(src_path, dst_path, split_id=3, alignment='cue-aligned')"
   ],
   "metadata": {
    "collapsed": false,
    "pycharm": {
     "name": "#%%\n"
    }
   }
  },
  {
   "cell_type": "code",
   "execution_count": 62,
   "outputs": [
    {
     "name": "stdout",
     "output_type": "stream",
     "text": [
      "One channel took me: 0.28 chan: 60\r"
     ]
    }
   ],
   "source": [
    "importlib.reload(proc)\n",
    "\n",
    "src_path, dst_path = fh.gen_paths(pth=data_path, src_fldr='results', dst_fldr='results')\n",
    "\n",
    "# Calculate the confidence interval:\n",
    "proc.confidence_interval(src_path, dst_path, split_id=0, alignment='cue-aligned')\n",
    "proc.confidence_interval(src_path, dst_path, split_id=1, alignment='cue-aligned')\n",
    "proc.confidence_interval(src_path, dst_path, split_id=2, alignment='cue-aligned')\n",
    "proc.confidence_interval(src_path, dst_path, split_id=3, alignment='cue-aligned')"
   ],
   "metadata": {
    "collapsed": false,
    "pycharm": {
     "name": "#%%\n"
    }
   }
  },
  {
   "cell_type": "code",
   "execution_count": null,
   "outputs": [],
   "source": [],
   "metadata": {
    "collapsed": false,
    "pycharm": {
     "name": "#%%\n"
    }
   }
  },
  {
   "cell_type": "code",
   "execution_count": null,
   "outputs": [],
   "source": [],
   "metadata": {
    "collapsed": false,
    "pycharm": {
     "name": "#%%\n"
    }
   }
  },
  {
   "cell_type": "markdown",
   "source": [
    "## 3.2. Movement-aligned"
   ],
   "metadata": {
    "collapsed": false,
    "pycharm": {
     "name": "#%% md\n"
    }
   }
  },
  {
   "cell_type": "code",
   "execution_count": null,
   "outputs": [],
   "source": [],
   "metadata": {
    "collapsed": false,
    "pycharm": {
     "name": "#%%\n"
    }
   }
  },
  {
   "cell_type": "markdown",
   "source": [
    "# 4. Classification analysis"
   ],
   "metadata": {
    "collapsed": false,
    "pycharm": {
     "name": "#%% md\n"
    }
   }
  },
  {
   "cell_type": "code",
   "execution_count": 4,
   "outputs": [],
   "source": [],
   "metadata": {
    "collapsed": false,
    "pycharm": {
     "name": "#%%\n"
    }
   }
  },
  {
   "cell_type": "markdown",
   "source": [
    "# 5. Encoding of conditions"
   ],
   "metadata": {
    "collapsed": false,
    "pycharm": {
     "name": "#%% md\n"
    }
   }
  },
  {
   "cell_type": "code",
   "execution_count": null,
   "outputs": [],
   "source": [],
   "metadata": {
    "collapsed": false,
    "pycharm": {
     "name": "#%%\n"
    }
   }
  }
 ],
 "metadata": {
  "kernelspec": {
   "display_name": "Python 3",
   "language": "python",
   "name": "python3"
  },
  "language_info": {
   "codemirror_mode": {
    "name": "ipython",
    "version": 2
   },
   "file_extension": ".py",
   "mimetype": "text/x-python",
   "name": "python",
   "nbconvert_exporter": "python",
   "pygments_lexer": "ipython2",
   "version": "2.7.6"
  }
 },
 "nbformat": 4,
 "nbformat_minor": 0
}