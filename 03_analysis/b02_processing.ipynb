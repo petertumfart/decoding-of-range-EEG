{
 "cells": [
  {
   "cell_type": "code",
   "execution_count": 2,
   "metadata": {
    "collapsed": true
   },
   "outputs": [],
   "source": [
    "%reset"
   ]
  },
  {
   "cell_type": "markdown",
   "source": [
    "# 1. Imports"
   ],
   "metadata": {
    "collapsed": false,
    "pycharm": {
     "name": "#%% md\n"
    }
   }
  },
  {
   "cell_type": "code",
   "execution_count": 1,
   "outputs": [
    {
     "data": {
      "text/plain": "<module 'custom_modules.classification_ptu' from 'C:\\\\Users\\\\peter\\\\Documents\\\\Code\\\\master-thesis\\\\03_analysis\\\\custom_modules\\\\classification_ptu.py'>"
     },
     "execution_count": 1,
     "metadata": {},
     "output_type": "execute_result"
    }
   ],
   "source": [
    "import mne\n",
    "import time\n",
    "import os\n",
    "import numpy as np\n",
    "import custom_modules.xdf_to_fif_converter as xtfc\n",
    "import custom_modules.preprocessing_ptu as prep\n",
    "import custom_modules.file_handling as  fh\n",
    "import custom_modules.processing_ptu as proc\n",
    "import custom_modules.classification_ptu as clas\n",
    "\n",
    "import importlib\n",
    "importlib.reload(xtfc)\n",
    "importlib.reload(prep)\n",
    "importlib.reload(fh)\n",
    "importlib.reload(proc)\n",
    "importlib.reload(clas)"
   ],
   "metadata": {
    "collapsed": false,
    "pycharm": {
     "name": "#%%\n"
    }
   }
  },
  {
   "cell_type": "markdown",
   "source": [
    "# 2. Constants"
   ],
   "metadata": {
    "collapsed": false,
    "pycharm": {
     "name": "#%% md\n"
    }
   }
  },
  {
   "cell_type": "code",
   "execution_count": 2,
   "outputs": [],
   "source": [
    "data_path = 'D:/Diplomarbeit_data/eeg/'\n",
    "subjects = ['A01', 'A02', 'A03', 'A04', 'A05', 'A06', 'A07' , 'A08', 'A09', 'A10']\n",
    "trial_type_markers = ['LTR-s', 'LTR-l','RTL-s', 'RTL-l', 'TTB-s', 'TTB-l', 'BTT-s', 'BTT-l']\n",
    "\n",
    "# Paths to interface files:\n",
    "path_cue_aligned_resampled = '2023_03_22_epoched_cue_aligned'\n",
    "path_movement_aligned_resampled = '2023_03_22_epoched_movement_aligned'\n",
    "path_cue_aligned_not_resampled = '2023_03_22_epoched_cue_aligned_not_resampled'\n",
    "path_movement_aligned_not_resampled = '2023_03_22_epoched_movement_aligned_not_resampled'\n",
    "\n",
    "__spec__ = None # For multiprocessing\n",
    "mne.set_log_level('WARNING') #'INFO' 'WARNING'"
   ],
   "metadata": {
    "collapsed": false,
    "pycharm": {
     "name": "#%%\n"
    }
   }
  },
  {
   "cell_type": "markdown",
   "source": [
    "# 3. Temporal analysis"
   ],
   "metadata": {
    "collapsed": false,
    "pycharm": {
     "name": "#%% md\n"
    }
   }
  },
  {
   "cell_type": "markdown",
   "source": [
    "## 3.1. Cue-aligned"
   ],
   "metadata": {
    "collapsed": false,
    "pycharm": {
     "name": "#%% md\n"
    }
   }
  },
  {
   "cell_type": "code",
   "execution_count": 43,
   "outputs": [],
   "source": [
    "importlib.reload(proc)\n",
    "\n",
    "src_path, dst_path = fh.gen_paths(pth=data_path, src_fldr=path_cue_aligned_not_resampled, dst_fldr='results')\n",
    "\n",
    "# Calculate the grand averages per subject:\n",
    "proc.grand_avg_per_subject(src_path, dst_path, subjects, split_id=0)\n",
    "proc.grand_avg_per_subject(src_path, dst_path, subjects, split_id=1)\n",
    "proc.grand_avg_per_subject(src_path, dst_path, subjects, split_id=2)\n",
    "proc.grand_avg_per_subject(src_path, dst_path, subjects, split_id=3)"
   ],
   "metadata": {
    "collapsed": false,
    "pycharm": {
     "name": "#%%\n"
    }
   }
  },
  {
   "cell_type": "code",
   "execution_count": 63,
   "outputs": [],
   "source": [
    "importlib.reload(proc)\n",
    "\n",
    "src_path, dst_path = fh.gen_paths(pth=data_path, src_fldr=path_cue_aligned_not_resampled, dst_fldr='results')\n",
    "\n",
    "# Get timings of the cues:\n",
    "# TODO: Add split if necessary to separate between conditions.\n",
    "proc.get_timings(src_path, dst_path, subjects, split_id=0)\n",
    "# proc.get_timings(src_path, dst_path, split_id=1, alignment='cue-aligned')\n",
    "# proc.get_timings(src_path, dst_path, split_id=2, alignment='cue-aligned')\n",
    "# proc.get_timings(src_path, dst_path, split_id=3, alignment='cue-aligned')"
   ],
   "metadata": {
    "collapsed": false,
    "pycharm": {
     "name": "#%%\n"
    }
   }
  },
  {
   "cell_type": "code",
   "execution_count": 44,
   "outputs": [],
   "source": [
    "importlib.reload(proc)\n",
    "\n",
    "src_path, dst_path = fh.gen_paths(pth=data_path, src_fldr='results', dst_fldr='results')\n",
    "\n",
    "# Calculate the condition specific grand averages over all subjects:\n",
    "proc.grand_avg(src_path, dst_path, split_id=0, alignment='cue-aligned')\n",
    "proc.grand_avg(src_path, dst_path, split_id=1, alignment='cue-aligned')\n",
    "proc.grand_avg(src_path, dst_path, split_id=2, alignment='cue-aligned')\n",
    "proc.grand_avg(src_path, dst_path, split_id=3, alignment='cue-aligned')"
   ],
   "metadata": {
    "collapsed": false,
    "pycharm": {
     "name": "#%%\n"
    }
   }
  },
  {
   "cell_type": "code",
   "execution_count": 11,
   "outputs": [
    {
     "name": "stdout",
     "output_type": "stream",
     "text": [
      "5\n",
      "(2, 1401)\n",
      "(2, 1401)\n",
      "(2, 1401)\n",
      "(2, 1401)\n",
      "(2, 1401)\n",
      "One condition took me: 137.2\n"
     ]
    }
   ],
   "source": [
    "importlib.reload(proc)\n",
    "\n",
    "src_path, dst_path = fh.gen_paths(pth=data_path, src_fldr='results', dst_fldr='results')\n",
    "\n",
    "# Calculate the confidence interval:\n",
    "proc.confidence_interval(src_path, dst_path, split_id=0, alignment='cue-aligned')"
   ],
   "metadata": {
    "collapsed": false,
    "pycharm": {
     "name": "#%%\n"
    }
   }
  },
  {
   "cell_type": "code",
   "execution_count": 83,
   "outputs": [
    {
     "name": "stdout",
     "output_type": "stream",
     "text": [
      "One channel took me: 63.6 chan: 00\n",
      "One channel took me: 56.99 chan: 01\n",
      "One channel took me: 59.68 chan: 02\n",
      "One channel took me: 56.72 chan: 03\n",
      "One channel took me: 56.74 chan: 04\n",
      "One channel took me: 56.78 chan: 05\n",
      "One channel took me: 56.8 chan: 06\n",
      "One channel took me: 58.32 chan: 07\n",
      "One channel took me: 57.44 chan: 08\n",
      "One channel took me: 57.66 chan: 09\n",
      "One channel took me: 57.59 chan: 10\n",
      "One channel took me: 57.24 chan: 11\n",
      "One channel took me: 57.2 chan: 12\n",
      "One channel took me: 56.95 chan: 13\n",
      "One channel took me: 57.11 chan: 14\n",
      "One channel took me: 56.78 chan: 15\n",
      "One channel took me: 55.9 chan: 16\n",
      "One channel took me: 57.65 chan: 17\n",
      "One channel took me: 57.36 chan: 18\n",
      "One channel took me: 57.21 chan: 19\n",
      "One channel took me: 56.48 chan: 20\n",
      "One channel took me: 56.86 chan: 21\n",
      "One channel took me: 56.7 chan: 22\n",
      "One channel took me: 62.44 chan: 23\n",
      "One channel took me: 57.66 chan: 24\n",
      "One channel took me: 57.3 chan: 25\n",
      "One channel took me: 57.69 chan: 26\n",
      "One channel took me: 57.45 chan: 27\n",
      "One channel took me: 57.06 chan: 28\n",
      "One channel took me: 62.06 chan: 29\n",
      "One channel took me: 56.98 chan: 30\n",
      "One channel took me: 57.85 chan: 31\n",
      "One channel took me: 56.59 chan: 32\n",
      "One channel took me: 57.41 chan: 33\n",
      "One channel took me: 57.41 chan: 34\n",
      "One channel took me: 56.88 chan: 35\n",
      "One channel took me: 56.41 chan: 36\n",
      "One channel took me: 56.78 chan: 37\n",
      "One channel took me: 56.25 chan: 38\n",
      "One channel took me: 57.15 chan: 39\n",
      "One channel took me: 56.68 chan: 40\n",
      "One channel took me: 57.31 chan: 41\n",
      "One channel took me: 58.01 chan: 42\n",
      "One channel took me: 57.1 chan: 43\n",
      "One channel took me: 57.88 chan: 44\n",
      "One channel took me: 57.25 chan: 45\n",
      "One channel took me: 57.0 chan: 46\n",
      "One channel took me: 55.98 chan: 47\n",
      "One channel took me: 57.05 chan: 48\n",
      "One channel took me: 58.36 chan: 49\n",
      "One channel took me: 57.35 chan: 50\n",
      "One channel took me: 57.08 chan: 51\n",
      "One channel took me: 57.75 chan: 52\n",
      "One channel took me: 57.24 chan: 53\n",
      "One channel took me: 57.26 chan: 54\n",
      "One channel took me: 56.99 chan: 55\n",
      "One channel took me: 56.81 chan: 56\n",
      "One channel took me: 57.25 chan: 57\n",
      "One channel took me: 56.95 chan: 58\n",
      "One channel took me: 56.41 chan: 59\n",
      "One channel took me: 57.12 chan: 60\n",
      "One channel took me: 57.88 chan: 00\n",
      "One channel took me: 56.97 chan: 01\n",
      "One channel took me: 57.25 chan: 02\n",
      "One channel took me: 56.91 chan: 03\n",
      "One channel took me: 60.4 chan: 04\n",
      "One channel took me: 56.62 chan: 05\n",
      "One channel took me: 56.81 chan: 06\n",
      "One channel took me: 56.88 chan: 07\n",
      "One channel took me: 56.52 chan: 08\n",
      "One channel took me: 57.27 chan: 09\n",
      "One channel took me: 57.35 chan: 10\n",
      "One channel took me: 56.75 chan: 11\n",
      "One channel took me: 57.1 chan: 12\n",
      "One channel took me: 56.93 chan: 13\n",
      "One channel took me: 57.08 chan: 14\n",
      "One channel took me: 57.74 chan: 15\n",
      "One channel took me: 56.43 chan: 16\n",
      "One channel took me: 56.99 chan: 17\n",
      "One channel took me: 56.52 chan: 18\n",
      "One channel took me: 57.35 chan: 19\n",
      "One channel took me: 56.9 chan: 20\n",
      "One channel took me: 57.39 chan: 21\n",
      "One channel took me: 56.93 chan: 22\n",
      "One channel took me: 56.12 chan: 23\n",
      "One channel took me: 57.1 chan: 24\n",
      "One channel took me: 56.58 chan: 25\n",
      "One channel took me: 57.47 chan: 26\n",
      "One channel took me: 57.27 chan: 27\n",
      "One channel took me: 56.73 chan: 28\n",
      "One channel took me: 56.82 chan: 29\n",
      "One channel took me: 57.4 chan: 30\n",
      "One channel took me: 60.18 chan: 31\n",
      "One channel took me: 57.46 chan: 32\n",
      "One channel took me: 57.31 chan: 33\n",
      "One channel took me: 56.6 chan: 34\n",
      "One channel took me: 56.58 chan: 35\n",
      "One channel took me: 57.58 chan: 36\n",
      "One channel took me: 56.34 chan: 37\n",
      "One channel took me: 56.02 chan: 38\n",
      "One channel took me: 56.73 chan: 39\n",
      "One channel took me: 55.82 chan: 40\n",
      "One channel took me: 57.36 chan: 41\n",
      "One channel took me: 82.07 chan: 42\n",
      "One channel took me: 80.6 chan: 43\n",
      "One channel took me: 71.72 chan: 44\n",
      "One channel took me: 72.43 chan: 45\n",
      "One channel took me: 59.84 chan: 46\n",
      "One channel took me: 58.09 chan: 47\n",
      "One channel took me: 56.95 chan: 48\n",
      "One channel took me: 57.5 chan: 49\n",
      "One channel took me: 58.17 chan: 50\n",
      "One channel took me: 57.09 chan: 51\n",
      "One channel took me: 57.2 chan: 52\n",
      "One channel took me: 58.19 chan: 53\n",
      "One channel took me: 57.2 chan: 54\n",
      "One channel took me: 57.08 chan: 55\n",
      "One channel took me: 57.21 chan: 56\n",
      "One channel took me: 56.58 chan: 57\n",
      "One channel took me: 56.79 chan: 58\n",
      "One channel took me: 56.44 chan: 59\n",
      "One channel took me: 56.52 chan: 60\n"
     ]
    }
   ],
   "source": [
    "proc.confidence_interval(src_path, dst_path, split_id=1, alignment='cue-aligned')"
   ],
   "metadata": {
    "collapsed": false,
    "pycharm": {
     "name": "#%%\n"
    }
   }
  },
  {
   "cell_type": "code",
   "execution_count": 84,
   "outputs": [
    {
     "name": "stdout",
     "output_type": "stream",
     "text": [
      "One channel took me: 56.84 chan: 00\n",
      "One channel took me: 56.94 chan: 01\n",
      "One channel took me: 56.77 chan: 02\n",
      "One channel took me: 56.51 chan: 03\n",
      "One channel took me: 58.29 chan: 04\n",
      "One channel took me: 57.57 chan: 05\n",
      "One channel took me: 56.15 chan: 06\n",
      "One channel took me: 56.17 chan: 07\n",
      "One channel took me: 55.71 chan: 08\n",
      "One channel took me: 56.49 chan: 09\n",
      "One channel took me: 56.15 chan: 10\n",
      "One channel took me: 56.06 chan: 11\n",
      "One channel took me: 56.22 chan: 12\n",
      "One channel took me: 56.05 chan: 13\n",
      "One channel took me: 55.91 chan: 14\n",
      "One channel took me: 56.37 chan: 15\n",
      "One channel took me: 55.87 chan: 16\n",
      "One channel took me: 56.55 chan: 17\n",
      "One channel took me: 56.11 chan: 18\n",
      "One channel took me: 56.6 chan: 19\n",
      "One channel took me: 56.78 chan: 20\n",
      "One channel took me: 56.23 chan: 21\n",
      "One channel took me: 56.08 chan: 22\n",
      "One channel took me: 56.78 chan: 23\n",
      "One channel took me: 57.0 chan: 24\n",
      "One channel took me: 57.76 chan: 25\n",
      "One channel took me: 57.1 chan: 26\n",
      "One channel took me: 56.55 chan: 27\n",
      "One channel took me: 56.91 chan: 28\n",
      "One channel took me: 57.45 chan: 29\n",
      "One channel took me: 56.79 chan: 30\n",
      "One channel took me: 56.61 chan: 31\n",
      "One channel took me: 56.97 chan: 32\n",
      "One channel took me: 61.64 chan: 33\n",
      "One channel took me: 56.62 chan: 34\n",
      "One channel took me: 56.94 chan: 35\n",
      "One channel took me: 56.38 chan: 36\n",
      "One channel took me: 56.11 chan: 37\n",
      "One channel took me: 56.26 chan: 38\n",
      "One channel took me: 56.21 chan: 39\n",
      "One channel took me: 56.16 chan: 40\n",
      "One channel took me: 55.89 chan: 41\n",
      "One channel took me: 56.13 chan: 42\n",
      "One channel took me: 55.73 chan: 43\n",
      "One channel took me: 55.53 chan: 44\n",
      "One channel took me: 55.87 chan: 45\n",
      "One channel took me: 56.39 chan: 46\n",
      "One channel took me: 56.49 chan: 47\n",
      "One channel took me: 56.96 chan: 48\n",
      "One channel took me: 57.72 chan: 49\n",
      "One channel took me: 57.35 chan: 50\n",
      "One channel took me: 57.95 chan: 51\n",
      "One channel took me: 58.13 chan: 52\n",
      "One channel took me: 56.32 chan: 53\n",
      "One channel took me: 54.99 chan: 54\n",
      "One channel took me: 55.96 chan: 55\n",
      "One channel took me: 56.48 chan: 56\n",
      "One channel took me: 56.63 chan: 57\n",
      "One channel took me: 56.72 chan: 58\n",
      "One channel took me: 56.29 chan: 59\n",
      "One channel took me: 57.77 chan: 60\n",
      "One channel took me: 57.48 chan: 00\n",
      "One channel took me: 56.04 chan: 01\n",
      "One channel took me: 56.52 chan: 02\n",
      "One channel took me: 57.19 chan: 03\n",
      "One channel took me: 55.46 chan: 04\n",
      "One channel took me: 57.39 chan: 05\n",
      "One channel took me: 57.17 chan: 06\n",
      "One channel took me: 60.0 chan: 07\n",
      "One channel took me: 56.63 chan: 08\n",
      "One channel took me: 57.1 chan: 09\n",
      "One channel took me: 56.16 chan: 10\n",
      "One channel took me: 56.82 chan: 11\n",
      "One channel took me: 57.31 chan: 12\n",
      "One channel took me: 56.41 chan: 13\n",
      "One channel took me: 56.6 chan: 14\n",
      "One channel took me: 57.51 chan: 15\n",
      "One channel took me: 56.51 chan: 16\n",
      "One channel took me: 57.09 chan: 17\n",
      "One channel took me: 56.84 chan: 18\n",
      "One channel took me: 55.91 chan: 19\n",
      "One channel took me: 56.31 chan: 20\n",
      "One channel took me: 57.3 chan: 21\n",
      "One channel took me: 57.19 chan: 22\n",
      "One channel took me: 57.09 chan: 23\n",
      "One channel took me: 56.75 chan: 24\n",
      "One channel took me: 57.43 chan: 25\n",
      "One channel took me: 55.86 chan: 26\n",
      "One channel took me: 54.61 chan: 27\n",
      "One channel took me: 63.1 chan: 28\n",
      "One channel took me: 56.38 chan: 29\n",
      "One channel took me: 56.23 chan: 30\n",
      "One channel took me: 55.6 chan: 31\n",
      "One channel took me: 55.6 chan: 32\n",
      "One channel took me: 55.59 chan: 33\n",
      "One channel took me: 55.63 chan: 34\n",
      "One channel took me: 58.2 chan: 35\n",
      "One channel took me: 58.57 chan: 36\n",
      "One channel took me: 55.91 chan: 37\n",
      "One channel took me: 56.18 chan: 38\n",
      "One channel took me: 56.84 chan: 39\n",
      "One channel took me: 56.37 chan: 40\n",
      "One channel took me: 57.2 chan: 41\n",
      "One channel took me: 58.13 chan: 42\n",
      "One channel took me: 56.91 chan: 43\n",
      "One channel took me: 56.61 chan: 44\n",
      "One channel took me: 56.36 chan: 45\n",
      "One channel took me: 56.15 chan: 46\n",
      "One channel took me: 56.79 chan: 47\n",
      "One channel took me: 56.12 chan: 48\n",
      "One channel took me: 57.72 chan: 49\n",
      "One channel took me: 57.84 chan: 50\n",
      "One channel took me: 56.36 chan: 51\n",
      "One channel took me: 57.14 chan: 52\n",
      "One channel took me: 56.21 chan: 53\n",
      "One channel took me: 56.47 chan: 54\n",
      "One channel took me: 56.82 chan: 55\n",
      "One channel took me: 56.5 chan: 56\n",
      "One channel took me: 56.82 chan: 57\n",
      "One channel took me: 56.34 chan: 58\n",
      "One channel took me: 56.35 chan: 59\n",
      "One channel took me: 56.55 chan: 60\n",
      "One channel took me: 55.19 chan: 00\n",
      "One channel took me: 56.15 chan: 01\n",
      "One channel took me: 56.76 chan: 02\n",
      "One channel took me: 55.73 chan: 03\n",
      "One channel took me: 56.31 chan: 04\n",
      "One channel took me: 56.81 chan: 05\n",
      "One channel took me: 56.23 chan: 06\n",
      "One channel took me: 56.95 chan: 07\n",
      "One channel took me: 56.3 chan: 08\n",
      "One channel took me: 58.84 chan: 09\n",
      "One channel took me: 56.74 chan: 10\n",
      "One channel took me: 56.3 chan: 11\n",
      "One channel took me: 56.01 chan: 12\n",
      "One channel took me: 55.72 chan: 13\n",
      "One channel took me: 56.77 chan: 14\n",
      "One channel took me: 56.08 chan: 15\n",
      "One channel took me: 57.12 chan: 16\n",
      "One channel took me: 56.35 chan: 17\n",
      "One channel took me: 55.99 chan: 18\n",
      "One channel took me: 55.9 chan: 19\n",
      "One channel took me: 55.38 chan: 20\n",
      "One channel took me: 56.16 chan: 21\n",
      "One channel took me: 56.7 chan: 22\n",
      "One channel took me: 56.37 chan: 23\n",
      "One channel took me: 56.68 chan: 24\n",
      "One channel took me: 56.94 chan: 25\n",
      "One channel took me: 57.52 chan: 26\n",
      "One channel took me: 56.98 chan: 27\n",
      "One channel took me: 57.01 chan: 28\n",
      "One channel took me: 56.1 chan: 29\n",
      "One channel took me: 57.85 chan: 30\n",
      "One channel took me: 61.29 chan: 31\n",
      "One channel took me: 57.08 chan: 32\n",
      "One channel took me: 56.72 chan: 33\n",
      "One channel took me: 56.41 chan: 34\n",
      "One channel took me: 56.72 chan: 35\n",
      "One channel took me: 56.59 chan: 36\n",
      "One channel took me: 57.39 chan: 37\n",
      "One channel took me: 61.39 chan: 38\n",
      "One channel took me: 57.48 chan: 39\n",
      "One channel took me: 57.09 chan: 40\n",
      "One channel took me: 56.29 chan: 41\n",
      "One channel took me: 56.82 chan: 42\n",
      "One channel took me: 56.93 chan: 43\n",
      "One channel took me: 56.97 chan: 44\n",
      "One channel took me: 56.96 chan: 45\n",
      "One channel took me: 56.8 chan: 46\n",
      "One channel took me: 56.43 chan: 47\n",
      "One channel took me: 55.78 chan: 48\n",
      "One channel took me: 57.6 chan: 49\n",
      "One channel took me: 57.29 chan: 50\n",
      "One channel took me: 56.27 chan: 51\n",
      "One channel took me: 58.66 chan: 52\n",
      "One channel took me: 57.12 chan: 53\n",
      "One channel took me: 56.71 chan: 54\n",
      "One channel took me: 56.75 chan: 55\n",
      "One channel took me: 56.71 chan: 56\n",
      "One channel took me: 56.24 chan: 57\n",
      "One channel took me: 57.54 chan: 58\n",
      "One channel took me: 56.18 chan: 59\n",
      "One channel took me: 57.1 chan: 60\n",
      "One channel took me: 57.41 chan: 00\n",
      "One channel took me: 56.03 chan: 01\n",
      "One channel took me: 56.38 chan: 02\n",
      "One channel took me: 56.64 chan: 03\n",
      "One channel took me: 56.21 chan: 04\n",
      "One channel took me: 56.66 chan: 05\n",
      "One channel took me: 56.59 chan: 06\n",
      "One channel took me: 56.5 chan: 07\n",
      "One channel took me: 56.22 chan: 08\n",
      "One channel took me: 56.55 chan: 09\n",
      "One channel took me: 56.24 chan: 10\n",
      "One channel took me: 57.92 chan: 11\n",
      "One channel took me: 59.85 chan: 12\n",
      "One channel took me: 56.33 chan: 13\n",
      "One channel took me: 57.17 chan: 14\n",
      "One channel took me: 56.46 chan: 15\n",
      "One channel took me: 56.43 chan: 16\n",
      "One channel took me: 56.53 chan: 17\n",
      "One channel took me: 56.14 chan: 18\n",
      "One channel took me: 56.99 chan: 19\n",
      "One channel took me: 57.88 chan: 20\n",
      "One channel took me: 56.25 chan: 21\n",
      "One channel took me: 56.49 chan: 22\n",
      "One channel took me: 57.01 chan: 23\n",
      "One channel took me: 56.91 chan: 24\n",
      "One channel took me: 57.52 chan: 25\n",
      "One channel took me: 56.77 chan: 26\n",
      "One channel took me: 56.7 chan: 27\n",
      "One channel took me: 57.14 chan: 28\n",
      "One channel took me: 57.53 chan: 29\n",
      "One channel took me: 56.35 chan: 30\n",
      "One channel took me: 57.69 chan: 31\n",
      "One channel took me: 56.63 chan: 32\n",
      "One channel took me: 57.57 chan: 33\n",
      "One channel took me: 56.51 chan: 34\n",
      "One channel took me: 58.55 chan: 35\n",
      "One channel took me: 57.62 chan: 36\n",
      "One channel took me: 56.8 chan: 37\n",
      "One channel took me: 57.68 chan: 38\n",
      "One channel took me: 56.32 chan: 39\n",
      "One channel took me: 56.71 chan: 40\n",
      "One channel took me: 61.64 chan: 41\n",
      "One channel took me: 56.72 chan: 42\n",
      "One channel took me: 56.27 chan: 43\n",
      "One channel took me: 56.74 chan: 44\n",
      "One channel took me: 55.82 chan: 45\n",
      "One channel took me: 56.09 chan: 46\n",
      "One channel took me: 56.66 chan: 47\n",
      "One channel took me: 56.62 chan: 48\n",
      "One channel took me: 56.34 chan: 49\n",
      "One channel took me: 56.69 chan: 50\n",
      "One channel took me: 56.08 chan: 51\n",
      "One channel took me: 56.6 chan: 52\n",
      "One channel took me: 56.84 chan: 53\n",
      "One channel took me: 56.83 chan: 54\n",
      "One channel took me: 57.78 chan: 55\n",
      "One channel took me: 56.47 chan: 56\n",
      "One channel took me: 56.47 chan: 57\n",
      "One channel took me: 56.64 chan: 58\n",
      "One channel took me: 55.36 chan: 59\n",
      "One channel took me: 57.12 chan: 60\n"
     ]
    }
   ],
   "source": [
    "proc.confidence_interval(src_path, dst_path, split_id=2, alignment='cue-aligned')"
   ],
   "metadata": {
    "collapsed": false,
    "pycharm": {
     "name": "#%%\n"
    }
   }
  },
  {
   "cell_type": "code",
   "execution_count": null,
   "outputs": [
    {
     "name": "stderr",
     "output_type": "stream",
     "text": [
      "Exception in thread Thread-9 (_handle_workers):\n",
      "Traceback (most recent call last):\n",
      "  File \"C:\\Users\\peter\\anaconda3\\envs\\mne\\lib\\threading.py\", line 1016, in _bootstrap_inner\n",
      "    self.run()\n",
      "  File \"C:\\Users\\peter\\anaconda3\\envs\\mne\\lib\\threading.py\", line 953, in run\n",
      "    self._target(*self._args, **self._kwargs)\n",
      "  File \"C:\\Users\\peter\\anaconda3\\envs\\mne\\lib\\multiprocessing\\pool.py\", line 519, in _handle_workers\n",
      "    cls._wait_for_updates(current_sentinels, change_notifier)\n",
      "  File \"C:\\Users\\peter\\anaconda3\\envs\\mne\\lib\\multiprocessing\\pool.py\", line 499, in _wait_for_updates\n",
      "    wait(sentinels, timeout=timeout)\n",
      "  File \"C:\\Users\\peter\\anaconda3\\envs\\mne\\lib\\multiprocessing\\connection.py\", line 884, in wait\n",
      "    ready_handles = _exhaustive_wait(waithandle_to_obj.keys(), timeout)\n",
      "  File \"C:\\Users\\peter\\anaconda3\\envs\\mne\\lib\\multiprocessing\\connection.py\", line 816, in _exhaustive_wait\n",
      "    res = _winapi.WaitForMultipleObjects(L, False, timeout)\n",
      "ValueError: need at most 63 handles, got a sequence of length 1002\n"
     ]
    }
   ],
   "source": [
    "proc.confidence_interval(src_path, dst_path, split_id=3, alignment='cue-aligned')"
   ],
   "metadata": {
    "collapsed": false,
    "pycharm": {
     "name": "#%%\n",
     "is_executing": true
    }
   }
  },
  {
   "cell_type": "code",
   "execution_count": 93,
   "outputs": [
    {
     "name": "stdout",
     "output_type": "stream",
     "text": [
      "[0, 2, 4, 6, 8, 10, 12, 14, 16, 18, 20, 22, 24, 26, 28, 30, 32, 34, 36, 38]\n"
     ]
    }
   ],
   "source": [
    "importlib.reload(proc)\n",
    "\n",
    "src_path, dst_path = fh.gen_paths(pth=data_path, src_fldr='results', dst_fldr='results')\n",
    "\n",
    "__spec__ = None\n",
    "proc.multi_proc_test()\n",
    "# Calculate the p statistics using permutation tests:\n",
    "# proc.statistical_analysis(src_path, dst_path, split_id=1, alignment='cue-aligned')\n",
    "# proc.confidence_interval(src_path, dst_path, split_id=2, alignment='cue-aligned')\n",
    "# proc.confidence_interval(src_path, dst_path, split_id=3, alignment='cue-aligned')"
   ],
   "metadata": {
    "collapsed": false,
    "pycharm": {
     "name": "#%%\n"
    }
   }
  },
  {
   "cell_type": "code",
   "execution_count": null,
   "outputs": [],
   "source": [],
   "metadata": {
    "collapsed": false,
    "pycharm": {
     "name": "#%%\n"
    }
   }
  },
  {
   "cell_type": "markdown",
   "source": [
    "## 3.2. Movement-aligned"
   ],
   "metadata": {
    "collapsed": false,
    "pycharm": {
     "name": "#%% md\n"
    }
   }
  },
  {
   "cell_type": "code",
   "execution_count": 65,
   "outputs": [],
   "source": [
    "importlib.reload(proc)\n",
    "\n",
    "src_path, dst_path = fh.gen_paths(pth=data_path, src_fldr=path_movement_aligned_not_resampled, dst_fldr='results')\n",
    "\n",
    "# Calculate the grand averages per subject:\n",
    "proc.grand_avg_per_subject(src_path, dst_path, subjects, split_id=0)\n",
    "proc.grand_avg_per_subject(src_path, dst_path, subjects, split_id=1)\n",
    "proc.grand_avg_per_subject(src_path, dst_path, subjects, split_id=2)\n",
    "proc.grand_avg_per_subject(src_path, dst_path, subjects, split_id=3)"
   ],
   "metadata": {
    "collapsed": false,
    "pycharm": {
     "name": "#%%\n"
    }
   }
  },
  {
   "cell_type": "code",
   "execution_count": 67,
   "outputs": [],
   "source": [
    "importlib.reload(proc)\n",
    "\n",
    "src_path, dst_path = fh.gen_paths(pth=data_path, src_fldr=path_movement_aligned_not_resampled, dst_fldr='results')\n",
    "\n",
    "# Get timings of the cues:\n",
    "# TODO: Add split if necessary to separate between conditions.\n",
    "proc.get_timings(src_path, dst_path, subjects, split_id=0)\n",
    "# proc.get_timings(src_path, dst_path, split_id=1, alignment='cue-aligned')\n",
    "# proc.get_timings(src_path, dst_path, split_id=2, alignment='cue-aligned')\n",
    "# proc.get_timings(src_path, dst_path, split_id=3, alignment='cue-aligned')"
   ],
   "metadata": {
    "collapsed": false,
    "pycharm": {
     "name": "#%%\n"
    }
   }
  },
  {
   "cell_type": "code",
   "execution_count": 69,
   "outputs": [],
   "source": [
    "importlib.reload(proc)\n",
    "\n",
    "src_path, dst_path = fh.gen_paths(pth=data_path, src_fldr='results', dst_fldr='results')\n",
    "\n",
    "# Calculate the condition specific grand averages over all subjects:\n",
    "proc.grand_avg(src_path, dst_path, split_id=0, alignment='movement-aligned')\n",
    "proc.grand_avg(src_path, dst_path, split_id=1, alignment='movement-aligned')\n",
    "proc.grand_avg(src_path, dst_path, split_id=2, alignment='movement-aligned')\n",
    "proc.grand_avg(src_path, dst_path, split_id=3, alignment='movement-aligned')"
   ],
   "metadata": {
    "collapsed": false,
    "pycharm": {
     "name": "#%%\n"
    }
   }
  },
  {
   "cell_type": "code",
   "execution_count": null,
   "outputs": [],
   "source": [
    "importlib.reload(proc)\n",
    "\n",
    "src_path, dst_path = fh.gen_paths(pth=data_path, src_fldr='results', dst_fldr='results')\n",
    "\n",
    "# Calculate the confidence interval:\n",
    "proc.confidence_interval(src_path, dst_path, split_id=0, alignment='movement-aligned')"
   ],
   "metadata": {
    "collapsed": false,
    "pycharm": {
     "name": "#%%\n"
    }
   }
  },
  {
   "cell_type": "code",
   "execution_count": null,
   "outputs": [],
   "source": [
    "proc.confidence_interval(src_path, dst_path, split_id=1, alignment='movement-aligned')"
   ],
   "metadata": {
    "collapsed": false,
    "pycharm": {
     "name": "#%%\n"
    }
   }
  },
  {
   "cell_type": "code",
   "execution_count": null,
   "outputs": [],
   "source": [
    "proc.confidence_interval(src_path, dst_path, split_id=2, alignment='movement-aligned')"
   ],
   "metadata": {
    "collapsed": false,
    "pycharm": {
     "name": "#%%\n"
    }
   }
  },
  {
   "cell_type": "code",
   "execution_count": null,
   "outputs": [],
   "source": [
    "proc.confidence_interval(src_path, dst_path, split_id=3, alignment='movement-aligned')"
   ],
   "metadata": {
    "collapsed": false,
    "pycharm": {
     "name": "#%%\n"
    }
   }
  },
  {
   "cell_type": "markdown",
   "source": [
    "# 4. Classification analysis"
   ],
   "metadata": {
    "collapsed": false,
    "pycharm": {
     "name": "#%% md\n"
    }
   }
  },
  {
   "cell_type": "markdown",
   "source": [
    "## 4.1. Cue-aligned"
   ],
   "metadata": {
    "collapsed": false,
    "pycharm": {
     "name": "#%% md\n"
    }
   }
  },
  {
   "cell_type": "code",
   "execution_count": 4,
   "outputs": [],
   "source": [
    "# Get source and destination path + create destintation folder if it does not exist.\n",
    "src_path, dst_path = fh.gen_paths(pth=data_path, src_fldr=path_cue_aligned_resampled, dst_fldr='results')\n",
    "\n",
    "# Iterate over each subject and extract the streams\n",
    "start = time.time()\n",
    "for i, subject in enumerate(subjects):\n",
    "    print(f'Classifying cue-aligned for subject {subject}')\n",
    "\n",
    "    ### Distance\n",
    "    # Classify the epochs for 1 timepoint:\n",
    "    clas.classify(src=src_path, dst=dst_path, sbj=subject, condition='distance', n_timepoints=1, loo=True)\n",
    "    # Classify the epochs for 6 timepoints:\n",
    "    clas.classify(src=src_path, dst=dst_path, sbj=subject, condition='distance', n_timepoints=6, loo=True)\n",
    "\n",
    "    ### Direction\n",
    "    # Classify the epochs for 1 timepoint:\n",
    "    clas.classify(src=src_path, dst=dst_path, sbj=subject, condition='direction', n_timepoints=1, loo=True)\n",
    "    # Classify the epochs for 6 timepoints:\n",
    "    clas.classify(src=src_path, dst=dst_path, sbj=subject, condition='direction', n_timepoints=6, loo=True)\n",
    "\n",
    "    ### Direction short\n",
    "    # Classify the epochs for 1 timepoint:\n",
    "    clas.classify(src=src_path, dst=dst_path, sbj=subject, condition='direction_short', n_timepoints=1, loo=True)\n",
    "    # Classify the epochs for 6 timepoints:\n",
    "    clas.classify(src=src_path, dst=dst_path, sbj=subject, condition='direction_short', n_timepoints=6, loo=True)\n",
    "\n",
    "    ### Direction long\n",
    "    # Classify the epochs for 1 timepoint:\n",
    "    clas.classify(src=src_path, dst=dst_path, sbj=subject, condition='direction_long', n_timepoints=1, loo=True)\n",
    "    # Classify the epochs for 6 timepoints:\n",
    "    clas.classify(src=src_path, dst=dst_path, sbj=subject, condition='direction_long', n_timepoints=6, loo=True)\n",
    "\n",
    "    ### Position\n",
    "    # Classify the epochs for 1 timepoint:\n",
    "    clas.classify(src=src_path, dst=dst_path, sbj=subject, condition='position', n_timepoints=1, loo=True)\n",
    "    # Classify the epochs for 6 timepoints:\n",
    "    clas.classify(src=src_path, dst=dst_path, sbj=subject, condition='position', n_timepoints=6, loo=True)\n",
    "\n",
    "\n",
    "print(f'Finished classifying, took me {round(time.time() - start)} seconds...')"
   ],
   "metadata": {
    "collapsed": false,
    "pycharm": {
     "name": "#%%\n"
    }
   }
  },
  {
   "cell_type": "markdown",
   "source": [
    "## 4.2. Movement-aligned"
   ],
   "metadata": {
    "collapsed": false,
    "pycharm": {
     "name": "#%% md\n"
    }
   }
  },
  {
   "cell_type": "code",
   "execution_count": null,
   "outputs": [],
   "source": [
    "# Get source and destination path + create destintation folder if it does not exist.\n",
    "src_path, dst_path = fh.gen_paths(pth=data_path, src_fldr='2023_03_22_epoched_movement_aligned', dst_fldr='results')\n",
    "\n",
    "# Iterate over each subject and extract the streams\n",
    "start = time.time()\n",
    "for i, subject in enumerate(subjects):\n",
    "    print(f'Classifying movement-aligned for subject {subject}')\n",
    "\n",
    "    ### Distance\n",
    "    # Classify the epochs for 1 timepoint:\n",
    "    clas.classify(src=src_path, dst=dst_path, sbj=subject, condition='distance', n_timepoints=1, loo=True)\n",
    "    # Classify the epochs for 6 timepoints:\n",
    "    clas.classify(src=src_path, dst=dst_path, sbj=subject, condition='distance', n_timepoints=6, loo=True)\n",
    "\n",
    "    ### Direction\n",
    "    # Classify the epochs for 1 timepoint:\n",
    "    clas.classify(src=src_path, dst=dst_path, sbj=subject, condition='direction', n_timepoints=1, loo=True)\n",
    "    # Classify the epochs for 6 timepoints:\n",
    "    clas.classify(src=src_path, dst=dst_path, sbj=subject, condition='direction', n_timepoints=6, loo=True)\n",
    "\n",
    "    ### Direction short\n",
    "    # Classify the epochs for 1 timepoint:\n",
    "    clas.classify(src=src_path, dst=dst_path, sbj=subject, condition='direction_short', n_timepoints=1, loo=True)\n",
    "    # Classify the epochs for 6 timepoints:\n",
    "    clas.classify(src=src_path, dst=dst_path, sbj=subject, condition='direction_short', n_timepoints=6, loo=True)\n",
    "\n",
    "    ### Direction long\n",
    "    # Classify the epochs for 1 timepoint:\n",
    "    clas.classify(src=src_path, dst=dst_path, sbj=subject, condition='direction_long', n_timepoints=1, loo=True)\n",
    "    # Classify the epochs for 6 timepoints:\n",
    "    clas.classify(src=src_path, dst=dst_path, sbj=subject, condition='direction_long', n_timepoints=6, loo=True)\n",
    "\n",
    "    # Classify the epochs for 1 timepoint:\n",
    "    clas.classify(src=src_path, dst=dst_path, sbj=subject, condition='position', n_timepoints=1, loo=True)\n",
    "    # Classify the epochs for 6 timepoints:\n",
    "    clas.classify(src=src_path, dst=dst_path, sbj=subject, condition='position', n_timepoints=6, loo=True)\n",
    "\n",
    "\n",
    "print(f'Finished classifiying, took me {round(time.time() - start)} seconds...')"
   ],
   "metadata": {
    "collapsed": false,
    "pycharm": {
     "name": "#%%\n"
    }
   }
  },
  {
   "cell_type": "markdown",
   "source": [
    "## 4.3. Mean and CI calculation for cue- & movement-aligned"
   ],
   "metadata": {
    "collapsed": false,
    "pycharm": {
     "name": "#%% md\n"
    }
   }
  },
  {
   "cell_type": "code",
   "execution_count": 79,
   "outputs": [
    {
     "name": "stdout",
     "output_type": "stream",
     "text": [
      "cue-aligned distance 1\n",
      "cue-aligned direction 1\n",
      "cue-aligned direction_short 1\n",
      "cue-aligned direction_long 1\n",
      "cue-aligned position 1\n",
      "cue-aligned distance 6\n",
      "cue-aligned direction 6\n",
      "cue-aligned direction_short 6\n",
      "cue-aligned direction_long 6\n",
      "cue-aligned position 6\n",
      "movement_aligned distance 1\n",
      "movement_aligned direction 1\n",
      "movement_aligned direction_short 1\n",
      "movement_aligned direction_long 1\n",
      "movement_aligned position 1\n",
      "movement_aligned distance 6\n",
      "movement_aligned direction 6\n",
      "movement_aligned direction_short 6\n",
      "movement_aligned direction_long 6\n",
      "movement_aligned position 6\n"
     ]
    }
   ],
   "source": [
    "importlib.reload(proc)\n",
    "# Get source and destination path + create destintation folder if it does not exist.\n",
    "src_path, dst_path = fh.gen_paths(pth=data_path, src_fldr='results', dst_fldr='results')\n",
    "\n",
    "proc.classification_mean_and_ci(src_path, dst_path)"
   ],
   "metadata": {
    "collapsed": false,
    "pycharm": {
     "name": "#%%\n"
    }
   }
  },
  {
   "cell_type": "markdown",
   "source": [
    "# 5. Encoding of conditions"
   ],
   "metadata": {
    "collapsed": false,
    "pycharm": {
     "name": "#%% md\n"
    }
   }
  },
  {
   "cell_type": "code",
   "execution_count": 73,
   "outputs": [],
   "source": [],
   "metadata": {
    "collapsed": false,
    "pycharm": {
     "name": "#%%\n"
    }
   }
  },
  {
   "cell_type": "code",
   "execution_count": 73,
   "outputs": [],
   "source": [],
   "metadata": {
    "collapsed": false,
    "pycharm": {
     "name": "#%%\n"
    }
   }
  },
  {
   "cell_type": "code",
   "execution_count": 73,
   "outputs": [],
   "source": [],
   "metadata": {
    "collapsed": false,
    "pycharm": {
     "name": "#%%\n"
    }
   }
  },
  {
   "cell_type": "code",
   "execution_count": 73,
   "outputs": [],
   "source": [],
   "metadata": {
    "collapsed": false,
    "pycharm": {
     "name": "#%%\n"
    }
   }
  },
  {
   "cell_type": "code",
   "execution_count": null,
   "outputs": [],
   "source": [],
   "metadata": {
    "collapsed": false,
    "pycharm": {
     "name": "#%%\n"
    }
   }
  }
 ],
 "metadata": {
  "kernelspec": {
   "display_name": "Python 3",
   "language": "python",
   "name": "python3"
  },
  "language_info": {
   "codemirror_mode": {
    "name": "ipython",
    "version": 2
   },
   "file_extension": ".py",
   "mimetype": "text/x-python",
   "name": "python",
   "nbconvert_exporter": "python",
   "pygments_lexer": "ipython2",
   "version": "2.7.6"
  }
 },
 "nbformat": 4,
 "nbformat_minor": 0
}