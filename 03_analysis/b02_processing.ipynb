{
 "cells": [
  {
   "cell_type": "code",
   "execution_count": 4,
   "metadata": {
    "collapsed": true
   },
   "outputs": [],
   "source": [
    "%reset"
   ]
  },
  {
   "cell_type": "markdown",
   "source": [
    "# 1. Imports"
   ],
   "metadata": {
    "collapsed": false,
    "pycharm": {
     "name": "#%% md\n"
    }
   }
  },
  {
   "cell_type": "code",
   "execution_count": 11,
   "outputs": [
    {
     "data": {
      "text/plain": "<module 'custom_modules.classification_ptu' from 'C:\\\\Users\\\\peter\\\\Documents\\\\Code\\\\master-thesis\\\\03_analysis\\\\custom_modules\\\\classification_ptu.py'>"
     },
     "execution_count": 11,
     "metadata": {},
     "output_type": "execute_result"
    }
   ],
   "source": [
    "import mne\n",
    "import time\n",
    "import os\n",
    "import numpy as np\n",
    "import custom_modules.xdf_to_fif_converter as xtfc\n",
    "import custom_modules.preprocessing_ptu as prep\n",
    "import custom_modules.file_handling as  fh\n",
    "import custom_modules.processing_ptu as proc\n",
    "import custom_modules.classification_ptu as clas\n",
    "\n",
    "import importlib\n",
    "importlib.reload(xtfc)\n",
    "importlib.reload(prep)\n",
    "importlib.reload(fh)\n",
    "importlib.reload(proc)\n",
    "importlib.reload(clas)"
   ],
   "metadata": {
    "collapsed": false,
    "pycharm": {
     "name": "#%%\n"
    }
   }
  },
  {
   "cell_type": "markdown",
   "source": [
    "# 2. Constants"
   ],
   "metadata": {
    "collapsed": false,
    "pycharm": {
     "name": "#%% md\n"
    }
   }
  },
  {
   "cell_type": "code",
   "execution_count": 12,
   "outputs": [],
   "source": [
    "data_path = 'D:/Diplomarbeit_data/eeg/'\n",
    "subjects = ['A01', 'A02', 'A03', 'A04', 'A05', 'A06', 'A07' , 'A08', 'A09', 'A10']\n",
    "trial_type_markers = ['LTR-s', 'LTR-l','RTL-s', 'RTL-l', 'TTB-s', 'TTB-l', 'BTT-s', 'BTT-l']\n",
    "\n",
    "# Paths to interface files:\n",
    "# path_cue_aligned_resampled = '2023_03_22_epoched_cue_aligned'\n",
    "# path_movement_aligned_resampled = '2023_03_22_epoched_movement_aligned'\n",
    "# path_cue_aligned_not_resampled = '2023_03_22_epoched_cue_aligned_not_resampled'\n",
    "# path_movement_aligned_not_resampled = '2023_03_22_epoched_movement_aligned_not_resampled'\n",
    "\n",
    "path_cue_aligned_resampled = '2023_05_24_epoched_cue_aligned'\n",
    "path_movement_aligned_resampled = '2023_05_24_epoched_movement_aligned'\n",
    "path_cue_aligned_not_resampled = '2023_05_24_epoched_cue_aligned_not_resampled'\n",
    "path_movement_aligned_not_resampled = '2023_05_24_epoched_movement_aligned_not_resampled'\n",
    "\n",
    "__spec__ = None # For multiprocessing\n",
    "mne.set_log_level('WARNING') #'INFO' 'WARNING'"
   ],
   "metadata": {
    "collapsed": false,
    "pycharm": {
     "name": "#%%\n"
    }
   }
  },
  {
   "cell_type": "markdown",
   "source": [
    "# 3. Temporal analysis"
   ],
   "metadata": {
    "collapsed": false,
    "pycharm": {
     "name": "#%% md\n"
    }
   }
  },
  {
   "cell_type": "markdown",
   "source": [
    "## 3.1. Cue-aligned"
   ],
   "metadata": {
    "collapsed": false,
    "pycharm": {
     "name": "#%% md\n"
    }
   }
  },
  {
   "cell_type": "code",
   "execution_count": 7,
   "outputs": [],
   "source": [
    "importlib.reload(proc)\n",
    "\n",
    "src_path, dst_path = fh.gen_paths(pth=data_path, src_fldr=path_cue_aligned_not_resampled, dst_fldr='results')\n",
    "\n",
    "# Calculate the grand averages per subject:\n",
    "proc.grand_avg_per_subject(src_path, dst_path, subjects, split_id=0)\n",
    "proc.grand_avg_per_subject(src_path, dst_path, subjects, split_id=1)\n",
    "proc.grand_avg_per_subject(src_path, dst_path, subjects, split_id=2)\n",
    "proc.grand_avg_per_subject(src_path, dst_path, subjects, split_id=3)"
   ],
   "metadata": {
    "collapsed": false,
    "pycharm": {
     "name": "#%%\n"
    }
   }
  },
  {
   "cell_type": "code",
   "execution_count": 14,
   "outputs": [],
   "source": [
    "importlib.reload(proc)\n",
    "\n",
    "src_path, dst_path = fh.gen_paths(pth=data_path, src_fldr=path_cue_aligned_not_resampled, dst_fldr='results')\n",
    "\n",
    "# Get timings of the cues:\n",
    "# TODO: Add split if necessary to separate between conditions.\n",
    "proc.get_timings(src_path, dst_path, subjects, split_id=0)\n",
    "proc.get_timings(src_path, dst_path, subjects, split_id=1)\n",
    "# proc.get_timings(src_path, dst_path, subjects, split_id=2)\n",
    "# proc.get_timings(src_path, dst_path, subjects, split_id=3)"
   ],
   "metadata": {
    "collapsed": false,
    "pycharm": {
     "name": "#%%\n"
    }
   }
  },
  {
   "cell_type": "code",
   "execution_count": 9,
   "outputs": [],
   "source": [
    "importlib.reload(proc)\n",
    "\n",
    "src_path, dst_path = fh.gen_paths(pth=data_path, src_fldr='results', dst_fldr='results')\n",
    "\n",
    "# Calculate the condition specific grand averages over all subjects:\n",
    "proc.grand_avg(src_path, dst_path, split_id=0, alignment='cue-aligned')\n",
    "proc.grand_avg(src_path, dst_path, split_id=1, alignment='cue-aligned')\n",
    "proc.grand_avg(src_path, dst_path, split_id=2, alignment='cue-aligned')\n",
    "proc.grand_avg(src_path, dst_path, split_id=3, alignment='cue-aligned')"
   ],
   "metadata": {
    "collapsed": false,
    "pycharm": {
     "name": "#%%\n"
    }
   }
  },
  {
   "cell_type": "code",
   "execution_count": null,
   "outputs": [],
   "source": [
    "importlib.reload(proc)\n",
    "\n",
    "src_path, dst_path = fh.gen_paths(pth=data_path, src_fldr='results', dst_fldr='results')\n",
    "\n",
    "# Calculate the confidence interval:\n",
    "proc.confidence_interval(src_path, dst_path, split_id=0, alignment='cue-aligned')"
   ],
   "metadata": {
    "collapsed": false,
    "pycharm": {
     "name": "#%%\n"
    }
   }
  },
  {
   "cell_type": "code",
   "execution_count": null,
   "outputs": [],
   "source": [
    "proc.confidence_interval(src_path, dst_path, split_id=1, alignment='cue-aligned')"
   ],
   "metadata": {
    "collapsed": false,
    "pycharm": {
     "name": "#%%\n"
    }
   }
  },
  {
   "cell_type": "code",
   "execution_count": null,
   "outputs": [],
   "source": [
    "proc.confidence_interval(src_path, dst_path, split_id=2, alignment='cue-aligned')"
   ],
   "metadata": {
    "collapsed": false,
    "pycharm": {
     "name": "#%%\n"
    }
   }
  },
  {
   "cell_type": "code",
   "execution_count": null,
   "outputs": [],
   "source": [
    "proc.confidence_interval(src_path, dst_path, split_id=3, alignment='cue-aligned')"
   ],
   "metadata": {
    "collapsed": false,
    "pycharm": {
     "name": "#%%\n"
    }
   }
  },
  {
   "cell_type": "markdown",
   "source": [
    "## 3.2. Movement-aligned"
   ],
   "metadata": {
    "collapsed": false,
    "pycharm": {
     "name": "#%% md\n"
    }
   }
  },
  {
   "cell_type": "code",
   "execution_count": null,
   "outputs": [],
   "source": [
    "importlib.reload(proc)\n",
    "\n",
    "src_path, dst_path = fh.gen_paths(pth=data_path, src_fldr=path_movement_aligned_not_resampled, dst_fldr='results')\n",
    "\n",
    "# Calculate the grand averages per subject:\n",
    "proc.grand_avg_per_subject(src_path, dst_path, subjects, split_id=0)\n",
    "proc.grand_avg_per_subject(src_path, dst_path, subjects, split_id=1)\n",
    "proc.grand_avg_per_subject(src_path, dst_path, subjects, split_id=2)\n",
    "proc.grand_avg_per_subject(src_path, dst_path, subjects, split_id=3)"
   ],
   "metadata": {
    "collapsed": false,
    "pycharm": {
     "name": "#%%\n"
    }
   }
  },
  {
   "cell_type": "code",
   "execution_count": 15,
   "outputs": [],
   "source": [
    "importlib.reload(proc)\n",
    "\n",
    "src_path, dst_path = fh.gen_paths(pth=data_path, src_fldr=path_movement_aligned_not_resampled, dst_fldr='results')\n",
    "\n",
    "# Get timings of the cues:\n",
    "# TODO: Add split if necessary to separate between conditions.\n",
    "proc.get_timings(src_path, dst_path, subjects, split_id=0)\n",
    "proc.get_timings(src_path, dst_path, subjects, split_id=1)\n",
    "# proc.get_timings(src_path, dst_path, subjects, split_id=2)\n",
    "# proc.get_timings(src_path, dst_path, subjects, split_id=3)"
   ],
   "metadata": {
    "collapsed": false,
    "pycharm": {
     "name": "#%%\n"
    }
   }
  },
  {
   "cell_type": "code",
   "execution_count": 16,
   "outputs": [],
   "source": [
    "importlib.reload(proc)\n",
    "\n",
    "src_path, dst_path = fh.gen_paths(pth=data_path, src_fldr='results', dst_fldr='results')\n",
    "\n",
    "# Calculate the condition specific grand averages over all subjects:\n",
    "proc.grand_avg(src_path, dst_path, split_id=0, alignment='movement-aligned')\n",
    "proc.grand_avg(src_path, dst_path, split_id=1, alignment='movement-aligned')\n",
    "proc.grand_avg(src_path, dst_path, split_id=2, alignment='movement-aligned')\n",
    "proc.grand_avg(src_path, dst_path, split_id=3, alignment='movement-aligned')"
   ],
   "metadata": {
    "collapsed": false,
    "pycharm": {
     "name": "#%%\n"
    }
   }
  },
  {
   "cell_type": "code",
   "execution_count": 16,
   "outputs": [
    {
     "name": "stdout",
     "output_type": "stream",
     "text": [
      "One condition took me: 137.49\n"
     ]
    }
   ],
   "source": [
    "importlib.reload(proc)\n",
    "\n",
    "src_path, dst_path = fh.gen_paths(pth=data_path, src_fldr='results', dst_fldr='results')\n",
    "\n",
    "# Calculate the confidence interval:\n",
    "proc.confidence_interval(src_path, dst_path, split_id=0, alignment='movement-aligned')"
   ],
   "metadata": {
    "collapsed": false,
    "pycharm": {
     "name": "#%%\n"
    }
   }
  },
  {
   "cell_type": "code",
   "execution_count": 17,
   "outputs": [
    {
     "name": "stdout",
     "output_type": "stream",
     "text": [
      "One condition took me: 144.23\n",
      "One condition took me: 127.91\n"
     ]
    }
   ],
   "source": [
    "proc.confidence_interval(src_path, dst_path, split_id=1, alignment='movement-aligned')"
   ],
   "metadata": {
    "collapsed": false,
    "pycharm": {
     "name": "#%%\n"
    }
   }
  },
  {
   "cell_type": "code",
   "execution_count": 18,
   "outputs": [
    {
     "ename": "KeyboardInterrupt",
     "evalue": "",
     "output_type": "error",
     "traceback": [
      "\u001B[1;31m---------------------------------------------------------------------------\u001B[0m",
      "\u001B[1;31mKeyboardInterrupt\u001B[0m                         Traceback (most recent call last)",
      "Input \u001B[1;32mIn [18]\u001B[0m, in \u001B[0;36m<cell line: 1>\u001B[1;34m()\u001B[0m\n\u001B[1;32m----> 1\u001B[0m \u001B[43mproc\u001B[49m\u001B[38;5;241;43m.\u001B[39;49m\u001B[43mconfidence_interval\u001B[49m\u001B[43m(\u001B[49m\u001B[43msrc_path\u001B[49m\u001B[43m,\u001B[49m\u001B[43m \u001B[49m\u001B[43mdst_path\u001B[49m\u001B[43m,\u001B[49m\u001B[43m \u001B[49m\u001B[43msplit_id\u001B[49m\u001B[38;5;241;43m=\u001B[39;49m\u001B[38;5;241;43m2\u001B[39;49m\u001B[43m,\u001B[49m\u001B[43m \u001B[49m\u001B[43malignment\u001B[49m\u001B[38;5;241;43m=\u001B[39;49m\u001B[38;5;124;43m'\u001B[39;49m\u001B[38;5;124;43mmovement-aligned\u001B[39;49m\u001B[38;5;124;43m'\u001B[39;49m\u001B[43m)\u001B[49m\n",
      "File \u001B[1;32m~\\Documents\\Code\\master-thesis\\03_analysis\\custom_modules\\processing_ptu.py:180\u001B[0m, in \u001B[0;36mconfidence_interval\u001B[1;34m(src, dst, split_id, alignment)\u001B[0m\n\u001B[0;32m    177\u001B[0m     \u001B[38;5;66;03m# Read all files and combine to grand average:\u001B[39;00m\n\u001B[0;32m    178\u001B[0m     sbj_avg\u001B[38;5;241m.\u001B[39mappend(np\u001B[38;5;241m.\u001B[39mload(file))\n\u001B[1;32m--> 180\u001B[0m uppers, lowers \u001B[38;5;241m=\u001B[39m \u001B[43m_calc_confidence_interval\u001B[49m\u001B[43m(\u001B[49m\u001B[43msbj_avg\u001B[49m\u001B[43m,\u001B[49m\u001B[43m \u001B[49m\u001B[43mbootstrap\u001B[49m\u001B[38;5;241;43m=\u001B[39;49m\u001B[38;5;28;43;01mTrue\u001B[39;49;00m\u001B[43m)\u001B[49m\n\u001B[0;32m    182\u001B[0m \u001B[38;5;66;03m# Store grand_avg:\u001B[39;00m\n\u001B[0;32m    183\u001B[0m store_name \u001B[38;5;241m=\u001B[39m \u001B[38;5;124mf\u001B[39m\u001B[38;5;124m'\u001B[39m\u001B[38;5;132;01m{\u001B[39;00mdst\u001B[38;5;132;01m}\u001B[39;00m\u001B[38;5;124m/grand-avg-uppers_\u001B[39m\u001B[38;5;132;01m{\u001B[39;00malignment\u001B[38;5;132;01m}\u001B[39;00m\u001B[38;5;124m_\u001B[39m\u001B[38;5;132;01m{\u001B[39;00mcond\u001B[38;5;132;01m}\u001B[39;00m\u001B[38;5;124m.npy\u001B[39m\u001B[38;5;124m'\u001B[39m\n",
      "File \u001B[1;32m~\\Documents\\Code\\master-thesis\\03_analysis\\custom_modules\\processing_ptu.py:89\u001B[0m, in \u001B[0;36m_calc_confidence_interval\u001B[1;34m(avg, bootstrap, multiproc)\u001B[0m\n\u001B[0;32m     87\u001B[0m \u001B[38;5;66;03m# for chan in range(n_chan):\u001B[39;00m\n\u001B[0;32m     88\u001B[0m p \u001B[38;5;241m=\u001B[39m Pool(processes\u001B[38;5;241m=\u001B[39mn_chan)\n\u001B[1;32m---> 89\u001B[0m channel_ci \u001B[38;5;241m=\u001B[39m \u001B[43mp\u001B[49m\u001B[38;5;241;43m.\u001B[39;49m\u001B[43mstarmap\u001B[49m\u001B[43m(\u001B[49m\u001B[43mci_calc\u001B[49m\u001B[43m,\u001B[49m\u001B[43m \u001B[49m\u001B[38;5;28;43mzip\u001B[39;49m\u001B[43m(\u001B[49m\u001B[38;5;28;43mrange\u001B[39;49m\u001B[43m(\u001B[49m\u001B[43mn_chan\u001B[49m\u001B[43m)\u001B[49m\u001B[43m,\u001B[49m\u001B[43m \u001B[49m\u001B[43mrepeat\u001B[49m\u001B[43m(\u001B[49m\u001B[43mn_ts\u001B[49m\u001B[43m)\u001B[49m\u001B[43m,\u001B[49m\u001B[43m \u001B[49m\u001B[43mrepeat\u001B[49m\u001B[43m(\u001B[49m\u001B[43mavg\u001B[49m\u001B[43m)\u001B[49m\u001B[43m)\u001B[49m\u001B[43m)\u001B[49m\n\u001B[0;32m     91\u001B[0m \u001B[38;5;66;03m# print(len(channel_ci))\u001B[39;00m\n\u001B[0;32m     92\u001B[0m \u001B[38;5;66;03m# Extract ci's:\u001B[39;00m\n\u001B[0;32m     93\u001B[0m \u001B[38;5;28;01mfor\u001B[39;00m ch \u001B[38;5;129;01min\u001B[39;00m \u001B[38;5;28mrange\u001B[39m(n_chan):\n\u001B[0;32m     94\u001B[0m     \u001B[38;5;66;03m# print(channel_ci[0].shape)\u001B[39;00m\n",
      "File \u001B[1;32m~\\anaconda3\\envs\\mne\\lib\\multiprocessing\\pool.py:372\u001B[0m, in \u001B[0;36mPool.starmap\u001B[1;34m(self, func, iterable, chunksize)\u001B[0m\n\u001B[0;32m    366\u001B[0m \u001B[38;5;28;01mdef\u001B[39;00m \u001B[38;5;21mstarmap\u001B[39m(\u001B[38;5;28mself\u001B[39m, func, iterable, chunksize\u001B[38;5;241m=\u001B[39m\u001B[38;5;28;01mNone\u001B[39;00m):\n\u001B[0;32m    367\u001B[0m     \u001B[38;5;124;03m'''\u001B[39;00m\n\u001B[0;32m    368\u001B[0m \u001B[38;5;124;03m    Like `map()` method but the elements of the `iterable` are expected to\u001B[39;00m\n\u001B[0;32m    369\u001B[0m \u001B[38;5;124;03m    be iterables as well and will be unpacked as arguments. Hence\u001B[39;00m\n\u001B[0;32m    370\u001B[0m \u001B[38;5;124;03m    `func` and (a, b) becomes func(a, b).\u001B[39;00m\n\u001B[0;32m    371\u001B[0m \u001B[38;5;124;03m    '''\u001B[39;00m\n\u001B[1;32m--> 372\u001B[0m     \u001B[38;5;28;01mreturn\u001B[39;00m \u001B[38;5;28;43mself\u001B[39;49m\u001B[38;5;241;43m.\u001B[39;49m\u001B[43m_map_async\u001B[49m\u001B[43m(\u001B[49m\u001B[43mfunc\u001B[49m\u001B[43m,\u001B[49m\u001B[43m \u001B[49m\u001B[43miterable\u001B[49m\u001B[43m,\u001B[49m\u001B[43m \u001B[49m\u001B[43mstarmapstar\u001B[49m\u001B[43m,\u001B[49m\u001B[43m \u001B[49m\u001B[43mchunksize\u001B[49m\u001B[43m)\u001B[49m\u001B[38;5;241;43m.\u001B[39;49m\u001B[43mget\u001B[49m\u001B[43m(\u001B[49m\u001B[43m)\u001B[49m\n",
      "File \u001B[1;32m~\\anaconda3\\envs\\mne\\lib\\multiprocessing\\pool.py:765\u001B[0m, in \u001B[0;36mApplyResult.get\u001B[1;34m(self, timeout)\u001B[0m\n\u001B[0;32m    764\u001B[0m \u001B[38;5;28;01mdef\u001B[39;00m \u001B[38;5;21mget\u001B[39m(\u001B[38;5;28mself\u001B[39m, timeout\u001B[38;5;241m=\u001B[39m\u001B[38;5;28;01mNone\u001B[39;00m):\n\u001B[1;32m--> 765\u001B[0m     \u001B[38;5;28;43mself\u001B[39;49m\u001B[38;5;241;43m.\u001B[39;49m\u001B[43mwait\u001B[49m\u001B[43m(\u001B[49m\u001B[43mtimeout\u001B[49m\u001B[43m)\u001B[49m\n\u001B[0;32m    766\u001B[0m     \u001B[38;5;28;01mif\u001B[39;00m \u001B[38;5;129;01mnot\u001B[39;00m \u001B[38;5;28mself\u001B[39m\u001B[38;5;241m.\u001B[39mready():\n\u001B[0;32m    767\u001B[0m         \u001B[38;5;28;01mraise\u001B[39;00m \u001B[38;5;167;01mTimeoutError\u001B[39;00m\n",
      "File \u001B[1;32m~\\anaconda3\\envs\\mne\\lib\\multiprocessing\\pool.py:762\u001B[0m, in \u001B[0;36mApplyResult.wait\u001B[1;34m(self, timeout)\u001B[0m\n\u001B[0;32m    761\u001B[0m \u001B[38;5;28;01mdef\u001B[39;00m \u001B[38;5;21mwait\u001B[39m(\u001B[38;5;28mself\u001B[39m, timeout\u001B[38;5;241m=\u001B[39m\u001B[38;5;28;01mNone\u001B[39;00m):\n\u001B[1;32m--> 762\u001B[0m     \u001B[38;5;28;43mself\u001B[39;49m\u001B[38;5;241;43m.\u001B[39;49m\u001B[43m_event\u001B[49m\u001B[38;5;241;43m.\u001B[39;49m\u001B[43mwait\u001B[49m\u001B[43m(\u001B[49m\u001B[43mtimeout\u001B[49m\u001B[43m)\u001B[49m\n",
      "File \u001B[1;32m~\\anaconda3\\envs\\mne\\lib\\threading.py:607\u001B[0m, in \u001B[0;36mEvent.wait\u001B[1;34m(self, timeout)\u001B[0m\n\u001B[0;32m    605\u001B[0m signaled \u001B[38;5;241m=\u001B[39m \u001B[38;5;28mself\u001B[39m\u001B[38;5;241m.\u001B[39m_flag\n\u001B[0;32m    606\u001B[0m \u001B[38;5;28;01mif\u001B[39;00m \u001B[38;5;129;01mnot\u001B[39;00m signaled:\n\u001B[1;32m--> 607\u001B[0m     signaled \u001B[38;5;241m=\u001B[39m \u001B[38;5;28;43mself\u001B[39;49m\u001B[38;5;241;43m.\u001B[39;49m\u001B[43m_cond\u001B[49m\u001B[38;5;241;43m.\u001B[39;49m\u001B[43mwait\u001B[49m\u001B[43m(\u001B[49m\u001B[43mtimeout\u001B[49m\u001B[43m)\u001B[49m\n\u001B[0;32m    608\u001B[0m \u001B[38;5;28;01mreturn\u001B[39;00m signaled\n",
      "File \u001B[1;32m~\\anaconda3\\envs\\mne\\lib\\threading.py:320\u001B[0m, in \u001B[0;36mCondition.wait\u001B[1;34m(self, timeout)\u001B[0m\n\u001B[0;32m    318\u001B[0m \u001B[38;5;28;01mtry\u001B[39;00m:    \u001B[38;5;66;03m# restore state no matter what (e.g., KeyboardInterrupt)\u001B[39;00m\n\u001B[0;32m    319\u001B[0m     \u001B[38;5;28;01mif\u001B[39;00m timeout \u001B[38;5;129;01mis\u001B[39;00m \u001B[38;5;28;01mNone\u001B[39;00m:\n\u001B[1;32m--> 320\u001B[0m         \u001B[43mwaiter\u001B[49m\u001B[38;5;241;43m.\u001B[39;49m\u001B[43macquire\u001B[49m\u001B[43m(\u001B[49m\u001B[43m)\u001B[49m\n\u001B[0;32m    321\u001B[0m         gotit \u001B[38;5;241m=\u001B[39m \u001B[38;5;28;01mTrue\u001B[39;00m\n\u001B[0;32m    322\u001B[0m     \u001B[38;5;28;01melse\u001B[39;00m:\n",
      "\u001B[1;31mKeyboardInterrupt\u001B[0m: "
     ]
    }
   ],
   "source": [
    "proc.confidence_interval(src_path, dst_path, split_id=2, alignment='movement-aligned')"
   ],
   "metadata": {
    "collapsed": false,
    "pycharm": {
     "name": "#%%\n"
    }
   }
  },
  {
   "cell_type": "code",
   "execution_count": null,
   "outputs": [],
   "source": [
    "proc.confidence_interval(src_path, dst_path, split_id=3, alignment='movement-aligned')"
   ],
   "metadata": {
    "collapsed": false,
    "pycharm": {
     "name": "#%%\n"
    }
   }
  },
  {
   "cell_type": "markdown",
   "source": [
    "# 4. Classification analysis"
   ],
   "metadata": {
    "collapsed": false,
    "pycharm": {
     "name": "#%% md\n"
    }
   }
  },
  {
   "cell_type": "markdown",
   "source": [
    "## 4.1. Cue-aligned"
   ],
   "metadata": {
    "collapsed": false,
    "pycharm": {
     "name": "#%% md\n"
    }
   }
  },
  {
   "cell_type": "code",
   "execution_count": 21,
   "outputs": [
    {
     "name": "stdout",
     "output_type": "stream",
     "text": [
      "Classifying cue-aligned for subject A01\n",
      "Measuring timestamp 70/70, shape: (250, 61)\n",
      "\n",
      "Measuring timestamp 65/65, shape: (250, 366)\n",
      "Measuring timestamp 70/65, shape: (250, 366)\r\n",
      "Measuring timestamp 70/70, shape: (232, 61)\n",
      "\n",
      "Measuring timestamp 65/65, shape: (232, 366)\n",
      "Measuring timestamp 70/65, shape: (232, 366)\r\n",
      "Measuring timestamp 70/70, shape: (116, 61)\n",
      "\n",
      "Measuring timestamp 65/65, shape: (116, 366)\n",
      "Measuring timestamp 70/65, shape: (116, 366)\r\n",
      "Measuring timestamp 70/70, shape: (112, 61)\n",
      "\n",
      "Measuring timestamp 65/65, shape: (112, 366)\n",
      "Measuring timestamp 70/65, shape: (112, 366)\r\n",
      "Measuring timestamp 70/70, shape: (140, 61)\n",
      "\n",
      "Measuring timestamp 65/65, shape: (140, 366)\n",
      "Measuring timestamp 70/65, shape: (140, 366)\r\n",
      "Classifying cue-aligned for subject A02\n",
      "Measuring timestamp 70/70, shape: (298, 61)\n",
      "\n",
      "Measuring timestamp 65/65, shape: (298, 366)\n",
      "Measuring timestamp 70/65, shape: (298, 366)\r\n",
      "Measuring timestamp 70/70, shape: (308, 61)\n",
      "\n",
      "Measuring timestamp 65/65, shape: (308, 366)\n",
      "Measuring timestamp 70/65, shape: (308, 366)\r\n",
      "Measuring timestamp 70/70, shape: (144, 61)\n",
      "\n",
      "Measuring timestamp 65/65, shape: (144, 366)\n",
      "Measuring timestamp 70/65, shape: (144, 366)\r\n",
      "Measuring timestamp 70/70, shape: (160, 61)\n",
      "\n",
      "Measuring timestamp 65/65, shape: (160, 366)\n",
      "Measuring timestamp 70/65, shape: (160, 366)\r\n",
      "Measuring timestamp 70/70, shape: (200, 61)\n",
      "\n",
      "Measuring timestamp 65/65, shape: (200, 366)\n",
      "Measuring timestamp 70/65, shape: (200, 366)\r\n",
      "Classifying cue-aligned for subject A03\n",
      "Measuring timestamp 70/70, shape: (266, 61)\n",
      "\n",
      "Measuring timestamp 65/65, shape: (266, 366)\n",
      "Measuring timestamp 70/65, shape: (266, 366)\r\n",
      "Measuring timestamp 70/70, shape: (268, 61)\n",
      "\n",
      "Measuring timestamp 65/65, shape: (268, 366)\n",
      "Measuring timestamp 70/65, shape: (268, 366)\r\n",
      "Measuring timestamp 70/70, shape: (136, 61)\n",
      "\n",
      "Measuring timestamp 65/65, shape: (136, 366)\n",
      "Measuring timestamp 70/65, shape: (136, 366)\r\n",
      "Measuring timestamp 70/70, shape: (116, 61)\n",
      "\n",
      "Measuring timestamp 65/65, shape: (116, 366)\n",
      "Measuring timestamp 70/65, shape: (116, 366)\r\n",
      "Measuring timestamp 70/70, shape: (145, 61)\n",
      "\n",
      "Measuring timestamp 65/65, shape: (145, 366)\n",
      "Measuring timestamp 70/65, shape: (145, 366)\r\n",
      "Classifying cue-aligned for subject A04\n",
      "Measuring timestamp 70/70, shape: (306, 61)\n",
      "\n",
      "Measuring timestamp 65/65, shape: (306, 366)\n",
      "Measuring timestamp 70/65, shape: (306, 366)\r\n",
      "Measuring timestamp 70/70, shape: (300, 61)\n",
      "\n",
      "Measuring timestamp 65/65, shape: (300, 366)\n",
      "Measuring timestamp 70/65, shape: (300, 366)\r\n",
      "Measuring timestamp 70/70, shape: (156, 61)\n",
      "\n",
      "Measuring timestamp 65/65, shape: (156, 366)\n",
      "Measuring timestamp 70/65, shape: (156, 366)\r\n",
      "Measuring timestamp 70/70, shape: (144, 61)\n",
      "\n",
      "Measuring timestamp 65/65, shape: (144, 366)\n",
      "Measuring timestamp 70/65, shape: (144, 366)\r\n",
      "Measuring timestamp 70/70, shape: (180, 61)\n",
      "\n",
      "Measuring timestamp 65/65, shape: (180, 366)\n",
      "Measuring timestamp 70/65, shape: (180, 366)\r\n",
      "Classifying cue-aligned for subject A05\n",
      "Measuring timestamp 70/70, shape: (220, 61)\n",
      "\n",
      "Measuring timestamp 65/65, shape: (220, 366)\n",
      "Measuring timestamp 70/65, shape: (220, 366)\r\n",
      "Measuring timestamp 70/70, shape: (204, 61)\n",
      "\n",
      "Measuring timestamp 65/65, shape: (204, 366)\n",
      "Measuring timestamp 70/65, shape: (204, 366)\r\n",
      "Measuring timestamp 70/70, shape: (100, 61)\n",
      "\n",
      "Measuring timestamp 65/65, shape: (100, 366)\n",
      "Measuring timestamp 70/65, shape: (100, 366)\r\n",
      "Measuring timestamp 70/70, shape: (104, 61)\n",
      "\n",
      "Measuring timestamp 65/65, shape: (104, 366)\n",
      "Measuring timestamp 70/65, shape: (104, 366)\r\n",
      "Measuring timestamp 70/70, shape: (130, 61)\n",
      "\n",
      "Measuring timestamp 65/65, shape: (130, 366)\n",
      "Measuring timestamp 70/65, shape: (130, 366)\r\n",
      "Classifying cue-aligned for subject A06\n",
      "Measuring timestamp 70/70, shape: (270, 61)\n",
      "\n",
      "Measuring timestamp 65/65, shape: (270, 366)\n",
      "Measuring timestamp 70/65, shape: (270, 366)\r\n",
      "Measuring timestamp 70/70, shape: (264, 61)\n",
      "\n",
      "Measuring timestamp 65/65, shape: (264, 366)\n",
      "Measuring timestamp 70/65, shape: (264, 366)\r\n",
      "Measuring timestamp 70/70, shape: (120, 61)\n",
      "\n",
      "Measuring timestamp 65/65, shape: (120, 366)\n",
      "Measuring timestamp 70/65, shape: (120, 366)\r\n",
      "Measuring timestamp 70/70, shape: (140, 61)\n",
      "\n",
      "Measuring timestamp 65/65, shape: (140, 366)\n",
      "Measuring timestamp 70/65, shape: (140, 366)\r\n",
      "Measuring timestamp 70/70, shape: (175, 61)\n",
      "\n",
      "Measuring timestamp 65/65, shape: (175, 366)\n",
      "Measuring timestamp 70/65, shape: (175, 366)\r\n",
      "Classifying cue-aligned for subject A07\n",
      "Measuring timestamp 70/70, shape: (270, 61)\n",
      "\n",
      "Measuring timestamp 65/65, shape: (270, 366)\n",
      "Measuring timestamp 70/65, shape: (270, 366)\r\n",
      "Measuring timestamp 70/70, shape: (280, 61)\n",
      "\n",
      "Measuring timestamp 65/65, shape: (280, 366)\n",
      "Measuring timestamp 70/65, shape: (280, 366)\r\n",
      "Measuring timestamp 70/70, shape: (108, 61)\n",
      "\n",
      "Measuring timestamp 65/65, shape: (108, 366)\n",
      "Measuring timestamp 70/65, shape: (108, 366)\r\n",
      "Measuring timestamp 70/70, shape: (128, 61)\n",
      "\n",
      "Measuring timestamp 65/65, shape: (128, 366)\n",
      "Measuring timestamp 70/65, shape: (128, 366)\r\n",
      "Measuring timestamp 70/70, shape: (160, 61)\n",
      "\n",
      "Measuring timestamp 65/65, shape: (160, 366)\n",
      "Measuring timestamp 70/65, shape: (160, 366)\r\n",
      "Classifying cue-aligned for subject A08\n",
      "Measuring timestamp 70/70, shape: (264, 61)\n",
      "\n",
      "Measuring timestamp 65/65, shape: (264, 366)\n",
      "Measuring timestamp 70/65, shape: (264, 366)\r\n",
      "Measuring timestamp 70/70, shape: (268, 61)\n",
      "\n",
      "Measuring timestamp 65/65, shape: (268, 366)\n",
      "Measuring timestamp 70/65, shape: (268, 366)\r\n",
      "Measuring timestamp 70/70, shape: (108, 61)\n",
      "\n",
      "Measuring timestamp 65/65, shape: (108, 366)\n",
      "Measuring timestamp 70/65, shape: (108, 366)\r\n",
      "Measuring timestamp 70/70, shape: (128, 61)\n",
      "\n",
      "Measuring timestamp 65/65, shape: (128, 366)\n",
      "Measuring timestamp 70/65, shape: (128, 366)\r\n",
      "Measuring timestamp 70/70, shape: (160, 61)\n",
      "\n",
      "Measuring timestamp 65/65, shape: (160, 366)\n",
      "Measuring timestamp 70/65, shape: (160, 366)\r\n",
      "Classifying cue-aligned for subject A09\n",
      "Measuring timestamp 70/70, shape: (298, 61)\n",
      "\n",
      "Measuring timestamp 65/65, shape: (298, 366)\n",
      "Measuring timestamp 70/65, shape: (298, 366)\r\n",
      "Measuring timestamp 70/70, shape: (304, 61)\n",
      "\n",
      "Measuring timestamp 65/65, shape: (304, 366)\n",
      "Measuring timestamp 70/65, shape: (304, 366)\r\n",
      "Measuring timestamp 70/70, shape: (152, 61)\n",
      "\n",
      "Measuring timestamp 65/65, shape: (152, 366)\n",
      "Measuring timestamp 70/65, shape: (152, 366)\r\n",
      "Measuring timestamp 70/70, shape: (136, 61)\n",
      "\n",
      "Measuring timestamp 65/65, shape: (136, 366)\n",
      "Measuring timestamp 70/65, shape: (136, 366)\r\n",
      "Measuring timestamp 70/70, shape: (170, 61)\n",
      "\n",
      "Measuring timestamp 65/65, shape: (170, 366)\n",
      "Measuring timestamp 70/65, shape: (170, 366)\r\n",
      "Classifying cue-aligned for subject A10\n",
      "Measuring timestamp 70/70, shape: (278, 61)\n",
      "\n",
      "Measuring timestamp 65/65, shape: (278, 366)\n",
      "Measuring timestamp 70/65, shape: (278, 366)\r\n",
      "Measuring timestamp 70/70, shape: (252, 61)\n",
      "\n",
      "Measuring timestamp 65/65, shape: (252, 366)\n",
      "Measuring timestamp 70/65, shape: (252, 366)\r\n",
      "Measuring timestamp 70/70, shape: (128, 61)\n",
      "\n",
      "Measuring timestamp 65/65, shape: (128, 366)\n",
      "Measuring timestamp 70/65, shape: (128, 366)\r\n",
      "Measuring timestamp 70/70, shape: (124, 61)\n",
      "\n",
      "Measuring timestamp 65/65, shape: (124, 366)\n",
      "Measuring timestamp 70/65, shape: (124, 366)\r\n",
      "Measuring timestamp 70/70, shape: (155, 61)\n",
      "\n",
      "Measuring timestamp 65/65, shape: (155, 366)\n",
      "Measuring timestamp 70/65, shape: (155, 366)\r\n",
      "Finished classifying, took me 13059 seconds...\n"
     ]
    }
   ],
   "source": [
    "# Get source and destination path + create destintation folder if it does not exist.\n",
    "src_path, dst_path = fh.gen_paths(pth=data_path, src_fldr=path_cue_aligned_resampled, dst_fldr='results')\n",
    "\n",
    "# Iterate over each subject and extract the streams\n",
    "start = time.time()\n",
    "for i, subject in enumerate(subjects):\n",
    "    print(f'Classifying cue-aligned for subject {subject}')\n",
    "\n",
    "    ### Distance\n",
    "    # Classify the epochs for 1 timepoint:\n",
    "    clas.classify(src=src_path, dst=dst_path, sbj=subject, condition='distance', n_timepoints=1, loo=True)\n",
    "    # Classify the epochs for 6 timepoints:\n",
    "    clas.classify(src=src_path, dst=dst_path, sbj=subject, condition='distance', n_timepoints=6, loo=True)\n",
    "\n",
    "    ### Direction\n",
    "    # Classify the epochs for 1 timepoint:\n",
    "    clas.classify(src=src_path, dst=dst_path, sbj=subject, condition='direction', n_timepoints=1, loo=True)\n",
    "    # Classify the epochs for 6 timepoints:\n",
    "    clas.classify(src=src_path, dst=dst_path, sbj=subject, condition='direction', n_timepoints=6, loo=True)\n",
    "\n",
    "    ### Direction short\n",
    "    # Classify the epochs for 1 timepoint:\n",
    "    clas.classify(src=src_path, dst=dst_path, sbj=subject, condition='direction_short', n_timepoints=1, loo=True)\n",
    "    # Classify the epochs for 6 timepoints:\n",
    "    clas.classify(src=src_path, dst=dst_path, sbj=subject, condition='direction_short', n_timepoints=6, loo=True)\n",
    "\n",
    "    ### Direction long\n",
    "    # Classify the epochs for 1 timepoint:\n",
    "    clas.classify(src=src_path, dst=dst_path, sbj=subject, condition='direction_long', n_timepoints=1, loo=True)\n",
    "    # Classify the epochs for 6 timepoints:\n",
    "    clas.classify(src=src_path, dst=dst_path, sbj=subject, condition='direction_long', n_timepoints=6, loo=True)\n",
    "\n",
    "    ### Position\n",
    "    # Classify the epochs for 1 timepoint:\n",
    "    clas.classify(src=src_path, dst=dst_path, sbj=subject, condition='position', n_timepoints=1, loo=True)\n",
    "    # Classify the epochs for 6 timepoints:\n",
    "    clas.classify(src=src_path, dst=dst_path, sbj=subject, condition='position', n_timepoints=6, loo=True)\n",
    "\n",
    "\n",
    "print(f'Finished classifying, took me {round(time.time() - start)} seconds...')"
   ],
   "metadata": {
    "collapsed": false,
    "pycharm": {
     "name": "#%%\n"
    }
   }
  },
  {
   "cell_type": "markdown",
   "source": [
    "## 4.2. Movement-aligned"
   ],
   "metadata": {
    "collapsed": false,
    "pycharm": {
     "name": "#%% md\n"
    }
   }
  },
  {
   "cell_type": "code",
   "execution_count": 22,
   "outputs": [
    {
     "name": "stdout",
     "output_type": "stream",
     "text": [
      "Classifying movement-aligned for subject A01\n",
      "Measuring timestamp 60/60, shape: (250, 61)\n",
      "\n",
      "Measuring timestamp 55/55, shape: (250, 366)\n",
      "Measuring timestamp 60/55, shape: (250, 366)\r\n",
      "Measuring timestamp 60/60, shape: (232, 61)\n",
      "\n",
      "Measuring timestamp 55/55, shape: (232, 366)\n",
      "Measuring timestamp 60/55, shape: (232, 366)\r\n",
      "Measuring timestamp 60/60, shape: (116, 61)\n",
      "\n",
      "Measuring timestamp 55/55, shape: (116, 366)\n",
      "Measuring timestamp 60/55, shape: (116, 366)\r\n",
      "Measuring timestamp 60/60, shape: (112, 61)\n",
      "\n",
      "Measuring timestamp 55/55, shape: (112, 366)\n",
      "Measuring timestamp 60/55, shape: (112, 366)\r\n",
      "Measuring timestamp 60/60, shape: (140, 61)\n",
      "\n",
      "Measuring timestamp 55/55, shape: (140, 366)\n",
      "Measuring timestamp 60/55, shape: (140, 366)\r\n",
      "Classifying movement-aligned for subject A02\n",
      "Measuring timestamp 60/60, shape: (298, 61)\n",
      "\n",
      "Measuring timestamp 55/55, shape: (298, 366)\n",
      "Measuring timestamp 60/55, shape: (298, 366)\r\n",
      "Measuring timestamp 60/60, shape: (308, 61)\n",
      "\n",
      "Measuring timestamp 55/55, shape: (308, 366)\n",
      "Measuring timestamp 60/55, shape: (308, 366)\r\n",
      "Measuring timestamp 60/60, shape: (144, 61)\n",
      "\n",
      "Measuring timestamp 55/55, shape: (144, 366)\n",
      "Measuring timestamp 60/55, shape: (144, 366)\r\n",
      "Measuring timestamp 60/60, shape: (160, 61)\n",
      "\n",
      "Measuring timestamp 55/55, shape: (160, 366)\n",
      "Measuring timestamp 60/55, shape: (160, 366)\r\n",
      "Measuring timestamp 60/60, shape: (200, 61)\n",
      "\n",
      "Measuring timestamp 55/55, shape: (200, 366)\n",
      "Measuring timestamp 60/55, shape: (200, 366)\r\n",
      "Classifying movement-aligned for subject A03\n",
      "Measuring timestamp 60/60, shape: (266, 61)\n",
      "\n",
      "Measuring timestamp 55/55, shape: (266, 366)\n",
      "Measuring timestamp 60/55, shape: (266, 366)\r\n",
      "Measuring timestamp 60/60, shape: (268, 61)\n",
      "\n",
      "Measuring timestamp 55/55, shape: (268, 366)\n",
      "Measuring timestamp 60/55, shape: (268, 366)\r\n",
      "Measuring timestamp 60/60, shape: (136, 61)\n",
      "\n",
      "Measuring timestamp 55/55, shape: (136, 366)\n",
      "Measuring timestamp 60/55, shape: (136, 366)\r\n",
      "Measuring timestamp 60/60, shape: (116, 61)\n",
      "\n",
      "Measuring timestamp 55/55, shape: (116, 366)\n",
      "Measuring timestamp 60/55, shape: (116, 366)\r\n",
      "Measuring timestamp 60/60, shape: (145, 61)\n",
      "\n",
      "Measuring timestamp 55/55, shape: (145, 366)\n",
      "Measuring timestamp 60/55, shape: (145, 366)\r\n",
      "Classifying movement-aligned for subject A04\n",
      "Measuring timestamp 60/60, shape: (306, 61)\n",
      "\n",
      "Measuring timestamp 55/55, shape: (306, 366)\n",
      "Measuring timestamp 60/55, shape: (306, 366)\r\n",
      "Measuring timestamp 60/60, shape: (300, 61)\n",
      "\n",
      "Measuring timestamp 55/55, shape: (300, 366)\n",
      "Measuring timestamp 60/55, shape: (300, 366)\r\n",
      "Measuring timestamp 60/60, shape: (156, 61)\n",
      "\n",
      "Measuring timestamp 55/55, shape: (156, 366)\n",
      "Measuring timestamp 60/55, shape: (156, 366)\r\n",
      "Measuring timestamp 60/60, shape: (144, 61)\n",
      "\n",
      "Measuring timestamp 55/55, shape: (144, 366)\n",
      "Measuring timestamp 60/55, shape: (144, 366)\r\n",
      "Measuring timestamp 60/60, shape: (180, 61)\n",
      "\n",
      "Measuring timestamp 55/55, shape: (180, 366)\n",
      "Measuring timestamp 60/55, shape: (180, 366)\r\n",
      "Classifying movement-aligned for subject A05\n",
      "Measuring timestamp 60/60, shape: (220, 61)\n",
      "\n",
      "Measuring timestamp 55/55, shape: (220, 366)\n",
      "Measuring timestamp 60/55, shape: (220, 366)\r\n",
      "Measuring timestamp 60/60, shape: (204, 61)\n",
      "\n",
      "Measuring timestamp 55/55, shape: (204, 366)\n",
      "Measuring timestamp 60/55, shape: (204, 366)\r\n",
      "Measuring timestamp 60/60, shape: (100, 61)\n",
      "\n",
      "Measuring timestamp 55/55, shape: (100, 366)\n",
      "Measuring timestamp 60/55, shape: (100, 366)\r\n",
      "Measuring timestamp 60/60, shape: (104, 61)\n",
      "\n",
      "Measuring timestamp 55/55, shape: (104, 366)\n",
      "Measuring timestamp 60/55, shape: (104, 366)\r\n",
      "Measuring timestamp 60/60, shape: (130, 61)\n",
      "\n",
      "Measuring timestamp 55/55, shape: (130, 366)\n",
      "Measuring timestamp 60/55, shape: (130, 366)\r\n",
      "Classifying movement-aligned for subject A06\n",
      "Measuring timestamp 60/60, shape: (270, 61)\n",
      "\n",
      "Measuring timestamp 55/55, shape: (270, 366)\n",
      "Measuring timestamp 60/55, shape: (270, 366)\r\n",
      "Measuring timestamp 60/60, shape: (264, 61)\n",
      "\n",
      "Measuring timestamp 55/55, shape: (264, 366)\n",
      "Measuring timestamp 60/55, shape: (264, 366)\r\n",
      "Measuring timestamp 60/60, shape: (120, 61)\n",
      "\n",
      "Measuring timestamp 55/55, shape: (120, 366)\n",
      "Measuring timestamp 60/55, shape: (120, 366)\r\n",
      "Measuring timestamp 60/60, shape: (140, 61)\n",
      "\n",
      "Measuring timestamp 55/55, shape: (140, 366)\n",
      "Measuring timestamp 60/55, shape: (140, 366)\r\n",
      "Measuring timestamp 60/60, shape: (175, 61)\n",
      "\n",
      "Measuring timestamp 55/55, shape: (175, 366)\n",
      "Measuring timestamp 60/55, shape: (175, 366)\r\n",
      "Classifying movement-aligned for subject A07\n",
      "Measuring timestamp 60/60, shape: (272, 61)\n",
      "\n",
      "Measuring timestamp 55/55, shape: (272, 366)\n",
      "Measuring timestamp 60/55, shape: (272, 366)\r\n",
      "Measuring timestamp 60/60, shape: (280, 61)\n",
      "\n",
      "Measuring timestamp 55/55, shape: (280, 366)\n",
      "Measuring timestamp 60/55, shape: (280, 366)\r\n",
      "Measuring timestamp 60/60, shape: (108, 61)\n",
      "\n",
      "Measuring timestamp 55/55, shape: (108, 366)\n",
      "Measuring timestamp 60/55, shape: (108, 366)\r\n",
      "Measuring timestamp 60/60, shape: (128, 61)\n",
      "\n",
      "Measuring timestamp 55/55, shape: (128, 366)\n",
      "Measuring timestamp 60/55, shape: (128, 366)\r\n",
      "Measuring timestamp 60/60, shape: (160, 61)\n",
      "\n",
      "Measuring timestamp 55/55, shape: (160, 366)\n",
      "Measuring timestamp 60/55, shape: (160, 366)\r\n",
      "Classifying movement-aligned for subject A08\n",
      "Measuring timestamp 60/60, shape: (256, 61)\n",
      "\n",
      "Measuring timestamp 55/55, shape: (256, 366)\n",
      "Measuring timestamp 60/55, shape: (256, 366)\r\n",
      "Measuring timestamp 60/60, shape: (264, 61)\n",
      "\n",
      "Measuring timestamp 55/55, shape: (264, 366)\n",
      "Measuring timestamp 60/55, shape: (264, 366)\r\n",
      "Measuring timestamp 60/60, shape: (108, 61)\n",
      "\n",
      "Measuring timestamp 55/55, shape: (108, 366)\n",
      "Measuring timestamp 60/55, shape: (108, 366)\r\n",
      "Measuring timestamp 60/60, shape: (128, 61)\n",
      "\n",
      "Measuring timestamp 55/55, shape: (128, 366)\n",
      "Measuring timestamp 60/55, shape: (128, 366)\r\n",
      "Measuring timestamp 60/60, shape: (160, 61)\n",
      "\n",
      "Measuring timestamp 55/55, shape: (160, 366)\n",
      "Measuring timestamp 60/55, shape: (160, 366)\r\n",
      "Classifying movement-aligned for subject A09\n",
      "Measuring timestamp 60/60, shape: (298, 61)\n",
      "\n",
      "Measuring timestamp 55/55, shape: (298, 366)\n",
      "Measuring timestamp 60/55, shape: (298, 366)\r\n",
      "Measuring timestamp 60/60, shape: (304, 61)\n",
      "\n",
      "Measuring timestamp 55/55, shape: (304, 366)\n",
      "Measuring timestamp 60/55, shape: (304, 366)\r\n",
      "Measuring timestamp 60/60, shape: (152, 61)\n",
      "\n",
      "Measuring timestamp 55/55, shape: (152, 366)\n",
      "Measuring timestamp 60/55, shape: (152, 366)\r\n",
      "Measuring timestamp 60/60, shape: (136, 61)\n",
      "\n",
      "Measuring timestamp 55/55, shape: (136, 366)\n",
      "Measuring timestamp 60/55, shape: (136, 366)\r\n",
      "Measuring timestamp 60/60, shape: (170, 61)\n",
      "\n",
      "Measuring timestamp 55/55, shape: (170, 366)\n",
      "Measuring timestamp 60/55, shape: (170, 366)\r\n",
      "Classifying movement-aligned for subject A10\n",
      "Measuring timestamp 60/60, shape: (278, 61)\n",
      "\n",
      "Measuring timestamp 55/55, shape: (278, 366)\n",
      "Measuring timestamp 60/55, shape: (278, 366)\r\n",
      "Measuring timestamp 60/60, shape: (252, 61)\n",
      "\n",
      "Measuring timestamp 55/55, shape: (252, 366)\n",
      "Measuring timestamp 60/55, shape: (252, 366)\r\n",
      "Measuring timestamp 60/60, shape: (128, 61)\n",
      "\n",
      "Measuring timestamp 55/55, shape: (128, 366)\n",
      "Measuring timestamp 60/55, shape: (128, 366)\r\n",
      "Measuring timestamp 60/60, shape: (124, 61)\n",
      "\n",
      "Measuring timestamp 55/55, shape: (124, 366)\n",
      "Measuring timestamp 60/55, shape: (124, 366)\r\n",
      "Measuring timestamp 60/60, shape: (155, 61)\n",
      "\n",
      "Measuring timestamp 55/55, shape: (155, 366)\n",
      "Measuring timestamp 60/55, shape: (155, 366)\r\n",
      "Finished classifiying, took me 10486 seconds...\n"
     ]
    }
   ],
   "source": [
    "# Get source and destination path + create destintation folder if it does not exist.\n",
    "src_path, dst_path = fh.gen_paths(pth=data_path, src_fldr='2023_03_22_epoched_movement_aligned', dst_fldr='results')\n",
    "\n",
    "# Iterate over each subject and extract the streams\n",
    "start = time.time()\n",
    "for i, subject in enumerate(subjects):\n",
    "    print(f'Classifying movement-aligned for subject {subject}')\n",
    "\n",
    "    ### Distance\n",
    "    # Classify the epochs for 1 timepoint:\n",
    "    clas.classify(src=src_path, dst=dst_path, sbj=subject, condition='distance', n_timepoints=1, loo=True)\n",
    "    # Classify the epochs for 6 timepoints:\n",
    "    clas.classify(src=src_path, dst=dst_path, sbj=subject, condition='distance', n_timepoints=6, loo=True)\n",
    "\n",
    "    ### Direction\n",
    "    # Classify the epochs for 1 timepoint:\n",
    "    clas.classify(src=src_path, dst=dst_path, sbj=subject, condition='direction', n_timepoints=1, loo=True)\n",
    "    # Classify the epochs for 6 timepoints:\n",
    "    clas.classify(src=src_path, dst=dst_path, sbj=subject, condition='direction', n_timepoints=6, loo=True)\n",
    "\n",
    "    ### Direction short\n",
    "    # Classify the epochs for 1 timepoint:\n",
    "    clas.classify(src=src_path, dst=dst_path, sbj=subject, condition='direction_short', n_timepoints=1, loo=True)\n",
    "    # Classify the epochs for 6 timepoints:\n",
    "    clas.classify(src=src_path, dst=dst_path, sbj=subject, condition='direction_short', n_timepoints=6, loo=True)\n",
    "\n",
    "    ### Direction long\n",
    "    # Classify the epochs for 1 timepoint:\n",
    "    clas.classify(src=src_path, dst=dst_path, sbj=subject, condition='direction_long', n_timepoints=1, loo=True)\n",
    "    # Classify the epochs for 6 timepoints:\n",
    "    clas.classify(src=src_path, dst=dst_path, sbj=subject, condition='direction_long', n_timepoints=6, loo=True)\n",
    "\n",
    "    # Classify the epochs for 1 timepoint:\n",
    "    clas.classify(src=src_path, dst=dst_path, sbj=subject, condition='position', n_timepoints=1, loo=True)\n",
    "    # Classify the epochs for 6 timepoints:\n",
    "    clas.classify(src=src_path, dst=dst_path, sbj=subject, condition='position', n_timepoints=6, loo=True)\n",
    "\n",
    "\n",
    "print(f'Finished classifiying, took me {round(time.time() - start)} seconds...')"
   ],
   "metadata": {
    "collapsed": false,
    "pycharm": {
     "name": "#%%\n"
    }
   }
  },
  {
   "cell_type": "markdown",
   "source": [
    "## 4.3. Mean and CI calculation for cue- & movement-aligned"
   ],
   "metadata": {
    "collapsed": false,
    "pycharm": {
     "name": "#%% md\n"
    }
   }
  },
  {
   "cell_type": "code",
   "execution_count": 23,
   "outputs": [
    {
     "name": "stdout",
     "output_type": "stream",
     "text": [
      "cue-aligned distance 1\n",
      "cue-aligned direction 1\n",
      "cue-aligned direction_short 1\n",
      "cue-aligned direction_long 1\n",
      "cue-aligned position 1\n",
      "cue-aligned distance 6\n",
      "cue-aligned direction 6\n",
      "cue-aligned direction_short 6\n",
      "cue-aligned direction_long 6\n",
      "cue-aligned position 6\n",
      "movement_aligned distance 1\n",
      "movement_aligned direction 1\n",
      "movement_aligned direction_short 1\n",
      "movement_aligned direction_long 1\n",
      "movement_aligned position 1\n",
      "movement_aligned distance 6\n",
      "movement_aligned direction 6\n",
      "movement_aligned direction_short 6\n",
      "movement_aligned direction_long 6\n",
      "movement_aligned position 6\n",
      "Calculation took me: 9.308835744857788seconds.\n"
     ]
    }
   ],
   "source": [
    "importlib.reload(proc)\n",
    "# Get source and destination path + create destintation folder if it does not exist.\n",
    "src_path, dst_path = fh.gen_paths(pth=data_path, src_fldr='results', dst_fldr='results')\n",
    "\n",
    "proc.classification_mean_and_ci(src_path, dst_path)"
   ],
   "metadata": {
    "collapsed": false,
    "pycharm": {
     "name": "#%%\n"
    }
   }
  },
  {
   "cell_type": "markdown",
   "source": [
    "# 5. Encoding of conditions / calculate GLM"
   ],
   "metadata": {
    "collapsed": false,
    "pycharm": {
     "name": "#%% md\n"
    }
   }
  },
  {
   "cell_type": "markdown",
   "source": [
    "## 5.1. Cue-aligned"
   ],
   "metadata": {
    "collapsed": false,
    "pycharm": {
     "name": "#%% md\n"
    }
   }
  },
  {
   "cell_type": "code",
   "execution_count": 8,
   "outputs": [
    {
     "name": "stdout",
     "output_type": "stream",
     "text": [
      "[[ 0.9985119  -0.99255952  0.          0.          0.        ]\n",
      " [-0.99255952  0.9985119   0.          0.          0.        ]\n",
      " [ 0.          0.          0.9985119  -0.99255952  0.        ]\n",
      " [ 0.          0.         -0.99255952  0.9985119   0.        ]\n",
      " [ 0.          0.          0.          0.          0.00595238]]\n",
      "[[ 84.25112108  83.74887892   0.           0.           0.        ]\n",
      " [ 83.74887892  84.25112108   0.           0.           0.        ]\n",
      " [  0.           0.          84.25112108  83.74887892   0.        ]\n",
      " [ -0.          -0.          83.74887892  84.25112108  -0.        ]\n",
      " [  0.           0.           0.           0.         168.        ]]\n",
      "Shrinkage param: 0.007440476190476189\n",
      "[[ 0.99884259 -0.99421296  0.          0.          0.        ]\n",
      " [-0.99421296  0.99884259  0.          0.          0.        ]\n",
      " [ 0.          0.          0.99884259 -0.99421296  0.        ]\n",
      " [ 0.          0.         -0.99421296  0.99884259  0.        ]\n",
      " [ 0.          0.          0.          0.          0.00462963]]\n",
      "[[108.25087108 107.74912892   0.           0.           0.        ]\n",
      " [107.74912892 108.25087108   0.           0.           0.        ]\n",
      " [  0.           0.         108.25087108 107.74912892   0.        ]\n",
      " [ -0.          -0.         107.74912892 108.25087108  -0.        ]\n",
      " [  0.           0.           0.           0.         216.        ]]\n",
      "Shrinkage param: 0.005787037037037036\n",
      "[[ 0.99856322 -0.99281609  0.          0.          0.        ]\n",
      " [-0.99281609  0.99856322  0.          0.          0.        ]\n",
      " [ 0.          0.          0.99856322 -0.99281609  0.        ]\n",
      " [ 0.          0.         -0.99281609  0.99856322  0.        ]\n",
      " [ 0.          0.          0.          0.          0.00574713]]\n",
      "[[ 87.25108225  86.74891775   0.           0.           0.        ]\n",
      " [ 86.74891775  87.25108225   0.           0.           0.        ]\n",
      " [  0.           0.          87.25108225  86.74891775   0.        ]\n",
      " [ -0.          -0.          86.74891775  87.25108225  -0.        ]\n",
      " [  0.           0.           0.           0.         174.        ]]\n",
      "Shrinkage param: 0.00718390804597701\n",
      "[[ 0.99884259 -0.99421296  0.          0.          0.        ]\n",
      " [-0.99421296  0.99884259  0.          0.          0.        ]\n",
      " [ 0.          0.          0.99884259 -0.99421296  0.        ]\n",
      " [ 0.          0.         -0.99421296  0.99884259  0.        ]\n",
      " [ 0.          0.          0.          0.          0.00462963]]\n",
      "[[108.25087108 107.74912892   0.           0.           0.        ]\n",
      " [107.74912892 108.25087108   0.           0.           0.        ]\n",
      " [  0.           0.         108.25087108 107.74912892   0.        ]\n",
      " [ -0.          -0.         107.74912892 108.25087108  -0.        ]\n",
      " [  0.           0.           0.           0.         216.        ]]\n",
      "Shrinkage param: 0.005787037037037036\n",
      "[[ 0.99833333 -0.99166667  0.          0.          0.        ]\n",
      " [-0.99166667  0.99833333  0.          0.          0.        ]\n",
      " [ 0.          0.          0.99833333 -0.99166667  0.        ]\n",
      " [ 0.          0.         -0.99166667  0.99833333  0.        ]\n",
      " [ 0.          0.          0.          0.          0.00666667]]\n",
      "[[ 75.25125628  74.74874372   0.           0.           0.        ]\n",
      " [ 74.74874372  75.25125628   0.           0.           0.        ]\n",
      " [  0.           0.          75.25125628  74.74874372   0.        ]\n",
      " [ -0.          -0.          74.74874372  75.25125628  -0.        ]\n",
      " [  0.           0.           0.           0.         150.        ]]\n",
      "Shrinkage param: 0.008333333333333331\n",
      "[[ 0.99861111 -0.99305556  0.          0.          0.        ]\n",
      " [-0.99305556  0.99861111  0.          0.          0.        ]\n",
      " [ 0.          0.          0.99861111 -0.99305556  0.        ]\n",
      " [ 0.          0.         -0.99305556  0.99861111  0.        ]\n",
      " [ 0.          0.          0.          0.          0.00555556]]\n",
      "[[ 90.25104603  89.74895397   0.           0.           0.        ]\n",
      " [ 89.74895397  90.25104603   0.           0.           0.        ]\n",
      " [  0.           0.          90.25104603  89.74895397   0.        ]\n",
      " [ -0.          -0.          89.74895397  90.25104603  -0.        ]\n",
      " [  0.           0.           0.           0.         180.        ]]\n",
      "Shrinkage param: 0.006944444444444443\n",
      "[[ 0.99845679 -0.99228395  0.          0.          0.        ]\n",
      " [-0.99228395  0.99845679  0.          0.          0.        ]\n",
      " [ 0.          0.          0.99845679 -0.99228395  0.        ]\n",
      " [ 0.          0.         -0.99228395  0.99845679  0.        ]\n",
      " [ 0.          0.          0.          0.          0.00617284]]\n",
      "[[ 81.25116279  80.74883721   0.           0.           0.        ]\n",
      " [ 80.74883721  81.25116279   0.           0.           0.        ]\n",
      " [  0.           0.          81.25116279  80.74883721   0.        ]\n",
      " [ -0.          -0.          80.74883721  81.25116279  -0.        ]\n",
      " [  0.           0.           0.           0.         162.        ]]\n",
      "Shrinkage param: 0.007716049382716048\n",
      "[[ 0.99845679 -0.99228395  0.          0.          0.        ]\n",
      " [-0.99228395  0.99845679  0.          0.          0.        ]\n",
      " [ 0.          0.          0.99845679 -0.99228395  0.        ]\n",
      " [ 0.          0.         -0.99228395  0.99845679  0.        ]\n",
      " [ 0.          0.          0.          0.          0.00617284]]\n",
      "[[ 81.25116279  80.74883721   0.           0.           0.        ]\n",
      " [ 80.74883721  81.25116279   0.           0.           0.        ]\n",
      " [  0.           0.          81.25116279  80.74883721   0.        ]\n",
      " [ -0.          -0.          80.74883721  81.25116279  -0.        ]\n",
      " [  0.           0.           0.           0.         162.        ]]\n",
      "Shrinkage param: 0.007716049382716048\n",
      "[[ 0.99877451 -0.99387255  0.          0.          0.        ]\n",
      " [-0.99387255  0.99877451  0.          0.          0.        ]\n",
      " [ 0.          0.          0.99877451 -0.99387255  0.        ]\n",
      " [ 0.          0.         -0.99387255  0.99877451  0.        ]\n",
      " [ 0.          0.          0.          0.          0.00490196]]\n",
      "[[102.25092251 101.74907749   0.           0.           0.        ]\n",
      " [101.74907749 102.25092251   0.           0.           0.        ]\n",
      " [  0.           0.         102.25092251 101.74907749   0.        ]\n",
      " [ -0.          -0.         101.74907749 102.25092251  -0.        ]\n",
      " [  0.           0.           0.           0.         204.        ]]\n",
      "Shrinkage param: 0.006127450980392156\n",
      "[[ 0.99865591 -0.99327957  0.          0.          0.        ]\n",
      " [-0.99327957  0.99865591  0.          0.          0.        ]\n",
      " [ 0.          0.          0.99865591 -0.99327957  0.        ]\n",
      " [ 0.          0.         -0.99327957  0.99865591  0.        ]\n",
      " [ 0.          0.          0.          0.          0.00537634]]\n",
      "[[ 93.25101215  92.74898785   0.           0.           0.        ]\n",
      " [ 92.74898785  93.25101215   0.           0.           0.        ]\n",
      " [  0.           0.          93.25101215  92.74898785   0.        ]\n",
      " [ -0.          -0.          92.74898785  93.25101215  -0.        ]\n",
      " [  0.           0.           0.           0.         186.        ]]\n",
      "Shrinkage param: 0.00672043010752688\n",
      "Timepoint 1400/1401\r"
     ]
    }
   ],
   "source": [
    "importlib.reload(proc)\n",
    "\n",
    "src_path, dst_path = fh.gen_paths(pth=data_path, src_fldr=path_cue_aligned_not_resampled, dst_fldr='results')\n",
    "\n",
    "# Calculate the confidence interval:\n",
    "proc.glm(src_path, dst_path, sbj_list=subjects, split_id=0, alignment='cue-aligned', shrink=False)\n",
    "proc.glm(src_path, dst_path, sbj_list=subjects, split_id=0, alignment='cue-aligned', shrink=True)"
   ],
   "metadata": {
    "collapsed": false,
    "pycharm": {
     "name": "#%%\n"
    }
   }
  },
  {
   "cell_type": "code",
   "execution_count": 9,
   "outputs": [
    {
     "name": "stdout",
     "output_type": "stream",
     "text": [
      "61\n",
      "Permutations tests took me: 940.3\n",
      "61\n",
      "Permutations tests took me: 926.68\n"
     ]
    }
   ],
   "source": [
    "# Statistical analysis:\n",
    "importlib.reload(proc)\n",
    "# Get source and destination path + create destintation folder if it does not exist.\n",
    "src_path, dst_path = fh.gen_paths(pth=data_path, src_fldr='results', dst_fldr='results')\n",
    "\n",
    "proc.statistical_tests_glm(src_path, dst_path, split_id=0, alignment='cue-aligned', shrink=True)\n",
    "proc.statistical_tests_glm(src_path, dst_path, split_id=0, alignment='cue-aligned', shrink=False)"
   ],
   "metadata": {
    "collapsed": false,
    "pycharm": {
     "name": "#%%\n"
    }
   }
  },
  {
   "cell_type": "code",
   "execution_count": 10,
   "outputs": [
    {
     "name": "stdout",
     "output_type": "stream",
     "text": [
      "61\n",
      "Permutations tests took me: 880.4\n",
      "61\n",
      "Permutations tests took me: 857.24\n"
     ]
    }
   ],
   "source": [
    "# Statistical analysis:\n",
    "importlib.reload(proc)\n",
    "# Get source and destination path + create destintation folder if it does not exist.\n",
    "src_path, dst_path = fh.gen_paths(pth=data_path, src_fldr='results', dst_fldr='results')\n",
    "\n",
    "proc.two_sample_tests_glm(src_path, dst_path, split_id=0, alignment='cue-aligned', shrink=True)\n",
    "proc.two_sample_tests_glm(src_path, dst_path, split_id=0, alignment='cue-aligned', shrink=False)"
   ],
   "metadata": {
    "collapsed": false,
    "pycharm": {
     "name": "#%%\n"
    }
   }
  },
  {
   "cell_type": "code",
   "execution_count": 4,
   "outputs": [],
   "source": [
    "sign_list = [1,-1]\n",
    "signs = np.random.choice(sign_list, size=(10, 30))\n",
    "vals = [1,2,3,4,5,6,7,8,9,10]\n",
    "vals = np.reshape(vals, (len(vals),1))\n",
    "vals_rep = np.repeat(np.array(vals), 30, axis=1)\n",
    "\n",
    "mult = vals_rep * signs\n",
    "\n",
    "from scipy.stats import wilcoxon, ttest_ind, ttest_1samp\n",
    "_stat, _pval = ttest_1samp(mult, popmean=0.0, axis=0)\n",
    "orig_stat, orig_p = ttest_1samp(vals, popmean=0.0)\n",
    "_stat.sort()\n",
    "\n",
    "temp = _stat>orig_stat\n",
    "temp[3] = True\n",
    "temp[5] = True\n",
    "ids_above = temp.sum()"
   ],
   "metadata": {
    "collapsed": false,
    "pycharm": {
     "name": "#%%\n"
    }
   }
  },
  {
   "cell_type": "code",
   "execution_count": 108,
   "outputs": [],
   "source": [
    "p_s = np.load('D:/Diplomarbeit_data/eeg/results/regr_coeff_p_vals_cue-aligned.npy')"
   ],
   "metadata": {
    "collapsed": false,
    "pycharm": {
     "name": "#%%\n"
    }
   }
  },
  {
   "cell_type": "markdown",
   "source": [
    "## 5.2. Movement-aligned"
   ],
   "metadata": {
    "collapsed": false,
    "pycharm": {
     "name": "#%% md\n"
    }
   }
  },
  {
   "cell_type": "code",
   "execution_count": 11,
   "outputs": [
    {
     "name": "stdout",
     "output_type": "stream",
     "text": [
      "[[ 0.9985119  -0.99255952  0.          0.          0.        ]\n",
      " [-0.99255952  0.9985119   0.          0.          0.        ]\n",
      " [ 0.          0.          0.9985119  -0.99255952  0.        ]\n",
      " [ 0.          0.         -0.99255952  0.9985119   0.        ]\n",
      " [ 0.          0.          0.          0.          0.00595238]]\n",
      "[[ 84.25112108  83.74887892   0.           0.           0.        ]\n",
      " [ 83.74887892  84.25112108   0.           0.           0.        ]\n",
      " [  0.           0.          84.25112108  83.74887892   0.        ]\n",
      " [ -0.          -0.          83.74887892  84.25112108  -0.        ]\n",
      " [  0.           0.           0.           0.         168.        ]]\n",
      "Shrinkage param: 0.007440476190476189\n",
      "[[ 0.99884259 -0.99421296  0.          0.          0.        ]\n",
      " [-0.99421296  0.99884259  0.          0.          0.        ]\n",
      " [ 0.          0.          0.99884259 -0.99421296  0.        ]\n",
      " [ 0.          0.         -0.99421296  0.99884259  0.        ]\n",
      " [ 0.          0.          0.          0.          0.00462963]]\n",
      "[[108.25087108 107.74912892   0.           0.           0.        ]\n",
      " [107.74912892 108.25087108   0.           0.           0.        ]\n",
      " [  0.           0.         108.25087108 107.74912892   0.        ]\n",
      " [ -0.          -0.         107.74912892 108.25087108  -0.        ]\n",
      " [  0.           0.           0.           0.         216.        ]]\n",
      "Shrinkage param: 0.005787037037037036\n",
      "[[ 0.99856322 -0.99281609  0.          0.          0.        ]\n",
      " [-0.99281609  0.99856322  0.          0.          0.        ]\n",
      " [ 0.          0.          0.99856322 -0.99281609  0.        ]\n",
      " [ 0.          0.         -0.99281609  0.99856322  0.        ]\n",
      " [ 0.          0.          0.          0.          0.00574713]]\n",
      "[[ 87.25108225  86.74891775   0.           0.           0.        ]\n",
      " [ 86.74891775  87.25108225   0.           0.           0.        ]\n",
      " [  0.           0.          87.25108225  86.74891775   0.        ]\n",
      " [ -0.          -0.          86.74891775  87.25108225  -0.        ]\n",
      " [  0.           0.           0.           0.         174.        ]]\n",
      "Shrinkage param: 0.00718390804597701\n",
      "[[ 0.99884259 -0.99421296  0.          0.          0.        ]\n",
      " [-0.99421296  0.99884259  0.          0.          0.        ]\n",
      " [ 0.          0.          0.99884259 -0.99421296  0.        ]\n",
      " [ 0.          0.         -0.99421296  0.99884259  0.        ]\n",
      " [ 0.          0.          0.          0.          0.00462963]]\n",
      "[[108.25087108 107.74912892   0.           0.           0.        ]\n",
      " [107.74912892 108.25087108   0.           0.           0.        ]\n",
      " [  0.           0.         108.25087108 107.74912892   0.        ]\n",
      " [ -0.          -0.         107.74912892 108.25087108  -0.        ]\n",
      " [  0.           0.           0.           0.         216.        ]]\n",
      "Shrinkage param: 0.005787037037037036\n",
      "[[ 0.99833333 -0.99166667  0.          0.          0.        ]\n",
      " [-0.99166667  0.99833333  0.          0.          0.        ]\n",
      " [ 0.          0.          0.99833333 -0.99166667  0.        ]\n",
      " [ 0.          0.         -0.99166667  0.99833333  0.        ]\n",
      " [ 0.          0.          0.          0.          0.00666667]]\n",
      "[[ 75.25125628  74.74874372   0.           0.           0.        ]\n",
      " [ 74.74874372  75.25125628   0.           0.           0.        ]\n",
      " [  0.           0.          75.25125628  74.74874372   0.        ]\n",
      " [ -0.          -0.          74.74874372  75.25125628  -0.        ]\n",
      " [  0.           0.           0.           0.         150.        ]]\n",
      "Shrinkage param: 0.008333333333333331\n",
      "[[ 0.99861111 -0.99305556  0.          0.          0.        ]\n",
      " [-0.99305556  0.99861111  0.          0.          0.        ]\n",
      " [ 0.          0.          0.99861111 -0.99305556  0.        ]\n",
      " [ 0.          0.         -0.99305556  0.99861111  0.        ]\n",
      " [ 0.          0.          0.          0.          0.00555556]]\n",
      "[[ 90.25104603  89.74895397   0.           0.           0.        ]\n",
      " [ 89.74895397  90.25104603   0.           0.           0.        ]\n",
      " [  0.           0.          90.25104603  89.74895397   0.        ]\n",
      " [ -0.          -0.          89.74895397  90.25104603  -0.        ]\n",
      " [  0.           0.           0.           0.         180.        ]]\n",
      "Shrinkage param: 0.006944444444444443\n",
      "[[ 0.99845679 -0.99228395  0.          0.          0.        ]\n",
      " [-0.99228395  0.99845679  0.          0.          0.        ]\n",
      " [ 0.          0.          0.99845679 -0.99228395  0.        ]\n",
      " [ 0.          0.         -0.99228395  0.99845679  0.        ]\n",
      " [ 0.          0.          0.          0.          0.00617284]]\n",
      "[[ 81.25116279  80.74883721   0.           0.           0.        ]\n",
      " [ 80.74883721  81.25116279   0.           0.           0.        ]\n",
      " [  0.           0.          81.25116279  80.74883721   0.        ]\n",
      " [ -0.          -0.          80.74883721  81.25116279  -0.        ]\n",
      " [  0.           0.           0.           0.         162.        ]]\n",
      "Shrinkage param: 0.007716049382716048\n",
      "[[ 0.99845679 -0.99228395  0.          0.          0.        ]\n",
      " [-0.99228395  0.99845679  0.          0.          0.        ]\n",
      " [ 0.          0.          0.99845679 -0.99228395  0.        ]\n",
      " [ 0.          0.         -0.99228395  0.99845679  0.        ]\n",
      " [ 0.          0.          0.          0.          0.00617284]]\n",
      "[[ 81.25116279  80.74883721   0.           0.           0.        ]\n",
      " [ 80.74883721  81.25116279   0.           0.           0.        ]\n",
      " [  0.           0.          81.25116279  80.74883721   0.        ]\n",
      " [ -0.          -0.          80.74883721  81.25116279  -0.        ]\n",
      " [  0.           0.           0.           0.         162.        ]]\n",
      "Shrinkage param: 0.007716049382716048\n",
      "[[ 0.99877451 -0.99387255  0.          0.          0.        ]\n",
      " [-0.99387255  0.99877451  0.          0.          0.        ]\n",
      " [ 0.          0.          0.99877451 -0.99387255  0.        ]\n",
      " [ 0.          0.         -0.99387255  0.99877451  0.        ]\n",
      " [ 0.          0.          0.          0.          0.00490196]]\n",
      "[[102.25092251 101.74907749   0.           0.           0.        ]\n",
      " [101.74907749 102.25092251   0.           0.           0.        ]\n",
      " [  0.           0.         102.25092251 101.74907749   0.        ]\n",
      " [ -0.          -0.         101.74907749 102.25092251  -0.        ]\n",
      " [  0.           0.           0.           0.         204.        ]]\n",
      "Shrinkage param: 0.006127450980392156\n",
      "[[ 0.99865591 -0.99327957  0.          0.          0.        ]\n",
      " [-0.99327957  0.99865591  0.          0.          0.        ]\n",
      " [ 0.          0.          0.99865591 -0.99327957  0.        ]\n",
      " [ 0.          0.         -0.99327957  0.99865591  0.        ]\n",
      " [ 0.          0.          0.          0.          0.00537634]]\n",
      "[[ 93.25101215  92.74898785   0.           0.           0.        ]\n",
      " [ 92.74898785  93.25101215   0.           0.           0.        ]\n",
      " [  0.           0.          93.25101215  92.74898785   0.        ]\n",
      " [ -0.          -0.          92.74898785  93.25101215  -0.        ]\n",
      " [  0.           0.           0.           0.         186.        ]]\n",
      "Shrinkage param: 0.00672043010752688\n",
      "Timepoint 1200/1201\r"
     ]
    }
   ],
   "source": [
    "importlib.reload(proc)\n",
    "\n",
    "src_path, dst_path = fh.gen_paths(pth=data_path, src_fldr=path_movement_aligned_not_resampled, dst_fldr='results')\n",
    "\n",
    "# Calculate the confidence interval:\n",
    "proc.glm(src_path, dst_path, sbj_list=subjects, split_id=0, alignment='movement-aligned', shrink=False)\n",
    "proc.glm(src_path, dst_path, sbj_list=subjects, split_id=0, alignment='movement-aligned', shrink=True)"
   ],
   "metadata": {
    "collapsed": false,
    "pycharm": {
     "name": "#%%\n"
    }
   }
  },
  {
   "cell_type": "code",
   "execution_count": 12,
   "outputs": [
    {
     "name": "stdout",
     "output_type": "stream",
     "text": [
      "61\n",
      "Permutations tests took me: 762.11\n",
      "61\n",
      "Permutations tests took me: 757.6\n"
     ]
    }
   ],
   "source": [
    "# Statistical analysis:\n",
    "importlib.reload(proc)\n",
    "# Get source and destination path + create destintation folder if it does not exist.\n",
    "src_path, dst_path = fh.gen_paths(pth=data_path, src_fldr='results', dst_fldr='results')\n",
    "\n",
    "proc.statistical_tests_glm(src_path, dst_path, split_id=0, alignment='movement-aligned', shrink=True)\n",
    "proc.statistical_tests_glm(src_path, dst_path, split_id=0, alignment='movement-aligned', shrink=False)"
   ],
   "metadata": {
    "collapsed": false,
    "pycharm": {
     "name": "#%%\n"
    }
   }
  },
  {
   "cell_type": "code",
   "execution_count": 13,
   "outputs": [
    {
     "name": "stdout",
     "output_type": "stream",
     "text": [
      "61\n",
      "Permutations tests took me: 762.15\n",
      "61\n",
      "Permutations tests took me: 774.56\n"
     ]
    }
   ],
   "source": [
    "# Statistical analysis:\n",
    "importlib.reload(proc)#\n",
    "# Get source and destination path + create destintation folder if it does not exist.\n",
    "src_path, dst_path = fh.gen_paths(pth=data_path, src_fldr='results', dst_fldr='results')\n",
    "\n",
    "proc.two_sample_tests_glm(src_path, dst_path, split_id=0, alignment='movement-aligned', shrink=True)\n",
    "proc.two_sample_tests_glm(src_path, dst_path, split_id=0, alignment='movement-aligned', shrink=False)"
   ],
   "metadata": {
    "collapsed": false,
    "pycharm": {
     "name": "#%%\n"
    }
   }
  },
  {
   "cell_type": "code",
   "execution_count": 10,
   "outputs": [],
   "source": [
    "A = np.array([[1,2,3,4,5],[6,7,8,9,10]])\n",
    "m = A.mean(axis=1)"
   ],
   "metadata": {
    "collapsed": false,
    "pycharm": {
     "name": "#%%\n"
    }
   }
  },
  {
   "cell_type": "code",
   "execution_count": 35,
   "outputs": [],
   "source": [
    "S = np.load('C:/Users/peter/Documents/Code/master-thesis/test_shrinkage/param-matrix_A01_cue-aligned.npy')\n",
    "\n",
    "emp_cov = 1/S.shape[0] * S.T.dot(S)\n",
    "\n",
    "from sklearn.covariance import LedoitWolf\n",
    "cov_ld = LedoitWolf().fit(S)\n",
    "est_cov = cov_ld.covariance_\n",
    "\n",
    "S_pinv = np.linalg.pinv(S)\n",
    "\n",
    "S_pinv_cov = 1/S.shape[0] * np.linalg.inv(est_cov).dot(S.T)"
   ],
   "metadata": {
    "collapsed": false,
    "pycharm": {
     "name": "#%%\n"
    }
   }
  },
  {
   "cell_type": "markdown",
   "source": [
    "## 5.3. Statistical analysis"
   ],
   "metadata": {
    "collapsed": false,
    "pycharm": {
     "name": "#%% md\n"
    }
   }
  },
  {
   "cell_type": "code",
   "execution_count": 51,
   "outputs": [
    {
     "data": {
      "text/plain": "array([ 0.0595348 , -0.00756804])"
     },
     "execution_count": 51,
     "metadata": {},
     "output_type": "execute_result"
    }
   ],
   "source": [
    "import numpy as np\n",
    "from sklearn.covariance import LedoitWolf\n",
    "real_cov = np.array([[.4, .2], [.2, .8]])\n",
    "np.random.seed(0)\n",
    "X = np.random.multivariate_normal(mean=[0, 0], cov=real_cov, size=50)\n",
    "cov = LedoitWolf().fit(X)\n",
    "cov.covariance_\n",
    "cov.location_"
   ],
   "metadata": {
    "collapsed": false,
    "pycharm": {
     "name": "#%%\n"
    }
   }
  },
  {
   "cell_type": "code",
   "execution_count": 59,
   "outputs": [
    {
     "data": {
      "text/plain": "array([[1, 2],\n       [3, 4],\n       [5, 6],\n       [7, 8]])"
     },
     "execution_count": 59,
     "metadata": {},
     "output_type": "execute_result"
    }
   ],
   "source": [
    "X = np.array([[1,2],[3,4],[5,6],[7,8]])\n",
    "Y = np.array([4,5,6])\n",
    "X"
   ],
   "metadata": {
    "collapsed": false,
    "pycharm": {
     "name": "#%%\n"
    }
   }
  },
  {
   "cell_type": "code",
   "execution_count": 60,
   "outputs": [
    {
     "ename": "ValueError",
     "evalue": "operands could not be broadcast together with shapes (4,2) (4,) ",
     "output_type": "error",
     "traceback": [
      "\u001B[1;31m---------------------------------------------------------------------------\u001B[0m",
      "\u001B[1;31mValueError\u001B[0m                                Traceback (most recent call last)",
      "Input \u001B[1;32mIn [60]\u001B[0m, in \u001B[0;36m<cell line: 1>\u001B[1;34m()\u001B[0m\n\u001B[1;32m----> 1\u001B[0m x \u001B[38;5;241m=\u001B[39m \u001B[43mX\u001B[49m\u001B[43m \u001B[49m\u001B[38;5;241;43m-\u001B[39;49m\u001B[43m \u001B[49m\u001B[43mX\u001B[49m\u001B[38;5;241;43m.\u001B[39;49m\u001B[43mmean\u001B[49m\u001B[43m(\u001B[49m\u001B[43maxis\u001B[49m\u001B[38;5;241;43m=\u001B[39;49m\u001B[38;5;241;43m1\u001B[39;49m\u001B[43m)\u001B[49m\n\u001B[0;32m      2\u001B[0m y \u001B[38;5;241m=\u001B[39m Y \u001B[38;5;241m-\u001B[39m Y\u001B[38;5;241m.\u001B[39mmean()\n",
      "\u001B[1;31mValueError\u001B[0m: operands could not be broadcast together with shapes (4,2) (4,) "
     ]
    }
   ],
   "source": [
    "x = X - X.mean(axis=0)\n",
    "y = Y - Y.mean()"
   ],
   "metadata": {
    "collapsed": false,
    "pycharm": {
     "name": "#%%\n"
    }
   }
  },
  {
   "cell_type": "code",
   "execution_count": 64,
   "outputs": [],
   "source": [
    "S = np.ones((5,360))"
   ],
   "metadata": {
    "collapsed": false,
    "pycharm": {
     "name": "#%%\n"
    }
   }
  },
  {
   "cell_type": "code",
   "execution_count": 69,
   "outputs": [
    {
     "data": {
      "text/plain": "array([[360., 360., 360., 360., 360.],\n       [360., 360., 360., 360., 360.],\n       [360., 360., 360., 360., 360.],\n       [360., 360., 360., 360., 360.],\n       [360., 360., 360., 360., 360.]])"
     },
     "execution_count": 69,
     "metadata": {},
     "output_type": "execute_result"
    }
   ],
   "source": [
    "S.dot(S.T)"
   ],
   "metadata": {
    "collapsed": false,
    "pycharm": {
     "name": "#%%\n"
    }
   }
  },
  {
   "cell_type": "code",
   "execution_count": 166,
   "outputs": [
    {
     "ename": "TypeError",
     "evalue": "glm() missing 2 required positional arguments: 'split_id' and 'alignment'",
     "output_type": "error",
     "traceback": [
      "\u001B[1;31m---------------------------------------------------------------------------\u001B[0m",
      "\u001B[1;31mTypeError\u001B[0m                                 Traceback (most recent call last)",
      "Input \u001B[1;32mIn [166]\u001B[0m, in \u001B[0;36m<cell line: 5>\u001B[1;34m()\u001B[0m\n\u001B[0;32m      1\u001B[0m importlib\u001B[38;5;241m.\u001B[39mreload(proc)\n\u001B[0;32m      3\u001B[0m src_path, dst_path \u001B[38;5;241m=\u001B[39m fh\u001B[38;5;241m.\u001B[39mgen_paths(pth\u001B[38;5;241m=\u001B[39mdata_path, src_fldr\u001B[38;5;241m=\u001B[39mpath_cue_aligned_not_resampled, dst_fldr\u001B[38;5;241m=\u001B[39m\u001B[38;5;124m'\u001B[39m\u001B[38;5;124mresults\u001B[39m\u001B[38;5;124m'\u001B[39m)\n\u001B[1;32m----> 5\u001B[0m markers \u001B[38;5;241m=\u001B[39m  \u001B[43mproc\u001B[49m\u001B[38;5;241;43m.\u001B[39;49m\u001B[43mglm\u001B[49m\u001B[43m(\u001B[49m\u001B[43msrc_path\u001B[49m\u001B[43m,\u001B[49m\u001B[43m \u001B[49m\u001B[43mdst_path\u001B[49m\u001B[43m,\u001B[49m\u001B[43m \u001B[49m\u001B[38;5;124;43m'\u001B[39;49m\u001B[38;5;124;43mA01\u001B[39;49m\u001B[38;5;124;43m'\u001B[39;49m\u001B[43m)\u001B[49m\n",
      "\u001B[1;31mTypeError\u001B[0m: glm() missing 2 required positional arguments: 'split_id' and 'alignment'"
     ]
    }
   ],
   "source": [
    "importlib.reload(proc)\n",
    "\n",
    "src_path, dst_path = fh.gen_paths(pth=data_path, src_fldr=path_cue_aligned_not_resampled, dst_fldr='results')\n",
    "\n",
    "markers =  proc.glm(src_path, dst_path, 'A01')"
   ],
   "metadata": {
    "collapsed": false,
    "pycharm": {
     "name": "#%%\n"
    }
   }
  },
  {
   "cell_type": "code",
   "execution_count": 76,
   "outputs": [],
   "source": [
    "longs = [m for m in markers if '-l' in m]\n",
    "shorts = [m for m in markers if '-s' in m]\n",
    "left_dir = [m for m in markers if 'RTL' in m]\n",
    "right_dir = [m for m in markers if 'LTR' in m]\n",
    "up_dir = [m for m in markers if 'BTT' in m]\n",
    "down_dir = [m for m in markers if 'TTB' in m]\n",
    "center_pos = [m for m in markers if '-s' in m]\n",
    "left_pos = [m for m in markers if 'RTL-l' in m]\n",
    "right_pos = [m for m in markers if 'LTR-l' in m]\n",
    "top_pos = [m for m in markers if 'BTT-l' in m]\n",
    "bot_pos = [m for m in markers if 'TTB-l' in m]\n",
    "\n",
    "min_len = min(len(left_pos), len(right_pos), len(top_pos), len(left_pos), len(center_pos))"
   ],
   "metadata": {
    "collapsed": false,
    "pycharm": {
     "name": "#%%\n"
    }
   }
  }
 ],
 "metadata": {
  "kernelspec": {
   "display_name": "Python 3",
   "language": "python",
   "name": "python3"
  },
  "language_info": {
   "codemirror_mode": {
    "name": "ipython",
    "version": 2
   },
   "file_extension": ".py",
   "mimetype": "text/x-python",
   "name": "python",
   "nbconvert_exporter": "python",
   "pygments_lexer": "ipython2",
   "version": "2.7.6"
  }
 },
 "nbformat": 4,
 "nbformat_minor": 0
}