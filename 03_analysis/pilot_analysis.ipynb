{
 "cells": [
  {
   "cell_type": "code",
   "execution_count": 1,
   "metadata": {},
   "outputs": [],
   "source": [
    "from os import listdir\n",
    "import numpy as np\n",
    "import pyxdf\n",
    "import mne"
   ]
  },
  {
   "cell_type": "code",
   "execution_count": 2,
   "metadata": {},
   "outputs": [],
   "source": [
    "# Split the two streams:\n",
    "def split_streams(streams):\n",
    "    # Check if there are two streams:\n",
    "    assert len(streams) == 2\n",
    "        \n",
    "    for s in streams:\n",
    "        if s['info']['type'][0] == 'EEG':\n",
    "            eeg_stream = s\n",
    "        elif s['info']['type'][0] == 'Marker':\n",
    "            marker_stream = s\n",
    "    \n",
    "    return eeg_stream, marker_stream"
   ]
  },
  {
   "cell_type": "code",
   "execution_count": 9,
   "metadata": {},
   "outputs": [],
   "source": [
    "path = 'D:/Diplomarbeit_data/sub-P001/ses-S001/eeg'\n",
    "\n",
    "# List files in folder:\n",
    "files = [f for f in listdir(path)]\n",
    "\n",
    "\n",
    "fname = path + '/' + files[0]\n",
    "streams, header = pyxdf.load_xdf(fname)\n",
    "    \n",
    "# Split the streams:\n",
    "eeg_stream, marker_stream = split_streams(streams)\n",
    "\n",
    "eeg = eeg_stream['time_series'].T\n",
    "assert eeg.shape[0] == 65\n",
    "eeg_ts = eeg_stream['time_stamps']\n",
    "\n",
    "markers = marker_stream['time_series']\n",
    "# Convert list of list of strings to list of strings:\n",
    "markers = [''.join(element) for element in markers]\n",
    "\n",
    "# Convert marker strings to integers:\n",
    "classes = ['LTR-s', 'LTR-l','RTL-s', 'RTL-l', 'TTB-s', 'TTB-l', 'BTT-s', 'BTT-l']\n",
    "classes_map = [1, 2, 3, 4, 5, 6, 7, 8]\n",
    "timings = ['Start', 'Cue', 'Break']\n",
    "timings_map = [11, 12, 13]\n",
    "responses = ['c c 0', 'c c 1', 'c r 0', 'c r 1', 'c l 0', 'c l 1', 'c b 0', 'c b 1', 'c t 0', 'c t 1']\n",
    "responses_map = [21, 22, 23, 24, 25, 26, 27, 28, 29, 30]\n",
    "\n",
    "concat_codes = classes + timings + responses\n",
    "concat_mappings = classes_map + timings_map + responses_map\n",
    "\n",
    "coded_markers = markers.copy()\n",
    "\n",
    "for i,marker in enumerate(markers):\n",
    "    for j,code in enumerate(concat_codes):\n",
    "        if code in marker:\n",
    "            coded_markers[i] = concat_mappings[j]\n",
    "            \n",
    "markers_ts = marker_stream['time_stamps']\n",
    "\n",
    "# Make Nan array with len(eeg)\n",
    "aligned_markers = np.zeros(eeg_ts.shape)\n",
    "\n",
    "# Place markers string at the align array where first time markers_ts <= eeg_ts:\n",
    "for i,marker in enumerate(coded_markers):\n",
    "    ts = markers_ts[i]\n",
    "    idx = np.where(ts <= eeg_ts)[0][0]\n",
    "    aligned_markers[idx] = marker\n",
    "    \n",
    "\n",
    "# Replace last row (unused Brainproduct markers) with the aligned recorded markers:\n",
    "eeg[64,:] = aligned_markers\n",
    "\n",
    "fs = float(eeg_stream['info']['nominal_srate'][0])\n",
    "\n",
    "# Extract channel names:\n",
    "chn_names = [eeg_stream['info']['desc'][0]['channels'][0]['channel'][i]['label'][0] for i in range(64)]\n",
    "chn_names.append('Markers')\n",
    "chn_labels = ['eeg' for i in range(64)]\n",
    "chn_labels.append('markers')\n"
   ]
  },
  {
   "cell_type": "code",
   "execution_count": 10,
   "metadata": {},
   "outputs": [],
   "source": [
    "info = mne.create_info(chn_names, fs)\n"
   ]
  },
  {
   "cell_type": "code",
   "execution_count": 11,
   "metadata": {},
   "outputs": [
    {
     "name": "stdout",
     "output_type": "stream",
     "text": [
      "Creating RawArray with float64 data, n_channels=65, n_times=93600\n",
      "    Range : 0 ... 93599 =      0.000 ...   467.995 secs\n",
      "Ready.\n",
      "Using qt as 2D backend.\n",
      "Opening raw-browser...\n"
     ]
    },
    {
     "data": {
      "text/plain": [
       "<mne_qt_browser._pg_figure.MNEQtBrowser at 0x1f017b8ac20>"
      ]
     },
     "execution_count": 11,
     "metadata": {},
     "output_type": "execute_result"
    }
   ],
   "source": [
    "raw = mne.io.RawArray(eeg, info)\n",
    "raw.plot(scalings=dict(eeg=100e-6), duration=1, start=14)"
   ]
  },
  {
   "cell_type": "code",
   "execution_count": 7,
   "metadata": {},
   "outputs": [
    {
     "data": {
      "text/html": [
       "<table class=\"table table-hover table-striped table-sm table-responsive small\">\n",
       "    <tr>\n",
       "        <th>Measurement date</th>\n",
       "        \n",
       "        <td>Unknown</td>\n",
       "        \n",
       "    </tr>\n",
       "    <tr>\n",
       "        <th>Experimenter</th>\n",
       "        \n",
       "        <td>Unknown</td>\n",
       "        \n",
       "    </tr>\n",
       "        <th>Participant</th>\n",
       "        \n",
       "        <td>Unknown</td>\n",
       "        \n",
       "    </tr>\n",
       "    <tr>\n",
       "        <th>Digitized points</th>\n",
       "        \n",
       "        <td>0 points</td>\n",
       "        \n",
       "    </tr>\n",
       "    <tr>\n",
       "        <th>Good channels</th>\n",
       "        <td>64 misc</td>\n",
       "    </tr>\n",
       "    <tr>\n",
       "        <th>Bad channels</th>\n",
       "        <td>None</td>\n",
       "    </tr>\n",
       "    <tr>\n",
       "        <th>EOG channels</th>\n",
       "        <td>Not available</td>\n",
       "    </tr>\n",
       "    <tr>\n",
       "        <th>ECG channels</th>\n",
       "        <td>Not available</td>\n",
       "    \n",
       "    <tr>\n",
       "        <th>Sampling frequency</th>\n",
       "        <td>200.00 Hz</td>\n",
       "    </tr>\n",
       "    \n",
       "    \n",
       "    <tr>\n",
       "        <th>Highpass</th>\n",
       "        <td>0.00 Hz</td>\n",
       "    </tr>\n",
       "    \n",
       "    \n",
       "    <tr>\n",
       "        <th>Lowpass</th>\n",
       "        <td>100.00 Hz</td>\n",
       "    </tr>\n",
       "    \n",
       "    \n",
       "</table>"
      ],
      "text/plain": [
       "<Info | 7 non-empty values\n",
       " bads: []\n",
       " ch_names: Fp1, Fp2, F7, F3, Fz, F4, F8, FC5, FC1, FC2, FC6, T7, C3, Cz, ...\n",
       " chs: 64 misc\n",
       " custom_ref_applied: False\n",
       " highpass: 0.0 Hz\n",
       " lowpass: 100.0 Hz\n",
       " meas_date: unspecified\n",
       " nchan: 64\n",
       " projs: []\n",
       " sfreq: 200.0 Hz\n",
       ">"
      ]
     },
     "execution_count": 7,
     "metadata": {},
     "output_type": "execute_result"
    }
   ],
   "source": [
    "raw.info"
   ]
  },
  {
   "cell_type": "code",
   "execution_count": 11,
   "metadata": {},
   "outputs": [
    {
     "data": {
      "text/plain": [
       "(93600,)"
      ]
     },
     "execution_count": 11,
     "metadata": {},
     "output_type": "execute_result"
    }
   ],
   "source": [
    "eeg_ts.shape"
   ]
  }
 ],
 "metadata": {
  "kernelspec": {
   "display_name": "Python 3 (ipykernel)",
   "language": "python",
   "name": "python3"
  },
  "language_info": {
   "codemirror_mode": {
    "name": "ipython",
    "version": 3
   },
   "file_extension": ".py",
   "mimetype": "text/x-python",
   "name": "python",
   "nbconvert_exporter": "python",
   "pygments_lexer": "ipython3",
   "version": "3.10.5"
  }
 },
 "nbformat": 4,
 "nbformat_minor": 4
}
