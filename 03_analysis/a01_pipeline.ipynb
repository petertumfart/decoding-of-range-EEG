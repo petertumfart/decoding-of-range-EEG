{
 "cells": [
  {
   "cell_type": "markdown",
   "source": [
    "### Imports:"
   ],
   "metadata": {
    "collapsed": false,
    "pycharm": {
     "name": "#%% md\n"
    }
   }
  },
  {
   "cell_type": "code",
   "execution_count": 1,
   "outputs": [],
   "source": [
    "from os import listdir\n",
    "from importlib import reload\n",
    "import numpy as np\n",
    "import pyxdf\n",
    "import mne\n",
    "from utils import *\n",
    "from sklearn.discriminant_analysis import LinearDiscriminantAnalysis\n",
    "from sklearn.model_selection import train_test_split, cross_val_score"
   ],
   "metadata": {
    "collapsed": false,
    "pycharm": {
     "name": "#%%\n"
    }
   }
  },
  {
   "cell_type": "markdown",
   "source": [
    "### Constants"
   ],
   "metadata": {
    "collapsed": false,
    "pycharm": {
     "name": "#%% md\n"
    }
   }
  },
  {
   "cell_type": "code",
   "execution_count": 2,
   "outputs": [],
   "source": [
    "path = 'C:/Users/peter/Google Drive/measurements/eeg/A04/paradigm/'\n",
    "plot = False"
   ],
   "metadata": {
    "collapsed": false,
    "pycharm": {
     "name": "#%%\n"
    }
   }
  },
  {
   "cell_type": "markdown",
   "source": [
    "### Read xdf-files for specified subject"
   ],
   "metadata": {
    "collapsed": false,
    "pycharm": {
     "name": "#%% md\n"
    }
   }
  },
  {
   "cell_type": "code",
   "execution_count": 3,
   "outputs": [
    {
     "name": "stdout",
     "output_type": "stream",
     "text": [
      "Reading xdf file C:/Users/peter/Google Drive/measurements/eeg/A04/paradigm//sub-A04_ses-S001_task-paradigm_run-001_eeg.xdf...\n",
      "Reading xdf file C:/Users/peter/Google Drive/measurements/eeg/A04/paradigm//sub-A04_ses-S001_task-paradigm_run-002_eeg.xdf...\n",
      "Reading xdf file C:/Users/peter/Google Drive/measurements/eeg/A04/paradigm//sub-A04_ses-S001_task-paradigm_run-003_eeg.xdf...\n",
      "Reading xdf file C:/Users/peter/Google Drive/measurements/eeg/A04/paradigm//sub-A04_ses-S001_task-paradigm_run-004_eeg.xdf...\n",
      "Reading xdf file C:/Users/peter/Google Drive/measurements/eeg/A04/paradigm//sub-A04_ses-S001_task-paradigm_run-005_eeg.xdf...\n",
      "Reading xdf file C:/Users/peter/Google Drive/measurements/eeg/A04/paradigm//sub-A04_ses-S001_task-paradigm_run-006_eeg.xdf...\n",
      "Reading xdf file C:/Users/peter/Google Drive/measurements/eeg/A04/paradigm//sub-A04_ses-S001_task-paradigm_run-007_eeg.xdf...\n",
      "Reading xdf file C:/Users/peter/Google Drive/measurements/eeg/A04/paradigm//sub-A04_ses-S001_task-paradigm_run-008_eeg.xdf...\n",
      "Reading xdf file C:/Users/peter/Google Drive/measurements/eeg/A04/paradigm//sub-A04_ses-S001_task-paradigm_run-009_eeg.xdf...\n",
      "Done.\n"
     ]
    }
   ],
   "source": [
    "# List files in folder:\n",
    "files = [f for f in listdir(path)]\n",
    "\n",
    "# Load all recorded EEG files for one subject\n",
    "for count in range(len(files)):\n",
    "    fname = path + '/' + files[count]\n",
    "    print(f'Reading xdf file {fname}...')\n",
    "\n",
    "    streams, header = pyxdf.load_xdf(fname)\n",
    "\n",
    "\n",
    "    # Split the streams:\n",
    "    eeg_stream, marker_stream = split_streams(streams)\n",
    "\n",
    "    eeg = eeg_stream['time_series'].T\n",
    "    eeg *= 1e-6 # Convert to volts.\n",
    "    assert eeg.shape[0] == 65\n",
    "    eeg_ts = eeg_stream['time_stamps']\n",
    "\n",
    "    markers = marker_stream['time_series']\n",
    "    # Convert list of list of strings to list of strings:\n",
    "    markers = [''.join(element) for element in markers]\n",
    "\n",
    "    # Convert marker strings to integers:\n",
    "    classes = ['LTR-s', 'LTR-l','RTL-s', 'RTL-l', 'TTB-s', 'TTB-l', 'BTT-s', 'BTT-l']\n",
    "    classes_map = [1,1,1,1,2,2,2,2]# [1, 2, 1, 2, 1, 2, 1, 2]  #[1, 2, 3, 4, 5, 6, 7, 8]\n",
    "    timings = ['Start', 'Cue', 'Break']\n",
    "    timings_map = [11, 12, 13]\n",
    "    responses = ['c c 0', 'c c 1', 'c r 0', 'c r 1', 'c l 0', 'c l 1', 'c b 0', 'c b 1', 'c t 0', 'c t 1']\n",
    "    responses_map = [21, 22, 23, 24, 25, 26, 27, 28, 29, 30]\n",
    "\n",
    "    concat_codes = classes + timings + responses\n",
    "    concat_mappings = classes_map + timings_map + responses_map\n",
    "\n",
    "    coded_markers = markers.copy()\n",
    "\n",
    "    for i,marker in enumerate(markers):\n",
    "        for j,code in enumerate(concat_codes):\n",
    "            if code in marker:\n",
    "                coded_markers[i] = concat_mappings[j]\n",
    "\n",
    "    markers_ts = marker_stream['time_stamps']\n",
    "\n",
    "    # Make Nan array with len(eeg)\n",
    "    aligned_markers = np.zeros(eeg_ts.shape)\n",
    "\n",
    "    # Place markers string at the align array where first time markers_ts <= eeg_ts:\n",
    "    for i,marker in enumerate(coded_markers):\n",
    "        ts = markers_ts[i]\n",
    "        idx = np.where(ts <= eeg_ts)[0][0]\n",
    "        aligned_markers[idx] = marker\n",
    "\n",
    "\n",
    "    # Replace last row (unused Brainproduct markers) with the aligned recorded markers:\n",
    "    eeg[64,:] = aligned_markers\n",
    "\n",
    "    fs = float(eeg_stream['info']['nominal_srate'][0])\n",
    "\n",
    "    # Extract channel names:\n",
    "    chn_names = [eeg_stream['info']['desc'][0]['channels'][0]['channel'][i]['label'][0] for i in range(64)]\n",
    "    chn_names.append('Markers')\n",
    "    chn_labels = ['eeg' for i in range(64)]\n",
    "    chn_labels[16] = 'eog'\n",
    "    chn_labels[21] = 'eog'\n",
    "    chn_labels[40] = 'eog'\n",
    "    chn_labels.append('misc')\n",
    "\n",
    "    if count == 0:\n",
    "        global_eeg = eeg\n",
    "    else:\n",
    "        global_eeg = np.concatenate((global_eeg, eeg), axis=1)\n",
    "\n",
    "\n",
    "\n",
    "eeg = global_eeg\n",
    "print('Done.')"
   ],
   "metadata": {
    "collapsed": false,
    "pycharm": {
     "name": "#%%\n"
    }
   }
  },
  {
   "cell_type": "markdown",
   "source": [
    "### Put extracted data into mne structure"
   ],
   "metadata": {
    "collapsed": false,
    "pycharm": {
     "name": "#%% md\n"
    }
   }
  },
  {
   "cell_type": "code",
   "execution_count": 4,
   "outputs": [
    {
     "name": "stdout",
     "output_type": "stream",
     "text": [
      "Creating RawArray with float64 data, n_channels=65, n_times=787344\n",
      "    Range : 0 ... 787343 =      0.000 ...  3936.715 secs\n",
      "Ready.\n"
     ]
    }
   ],
   "source": [
    "info = mne.create_info(chn_names, fs, chn_labels)\n",
    "\n",
    "raw = mne.io.RawArray(eeg, info)\n",
    "raw.set_montage('standard_1005')\n",
    "if plot:\n",
    "    raw.plot(duration=60, proj=False, n_channels=len(raw.ch_names),\n",
    "             remove_dc=False, title='Raw')"
   ],
   "metadata": {
    "collapsed": false,
    "pycharm": {
     "name": "#%%\n"
    }
   }
  },
  {
   "cell_type": "markdown",
   "source": [
    "### Filter with HP at 0.4Hz and BS at 50 Hz"
   ],
   "metadata": {
    "collapsed": false,
    "pycharm": {
     "name": "#%% md\n"
    }
   }
  },
  {
   "cell_type": "code",
   "execution_count": 5,
   "outputs": [
    {
     "name": "stdout",
     "output_type": "stream",
     "text": [
      "Filtering raw data in 1 contiguous segment\n",
      "Setting up high-pass filter at 0.4 Hz\n",
      "\n",
      "IIR filter parameters\n",
      "---------------------\n",
      "Butterworth highpass zero-phase (two-pass forward and reverse) non-causal filter:\n",
      "- Filter order 8 (effective, after forward-backward)\n",
      "- Cutoff at 0.40 Hz: -6.02 dB\n",
      "\n",
      "Setting up band-stop filter from 49 - 51 Hz\n",
      "\n",
      "FIR filter parameters\n",
      "---------------------\n",
      "Designing a one-pass, zero-phase, non-causal bandstop filter:\n",
      "- Windowed time-domain design (firwin) method\n",
      "- Hamming window with 0.0194 passband ripple and 53 dB stopband attenuation\n",
      "- Lower passband edge: 49.38\n",
      "- Lower transition bandwidth: 0.50 Hz (-6 dB cutoff frequency: 49.12 Hz)\n",
      "- Upper passband edge: 50.62 Hz\n",
      "- Upper transition bandwidth: 0.50 Hz (-6 dB cutoff frequency: 50.88 Hz)\n",
      "- Filter length: 1321 samples (6.605 sec)\n",
      "\n"
     ]
    }
   ],
   "source": [
    "raw_highpass = raw.copy().filter(l_freq=0.4, h_freq=None, picks=['eeg'], method='iir')\n",
    "if plot:\n",
    "    raw_highpass.plot(duration=60, proj=False, n_channels=len(raw.ch_names),\n",
    "                      remove_dc=False, title='Highpass filtered')\n",
    "    plot_spectrum(raw_highpass)\n",
    "\n",
    "raw_notch = raw_highpass.copy().notch_filter(freqs=[50], picks=['eeg'])\n",
    "if plot:\n",
    "    raw_notch.plot(duration=60, proj=False, n_channels=len(raw.ch_names), remove_dc=False, title='Notch filtered')\n",
    "    plot_spectrum(raw_notch)"
   ],
   "metadata": {
    "collapsed": false,
    "pycharm": {
     "name": "#%%\n"
    }
   }
  },
  {
   "cell_type": "markdown",
   "source": [
    "### Interpolate bad channels:"
   ],
   "metadata": {
    "collapsed": false,
    "pycharm": {
     "name": "#%% md\n"
    }
   }
  },
  {
   "cell_type": "code",
   "execution_count": 6,
   "outputs": [
    {
     "name": "stderr",
     "output_type": "stream",
     "text": [
      "C:\\Users\\peter\\AppData\\Local\\Temp\\ipykernel_20940\\3050508301.py:2: RuntimeWarning: No bad channels to interpolate. Doing nothing...\n",
      "  raw_interp = raw_notch.copy().interpolate_bads(reset_bads=False)\n"
     ]
    }
   ],
   "source": [
    "# TODO: check function --> need to mark them first\n",
    "raw_interp = raw_notch.copy().interpolate_bads(reset_bads=False)"
   ],
   "metadata": {
    "collapsed": false,
    "pycharm": {
     "name": "#%%\n"
    }
   }
  },
  {
   "cell_type": "markdown",
   "source": [
    "### Correct eye artifacts:"
   ],
   "metadata": {
    "collapsed": false,
    "pycharm": {
     "name": "#%% md\n"
    }
   }
  },
  {
   "cell_type": "code",
   "execution_count": 7,
   "outputs": [],
   "source": [
    "# TODO"
   ],
   "metadata": {
    "collapsed": false,
    "pycharm": {
     "name": "#%%\n"
    }
   }
  },
  {
   "cell_type": "markdown",
   "source": [
    "### CAR:"
   ],
   "metadata": {
    "collapsed": false,
    "pycharm": {
     "name": "#%% md\n"
    }
   }
  },
  {
   "cell_type": "code",
   "execution_count": 8,
   "outputs": [
    {
     "name": "stdout",
     "output_type": "stream",
     "text": [
      "EEG channel type selected for re-referencing\n",
      "Applying average reference.\n",
      "Applying a custom ('EEG',) reference.\n"
     ]
    }
   ],
   "source": [
    "raw_avg_ref = raw_interp.copy().set_eeg_reference(ref_channels='average')\n",
    "if plot:\n",
    "    raw_avg_ref.plot(duration=60, proj=False, n_channels=len(raw.ch_names), remove_dc=False, title='CAR Referenced')"
   ],
   "metadata": {
    "collapsed": false,
    "pycharm": {
     "name": "#%%\n"
    }
   }
  },
  {
   "cell_type": "markdown",
   "source": [
    "### HEAR model:"
   ],
   "metadata": {
    "collapsed": false,
    "pycharm": {
     "name": "#%% md\n"
    }
   }
  },
  {
   "cell_type": "code",
   "execution_count": 9,
   "outputs": [],
   "source": [
    "# TODO?"
   ],
   "metadata": {
    "collapsed": false,
    "pycharm": {
     "name": "#%%\n"
    }
   }
  },
  {
   "cell_type": "markdown",
   "source": [
    "### LP at 3.0Hz"
   ],
   "metadata": {
    "collapsed": false,
    "pycharm": {
     "name": "#%% md\n"
    }
   }
  },
  {
   "cell_type": "code",
   "execution_count": 10,
   "outputs": [
    {
     "name": "stdout",
     "output_type": "stream",
     "text": [
      "Filtering raw data in 1 contiguous segment\n",
      "Setting up low-pass filter at 3 Hz\n",
      "\n",
      "IIR filter parameters\n",
      "---------------------\n",
      "Butterworth lowpass zero-phase (two-pass forward and reverse) non-causal filter:\n",
      "- Filter order 8 (effective, after forward-backward)\n",
      "- Cutoff at 3.00 Hz: -6.02 dB\n",
      "\n"
     ]
    }
   ],
   "source": [
    "raw_lp = raw_avg_ref.copy().filter(l_freq=None, h_freq=3.0, picks=['eeg'], method='iir')"
   ],
   "metadata": {
    "collapsed": false,
    "pycharm": {
     "name": "#%%\n"
    }
   }
  },
  {
   "cell_type": "markdown",
   "source": [
    "### Extract epochs before resampling (otherwise markers may get lost) and reject bad trials:"
   ],
   "metadata": {
    "collapsed": false,
    "pycharm": {
     "name": "#%% md\n"
    }
   }
  },
  {
   "cell_type": "code",
   "execution_count": 11,
   "outputs": [
    {
     "name": "stdout",
     "output_type": "stream",
     "text": [
      "2882 events found\n",
      "Event IDs: [ 1  2 11 12 13 21 22 23 24 25 26 27 28 29 30]\n",
      "Not setting metadata\n",
      "360 matching events found\n",
      "No baseline correction applied\n",
      "0 projection items activated\n",
      "Using data from preloaded Raw for 360 events and 1001 original time points ...\n",
      "    Rejecting  epoch based on EEG : ['Fp1', 'Fp2', 'AF7', 'AF3', 'AF8']\n",
      "    Rejecting  epoch based on EEG : ['Fp1', 'Fp2', 'PO9', 'AF7', 'AF3', 'AF4', 'AF8', 'F1']\n",
      "    Rejecting  epoch based on EEG : ['Fp1', 'Fp2', 'AF7', 'AF3', 'AF4', 'AF8']\n",
      "    Rejecting  epoch based on EEG : ['Fp1', 'Fp2', 'F7', 'CP6', 'AF7', 'AF3', 'FT8']\n",
      "    Rejecting  epoch based on EEG : ['Fp1', 'Fp2', 'F4', 'AF7', 'AF3', 'AF4', 'F5', 'FT8']\n",
      "    Rejecting  epoch based on EEG : ['Fp1', 'Fp2', 'F7', 'F8', 'AF7', 'AF8']\n",
      "    Rejecting  epoch based on EEG : ['Fp1', 'Fp2', 'AF7', 'AF3', 'AF8']\n",
      "    Rejecting  epoch based on EEG : ['Fp1', 'AF7']\n",
      "    Rejecting  epoch based on EEG : ['Fp1', 'Fp2', 'AF7', 'AF3', 'AF8']\n",
      "    Rejecting  epoch based on EEG : ['Fp1', 'Fp2', 'F7', 'F8', 'AF7', 'AF8', 'FT8']\n",
      "    Rejecting  epoch based on EEG : ['Fp1', 'Fp2', 'F7', 'F8', 'AF7', 'AF3', 'AF4', 'AF8', 'FT7']\n",
      "    Rejecting  epoch based on EEG : ['Fp1']\n",
      "    Rejecting  epoch based on EEG : ['Fp1', 'Fp2', 'AF7', 'AF3', 'AF4', 'AF8']\n",
      "    Rejecting  epoch based on EEG : ['Fp1', 'Fp2', 'AF7']\n",
      "    Rejecting  epoch based on EEG : ['Fp1', 'Fp2', 'AF7', 'AF3', 'AF4', 'AF8', 'PO4']\n",
      "    Rejecting  epoch based on EEG : ['Fp1', 'F7', 'AF7']\n",
      "    Rejecting  epoch based on EEG : ['Fp1', 'Fp2', 'F7', 'AF7']\n",
      "    Rejecting  epoch based on EEG : ['Fp1']\n",
      "    Rejecting  epoch based on EEG : ['Fp1', 'AF7']\n",
      "    Rejecting  epoch based on EEG : ['Fp1', 'Fp2', 'AF7', 'AF3', 'AF4', 'AF8']\n",
      "    Rejecting  epoch based on EEG : ['Fp1', 'Fp2', 'AF7', 'AF3', 'AF4', 'AF8']\n",
      "    Rejecting  epoch based on EEG : ['Fp1', 'Fp2', 'AF7']\n",
      "    Rejecting  epoch based on EEG : ['Fp1', 'Fp2', 'AF7', 'AF3', 'AF4', 'AF8', 'PO3']\n",
      "    Rejecting  epoch based on EEG : ['Fp1', 'AF7']\n",
      "    Rejecting  epoch based on EEG : ['Fp1', 'Oz', 'AF7']\n",
      "    Rejecting  epoch based on EEG : ['Fp1', 'F1']\n",
      "    Rejecting  epoch based on EEG : ['Fp1', 'AF7']\n",
      "    Rejecting  epoch based on EEG : ['Fp1', 'Fp2', 'AF7']\n",
      "    Rejecting  epoch based on EEG : ['Fp1', 'Fp2', 'AF7']\n",
      "    Rejecting  epoch based on EEG : ['Fp1', 'AF7']\n",
      "    Rejecting  epoch based on EEG : ['Fp1', 'Fp2', 'AF7']\n",
      "    Rejecting  epoch based on EEG : ['Fp1']\n",
      "    Rejecting  epoch based on EEG : ['Fp1', 'Fp2', 'AF7']\n",
      "    Rejecting  epoch based on EEG : ['Fp1', 'AF7']\n",
      "    Rejecting  epoch based on EEG : ['Fp1', 'Fp2', 'AF7', 'AF3', 'AF8']\n",
      "    Rejecting  epoch based on EEG : ['Fp1', 'AF7', 'C1']\n",
      "    Rejecting  epoch based on EEG : ['Fp1', 'Fp2', 'AF7']\n",
      "    Rejecting  epoch based on EEG : ['Fp1', 'AF7']\n",
      "    Rejecting  epoch based on EEG : ['Fp1', 'Fp2', 'AF7']\n",
      "    Rejecting  epoch based on EEG : ['Fp1']\n",
      "    Rejecting  epoch based on EEG : ['Fp1', 'AF7']\n",
      "    Rejecting  epoch based on EEG : ['Fp1', 'Fp2', 'AF7', 'AF3', 'AF8']\n",
      "    Rejecting  epoch based on EEG : ['Fp1', 'Fp2', 'AF7']\n",
      "    Rejecting  epoch based on EEG : ['Fp1', 'Fp2', 'AF7', 'AF3', 'AF8']\n",
      "    Rejecting  epoch based on EEG : ['Fp1']\n",
      "    Rejecting  epoch based on EEG : ['Fp1', 'AF7']\n",
      "    Rejecting  epoch based on EEG : ['AF7']\n",
      "    Rejecting  epoch based on EEG : ['Fp1', 'Fp2', 'AF7']\n",
      "    Rejecting  epoch based on EEG : ['Fp1', 'AF7']\n",
      "    Rejecting  epoch based on EEG : ['Fp1', 'Fp2', 'PO9', 'O2', 'AF7', 'AF3', 'AF4', 'AF8']\n",
      "    Rejecting  epoch based on EEG : ['Fp1', 'Fp2', 'AF7']\n",
      "    Rejecting  epoch based on EEG : ['Fp1', 'Fp2', 'AF7']\n",
      "    Rejecting  epoch based on EEG : ['Fp1']\n",
      "    Rejecting  epoch based on EEG : ['Fp1', 'Fp2', 'AF7']\n",
      "    Rejecting  epoch based on EEG : ['Fp1', 'Fp2', 'AF7']\n",
      "    Rejecting  epoch based on EEG : ['Fp1', 'Fp2', 'AF7']\n",
      "    Rejecting  epoch based on EEG : ['Fp1', 'Fp2', 'AF7', 'AF3', 'AF8']\n",
      "    Rejecting  epoch based on EEG : ['Fp1', 'Fp2', 'AF7']\n",
      "    Rejecting  epoch based on EEG : ['Fp1', 'AF7', 'FT8']\n",
      "    Rejecting  epoch based on EEG : ['PO9']\n",
      "    Rejecting  epoch based on EEG : ['Fp1', 'Fp2', 'AF7']\n",
      "    Rejecting  epoch based on EEG : ['Fp1', 'Fp2', 'AF7']\n",
      "    Rejecting  epoch based on EEG : ['Fp1', 'Fp2', 'AF7', 'AF3', 'AF4', 'AF8']\n",
      "    Rejecting  epoch based on EEG : ['Fp1', 'Fp2', 'AF7']\n",
      "    Rejecting  epoch based on EEG : ['Fp1', 'Fp2', 'AF7', 'AF3', 'AF4', 'AF8']\n",
      "    Rejecting  epoch based on EEG : ['Fp1', 'Fp2', 'AF7']\n",
      "    Rejecting  epoch based on EEG : ['Fp1', 'AF7']\n",
      "    Rejecting  epoch based on EEG : ['Fp1', 'AF7']\n",
      "    Rejecting  epoch based on EEG : ['Fp1', 'Fp2', 'AF7', 'AF8']\n",
      "    Rejecting  epoch based on EEG : ['Fp1', 'Fp2', 'P8', 'PO10', 'AF7', 'AF3', 'AF4', 'AF8']\n",
      "    Rejecting  epoch based on EEG : ['Fp1', 'Fp2', 'PO10', 'AF7', 'AF3', 'AF4', 'AF8']\n",
      "    Rejecting  epoch based on EEG : ['Fp1', 'Fp2', 'AF7']\n",
      "    Rejecting  epoch based on EEG : ['Fp1', 'AF7']\n",
      "    Rejecting  epoch based on EEG : ['Fp1', 'F8', 'AF7']\n",
      "    Rejecting  epoch based on EEG : ['Fp1', 'AF7']\n",
      "    Rejecting  epoch based on EEG : ['Fp1', 'AF7']\n",
      "    Rejecting  epoch based on EEG : ['Fp1', 'F8', 'AF7']\n",
      "    Rejecting  epoch based on EEG : ['Fp1', 'AF7']\n",
      "    Rejecting  epoch based on EEG : ['Fp1', 'Fp2', 'AF7', 'AF3', 'AF8']\n",
      "    Rejecting  epoch based on EEG : ['Fp1', 'Fp2', 'AF7', 'AF3', 'AF4', 'AF8']\n",
      "    Rejecting  epoch based on EEG : ['Fp1', 'Fp2', 'AF7', 'AF3', 'AF8']\n",
      "    Rejecting  epoch based on EEG : ['Fp1', 'Fp2', 'PO9', 'AF7', 'AF3', 'AF4', 'AF8']\n",
      "    Rejecting  epoch based on EEG : ['Fp1', 'Fp2', 'AF7']\n",
      "    Rejecting  epoch based on EEG : ['Fp1', 'Fp2', 'AF7', 'AF3', 'AF8']\n",
      "    Rejecting  epoch based on EEG : ['Fp1']\n",
      "    Rejecting  epoch based on EEG : ['Fp1']\n",
      "    Rejecting  epoch based on EEG : ['PO3']\n",
      "    Rejecting  epoch based on EEG : ['PO3']\n",
      "    Rejecting  epoch based on EEG : ['PO3']\n",
      "    Rejecting  epoch based on EEG : ['Fp1', 'Fp2', 'AF7', 'AF3', 'AF4', 'AF8']\n",
      "    Rejecting  epoch based on EEG : ['Fp1']\n",
      "    Rejecting  epoch based on EEG : ['Fp1']\n",
      "    Rejecting  epoch based on EEG : ['PO3']\n",
      "    Rejecting  epoch based on EEG : ['Fp1', 'AF7']\n",
      "    Rejecting  epoch based on EEG : ['Fp1', 'AF7', 'PO3']\n",
      "    Rejecting  epoch based on EEG : ['Fp1']\n",
      "    Rejecting  epoch based on EEG : ['PO3']\n",
      "    Rejecting  epoch based on EEG : ['PO3']\n",
      "    Rejecting  epoch based on EEG : ['Fp1', 'Fp2', 'PO9', 'AF7', 'PO3']\n",
      "    Rejecting  epoch based on EEG : ['Fp1']\n",
      "    Rejecting  epoch based on EEG : ['Oz', 'PO8']\n",
      "    Rejecting  epoch based on EEG : ['PO9']\n",
      "    Rejecting  epoch based on EEG : ['Fp1', 'Fp2', 'AF7']\n",
      "    Rejecting  epoch based on EEG : ['Fp1']\n",
      "    Rejecting  epoch based on EEG : ['Fp1', 'AF7']\n",
      "    Rejecting  epoch based on EEG : ['Fp1', 'Fp2', 'AF7']\n",
      "    Rejecting  epoch based on EEG : ['Fp1', 'Fp2', 'AF7']\n",
      "    Rejecting  epoch based on EEG : ['Fp1']\n",
      "    Rejecting  epoch based on EEG : ['Fp1', 'Fp2', 'AF7']\n",
      "    Rejecting  epoch based on EEG : ['Fp1', 'Fp2', 'AF7']\n",
      "    Rejecting  epoch based on EEG : ['Fp1', 'Fp2', 'AF7']\n",
      "    Rejecting  epoch based on EEG : ['Fp1']\n",
      "    Rejecting  epoch based on EEG : ['Fp1']\n",
      "    Rejecting  epoch based on EEG : ['Fp1']\n",
      "    Rejecting  epoch based on EEG : ['O2']\n",
      "    Rejecting  epoch based on EEG : ['Fp1']\n",
      "    Rejecting  epoch based on EEG : ['Fp1']\n",
      "    Rejecting  epoch based on EEG : ['Fp1', 'Fp2', 'AF7', 'AF3', 'AF4', 'AF8']\n",
      "    Rejecting  epoch based on EEG : ['Fp1']\n",
      "    Rejecting  epoch based on EEG : ['FC4']\n",
      "    Rejecting  epoch based on EEG : ['Fp1', 'Fp2']\n",
      "    Rejecting  epoch based on EEG : ['Fp1']\n",
      "    Rejecting  epoch based on EEG : ['AF8']\n",
      "    Rejecting  epoch based on EEG : ['Fp1']\n",
      "    Rejecting  epoch based on EEG : ['Fp1', 'Fp2', 'AF7']\n",
      "    Rejecting  epoch based on EEG : ['Fp1', 'AF7']\n",
      "    Rejecting  epoch based on EEG : ['Fp1']\n",
      "    Rejecting  epoch based on EEG : ['F7', 'AF7', 'AF8']\n",
      "    Rejecting  epoch based on EEG : ['Fp1', 'Fp2', 'AF7', 'AF3', 'AF8']\n",
      "    Rejecting  epoch based on EEG : ['F1']\n",
      "    Rejecting  epoch based on EEG : ['C5']\n",
      "    Rejecting  epoch based on EEG : ['Fp1']\n",
      "    Rejecting  epoch based on EEG : ['FC4']\n",
      "    Rejecting  epoch based on EEG : ['Fp1']\n",
      "    Rejecting  epoch based on EEG : ['Fp1']\n",
      "    Rejecting  epoch based on EEG : ['Fp1']\n",
      "    Rejecting  epoch based on EEG : ['Fp1']\n",
      "    Rejecting  epoch based on EEG : ['Fp1']\n",
      "    Rejecting  epoch based on EEG : ['Fp1']\n",
      "    Rejecting  epoch based on EEG : ['Fp1']\n",
      "    Rejecting  epoch based on EEG : ['Fp1', 'AF7']\n",
      "    Rejecting  epoch based on EEG : ['Fp1']\n",
      "    Rejecting  epoch based on EEG : ['Fp1', 'Fp2']\n",
      "    Rejecting  epoch based on EEG : ['Fp1']\n",
      "    Rejecting  epoch based on EEG : ['PO8']\n",
      "    Rejecting  epoch based on EEG : ['Fp1']\n",
      "    Rejecting  epoch based on EEG : ['Fp1']\n",
      "    Rejecting  epoch based on EEG : ['Fp1']\n",
      "    Rejecting  epoch based on EEG : ['Fp1', 'Fp2', 'AF7', 'AF3', 'AF8']\n",
      "149 bad epochs dropped\n",
      "<Epochs |  211 events (all good), 1 - 6 sec, baseline off, ~104.8 MB, data loaded,\n",
      " '1': 114\n",
      " '2': 97>\n"
     ]
    }
   ],
   "source": [
    "events = mne.find_events(raw_lp, stim_channel='Markers')\n",
    "\n",
    "epochs = mne.Epochs(raw_lp, events, event_id=classes_map, tmin=1, tmax=6, preload=True, baseline=None, reject=dict(eeg=100e-6)) #, baseline=(1,2))\n",
    "\n",
    "print(epochs)\n",
    "\n",
    "if plot:\n",
    "    epochs.plot(n_epochs=2)"
   ],
   "metadata": {
    "collapsed": false,
    "pycharm": {
     "name": "#%%\n"
    }
   }
  },
  {
   "cell_type": "markdown",
   "source": [
    "### Resample to 10 Hz:"
   ],
   "metadata": {
    "collapsed": false,
    "pycharm": {
     "name": "#%% md\n"
    }
   }
  },
  {
   "cell_type": "code",
   "execution_count": 12,
   "outputs": [
    {
     "name": "stdout",
     "output_type": "stream",
     "text": [
      "Preprocessing finished.\n"
     ]
    }
   ],
   "source": [
    "epochs_resampled = epochs.copy().resample(10)\n",
    "print('Preprocessing finished.')"
   ],
   "metadata": {
    "collapsed": false,
    "pycharm": {
     "name": "#%%\n"
    }
   }
  },
  {
   "cell_type": "code",
   "execution_count": 12,
   "outputs": [],
   "source": [],
   "metadata": {
    "collapsed": false,
    "pycharm": {
     "name": "#%%\n"
    }
   }
  },
  {
   "cell_type": "code",
   "execution_count": 12,
   "outputs": [],
   "source": [],
   "metadata": {
    "collapsed": false,
    "pycharm": {
     "name": "#%%\n"
    }
   }
  },
  {
   "cell_type": "code",
   "execution_count": 12,
   "outputs": [],
   "source": [],
   "metadata": {
    "collapsed": false,
    "pycharm": {
     "name": "#%%\n"
    }
   }
  },
  {
   "cell_type": "code",
   "execution_count": 12,
   "outputs": [],
   "source": [],
   "metadata": {
    "collapsed": false,
    "pycharm": {
     "name": "#%%\n"
    }
   }
  },
  {
   "cell_type": "code",
   "execution_count": 12,
   "outputs": [],
   "source": [],
   "metadata": {
    "collapsed": false,
    "pycharm": {
     "name": "#%%\n"
    }
   }
  },
  {
   "cell_type": "markdown",
   "source": [
    "### Implementing cue-aligned (better according to Reinmar paper)"
   ],
   "metadata": {
    "collapsed": false,
    "pycharm": {
     "name": "#%% md\n"
    }
   }
  },
  {
   "cell_type": "markdown",
   "source": [
    "### Distance decoding:"
   ],
   "metadata": {
    "collapsed": false,
    "pycharm": {
     "name": "#%% md\n"
    }
   }
  },
  {
   "cell_type": "code",
   "execution_count": 13,
   "outputs": [
    {
     "name": "stdout",
     "output_type": "stream",
     "text": [
      "2882 events found\n",
      "Event IDs: [ 1  2 11 12 13 21 22 23 24 25 26 27 28 29 30]\n",
      "Not setting metadata\n",
      "360 matching events found\n",
      "No baseline correction applied\n",
      "0 projection items activated\n",
      "Using data from preloaded Raw for 360 events and 1001 original time points ...\n",
      "    Rejecting  epoch based on EEG : ['Fp1', 'Fp2', 'AF7', 'AF3', 'AF8']\n",
      "    Rejecting  epoch based on EEG : ['Fp1', 'Fp2', 'PO9', 'AF7', 'AF3', 'AF4', 'AF8', 'F1']\n",
      "    Rejecting  epoch based on EEG : ['Fp1', 'Fp2', 'AF7', 'AF3', 'AF4', 'AF8']\n",
      "    Rejecting  epoch based on EEG : ['Fp1', 'Fp2', 'F7', 'CP6', 'AF7', 'AF3', 'FT8']\n",
      "    Rejecting  epoch based on EEG : ['Fp1', 'Fp2', 'F4', 'AF7', 'AF3', 'AF4', 'F5', 'FT8']\n",
      "    Rejecting  epoch based on EEG : ['Fp1', 'Fp2', 'F7', 'F8', 'AF7', 'AF8']\n",
      "    Rejecting  epoch based on EEG : ['Fp1', 'Fp2', 'AF7', 'AF3', 'AF8']\n",
      "    Rejecting  epoch based on EEG : ['Fp1', 'AF7']\n",
      "    Rejecting  epoch based on EEG : ['Fp1', 'Fp2', 'AF7', 'AF3', 'AF8']\n",
      "    Rejecting  epoch based on EEG : ['Fp1', 'Fp2', 'F7', 'F8', 'AF7', 'AF8', 'FT8']\n",
      "    Rejecting  epoch based on EEG : ['Fp1', 'Fp2', 'F7', 'F8', 'AF7', 'AF3', 'AF4', 'AF8', 'FT7']\n",
      "    Rejecting  epoch based on EEG : ['Fp1']\n",
      "    Rejecting  epoch based on EEG : ['Fp1', 'Fp2', 'AF7', 'AF3', 'AF4', 'AF8']\n",
      "    Rejecting  epoch based on EEG : ['Fp1', 'Fp2', 'AF7']\n",
      "    Rejecting  epoch based on EEG : ['Fp1', 'Fp2', 'AF7', 'AF3', 'AF4', 'AF8', 'PO4']\n",
      "    Rejecting  epoch based on EEG : ['Fp1', 'F7', 'AF7']\n",
      "    Rejecting  epoch based on EEG : ['Fp1', 'Fp2', 'F7', 'AF7']\n",
      "    Rejecting  epoch based on EEG : ['Fp1']\n",
      "    Rejecting  epoch based on EEG : ['Fp1', 'AF7']\n",
      "    Rejecting  epoch based on EEG : ['Fp1', 'Fp2', 'AF7', 'AF3', 'AF4', 'AF8']\n",
      "    Rejecting  epoch based on EEG : ['Fp1', 'Fp2', 'AF7', 'AF3', 'AF4', 'AF8']\n",
      "    Rejecting  epoch based on EEG : ['Fp1', 'Fp2', 'AF7']\n",
      "    Rejecting  epoch based on EEG : ['Fp1', 'Fp2', 'AF7', 'AF3', 'AF4', 'AF8', 'PO3']\n",
      "    Rejecting  epoch based on EEG : ['Fp1', 'AF7']\n",
      "    Rejecting  epoch based on EEG : ['Fp1', 'Oz', 'AF7']\n",
      "    Rejecting  epoch based on EEG : ['Fp1', 'F1']\n",
      "    Rejecting  epoch based on EEG : ['Fp1', 'AF7']\n",
      "    Rejecting  epoch based on EEG : ['Fp1', 'Fp2', 'AF7']\n",
      "    Rejecting  epoch based on EEG : ['Fp1', 'Fp2', 'AF7']\n",
      "    Rejecting  epoch based on EEG : ['Fp1', 'AF7']\n",
      "    Rejecting  epoch based on EEG : ['Fp1', 'Fp2', 'AF7']\n",
      "    Rejecting  epoch based on EEG : ['Fp1']\n",
      "    Rejecting  epoch based on EEG : ['Fp1', 'Fp2', 'AF7']\n",
      "    Rejecting  epoch based on EEG : ['Fp1', 'AF7']\n",
      "    Rejecting  epoch based on EEG : ['Fp1', 'Fp2', 'AF7', 'AF3', 'AF8']\n",
      "    Rejecting  epoch based on EEG : ['Fp1', 'AF7', 'C1']\n",
      "    Rejecting  epoch based on EEG : ['Fp1', 'Fp2', 'AF7']\n",
      "    Rejecting  epoch based on EEG : ['Fp1', 'AF7']\n",
      "    Rejecting  epoch based on EEG : ['Fp1', 'Fp2', 'AF7']\n",
      "    Rejecting  epoch based on EEG : ['Fp1']\n",
      "    Rejecting  epoch based on EEG : ['Fp1', 'AF7']\n",
      "    Rejecting  epoch based on EEG : ['Fp1', 'Fp2', 'AF7', 'AF3', 'AF8']\n",
      "    Rejecting  epoch based on EEG : ['Fp1', 'Fp2', 'AF7']\n",
      "    Rejecting  epoch based on EEG : ['Fp1', 'Fp2', 'AF7', 'AF3', 'AF8']\n",
      "    Rejecting  epoch based on EEG : ['Fp1']\n",
      "    Rejecting  epoch based on EEG : ['Fp1', 'AF7']\n",
      "    Rejecting  epoch based on EEG : ['AF7']\n",
      "    Rejecting  epoch based on EEG : ['Fp1', 'Fp2', 'AF7']\n",
      "    Rejecting  epoch based on EEG : ['Fp1', 'AF7']\n",
      "    Rejecting  epoch based on EEG : ['Fp1', 'Fp2', 'PO9', 'O2', 'AF7', 'AF3', 'AF4', 'AF8']\n",
      "    Rejecting  epoch based on EEG : ['Fp1', 'Fp2', 'AF7']\n",
      "    Rejecting  epoch based on EEG : ['Fp1', 'Fp2', 'AF7']\n",
      "    Rejecting  epoch based on EEG : ['Fp1']\n",
      "    Rejecting  epoch based on EEG : ['Fp1', 'Fp2', 'AF7']\n",
      "    Rejecting  epoch based on EEG : ['Fp1', 'Fp2', 'AF7']\n",
      "    Rejecting  epoch based on EEG : ['Fp1', 'Fp2', 'AF7']\n",
      "    Rejecting  epoch based on EEG : ['Fp1', 'Fp2', 'AF7', 'AF3', 'AF8']\n",
      "    Rejecting  epoch based on EEG : ['Fp1', 'Fp2', 'AF7']\n",
      "    Rejecting  epoch based on EEG : ['Fp1', 'AF7', 'FT8']\n",
      "    Rejecting  epoch based on EEG : ['PO9']\n",
      "    Rejecting  epoch based on EEG : ['Fp1', 'Fp2', 'AF7']\n",
      "    Rejecting  epoch based on EEG : ['Fp1', 'Fp2', 'AF7']\n",
      "    Rejecting  epoch based on EEG : ['Fp1', 'Fp2', 'AF7', 'AF3', 'AF4', 'AF8']\n",
      "    Rejecting  epoch based on EEG : ['Fp1', 'Fp2', 'AF7']\n",
      "    Rejecting  epoch based on EEG : ['Fp1', 'Fp2', 'AF7', 'AF3', 'AF4', 'AF8']\n",
      "    Rejecting  epoch based on EEG : ['Fp1', 'Fp2', 'AF7']\n",
      "    Rejecting  epoch based on EEG : ['Fp1', 'AF7']\n",
      "    Rejecting  epoch based on EEG : ['Fp1', 'AF7']\n",
      "    Rejecting  epoch based on EEG : ['Fp1', 'Fp2', 'AF7', 'AF8']\n",
      "    Rejecting  epoch based on EEG : ['Fp1', 'Fp2', 'P8', 'PO10', 'AF7', 'AF3', 'AF4', 'AF8']\n",
      "    Rejecting  epoch based on EEG : ['Fp1', 'Fp2', 'PO10', 'AF7', 'AF3', 'AF4', 'AF8']\n",
      "    Rejecting  epoch based on EEG : ['Fp1', 'Fp2', 'AF7']\n",
      "    Rejecting  epoch based on EEG : ['Fp1', 'AF7']\n",
      "    Rejecting  epoch based on EEG : ['Fp1', 'F8', 'AF7']\n",
      "    Rejecting  epoch based on EEG : ['Fp1', 'AF7']\n",
      "    Rejecting  epoch based on EEG : ['Fp1', 'AF7']\n",
      "    Rejecting  epoch based on EEG : ['Fp1', 'F8', 'AF7']\n",
      "    Rejecting  epoch based on EEG : ['Fp1', 'AF7']\n",
      "    Rejecting  epoch based on EEG : ['Fp1', 'Fp2', 'AF7', 'AF3', 'AF8']\n",
      "    Rejecting  epoch based on EEG : ['Fp1', 'Fp2', 'AF7', 'AF3', 'AF4', 'AF8']\n",
      "    Rejecting  epoch based on EEG : ['Fp1', 'Fp2', 'AF7', 'AF3', 'AF8']\n",
      "    Rejecting  epoch based on EEG : ['Fp1', 'Fp2', 'PO9', 'AF7', 'AF3', 'AF4', 'AF8']\n",
      "    Rejecting  epoch based on EEG : ['Fp1', 'Fp2', 'AF7']\n",
      "    Rejecting  epoch based on EEG : ['Fp1', 'Fp2', 'AF7', 'AF3', 'AF8']\n",
      "    Rejecting  epoch based on EEG : ['Fp1']\n",
      "    Rejecting  epoch based on EEG : ['Fp1']\n",
      "    Rejecting  epoch based on EEG : ['PO3']\n",
      "    Rejecting  epoch based on EEG : ['PO3']\n",
      "    Rejecting  epoch based on EEG : ['PO3']\n",
      "    Rejecting  epoch based on EEG : ['Fp1', 'Fp2', 'AF7', 'AF3', 'AF4', 'AF8']\n",
      "    Rejecting  epoch based on EEG : ['Fp1']\n",
      "    Rejecting  epoch based on EEG : ['Fp1']\n",
      "    Rejecting  epoch based on EEG : ['PO3']\n",
      "    Rejecting  epoch based on EEG : ['Fp1', 'AF7']\n",
      "    Rejecting  epoch based on EEG : ['Fp1', 'AF7', 'PO3']\n",
      "    Rejecting  epoch based on EEG : ['Fp1']\n",
      "    Rejecting  epoch based on EEG : ['PO3']\n",
      "    Rejecting  epoch based on EEG : ['PO3']\n",
      "    Rejecting  epoch based on EEG : ['Fp1', 'Fp2', 'PO9', 'AF7', 'PO3']\n",
      "    Rejecting  epoch based on EEG : ['Fp1']\n",
      "    Rejecting  epoch based on EEG : ['Oz', 'PO8']\n",
      "    Rejecting  epoch based on EEG : ['PO9']\n",
      "    Rejecting  epoch based on EEG : ['Fp1', 'Fp2', 'AF7']\n",
      "    Rejecting  epoch based on EEG : ['Fp1']\n",
      "    Rejecting  epoch based on EEG : ['Fp1', 'AF7']\n",
      "    Rejecting  epoch based on EEG : ['Fp1', 'Fp2', 'AF7']\n",
      "    Rejecting  epoch based on EEG : ['Fp1', 'Fp2', 'AF7']\n",
      "    Rejecting  epoch based on EEG : ['Fp1']\n",
      "    Rejecting  epoch based on EEG : ['Fp1', 'Fp2', 'AF7']\n",
      "    Rejecting  epoch based on EEG : ['Fp1', 'Fp2', 'AF7']\n",
      "    Rejecting  epoch based on EEG : ['Fp1', 'Fp2', 'AF7']\n",
      "    Rejecting  epoch based on EEG : ['Fp1']\n",
      "    Rejecting  epoch based on EEG : ['Fp1']\n",
      "    Rejecting  epoch based on EEG : ['Fp1']\n",
      "    Rejecting  epoch based on EEG : ['O2']\n",
      "    Rejecting  epoch based on EEG : ['Fp1']\n",
      "    Rejecting  epoch based on EEG : ['Fp1']\n",
      "    Rejecting  epoch based on EEG : ['Fp1', 'Fp2', 'AF7', 'AF3', 'AF4', 'AF8']\n",
      "    Rejecting  epoch based on EEG : ['Fp1']\n",
      "    Rejecting  epoch based on EEG : ['FC4']\n",
      "    Rejecting  epoch based on EEG : ['Fp1', 'Fp2']\n",
      "    Rejecting  epoch based on EEG : ['Fp1']\n",
      "    Rejecting  epoch based on EEG : ['AF8']\n",
      "    Rejecting  epoch based on EEG : ['Fp1']\n",
      "    Rejecting  epoch based on EEG : ['Fp1', 'Fp2', 'AF7']\n",
      "    Rejecting  epoch based on EEG : ['Fp1', 'AF7']\n",
      "    Rejecting  epoch based on EEG : ['Fp1']\n",
      "    Rejecting  epoch based on EEG : ['F7', 'AF7', 'AF8']\n",
      "    Rejecting  epoch based on EEG : ['Fp1', 'Fp2', 'AF7', 'AF3', 'AF8']\n",
      "    Rejecting  epoch based on EEG : ['F1']\n",
      "    Rejecting  epoch based on EEG : ['C5']\n",
      "    Rejecting  epoch based on EEG : ['Fp1']\n",
      "    Rejecting  epoch based on EEG : ['FC4']\n",
      "    Rejecting  epoch based on EEG : ['Fp1']\n",
      "    Rejecting  epoch based on EEG : ['Fp1']\n",
      "    Rejecting  epoch based on EEG : ['Fp1']\n",
      "    Rejecting  epoch based on EEG : ['Fp1']\n",
      "    Rejecting  epoch based on EEG : ['Fp1']\n",
      "    Rejecting  epoch based on EEG : ['Fp1']\n",
      "    Rejecting  epoch based on EEG : ['Fp1']\n",
      "    Rejecting  epoch based on EEG : ['Fp1', 'AF7']\n",
      "    Rejecting  epoch based on EEG : ['Fp1']\n",
      "    Rejecting  epoch based on EEG : ['Fp1', 'Fp2']\n",
      "    Rejecting  epoch based on EEG : ['Fp1']\n",
      "    Rejecting  epoch based on EEG : ['PO8']\n",
      "    Rejecting  epoch based on EEG : ['Fp1']\n",
      "    Rejecting  epoch based on EEG : ['Fp1']\n",
      "    Rejecting  epoch based on EEG : ['Fp1']\n",
      "    Rejecting  epoch based on EEG : ['Fp1', 'Fp2', 'AF7', 'AF3', 'AF8']\n",
      "149 bad epochs dropped\n",
      "combining channels using \"mean\"\n",
      "combining channels using \"mean\"\n"
     ]
    },
    {
     "data": {
      "text/plain": "<Figure size 576x432 with 2 Axes>",
      "image/png": "[encoded data removed]"
     },
     "metadata": {
      "needs_background": "light"
     },
     "output_type": "display_data"
    },
    {
     "data": {
      "text/plain": "<Figure size 432x288 with 0 Axes>"
     },
     "metadata": {},
     "output_type": "display_data"
    }
   ],
   "source": [
    "events = mne.find_events(raw_lp, stim_channel='Markers')\n",
    "event_dict = {'short': 1, 'long': 2, 'short': 1, 'long': 2, 'short':1, 'long':2, 'short':1, 'long':2}\n",
    "\n",
    "epochs_long_short = mne.Epochs(raw_lp, events, event_id=event_dict, tmin=1, tmax=6, preload=True, baseline=None, reject=dict(eeg=100e-6))\n",
    "\n",
    "\n",
    "\n",
    "short = epochs_long_short['short'].average()\n",
    "\n",
    "long = epochs_long_short['long'].average()\n",
    "\n",
    "#evokeds = dict(short=short, long=long)\n",
    "#mne.viz.plot_compare_evokeds(evokeds, picks='POz')\n",
    "\n",
    "evokeds2 = dict(short=list(epochs_long_short['short'].iter_evoked()),\n",
    "                long=list(epochs_long_short['long'].iter_evoked()))\n",
    "mne.viz.plot_compare_evokeds(evokeds2, combine='mean', picks=['Cz', 'C1', 'C2', 'FCz', 'CPz'], show_sensors='upper right')\n",
    "plt.savefig('distance_grand_averages.pdf')\n",
    "\n",
    "#['Pz', 'POz', 'PO3', 'PO4', 'P2', 'P1', 'P2', 'Oz', 'O1', 'O2']\n",
    "\n",
    "epochs_long_short = epochs_long_short.copy().resample(10)"
   ],
   "metadata": {
    "collapsed": false,
    "pycharm": {
     "name": "#%%\n"
    }
   }
  },
  {
   "cell_type": "code",
   "execution_count": 14,
   "outputs": [
    {
     "name": "stdout",
     "output_type": "stream",
     "text": [
      "[1 2 1 2 1 2 1 1 1 2 1 2 2 1 1 2 2 1 1 2 1 2 2 2 1 1 2 2 1 2 1 1 1 1 1 2 2\n",
      " 1 2 2 2 2 1 1 1 1 2 1 2 1 2 1 2 2 2 2 1 1 1 2 1 1 1 1 2 1 2 1 1 2 2 1 1 2\n",
      " 2 1 1 1 2 2 2 2 2 2 2 1 1 2 1 1 2 1 1 1 2 1 2 1 2 1 2 2 1 1 1 2 2 1 2 1 1\n",
      " 1 1 1 2 2 1 2 1 1 2 1 2 2 2 1 2 1 2 1 2 1 1 1 2 2 1 1 1 1 1 2 2 2 1 1 1 1\n",
      " 2 2 2 1 2 2 1 2 1 2 1 1 1 2 2 1 2 1 1 2 2 1 1 2 1 1 1 2 2 1 1 1 1 2 2 2 1\n",
      " 2 2 1 2 1 2 2 1 1 1 1 2 2 1 2 1 2 2 2 1 1 1 1 1 2 1]\n",
      "[1 0 1 0 1 0 1 1 1 0 1 0 0 1 1 0 0 1 1 0 1 0 0 0 1 1 0 0 1 0 1 1 1 1 1 0 0\n",
      " 1 0 0 0 0 1 1 1 1 0 1 0 1 0 1 0 0 0 0 1 1 1 0 1 1 1 1 0 1 0 1 1 0 0 1 1 0\n",
      " 0 1 1 1 0 0 0 0 0 0 0 1 1 0 1 1 0 1 1 1 0 1 0 1 0 1 0 0 1 1 1 0 0 1 0 1 1\n",
      " 1 1 1 0 0 1 0 1 1 0 1 0 0 0 1 0 1 0 1 0 1 1 1 0 0 1 1 1 1 1 0 0 0 1 1 1 1\n",
      " 0 0 0 1 0 0 1 0 1 0 1 1 1 0 0 1 0 1 1 0 0 1 1 0 1 1 1 0 0 1 1 1 1 0 0 0 1\n",
      " 0 0 1 0 1 0 0 1 1 1 1 0 0 1 0 1 0 0 0 1 1 1 1 1 0 1]\n"
     ]
    },
    {
     "name": "stderr",
     "output_type": "stream",
     "text": [
      "C:\\Users\\peter\\anaconda3\\envs\\mne\\lib\\site-packages\\sklearn\\model_selection\\_split.py:680: UserWarning: The least populated class in y has only 97 members, which is less than n_splits=100.\n",
      "  warnings.warn(\n"
     ]
    },
    {
     "name": "stdout",
     "output_type": "stream",
     "text": [
      "0\n"
     ]
    },
    {
     "name": "stderr",
     "output_type": "stream",
     "text": [
      "C:\\Users\\peter\\anaconda3\\envs\\mne\\lib\\site-packages\\sklearn\\model_selection\\_split.py:680: UserWarning: The least populated class in y has only 97 members, which is less than n_splits=100.\n",
      "  warnings.warn(\n",
      "C:\\Users\\peter\\anaconda3\\envs\\mne\\lib\\site-packages\\sklearn\\model_selection\\_split.py:680: UserWarning: The least populated class in y has only 97 members, which is less than n_splits=100.\n",
      "  warnings.warn(\n",
      "C:\\Users\\peter\\anaconda3\\envs\\mne\\lib\\site-packages\\sklearn\\model_selection\\_split.py:680: UserWarning: The least populated class in y has only 97 members, which is less than n_splits=100.\n",
      "  warnings.warn(\n",
      "C:\\Users\\peter\\anaconda3\\envs\\mne\\lib\\site-packages\\sklearn\\model_selection\\_split.py:680: UserWarning: The least populated class in y has only 97 members, which is less than n_splits=100.\n",
      "  warnings.warn(\n",
      "C:\\Users\\peter\\anaconda3\\envs\\mne\\lib\\site-packages\\sklearn\\model_selection\\_split.py:680: UserWarning: The least populated class in y has only 97 members, which is less than n_splits=100.\n",
      "  warnings.warn(\n",
      "C:\\Users\\peter\\anaconda3\\envs\\mne\\lib\\site-packages\\sklearn\\model_selection\\_split.py:680: UserWarning: The least populated class in y has only 97 members, which is less than n_splits=100.\n",
      "  warnings.warn(\n",
      "C:\\Users\\peter\\anaconda3\\envs\\mne\\lib\\site-packages\\sklearn\\model_selection\\_split.py:680: UserWarning: The least populated class in y has only 97 members, which is less than n_splits=100.\n",
      "  warnings.warn(\n",
      "C:\\Users\\peter\\anaconda3\\envs\\mne\\lib\\site-packages\\sklearn\\model_selection\\_split.py:680: UserWarning: The least populated class in y has only 97 members, which is less than n_splits=100.\n",
      "  warnings.warn(\n",
      "C:\\Users\\peter\\anaconda3\\envs\\mne\\lib\\site-packages\\sklearn\\model_selection\\_split.py:680: UserWarning: The least populated class in y has only 97 members, which is less than n_splits=100.\n",
      "  warnings.warn(\n",
      "C:\\Users\\peter\\anaconda3\\envs\\mne\\lib\\site-packages\\sklearn\\model_selection\\_split.py:680: UserWarning: The least populated class in y has only 97 members, which is less than n_splits=100.\n",
      "  warnings.warn(\n"
     ]
    },
    {
     "name": "stdout",
     "output_type": "stream",
     "text": [
      "10\n"
     ]
    },
    {
     "name": "stderr",
     "output_type": "stream",
     "text": [
      "C:\\Users\\peter\\anaconda3\\envs\\mne\\lib\\site-packages\\sklearn\\model_selection\\_split.py:680: UserWarning: The least populated class in y has only 97 members, which is less than n_splits=100.\n",
      "  warnings.warn(\n",
      "C:\\Users\\peter\\anaconda3\\envs\\mne\\lib\\site-packages\\sklearn\\model_selection\\_split.py:680: UserWarning: The least populated class in y has only 97 members, which is less than n_splits=100.\n",
      "  warnings.warn(\n",
      "C:\\Users\\peter\\anaconda3\\envs\\mne\\lib\\site-packages\\sklearn\\model_selection\\_split.py:680: UserWarning: The least populated class in y has only 97 members, which is less than n_splits=100.\n",
      "  warnings.warn(\n",
      "C:\\Users\\peter\\anaconda3\\envs\\mne\\lib\\site-packages\\sklearn\\model_selection\\_split.py:680: UserWarning: The least populated class in y has only 97 members, which is less than n_splits=100.\n",
      "  warnings.warn(\n",
      "C:\\Users\\peter\\anaconda3\\envs\\mne\\lib\\site-packages\\sklearn\\model_selection\\_split.py:680: UserWarning: The least populated class in y has only 97 members, which is less than n_splits=100.\n",
      "  warnings.warn(\n",
      "C:\\Users\\peter\\anaconda3\\envs\\mne\\lib\\site-packages\\sklearn\\model_selection\\_split.py:680: UserWarning: The least populated class in y has only 97 members, which is less than n_splits=100.\n",
      "  warnings.warn(\n",
      "C:\\Users\\peter\\anaconda3\\envs\\mne\\lib\\site-packages\\sklearn\\model_selection\\_split.py:680: UserWarning: The least populated class in y has only 97 members, which is less than n_splits=100.\n",
      "  warnings.warn(\n",
      "C:\\Users\\peter\\anaconda3\\envs\\mne\\lib\\site-packages\\sklearn\\model_selection\\_split.py:680: UserWarning: The least populated class in y has only 97 members, which is less than n_splits=100.\n",
      "  warnings.warn(\n",
      "C:\\Users\\peter\\anaconda3\\envs\\mne\\lib\\site-packages\\sklearn\\model_selection\\_split.py:680: UserWarning: The least populated class in y has only 97 members, which is less than n_splits=100.\n",
      "  warnings.warn(\n",
      "C:\\Users\\peter\\anaconda3\\envs\\mne\\lib\\site-packages\\sklearn\\model_selection\\_split.py:680: UserWarning: The least populated class in y has only 97 members, which is less than n_splits=100.\n",
      "  warnings.warn(\n"
     ]
    },
    {
     "name": "stdout",
     "output_type": "stream",
     "text": [
      "20\n"
     ]
    },
    {
     "name": "stderr",
     "output_type": "stream",
     "text": [
      "C:\\Users\\peter\\anaconda3\\envs\\mne\\lib\\site-packages\\sklearn\\model_selection\\_split.py:680: UserWarning: The least populated class in y has only 97 members, which is less than n_splits=100.\n",
      "  warnings.warn(\n",
      "C:\\Users\\peter\\anaconda3\\envs\\mne\\lib\\site-packages\\sklearn\\model_selection\\_split.py:680: UserWarning: The least populated class in y has only 97 members, which is less than n_splits=100.\n",
      "  warnings.warn(\n",
      "C:\\Users\\peter\\anaconda3\\envs\\mne\\lib\\site-packages\\sklearn\\model_selection\\_split.py:680: UserWarning: The least populated class in y has only 97 members, which is less than n_splits=100.\n",
      "  warnings.warn(\n",
      "C:\\Users\\peter\\anaconda3\\envs\\mne\\lib\\site-packages\\sklearn\\model_selection\\_split.py:680: UserWarning: The least populated class in y has only 97 members, which is less than n_splits=100.\n",
      "  warnings.warn(\n",
      "C:\\Users\\peter\\anaconda3\\envs\\mne\\lib\\site-packages\\sklearn\\model_selection\\_split.py:680: UserWarning: The least populated class in y has only 97 members, which is less than n_splits=100.\n",
      "  warnings.warn(\n",
      "C:\\Users\\peter\\anaconda3\\envs\\mne\\lib\\site-packages\\sklearn\\model_selection\\_split.py:680: UserWarning: The least populated class in y has only 97 members, which is less than n_splits=100.\n",
      "  warnings.warn(\n",
      "C:\\Users\\peter\\anaconda3\\envs\\mne\\lib\\site-packages\\sklearn\\model_selection\\_split.py:680: UserWarning: The least populated class in y has only 97 members, which is less than n_splits=100.\n",
      "  warnings.warn(\n",
      "C:\\Users\\peter\\anaconda3\\envs\\mne\\lib\\site-packages\\sklearn\\model_selection\\_split.py:680: UserWarning: The least populated class in y has only 97 members, which is less than n_splits=100.\n",
      "  warnings.warn(\n",
      "C:\\Users\\peter\\anaconda3\\envs\\mne\\lib\\site-packages\\sklearn\\model_selection\\_split.py:680: UserWarning: The least populated class in y has only 97 members, which is less than n_splits=100.\n",
      "  warnings.warn(\n",
      "C:\\Users\\peter\\anaconda3\\envs\\mne\\lib\\site-packages\\sklearn\\model_selection\\_split.py:680: UserWarning: The least populated class in y has only 97 members, which is less than n_splits=100.\n",
      "  warnings.warn(\n"
     ]
    },
    {
     "name": "stdout",
     "output_type": "stream",
     "text": [
      "30\n"
     ]
    },
    {
     "name": "stderr",
     "output_type": "stream",
     "text": [
      "C:\\Users\\peter\\anaconda3\\envs\\mne\\lib\\site-packages\\sklearn\\model_selection\\_split.py:680: UserWarning: The least populated class in y has only 97 members, which is less than n_splits=100.\n",
      "  warnings.warn(\n",
      "C:\\Users\\peter\\anaconda3\\envs\\mne\\lib\\site-packages\\sklearn\\model_selection\\_split.py:680: UserWarning: The least populated class in y has only 97 members, which is less than n_splits=100.\n",
      "  warnings.warn(\n",
      "C:\\Users\\peter\\anaconda3\\envs\\mne\\lib\\site-packages\\sklearn\\model_selection\\_split.py:680: UserWarning: The least populated class in y has only 97 members, which is less than n_splits=100.\n",
      "  warnings.warn(\n",
      "C:\\Users\\peter\\anaconda3\\envs\\mne\\lib\\site-packages\\sklearn\\model_selection\\_split.py:680: UserWarning: The least populated class in y has only 97 members, which is less than n_splits=100.\n",
      "  warnings.warn(\n",
      "C:\\Users\\peter\\anaconda3\\envs\\mne\\lib\\site-packages\\sklearn\\model_selection\\_split.py:680: UserWarning: The least populated class in y has only 97 members, which is less than n_splits=100.\n",
      "  warnings.warn(\n",
      "C:\\Users\\peter\\anaconda3\\envs\\mne\\lib\\site-packages\\sklearn\\model_selection\\_split.py:680: UserWarning: The least populated class in y has only 97 members, which is less than n_splits=100.\n",
      "  warnings.warn(\n",
      "C:\\Users\\peter\\anaconda3\\envs\\mne\\lib\\site-packages\\sklearn\\model_selection\\_split.py:680: UserWarning: The least populated class in y has only 97 members, which is less than n_splits=100.\n",
      "  warnings.warn(\n",
      "C:\\Users\\peter\\anaconda3\\envs\\mne\\lib\\site-packages\\sklearn\\model_selection\\_split.py:680: UserWarning: The least populated class in y has only 97 members, which is less than n_splits=100.\n",
      "  warnings.warn(\n",
      "C:\\Users\\peter\\anaconda3\\envs\\mne\\lib\\site-packages\\sklearn\\model_selection\\_split.py:680: UserWarning: The least populated class in y has only 97 members, which is less than n_splits=100.\n",
      "  warnings.warn(\n",
      "C:\\Users\\peter\\anaconda3\\envs\\mne\\lib\\site-packages\\sklearn\\model_selection\\_split.py:680: UserWarning: The least populated class in y has only 97 members, which is less than n_splits=100.\n",
      "  warnings.warn(\n"
     ]
    },
    {
     "name": "stdout",
     "output_type": "stream",
     "text": [
      "40\n"
     ]
    },
    {
     "name": "stderr",
     "output_type": "stream",
     "text": [
      "C:\\Users\\peter\\anaconda3\\envs\\mne\\lib\\site-packages\\sklearn\\model_selection\\_split.py:680: UserWarning: The least populated class in y has only 97 members, which is less than n_splits=100.\n",
      "  warnings.warn(\n",
      "C:\\Users\\peter\\anaconda3\\envs\\mne\\lib\\site-packages\\sklearn\\model_selection\\_split.py:680: UserWarning: The least populated class in y has only 97 members, which is less than n_splits=100.\n",
      "  warnings.warn(\n",
      "C:\\Users\\peter\\anaconda3\\envs\\mne\\lib\\site-packages\\sklearn\\model_selection\\_split.py:680: UserWarning: The least populated class in y has only 97 members, which is less than n_splits=100.\n",
      "  warnings.warn(\n",
      "C:\\Users\\peter\\anaconda3\\envs\\mne\\lib\\site-packages\\sklearn\\model_selection\\_split.py:680: UserWarning: The least populated class in y has only 97 members, which is less than n_splits=100.\n",
      "  warnings.warn(\n",
      "C:\\Users\\peter\\anaconda3\\envs\\mne\\lib\\site-packages\\sklearn\\model_selection\\_split.py:680: UserWarning: The least populated class in y has only 97 members, which is less than n_splits=100.\n",
      "  warnings.warn(\n",
      "C:\\Users\\peter\\anaconda3\\envs\\mne\\lib\\site-packages\\sklearn\\model_selection\\_split.py:680: UserWarning: The least populated class in y has only 97 members, which is less than n_splits=100.\n",
      "  warnings.warn(\n",
      "C:\\Users\\peter\\anaconda3\\envs\\mne\\lib\\site-packages\\sklearn\\model_selection\\_split.py:680: UserWarning: The least populated class in y has only 97 members, which is less than n_splits=100.\n",
      "  warnings.warn(\n",
      "C:\\Users\\peter\\anaconda3\\envs\\mne\\lib\\site-packages\\sklearn\\model_selection\\_split.py:680: UserWarning: The least populated class in y has only 97 members, which is less than n_splits=100.\n",
      "  warnings.warn(\n",
      "C:\\Users\\peter\\anaconda3\\envs\\mne\\lib\\site-packages\\sklearn\\model_selection\\_split.py:680: UserWarning: The least populated class in y has only 97 members, which is less than n_splits=100.\n",
      "  warnings.warn(\n"
     ]
    },
    {
     "name": "stdout",
     "output_type": "stream",
     "text": [
      "Done\n"
     ]
    },
    {
     "data": {
      "text/plain": "<Figure size 432x288 with 1 Axes>",
      "image/png": "[encoded data removed]"
     },
     "metadata": {
      "needs_background": "light"
     },
     "output_type": "display_data"
    }
   ],
   "source": [
    "X = []\n",
    "y = []\n",
    "for i,epoch in enumerate(epochs_long_short):\n",
    "    #print(epoch.shape)\n",
    "    # Deleting EOG channels:\n",
    "    epoch = np.delete(epoch, 40, 0)\n",
    "    epoch = np.delete(epoch, 21, 0)\n",
    "    epoch = np.delete(epoch, 16, 0)\n",
    "    X.append(epoch[:61,:])\n",
    "    y.append(list(epochs_long_short[i].event_id.values())[0])\n",
    "\n",
    "X = np.array(X)\n",
    "y = np.array(y)\n",
    "\n",
    "print(y)\n",
    "\n",
    "for i,label in enumerate(y):\n",
    "    if label % 2 == 0:\n",
    "        y[i] = 0\n",
    "    else:\n",
    "        y[i] = 1\n",
    "\n",
    "print(y)\n",
    "\n",
    "\n",
    "# Split training and test set:\n",
    "\n",
    "clf = LinearDiscriminantAnalysis(solver='lsqr', shrinkage='auto')\n",
    "acc = []\n",
    "cv_scores = []\n",
    "for idx in range(len(X[0,0])):\n",
    "    x = X[:,:,idx]\n",
    "    # Reshape X to 2d array:\n",
    "    #nsamples, nx, ny = x.shape\n",
    "    #x = x.reshape((nsamples,nx*ny))\n",
    "    X_train, X_test, y_train, y_test = train_test_split(x, y, test_size=0.2, random_state=42)\n",
    "    clf.fit(X_train, y_train)\n",
    "    y_pred = clf.predict(X_test)\n",
    "    acc.append(clf.score(X_test, y_test))\n",
    "\n",
    "    scores = cross_val_score(clf, x, y, cv=100)\n",
    "    cv_scores.append(scores.mean())\n",
    "\n",
    "    if idx % 10 == 0:\n",
    "        print(idx)\n",
    "\n",
    "print('Done')\n",
    "\n",
    "t = np.arange(len(acc))\n",
    "t = t/10\n",
    "#plt.plot(t, acc)\n",
    "\n",
    "plt.plot(t, cv_scores)\n",
    "\n",
    "window = 7\n",
    "\n",
    "ma = np.convolve(cv_scores, np.ones(window), 'valid') / window\n",
    "\n",
    "plt.plot(t[:-window+1], ma)\n",
    "plt.plot([2,2], [min(cv_scores), max(cv_scores)])\n",
    "plt.title('Single sample approach, 180-fold CV')\n",
    "plt.savefig('distance_acc_single.pdf')"
   ],
   "metadata": {
    "collapsed": false,
    "pycharm": {
     "name": "#%%\n"
    }
   }
  },
  {
   "cell_type": "code",
   "execution_count": 15,
   "outputs": [
    {
     "name": "stdout",
     "output_type": "stream",
     "text": [
      "0\n",
      "(211, 61, 5)\n"
     ]
    },
    {
     "name": "stderr",
     "output_type": "stream",
     "text": [
      "C:\\Users\\peter\\anaconda3\\envs\\mne\\lib\\site-packages\\sklearn\\model_selection\\_split.py:680: UserWarning: The least populated class in y has only 97 members, which is less than n_splits=100.\n",
      "  warnings.warn(\n",
      "C:\\Users\\peter\\anaconda3\\envs\\mne\\lib\\site-packages\\sklearn\\model_selection\\_split.py:680: UserWarning: The least populated class in y has only 97 members, which is less than n_splits=100.\n",
      "  warnings.warn(\n",
      "C:\\Users\\peter\\anaconda3\\envs\\mne\\lib\\site-packages\\sklearn\\model_selection\\_split.py:680: UserWarning: The least populated class in y has only 97 members, which is less than n_splits=100.\n",
      "  warnings.warn(\n",
      "C:\\Users\\peter\\anaconda3\\envs\\mne\\lib\\site-packages\\sklearn\\model_selection\\_split.py:680: UserWarning: The least populated class in y has only 97 members, which is less than n_splits=100.\n",
      "  warnings.warn(\n",
      "C:\\Users\\peter\\anaconda3\\envs\\mne\\lib\\site-packages\\sklearn\\model_selection\\_split.py:680: UserWarning: The least populated class in y has only 97 members, which is less than n_splits=100.\n",
      "  warnings.warn(\n",
      "C:\\Users\\peter\\anaconda3\\envs\\mne\\lib\\site-packages\\sklearn\\model_selection\\_split.py:680: UserWarning: The least populated class in y has only 97 members, which is less than n_splits=100.\n",
      "  warnings.warn(\n",
      "C:\\Users\\peter\\anaconda3\\envs\\mne\\lib\\site-packages\\sklearn\\model_selection\\_split.py:680: UserWarning: The least populated class in y has only 97 members, which is less than n_splits=100.\n",
      "  warnings.warn(\n",
      "C:\\Users\\peter\\anaconda3\\envs\\mne\\lib\\site-packages\\sklearn\\model_selection\\_split.py:680: UserWarning: The least populated class in y has only 97 members, which is less than n_splits=100.\n",
      "  warnings.warn(\n",
      "C:\\Users\\peter\\anaconda3\\envs\\mne\\lib\\site-packages\\sklearn\\model_selection\\_split.py:680: UserWarning: The least populated class in y has only 97 members, which is less than n_splits=100.\n",
      "  warnings.warn(\n",
      "C:\\Users\\peter\\anaconda3\\envs\\mne\\lib\\site-packages\\sklearn\\model_selection\\_split.py:680: UserWarning: The least populated class in y has only 97 members, which is less than n_splits=100.\n",
      "  warnings.warn(\n"
     ]
    },
    {
     "name": "stdout",
     "output_type": "stream",
     "text": [
      "10\n",
      "(211, 61, 5)\n"
     ]
    },
    {
     "name": "stderr",
     "output_type": "stream",
     "text": [
      "C:\\Users\\peter\\anaconda3\\envs\\mne\\lib\\site-packages\\sklearn\\model_selection\\_split.py:680: UserWarning: The least populated class in y has only 97 members, which is less than n_splits=100.\n",
      "  warnings.warn(\n",
      "C:\\Users\\peter\\anaconda3\\envs\\mne\\lib\\site-packages\\sklearn\\model_selection\\_split.py:680: UserWarning: The least populated class in y has only 97 members, which is less than n_splits=100.\n",
      "  warnings.warn(\n",
      "C:\\Users\\peter\\anaconda3\\envs\\mne\\lib\\site-packages\\sklearn\\model_selection\\_split.py:680: UserWarning: The least populated class in y has only 97 members, which is less than n_splits=100.\n",
      "  warnings.warn(\n",
      "C:\\Users\\peter\\anaconda3\\envs\\mne\\lib\\site-packages\\sklearn\\model_selection\\_split.py:680: UserWarning: The least populated class in y has only 97 members, which is less than n_splits=100.\n",
      "  warnings.warn(\n",
      "C:\\Users\\peter\\anaconda3\\envs\\mne\\lib\\site-packages\\sklearn\\model_selection\\_split.py:680: UserWarning: The least populated class in y has only 97 members, which is less than n_splits=100.\n",
      "  warnings.warn(\n",
      "C:\\Users\\peter\\anaconda3\\envs\\mne\\lib\\site-packages\\sklearn\\model_selection\\_split.py:680: UserWarning: The least populated class in y has only 97 members, which is less than n_splits=100.\n",
      "  warnings.warn(\n",
      "C:\\Users\\peter\\anaconda3\\envs\\mne\\lib\\site-packages\\sklearn\\model_selection\\_split.py:680: UserWarning: The least populated class in y has only 97 members, which is less than n_splits=100.\n",
      "  warnings.warn(\n",
      "C:\\Users\\peter\\anaconda3\\envs\\mne\\lib\\site-packages\\sklearn\\model_selection\\_split.py:680: UserWarning: The least populated class in y has only 97 members, which is less than n_splits=100.\n",
      "  warnings.warn(\n",
      "C:\\Users\\peter\\anaconda3\\envs\\mne\\lib\\site-packages\\sklearn\\model_selection\\_split.py:680: UserWarning: The least populated class in y has only 97 members, which is less than n_splits=100.\n",
      "  warnings.warn(\n",
      "C:\\Users\\peter\\anaconda3\\envs\\mne\\lib\\site-packages\\sklearn\\model_selection\\_split.py:680: UserWarning: The least populated class in y has only 97 members, which is less than n_splits=100.\n",
      "  warnings.warn(\n"
     ]
    },
    {
     "name": "stdout",
     "output_type": "stream",
     "text": [
      "20\n",
      "(211, 61, 5)\n"
     ]
    },
    {
     "name": "stderr",
     "output_type": "stream",
     "text": [
      "C:\\Users\\peter\\anaconda3\\envs\\mne\\lib\\site-packages\\sklearn\\model_selection\\_split.py:680: UserWarning: The least populated class in y has only 97 members, which is less than n_splits=100.\n",
      "  warnings.warn(\n",
      "C:\\Users\\peter\\anaconda3\\envs\\mne\\lib\\site-packages\\sklearn\\model_selection\\_split.py:680: UserWarning: The least populated class in y has only 97 members, which is less than n_splits=100.\n",
      "  warnings.warn(\n",
      "C:\\Users\\peter\\anaconda3\\envs\\mne\\lib\\site-packages\\sklearn\\model_selection\\_split.py:680: UserWarning: The least populated class in y has only 97 members, which is less than n_splits=100.\n",
      "  warnings.warn(\n",
      "C:\\Users\\peter\\anaconda3\\envs\\mne\\lib\\site-packages\\sklearn\\model_selection\\_split.py:680: UserWarning: The least populated class in y has only 97 members, which is less than n_splits=100.\n",
      "  warnings.warn(\n",
      "C:\\Users\\peter\\anaconda3\\envs\\mne\\lib\\site-packages\\sklearn\\model_selection\\_split.py:680: UserWarning: The least populated class in y has only 97 members, which is less than n_splits=100.\n",
      "  warnings.warn(\n",
      "C:\\Users\\peter\\anaconda3\\envs\\mne\\lib\\site-packages\\sklearn\\model_selection\\_split.py:680: UserWarning: The least populated class in y has only 97 members, which is less than n_splits=100.\n",
      "  warnings.warn(\n",
      "C:\\Users\\peter\\anaconda3\\envs\\mne\\lib\\site-packages\\sklearn\\model_selection\\_split.py:680: UserWarning: The least populated class in y has only 97 members, which is less than n_splits=100.\n",
      "  warnings.warn(\n",
      "C:\\Users\\peter\\anaconda3\\envs\\mne\\lib\\site-packages\\sklearn\\model_selection\\_split.py:680: UserWarning: The least populated class in y has only 97 members, which is less than n_splits=100.\n",
      "  warnings.warn(\n",
      "C:\\Users\\peter\\anaconda3\\envs\\mne\\lib\\site-packages\\sklearn\\model_selection\\_split.py:680: UserWarning: The least populated class in y has only 97 members, which is less than n_splits=100.\n",
      "  warnings.warn(\n",
      "C:\\Users\\peter\\anaconda3\\envs\\mne\\lib\\site-packages\\sklearn\\model_selection\\_split.py:680: UserWarning: The least populated class in y has only 97 members, which is less than n_splits=100.\n",
      "  warnings.warn(\n"
     ]
    },
    {
     "name": "stdout",
     "output_type": "stream",
     "text": [
      "30\n",
      "(211, 61, 5)\n"
     ]
    },
    {
     "name": "stderr",
     "output_type": "stream",
     "text": [
      "C:\\Users\\peter\\anaconda3\\envs\\mne\\lib\\site-packages\\sklearn\\model_selection\\_split.py:680: UserWarning: The least populated class in y has only 97 members, which is less than n_splits=100.\n",
      "  warnings.warn(\n",
      "C:\\Users\\peter\\anaconda3\\envs\\mne\\lib\\site-packages\\sklearn\\model_selection\\_split.py:680: UserWarning: The least populated class in y has only 97 members, which is less than n_splits=100.\n",
      "  warnings.warn(\n",
      "C:\\Users\\peter\\anaconda3\\envs\\mne\\lib\\site-packages\\sklearn\\model_selection\\_split.py:680: UserWarning: The least populated class in y has only 97 members, which is less than n_splits=100.\n",
      "  warnings.warn(\n",
      "C:\\Users\\peter\\anaconda3\\envs\\mne\\lib\\site-packages\\sklearn\\model_selection\\_split.py:680: UserWarning: The least populated class in y has only 97 members, which is less than n_splits=100.\n",
      "  warnings.warn(\n",
      "C:\\Users\\peter\\anaconda3\\envs\\mne\\lib\\site-packages\\sklearn\\model_selection\\_split.py:680: UserWarning: The least populated class in y has only 97 members, which is less than n_splits=100.\n",
      "  warnings.warn(\n",
      "C:\\Users\\peter\\anaconda3\\envs\\mne\\lib\\site-packages\\sklearn\\model_selection\\_split.py:680: UserWarning: The least populated class in y has only 97 members, which is less than n_splits=100.\n",
      "  warnings.warn(\n",
      "C:\\Users\\peter\\anaconda3\\envs\\mne\\lib\\site-packages\\sklearn\\model_selection\\_split.py:680: UserWarning: The least populated class in y has only 97 members, which is less than n_splits=100.\n",
      "  warnings.warn(\n",
      "C:\\Users\\peter\\anaconda3\\envs\\mne\\lib\\site-packages\\sklearn\\model_selection\\_split.py:680: UserWarning: The least populated class in y has only 97 members, which is less than n_splits=100.\n",
      "  warnings.warn(\n",
      "C:\\Users\\peter\\anaconda3\\envs\\mne\\lib\\site-packages\\sklearn\\model_selection\\_split.py:680: UserWarning: The least populated class in y has only 97 members, which is less than n_splits=100.\n",
      "  warnings.warn(\n",
      "C:\\Users\\peter\\anaconda3\\envs\\mne\\lib\\site-packages\\sklearn\\model_selection\\_split.py:680: UserWarning: The least populated class in y has only 97 members, which is less than n_splits=100.\n",
      "  warnings.warn(\n"
     ]
    },
    {
     "name": "stdout",
     "output_type": "stream",
     "text": [
      "40\n",
      "(211, 61, 5)\n"
     ]
    },
    {
     "name": "stderr",
     "output_type": "stream",
     "text": [
      "C:\\Users\\peter\\anaconda3\\envs\\mne\\lib\\site-packages\\sklearn\\model_selection\\_split.py:680: UserWarning: The least populated class in y has only 97 members, which is less than n_splits=100.\n",
      "  warnings.warn(\n",
      "C:\\Users\\peter\\anaconda3\\envs\\mne\\lib\\site-packages\\sklearn\\model_selection\\_split.py:680: UserWarning: The least populated class in y has only 97 members, which is less than n_splits=100.\n",
      "  warnings.warn(\n",
      "C:\\Users\\peter\\anaconda3\\envs\\mne\\lib\\site-packages\\sklearn\\model_selection\\_split.py:680: UserWarning: The least populated class in y has only 97 members, which is less than n_splits=100.\n",
      "  warnings.warn(\n",
      "C:\\Users\\peter\\anaconda3\\envs\\mne\\lib\\site-packages\\sklearn\\model_selection\\_split.py:680: UserWarning: The least populated class in y has only 97 members, which is less than n_splits=100.\n",
      "  warnings.warn(\n",
      "C:\\Users\\peter\\anaconda3\\envs\\mne\\lib\\site-packages\\sklearn\\model_selection\\_split.py:680: UserWarning: The least populated class in y has only 97 members, which is less than n_splits=100.\n",
      "  warnings.warn(\n"
     ]
    },
    {
     "name": "stdout",
     "output_type": "stream",
     "text": [
      "Done\n"
     ]
    },
    {
     "data": {
      "text/plain": "<Figure size 432x288 with 1 Axes>",
      "image/png": "[encoded data removed]"
     },
     "metadata": {
      "needs_background": "light"
     },
     "output_type": "display_data"
    }
   ],
   "source": [
    "# 5 point LDA\n",
    "X = []\n",
    "y = []\n",
    "for i,epoch in enumerate(epochs_long_short):\n",
    "    #print(epoch.shape)\n",
    "    # Deleting Marker channel:\n",
    "    # Deleting EOG channels:\n",
    "    epoch = np.delete(epoch, 40, 0)\n",
    "    epoch = np.delete(epoch, 21, 0)\n",
    "    epoch = np.delete(epoch, 16, 0)\n",
    "    X.append(epoch[:61,:])\n",
    "    y.append(list(epochs_long_short[i].event_id.values())[0])\n",
    "\n",
    "for i,label in enumerate(y):\n",
    "    if label % 2 == 0:\n",
    "        y[i] = 0\n",
    "    else:\n",
    "        y[i] = 1\n",
    "\n",
    "\n",
    "X = np.array(X)\n",
    "y = np.array(y)\n",
    "\n",
    "\n",
    "# Split training and test set:\n",
    "\n",
    "clf = LinearDiscriminantAnalysis(solver='lsqr', shrinkage='auto')\n",
    "acc = []\n",
    "cv_scores = []\n",
    "for idx in range(len(X[0,0])-5):\n",
    "    x = X[:,:,idx:idx+5]\n",
    "    if idx % 10 == 0:\n",
    "        print(idx)\n",
    "        print(x.shape)\n",
    "    # Reshape X to 2d array:\n",
    "    nsamples, nx, ny = x.shape\n",
    "    x = x.reshape((nsamples,nx*ny))\n",
    "    X_train, X_test, y_train, y_test = train_test_split(x, y, test_size=0.2, random_state=42)\n",
    "    clf.fit(X_train, y_train)\n",
    "    y_pred = clf.predict(X_test)\n",
    "    acc.append(clf.score(X_test, y_test))\n",
    "\n",
    "    scores = cross_val_score(clf, x, y, cv=100)\n",
    "    cv_scores.append(scores.mean())\n",
    "\n",
    "\n",
    "\n",
    "print('Done')\n",
    "#print(acc)\n",
    "\n",
    "t = np.arange(len(acc))\n",
    "t = t/10 + 5/10\n",
    "#plt.plot(t, acc)\n",
    "\n",
    "plt.plot(t, cv_scores)\n",
    "\n",
    "window = 7\n",
    "\n",
    "ma = np.convolve(cv_scores, np.ones(window), 'valid') / window\n",
    "\n",
    "plt.plot(t[window-1:], ma)\n",
    "plt.plot([2,2], [min(cv_scores), max(cv_scores)])\n",
    "plt.xlabel('Time (s)')\n",
    "plt.ylabel('Accuracy (a.u.)')\n",
    "plt.title('Windowed approach accuracies, distance 180-fold CV')\n",
    "plt.savefig('distance_acc_5point.pdf')"
   ],
   "metadata": {
    "collapsed": false,
    "pycharm": {
     "name": "#%%\n"
    }
   }
  },
  {
   "cell_type": "code",
   "execution_count": 15,
   "outputs": [],
   "source": [],
   "metadata": {
    "collapsed": false,
    "pycharm": {
     "name": "#%%\n"
    }
   }
  },
  {
   "cell_type": "code",
   "execution_count": null,
   "outputs": [],
   "source": [],
   "metadata": {
    "collapsed": false,
    "pycharm": {
     "name": "#%%\n"
    }
   }
  }
 ],
 "metadata": {
  "kernelspec": {
   "display_name": "Python 3",
   "language": "python",
   "name": "python3"
  },
  "language_info": {
   "codemirror_mode": {
    "name": "ipython",
    "version": 2
   },
   "file_extension": ".py",
   "mimetype": "text/x-python",
   "name": "python",
   "nbconvert_exporter": "python",
   "pygments_lexer": "ipython2",
   "version": "2.7.6"
  }
 },
 "nbformat": 4,
 "nbformat_minor": 0
}